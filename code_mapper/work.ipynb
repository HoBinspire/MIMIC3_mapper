{
 "cells": [
  {
   "cell_type": "markdown",
   "metadata": {},
   "source": [
    "## 1. 创建 病历数据结构"
   ]
  },
  {
   "cell_type": "code",
   "execution_count": null,
   "metadata": {},
   "outputs": [],
   "source": [
    "from dataclasses import dataclass, field\n",
    "from datetime import date\n",
    "from typing import List, Optional\n",
    "import os\n",
    "import tqdm\n",
    "import pandas as pd\n",
    "import pickle\n",
    "\n",
    "\n",
    "# 定义 病历信息 的数据结构\n",
    "@dataclass\n",
    "class Visit:\n",
    "    visit_id: int\n",
    "    admittime: date\n",
    "    dischtime: date\n",
    "    deathtime: Optional[date]  # 可能为空\n",
    "    procedures: List[str] = field(default_factory=list)  # 默认为空列表\n",
    "    prescriptions: List[str] = field(default_factory=list)\n",
    "    diagnoses: List[str] = field(default_factory=list)\n",
    "    labevent: List[str] = field(default_factory=list)\n",
    "\n",
    "@dataclass\n",
    "class Patient:\n",
    "    expire_flag: bool\n",
    "    visits: List[Visit] = field(default_factory=list)  # 默认为空列表"
   ]
  },
  {
   "cell_type": "markdown",
   "metadata": {},
   "source": [
    "### 1.1 测试一下数据结构"
   ]
  },
  {
   "cell_type": "code",
   "execution_count": 20,
   "metadata": {},
   "outputs": [
    {
     "name": "stdout",
     "output_type": "stream",
     "text": [
      "Patient(expire_flag=False, visits=[Visit(visit_id=1, admittime=datetime.date(2023, 10, 1), dischtime=datetime.date(2023, 10, 5), deathtime=None, procedures=['surgery', 'x-ray'], prescriptions=['aspirin', 'antibiotics'], diagnoses=['flu', 'pneumonia'], labevent=['blood_test', 'urine_test'])])\n"
     ]
    }
   ],
   "source": [
    "# 创建一个患者\n",
    "patient = Patient(expire_flag=False)\n",
    "\n",
    "# 添加一次就诊记录\n",
    "visit1 = Visit(\n",
    "    visit_id=1,\n",
    "    admittime=date(2023, 10, 1),\n",
    "    dischtime=date(2023, 10, 5),\n",
    "    deathtime=None,\n",
    "    procedures=[\"surgery\", \"x-ray\"],\n",
    "    prescriptions=[\"aspirin\", \"antibiotics\"],\n",
    "    diagnoses=[\"flu\", \"pneumonia\"],\n",
    "    labevent=[\"blood_test\", \"urine_test\"]\n",
    ")\n",
    "\n",
    "# 将就诊记录添加到患者的 visits 列表中\n",
    "patient.visits.append(visit1)\n",
    "\n",
    "# 输出患者信息\n",
    "print(patient)"
   ]
  },
  {
   "cell_type": "markdown",
   "metadata": {},
   "source": [
    "### 1.2 csv 文件读取函数"
   ]
  },
  {
   "cell_type": "code",
   "execution_count": null,
   "metadata": {},
   "outputs": [],
   "source": [
    "def readcsv(input_dir, filename):\n",
    "    file_path = os.path.join(input_dir, filename)\n",
    "    if not os.path.exists(file_path):\n",
    "        raise FileNotFoundError(f\"文件 {file_path} 不存在。\")\n",
    "    return pd.read_csv(file_path, dtype=str)  # 显示 规定为 str, 防止 将 0851 解析为 851"
   ]
  },
  {
   "cell_type": "markdown",
   "metadata": {},
   "source": [
    "### 1.3 保存 & 读取 pkl 文件"
   ]
  },
  {
   "cell_type": "code",
   "execution_count": null,
   "metadata": {},
   "outputs": [],
   "source": [
    "def savePkl(outputdir, filename, content):\n",
    "    if not os.path.exists(outputdir):\n",
    "        os.makedirs(outputdir)\n",
    "    filepath = os.path.join(outputdir, f\"{filename}\")\n",
    "    \n",
    "    with open(filepath, 'wb') as f:\n",
    "        pickle.dump(content, f)\n",
    "    \n",
    "    print(f\"对象已成功保存到 {filepath}\")"
   ]
  },
  {
   "cell_type": "code",
   "execution_count": 2,
   "metadata": {},
   "outputs": [],
   "source": [
    "def loadPkl(file_path):\n",
    "    if not os.path.exists(file_path):\n",
    "        raise FileNotFoundError(f\"文件 {file_path} 不存在！\")\n",
    "\n",
    "    with open(file_path, 'rb') as f:\n",
    "        content = pickle.load(f)\n",
    "    \n",
    "    print(f\"已成功加载文件：{file_path}\")\n",
    "    return content"
   ]
  },
  {
   "cell_type": "markdown",
   "metadata": {},
   "source": [
    "## 2. 读取数据集 （该部分作废）"
   ]
  },
  {
   "cell_type": "code",
   "execution_count": null,
   "metadata": {},
   "outputs": [
    {
     "name": "stdout",
     "output_type": "stream",
     "text": [
      "INFO: Pandarallel will run on 6 workers.\n",
      "INFO: Pandarallel will use standard multiprocessing data transfer (pipe) to transfer data between the main process and workers.\n",
      "\n",
      "WARNING: You are on Windows. If you detect any issue with pandarallel, be sure you checked out the Troubleshooting page:\n",
      "https://nalepae.github.io/pandarallel/troubleshooting/\n",
      "finish basic patient information parsing : 30.103790998458862s\n",
      "finish parsing DIAGNOSES_ICD : 29.33181071281433s\n",
      "finish parsing PROCEDURES_ICD : 24.251370429992676s\n",
      "finish parsing PRESCRIPTIONS : 131.8321180343628s\n"
     ]
    },
    {
     "name": "stderr",
     "output_type": "stream",
     "text": [
      "Mapping codes: 100%|██████████| 46520/46520 [00:02<00:00, 23108.76it/s]\n"
     ]
    }
   ],
   "source": [
    "# from pyhealth.datasets import MIMIC3Dataset\n",
    "\n",
    "# dataset = MIMIC3Dataset(\n",
    "#     # 数据集 所在目录\n",
    "#     root=\"../dataset/MIMICIII_data/\", \n",
    "    \n",
    "#     tables=[\"DIAGNOSES_ICD\", \"PROCEDURES_ICD\", \"PRESCRIPTIONS\"], # \"LABEVENTS\"  # (基本信息存在：PATIENTS 和 ADMISSIONS 中) 进一步加载的表格\n",
    "#     # code_mapping={ # (可选)\n",
    "#     #     \"ICD9CM\": \"CCSCM\",\n",
    "#     #     \"ICD9PROC\": \"CCSPROC\",\n",
    "#     #     \"NDC\": (\"ATC\", {\"target_kwargs\": {\"level\": 3}})\n",
    "#     # },\n",
    "#     dev=False,  # 开发模式，仅使用数据的一小部分\n",
    "#     refresh_cache=True  # 刷新缓存\n",
    "# )"
   ]
  },
  {
   "cell_type": "markdown",
   "metadata": {},
   "source": [
    "### 2.1 设置映射表"
   ]
  },
  {
   "cell_type": "code",
   "execution_count": null,
   "metadata": {},
   "outputs": [
    {
     "name": "stdout",
     "output_type": "stream",
     "text": [
      "dict_keys(['conditions', 'procedures', 'drugs'])\n"
     ]
    }
   ],
   "source": [
    "# from pyhealth.medcode import InnerMap\n",
    "\n",
    "# # 加载 映射词典\n",
    "# print(dataset.code_vocs.keys())\n",
    "# diagnosis_map_table = InnerMap.load(dataset.code_vocs['conditions']) # pyhealth.medcode.codes.icd9cm.ICD9CM\n",
    "# procedures_map_table = InnerMap.load(dataset.code_vocs['procedures']) # pyhealth.medcode.codes.icd9proc.ICD9PROC\n",
    "# prescriptions_map_table = InnerMap.load(dataset.code_vocs['drugs']) # pyhealth.medcode.codes.ndc.NDC"
   ]
  },
  {
   "cell_type": "markdown",
   "metadata": {},
   "source": [
    "### 2.2 记录保留字段\n",
    "patients_field = ['SUBJECT_ID', 'EXPIRE_FLAG']\n",
    "\n",
    "admission_field = ['SUBJECT_ID', 'HADM_ID', 'ADMITTIME', 'DISCHTIME', 'DEATHTIME']  # 其中 Deathtime 可能为 空值\n",
    "\n",
    "procedures_field = ['SUBJECT_ID', 'HADM_ID', 'SEQ_NUM', 'ICD9_CODE']\n",
    "\n",
    "prescriptions_field = ['SUBJECT_ID', 'HADM_ID', 'NDC']\n",
    "\n",
    "diagnoses_field = []\n",
    "\n",
    "labevents_field = []"
   ]
  },
  {
   "cell_type": "markdown",
   "metadata": {},
   "source": [
    "## 3. 数据读取和存储"
   ]
  },
  {
   "cell_type": "code",
   "execution_count": 29,
   "metadata": {},
   "outputs": [],
   "source": [
    "ehrBase = {}  # 初始化 字典，key 为 病人唯一 id, value 为"
   ]
  },
  {
   "cell_type": "markdown",
   "metadata": {},
   "source": [
    "### 3.1 病人表"
   ]
  },
  {
   "cell_type": "code",
   "execution_count": 23,
   "metadata": {},
   "outputs": [
    {
     "data": {
      "text/html": [
       "<div>\n",
       "<style scoped>\n",
       "    .dataframe tbody tr th:only-of-type {\n",
       "        vertical-align: middle;\n",
       "    }\n",
       "\n",
       "    .dataframe tbody tr th {\n",
       "        vertical-align: top;\n",
       "    }\n",
       "\n",
       "    .dataframe thead th {\n",
       "        text-align: right;\n",
       "    }\n",
       "</style>\n",
       "<table border=\"1\" class=\"dataframe\">\n",
       "  <thead>\n",
       "    <tr style=\"text-align: right;\">\n",
       "      <th></th>\n",
       "      <th>SUBJECT_ID</th>\n",
       "      <th>EXPIRE_FLAG</th>\n",
       "    </tr>\n",
       "  </thead>\n",
       "  <tbody>\n",
       "    <tr>\n",
       "      <th>0</th>\n",
       "      <td>249</td>\n",
       "      <td>0</td>\n",
       "    </tr>\n",
       "    <tr>\n",
       "      <th>1</th>\n",
       "      <td>250</td>\n",
       "      <td>1</td>\n",
       "    </tr>\n",
       "    <tr>\n",
       "      <th>2</th>\n",
       "      <td>251</td>\n",
       "      <td>0</td>\n",
       "    </tr>\n",
       "    <tr>\n",
       "      <th>3</th>\n",
       "      <td>252</td>\n",
       "      <td>0</td>\n",
       "    </tr>\n",
       "    <tr>\n",
       "      <th>4</th>\n",
       "      <td>253</td>\n",
       "      <td>0</td>\n",
       "    </tr>\n",
       "  </tbody>\n",
       "</table>\n",
       "</div>"
      ],
      "text/plain": [
       "   SUBJECT_ID  EXPIRE_FLAG\n",
       "0         249            0\n",
       "1         250            1\n",
       "2         251            0\n",
       "3         252            0\n",
       "4         253            0"
      ]
     },
     "execution_count": 23,
     "metadata": {},
     "output_type": "execute_result"
    }
   ],
   "source": [
    "table = readcsv('../dataset/MIMICIII_data/', 'PATIENTS.csv')\n",
    "fliter = ['SUBJECT_ID', 'EXPIRE_FLAG']\n",
    "table = table[fliter]\n",
    "table.head()"
   ]
  },
  {
   "cell_type": "code",
   "execution_count": 30,
   "metadata": {},
   "outputs": [
    {
     "name": "stdout",
     "output_type": "stream",
     "text": [
      "单个病人ehr数据示例: Patient(expire_flag=0, visits=[]) 长度： 46520\n"
     ]
    }
   ],
   "source": [
    "# 遍历 DataFrame 的每一行\n",
    "for index, row in table.iterrows():\n",
    "    patient_id = row['SUBJECT_ID']\n",
    "    expire_flag = row['EXPIRE_FLAG']\n",
    "    \n",
    "    patient = Patient(expire_flag=expire_flag)\n",
    "    \n",
    "    ehrBase[str(patient_id)] = patient\n",
    "\n",
    "print('单个病人ehr数据示例:', ehrBase['249'] ,'长度：', len(ehrBase))"
   ]
  },
  {
   "cell_type": "markdown",
   "metadata": {},
   "source": [
    "### 3.2 住院登记表"
   ]
  },
  {
   "cell_type": "code",
   "execution_count": 31,
   "metadata": {},
   "outputs": [
    {
     "data": {
      "text/html": [
       "<div>\n",
       "<style scoped>\n",
       "    .dataframe tbody tr th:only-of-type {\n",
       "        vertical-align: middle;\n",
       "    }\n",
       "\n",
       "    .dataframe tbody tr th {\n",
       "        vertical-align: top;\n",
       "    }\n",
       "\n",
       "    .dataframe thead th {\n",
       "        text-align: right;\n",
       "    }\n",
       "</style>\n",
       "<table border=\"1\" class=\"dataframe\">\n",
       "  <thead>\n",
       "    <tr style=\"text-align: right;\">\n",
       "      <th></th>\n",
       "      <th>SUBJECT_ID</th>\n",
       "      <th>HADM_ID</th>\n",
       "      <th>ADMITTIME</th>\n",
       "      <th>DISCHTIME</th>\n",
       "      <th>DEATHTIME</th>\n",
       "    </tr>\n",
       "  </thead>\n",
       "  <tbody>\n",
       "    <tr>\n",
       "      <th>0</th>\n",
       "      <td>22</td>\n",
       "      <td>165315</td>\n",
       "      <td>2196-04-09 12:26:00</td>\n",
       "      <td>2196-04-10 15:54:00</td>\n",
       "      <td>NaT</td>\n",
       "    </tr>\n",
       "    <tr>\n",
       "      <th>1</th>\n",
       "      <td>23</td>\n",
       "      <td>152223</td>\n",
       "      <td>2153-09-03 07:15:00</td>\n",
       "      <td>2153-09-08 19:10:00</td>\n",
       "      <td>NaT</td>\n",
       "    </tr>\n",
       "    <tr>\n",
       "      <th>2</th>\n",
       "      <td>23</td>\n",
       "      <td>124321</td>\n",
       "      <td>2157-10-18 19:34:00</td>\n",
       "      <td>2157-10-25 14:00:00</td>\n",
       "      <td>NaT</td>\n",
       "    </tr>\n",
       "    <tr>\n",
       "      <th>3</th>\n",
       "      <td>24</td>\n",
       "      <td>161859</td>\n",
       "      <td>2139-06-06 16:14:00</td>\n",
       "      <td>2139-06-09 12:48:00</td>\n",
       "      <td>NaT</td>\n",
       "    </tr>\n",
       "    <tr>\n",
       "      <th>4</th>\n",
       "      <td>25</td>\n",
       "      <td>129635</td>\n",
       "      <td>2160-11-02 02:06:00</td>\n",
       "      <td>2160-11-05 14:55:00</td>\n",
       "      <td>NaT</td>\n",
       "    </tr>\n",
       "  </tbody>\n",
       "</table>\n",
       "</div>"
      ],
      "text/plain": [
       "   SUBJECT_ID  HADM_ID           ADMITTIME           DISCHTIME DEATHTIME\n",
       "0          22   165315 2196-04-09 12:26:00 2196-04-10 15:54:00       NaT\n",
       "1          23   152223 2153-09-03 07:15:00 2153-09-08 19:10:00       NaT\n",
       "2          23   124321 2157-10-18 19:34:00 2157-10-25 14:00:00       NaT\n",
       "3          24   161859 2139-06-06 16:14:00 2139-06-09 12:48:00       NaT\n",
       "4          25   129635 2160-11-02 02:06:00 2160-11-05 14:55:00       NaT"
      ]
     },
     "execution_count": 31,
     "metadata": {},
     "output_type": "execute_result"
    }
   ],
   "source": [
    "table = readcsv('../dataset/MIMICIII_data/', 'ADMISSIONS.csv')\n",
    "fliter = ['SUBJECT_ID', 'HADM_ID', 'ADMITTIME', 'DISCHTIME', 'DEATHTIME']\n",
    "table = table[fliter]\n",
    "\n",
    "# 将时间字段转换为 datetime 类型\n",
    "table['ADMITTIME'] = pd.to_datetime(table['ADMITTIME'])\n",
    "table['DISCHTIME'] = pd.to_datetime(table['DISCHTIME'])\n",
    "table['DEATHTIME'] = pd.to_datetime(table['DEATHTIME'])\n",
    "\n",
    "# 去重\n",
    "table = table.drop_duplicates()\n",
    "\n",
    "table.head()"
   ]
  },
  {
   "cell_type": "code",
   "execution_count": 32,
   "metadata": {},
   "outputs": [
    {
     "name": "stdout",
     "output_type": "stream",
     "text": [
      "58976\n"
     ]
    }
   ],
   "source": [
    "# 遍历 ADMISSIONS 表格\n",
    "visit_num = 0  # 记录 visit 数量\n",
    "for index, row in table.iterrows():\n",
    "    subject_id = row['SUBJECT_ID']\n",
    "    hadm_id = row['HADM_ID']\n",
    "    admittime = row['ADMITTIME']\n",
    "    dischtime = row['DISCHTIME']\n",
    "    deathtime = row['DEATHTIME']\n",
    "    \n",
    "    # 创建 Visit 对象\n",
    "    visit = Visit(\n",
    "        visit_id=hadm_id,\n",
    "        admittime=admittime,\n",
    "        dischtime=dischtime,\n",
    "        deathtime=deathtime,\n",
    "    )\n",
    "    \n",
    "    ehrBase[str(subject_id)].visits.append(visit)\n",
    "    visit_num += 1\n",
    "\n",
    "print(visit_num)"
   ]
  },
  {
   "cell_type": "code",
   "execution_count": 33,
   "metadata": {},
   "outputs": [
    {
     "name": "stdout",
     "output_type": "stream",
     "text": [
      "列表元素示例 Patient(expire_flag=0, visits=[Visit(visit_id=116935, admittime=Timestamp('2149-12-17 20:41:00'), dischtime=Timestamp('2149-12-31 14:55:00'), deathtime=NaT, procedures=[], prescriptions=[], diagnoses=[], labevent=[]), Visit(visit_id=149546, admittime=Timestamp('2155-02-03 20:16:00'), dischtime=Timestamp('2155-02-14 11:15:00'), deathtime=NaT, procedures=[], prescriptions=[], diagnoses=[], labevent=[]), Visit(visit_id=158975, admittime=Timestamp('2156-04-27 15:33:00'), dischtime=Timestamp('2156-05-14 15:30:00'), deathtime=NaT, procedures=[], prescriptions=[], diagnoses=[], labevent=[])]) 长度： 46520\n"
     ]
    }
   ],
   "source": [
    "print('列表元素示例', ehrBase['249'], '长度：', len(ehrBase))"
   ]
  },
  {
   "cell_type": "markdown",
   "metadata": {},
   "source": [
    "### 3.3 手术"
   ]
  },
  {
   "cell_type": "markdown",
   "metadata": {},
   "source": [
    "构造映射字典"
   ]
  },
  {
   "cell_type": "code",
   "execution_count": 82,
   "metadata": {},
   "outputs": [
    {
     "data": {
      "text/plain": [
       "3882"
      ]
     },
     "execution_count": 82,
     "metadata": {},
     "output_type": "execute_result"
    }
   ],
   "source": [
    "# 读取 csv 映射表来构造 映射字典 （因为 lookup 函数在查 3601 的时候 内部总是 改写为 36.01）\n",
    "mapper = readcsv('../dataset/MIMICIII_data/', 'D_ICD_PROCEDURES.csv')[['ICD9_CODE', 'LONG_TITLE']]\n",
    "\n",
    "mid = dict()\n",
    "for index, row in mapper.iterrows():\n",
    "    mid[str(row['ICD9_CODE'])] = str(row['LONG_TITLE'])\n",
    "\n",
    "mapper = mid\n",
    "len(mapper)"
   ]
  },
  {
   "cell_type": "markdown",
   "metadata": {},
   "source": [
    "读取数据，进行映射"
   ]
  },
  {
   "cell_type": "code",
   "execution_count": null,
   "metadata": {},
   "outputs": [
    {
     "data": {
      "text/html": [
       "<div>\n",
       "<style scoped>\n",
       "    .dataframe tbody tr th:only-of-type {\n",
       "        vertical-align: middle;\n",
       "    }\n",
       "\n",
       "    .dataframe tbody tr th {\n",
       "        vertical-align: top;\n",
       "    }\n",
       "\n",
       "    .dataframe thead th {\n",
       "        text-align: right;\n",
       "    }\n",
       "</style>\n",
       "<table border=\"1\" class=\"dataframe\">\n",
       "  <thead>\n",
       "    <tr style=\"text-align: right;\">\n",
       "      <th></th>\n",
       "      <th>SUBJECT_ID</th>\n",
       "      <th>HADM_ID</th>\n",
       "      <th>ICD9_CODE</th>\n",
       "    </tr>\n",
       "  </thead>\n",
       "  <tbody>\n",
       "    <tr>\n",
       "      <th>0</th>\n",
       "      <td>62641</td>\n",
       "      <td>154460</td>\n",
       "      <td>Insertion of intercostal catheter for drainage</td>\n",
       "    </tr>\n",
       "    <tr>\n",
       "      <th>1</th>\n",
       "      <td>2592</td>\n",
       "      <td>130856</td>\n",
       "      <td>Continuous invasive mechanical ventilation for...</td>\n",
       "    </tr>\n",
       "    <tr>\n",
       "      <th>2</th>\n",
       "      <td>2592</td>\n",
       "      <td>130856</td>\n",
       "      <td>Venous catheterization, not elsewhere classified</td>\n",
       "    </tr>\n",
       "    <tr>\n",
       "      <th>3</th>\n",
       "      <td>55357</td>\n",
       "      <td>119355</td>\n",
       "      <td>Continuous invasive mechanical ventilation for...</td>\n",
       "    </tr>\n",
       "    <tr>\n",
       "      <th>4</th>\n",
       "      <td>55357</td>\n",
       "      <td>119355</td>\n",
       "      <td>Spinal tap</td>\n",
       "    </tr>\n",
       "  </tbody>\n",
       "</table>\n",
       "</div>"
      ],
      "text/plain": [
       "  SUBJECT_ID HADM_ID                                          ICD9_CODE\n",
       "0      62641  154460     Insertion of intercostal catheter for drainage\n",
       "1       2592  130856  Continuous invasive mechanical ventilation for...\n",
       "2       2592  130856   Venous catheterization, not elsewhere classified\n",
       "3      55357  119355  Continuous invasive mechanical ventilation for...\n",
       "4      55357  119355                                         Spinal tap"
      ]
     },
     "execution_count": 83,
     "metadata": {},
     "output_type": "execute_result"
    }
   ],
   "source": [
    "from collections import Counter\n",
    "\n",
    "# 初始化计数器\n",
    "missing_codes = Counter() # 记录一下 没有映射成功的字段\n",
    "\n",
    "table = readcsv('../dataset/MIMICIII_data/', 'PROCEDURES_ICD.csv')\n",
    "fliter = ['SUBJECT_ID', 'HADM_ID', 'ICD9_CODE']\n",
    "table = table[fliter]\n",
    "\n",
    "# 去重\n",
    "table = table.drop_duplicates()\n",
    "\n",
    "# 对该列 每个元素 进行 medCode 到 自然语言 转换\n",
    "for index, row in table.iterrows():\n",
    "    code = str(row['ICD9_CODE'])\n",
    "    if code in mapper:\n",
    "        table.at[index, 'ICD9_CODE'] = mapper[code]\n",
    "    else:\n",
    "        # 如果代码不在映射字典中，保持原样并记录\n",
    "        missing_codes[code] += 1\n",
    "\n",
    "table.head()"
   ]
  },
  {
   "cell_type": "markdown",
   "metadata": {},
   "source": [
    "未映射成功的部分：\n",
    "\n",
    "Counter({'3601': 1046,\n",
    "         '022': 455,\n",
    "         '3605': 218,\n",
    "         '324': 85,\n",
    "         '458': 57,\n",
    "         '684': 31,\n",
    "         '857': 29,\n",
    "         '537': 24,\n",
    "         '325': 22,\n",
    "         '323': 17,\n",
    "         '3602': 16,\n",
    "         '374': 15,\n",
    "         '485': 13,\n",
    "         '686': 9,\n",
    "         '683': 5,\n",
    "         '398': 1})"
   ]
  },
  {
   "cell_type": "markdown",
   "metadata": {},
   "source": [
    "进行 ehrBase 数据填充"
   ]
  },
  {
   "cell_type": "code",
   "execution_count": null,
   "metadata": {},
   "outputs": [
    {
     "name": "stdout",
     "output_type": "stream",
     "text": [
      "已成功加载文件：../dataset_processed/MIMICIII_data/ehrBase_v1.pkl\n"
     ]
    },
    {
     "data": {
      "text/plain": [
       "Patient(expire_flag=0, visits=[Visit(visit_id=154460, admittime=Timestamp('2143-07-23 07:15:00'), dischtime=Timestamp('2143-07-30 14:55:00'), deathtime=NaT, procedures=['Insertion of intercostal catheter for drainage', 'Radical dissection of thoracic structures', 'Other repair and plastic operations on bronchus'], prescriptions=[], diagnoses=[], labevent=[]), Visit(visit_id=183695, admittime=Timestamp('2154-01-30 17:30:00'), dischtime=Timestamp('2154-02-07 16:30:00'), deathtime=NaT, procedures=[], prescriptions=[], diagnoses=[], labevent=[]), Visit(visit_id=188485, admittime=Timestamp('2154-11-23 17:55:00'), dischtime=Timestamp('2154-12-02 14:59:00'), deathtime=NaT, procedures=[], prescriptions=[], diagnoses=[], labevent=[])])"
      ]
     },
     "execution_count": 91,
     "metadata": {},
     "output_type": "execute_result"
    }
   ],
   "source": [
    "ehrBase = loadPkl(\"../dataset_processed/MIMICIII_data/ehrBase_v1.pkl\")\n",
    "\n",
    "# 遍历 table 中的每一行数据\n",
    "for index, row in table.iterrows():\n",
    "    subject_id = row['SUBJECT_ID']\n",
    "    hadm_id = row['HADM_ID']\n",
    "    icd9_code = row['ICD9_CODE']\n",
    "    \n",
    "    if str(subject_id) in ehrBase:\n",
    "        patient = ehrBase[subject_id]\n",
    "        \n",
    "        #print('id 匹配')\n",
    "        for visit in patient.visits:\n",
    "            #print('visit 匹配', type(visit.visit_id))\n",
    "            if str(visit.visit_id) == hadm_id:\n",
    "                #print('visit_id 匹配')\n",
    "                visit.procedures.append(icd9_code)\n",
    "                ehrBase[subject_id] = patient\n",
    "                break\n",
    "    \n",
    "ehrBase['249']"
   ]
  },
  {
   "cell_type": "markdown",
   "metadata": {},
   "source": [
    "### 3.4 诊断"
   ]
  },
  {
   "cell_type": "markdown",
   "metadata": {},
   "source": [
    "构造映射字典"
   ]
  },
  {
   "cell_type": "code",
   "execution_count": 95,
   "metadata": {},
   "outputs": [
    {
     "data": {
      "text/plain": [
       "14567"
      ]
     },
     "execution_count": 95,
     "metadata": {},
     "output_type": "execute_result"
    }
   ],
   "source": [
    "# 读取 csv 映射表来构造 映射字典 （因为 lookup 函数在查 3601 的时候 内部总是 改写为 36.01）\n",
    "mapper = readcsv('../dataset/MIMICIII_data/', 'D_ICD_DIAGNOSES.csv')[['ICD9_CODE', 'LONG_TITLE']]\n",
    "\n",
    "mid = dict()\n",
    "for index, row in mapper.iterrows():\n",
    "    mid[str(row['ICD9_CODE'])] = str(row['LONG_TITLE'])\n",
    "\n",
    "mapper = mid\n",
    "len(mapper)"
   ]
  },
  {
   "cell_type": "markdown",
   "metadata": {},
   "source": [
    "读取数据 进行映射"
   ]
  },
  {
   "cell_type": "code",
   "execution_count": 98,
   "metadata": {},
   "outputs": [
    {
     "data": {
      "text/html": [
       "<div>\n",
       "<style scoped>\n",
       "    .dataframe tbody tr th:only-of-type {\n",
       "        vertical-align: middle;\n",
       "    }\n",
       "\n",
       "    .dataframe tbody tr th {\n",
       "        vertical-align: top;\n",
       "    }\n",
       "\n",
       "    .dataframe thead th {\n",
       "        text-align: right;\n",
       "    }\n",
       "</style>\n",
       "<table border=\"1\" class=\"dataframe\">\n",
       "  <thead>\n",
       "    <tr style=\"text-align: right;\">\n",
       "      <th></th>\n",
       "      <th>SUBJECT_ID</th>\n",
       "      <th>HADM_ID</th>\n",
       "      <th>ICD9_CODE</th>\n",
       "    </tr>\n",
       "  </thead>\n",
       "  <tbody>\n",
       "    <tr>\n",
       "      <th>0</th>\n",
       "      <td>109</td>\n",
       "      <td>172335</td>\n",
       "      <td>Hypertensive chronic kidney disease, malignant...</td>\n",
       "    </tr>\n",
       "    <tr>\n",
       "      <th>1</th>\n",
       "      <td>109</td>\n",
       "      <td>172335</td>\n",
       "      <td>Pneumonia, organism unspecified</td>\n",
       "    </tr>\n",
       "    <tr>\n",
       "      <th>2</th>\n",
       "      <td>109</td>\n",
       "      <td>172335</td>\n",
       "      <td>Chronic glomerulonephritis in diseases classif...</td>\n",
       "    </tr>\n",
       "    <tr>\n",
       "      <th>3</th>\n",
       "      <td>109</td>\n",
       "      <td>172335</td>\n",
       "      <td>Chronic kidney disease, Stage V</td>\n",
       "    </tr>\n",
       "    <tr>\n",
       "      <th>4</th>\n",
       "      <td>109</td>\n",
       "      <td>172335</td>\n",
       "      <td>Other primary cardiomyopathies</td>\n",
       "    </tr>\n",
       "  </tbody>\n",
       "</table>\n",
       "</div>"
      ],
      "text/plain": [
       "  SUBJECT_ID HADM_ID                                          ICD9_CODE\n",
       "0        109  172335  Hypertensive chronic kidney disease, malignant...\n",
       "1        109  172335                    Pneumonia, organism unspecified\n",
       "2        109  172335  Chronic glomerulonephritis in diseases classif...\n",
       "3        109  172335                    Chronic kidney disease, Stage V\n",
       "4        109  172335                     Other primary cardiomyopathies"
      ]
     },
     "execution_count": 98,
     "metadata": {},
     "output_type": "execute_result"
    }
   ],
   "source": [
    "from collections import Counter\n",
    "\n",
    "# 初始化计数器\n",
    "missing_codes = Counter() # 记录一下 没有映射成功的字段\n",
    "\n",
    "table = readcsv('../dataset/MIMICIII_data/', 'DIAGNOSES_ICD.csv')\n",
    "fliter = ['SUBJECT_ID', 'HADM_ID', 'ICD9_CODE']\n",
    "table = table[fliter]\n",
    "\n",
    "# 去重\n",
    "table = table.drop_duplicates()\n",
    "\n",
    "# 对该列 每个元素  进行 medCode 到 自然语言 转换\n",
    "for index, row in table.iterrows():\n",
    "    code = str(row['ICD9_CODE'])\n",
    "    if code in mapper:\n",
    "        table.at[index, 'ICD9_CODE'] = mapper[code]\n",
    "    else:\n",
    "        # 如果代码不在映射字典中，保持原样并记录\n",
    "        missing_codes[code] += 1\n",
    "\n",
    "table.head()"
   ]
  },
  {
   "cell_type": "markdown",
   "metadata": {},
   "source": [
    "未映射成功的部分：\n",
    "\n",
    "Counter({'5185': 1807,\n",
    "         '2765': 1348,\n",
    "         '7793': 1068,\n",
    "         '0414': 967,\n",
    "         '9974': 760,\n",
    "         '4538': 607,\n",
    "         '2874': 584,\n",
    "         '2766': 575,\n",
    "         '7895': 534,\n",
    "         '5997': 509,\n",
    "         '2841': 472,\n",
    "         '7806': 426,\n",
    "         '7863': 401,\n",
    "         '9973': 390,\n",
    "         'V721': 374,\n",
    "         '2848': 321,\n",
    "         '2554': 290,\n",
    "         '585': 273,\n",
    "         '7070': 271,\n",
    "         '5191': 236,\n",
    "         '7708': 225,\n",
    "         '4582': 218,\n",
    "         '5672': 217,\n",
    "         '4251': 183,\n",
    "         'V451': 175,\n",
    "...\n",
    "         '6168': 1,\n",
    "         '6221': 1,\n",
    "         '3234': 1,\n",
    "         '7523': 1,\n",
    "         '9994': 1})"
   ]
  },
  {
   "cell_type": "markdown",
   "metadata": {},
   "source": [
    "进行 ehrBase 数据填充"
   ]
  },
  {
   "cell_type": "code",
   "execution_count": 108,
   "metadata": {},
   "outputs": [
    {
     "name": "stdout",
     "output_type": "stream",
     "text": [
      "已成功加载文件：../dataset_processed/MIMICIII_data/ehrBase_v2.pkl\n"
     ]
    },
    {
     "name": "stderr",
     "output_type": "stream",
     "text": [
      "Processing rows: 100%|██████████| 650987/650987 [00:30<00:00, 21511.20it/s]\n"
     ]
    },
    {
     "data": {
      "text/plain": [
       "Patient(expire_flag=1, visits=[Visit(visit_id=183350, admittime=Timestamp('2137-11-04 19:36:00'), dischtime=Timestamp('2137-11-21 18:13:00'), deathtime=NaT, procedures=['Closed [percutaneous] [needle] biopsy of kidney', 'Therapeutic plasmapheresis', 'Venous catheterization, not elsewhere classified', 'Transfusion of packed cells', 'Other endoscopy of small intestine', 'Venous catheterization for renal dialysis', 'Hemodialysis'], prescriptions=[], diagnoses=['Systemic lupus erythematosus', 'Acute kidney failure, unspecified', 'Hematemesis', 'Hemorrhage complicating a procedure', 'Thrombotic microangiopathy', 'Hypertensive chronic kidney disease, malignant, with chronic kidney disease stage V or end stage renal disease', 'Chronic glomerulonephritis in diseases classified elsewhere', 'Other specified procedures as the cause of abnormal reaction of patient, or of later complication, without mention of misadventure at time of procedure', 'Other specified disorders resulting from impaired renal function', \"Raynaud's syndrome\", 'Other chest pain'], labevent=[]), Visit(visit_id=128755, admittime=Timestamp('2138-04-16 17:44:00'), dischtime=Timestamp('2138-04-19 16:00:00'), deathtime=NaT, procedures=['Hemodialysis'], prescriptions=[], diagnoses=['Hypertensive encephalopathy', 'Other convulsions', 'Systemic lupus erythematosus', 'Hypertensive chronic kidney disease, unspecified, with chronic kidney disease stage V or end stage renal disease', '4251', 'Anemia, unspecified'], labevent=[]), Visit(visit_id=164029, admittime=Timestamp('2140-01-19 13:25:00'), dischtime=Timestamp('2140-01-21 13:25:00'), deathtime=NaT, procedures=['Hemodialysis'], prescriptions=[], diagnoses=['Hypertensive chronic kidney disease, malignant, with chronic kidney disease stage V or end stage renal disease', 'Systemic lupus erythematosus', 'End stage renal disease', 'Awaiting organ transplant status', 'Nephritis and nephropathy, not specified as acute or chronic, in diseases classified elsewhere', 'Unspecified iridocyclitis'], labevent=[]), Visit(visit_id=108375, admittime=Timestamp('2140-02-02 02:13:00'), dischtime=Timestamp('2140-02-02 16:25:00'), deathtime=NaT, procedures=[], prescriptions=[], diagnoses=['Systemic lupus erythematosus', 'Hypertensive chronic kidney disease, malignant, with chronic kidney disease stage V or end stage renal disease', 'End stage renal disease', 'Nephritis and nephropathy, not specified as acute or chronic, in diseases classified elsewhere', 'Unspecified iridocyclitis', 'Anemia in chronic kidney disease'], labevent=[]), Visit(visit_id=193281, admittime=Timestamp('2140-04-07 19:51:00'), dischtime=Timestamp('2140-05-02 16:30:00'), deathtime=NaT, procedures=['Other enucleation of eyeball', 'Hemodialysis'], prescriptions=[], diagnoses=['Hypertensive chronic kidney disease, malignant, with chronic kidney disease stage V or end stage renal disease', 'End stage renal disease', 'Systemic lupus erythematosus', 'Bacteremia', 'Other primary cardiomyopathies', 'Infection and inflammatory reaction due to other vascular device, implant, and graft', 'Hematoma complicating a procedure', 'Acute endophthalmitis', 'Other candidiasis of other specified sites', 'Long-term (current) use of steroids', 'Rash and other nonspecific skin eruption', 'Anemia in chronic kidney disease', 'Scleritis, unspecified', 'Orbital hemorrhage', 'Mycotic corneal ulcer', 'Acute and subacute iridocyclitis, unspecified'], labevent=[]), Visit(visit_id=175347, admittime=Timestamp('2140-05-17 14:27:00'), dischtime=Timestamp('2140-05-20 19:50:00'), deathtime=NaT, procedures=['Hemodialysis'], prescriptions=[], diagnoses=['Hypertensive heart and chronic kidney disease, unspecified, without heart failure and with chronic kidney disease stage V or end stage renal disease', 'End stage renal disease', 'V451', 'Systemic lupus erythematosus', 'Bacteremia', 'Infection and inflammatory reaction due to other vascular device, implant, and graft', 'Staphylococcus infection in conditions classified elsewhere and of unspecified site, other staphylococcus', 'Chronic glomerulonephritis in diseases classified elsewhere', 'Anemia, unspecified', 'Acquired absence of organ, eye', 'Unspecified iridocyclitis', 'Other endophthalmitis'], labevent=[]), Visit(visit_id=110668, admittime=Timestamp('2140-08-25 14:39:00'), dischtime=Timestamp('2140-09-02 18:30:00'), deathtime=NaT, procedures=[], prescriptions=[], diagnoses=['Hypertensive chronic kidney disease, unspecified, with chronic kidney disease stage V or end stage renal disease', 'Other convulsions', 'Bacteremia', 'Systemic lupus erythematosus', 'Hypertensive encephalopathy', 'Chronic kidney disease, Stage V', 'Staphylococcus infection in conditions classified elsewhere and of unspecified site, other staphylococcus', 'Chronic glomerulonephritis in diseases classified elsewhere', 'Unspecified intracranial hemorrhage'], labevent=[]), Visit(visit_id=166018, admittime=Timestamp('2141-03-27 21:08:00'), dischtime=Timestamp('2141-03-28 17:45:00'), deathtime=NaT, procedures=[], prescriptions=[], diagnoses=['Malignant essential hypertension', 'End stage renal disease', 'Chronic glomerulonephritis in diseases classified elsewhere', 'Other primary cardiomyopathies', '2841', 'Systemic lupus erythematosus', 'Thrombocytopenia, unspecified', 'Anemia, unspecified', 'V451', 'Other postprocedural status', 'Other states following surgery of eye and adnexa'], labevent=[]), Visit(visit_id=170149, admittime=Timestamp('2141-05-24 14:47:00'), dischtime=Timestamp('2141-06-06 19:55:00'), deathtime=NaT, procedures=[], prescriptions=[], diagnoses=['4538', 'End stage renal disease', 'Hypertensive chronic kidney disease, malignant, with chronic kidney disease stage V or end stage renal disease', 'Compression of vein', 'Chronic glomerulonephritis in diseases classified elsewhere', 'Other primary cardiomyopathies', '2841', 'Systemic lupus erythematosus', 'Anemia in chronic kidney disease', 'Hyperpotassemia', 'Hyperparathyroidism, unspecified', 'Other iatrogenic hypotension', 'Nausea with vomiting', '2874', 'Abnormal glandular Papanicolaou smear of cervix', 'Abdominal pain, other specified site', 'Other specified disorders of pancreatic internal secretion', 'Adrenal cortical steroids causing adverse effects in therapeutic use'], labevent=[]), Visit(visit_id=147469, admittime=Timestamp('2141-06-11 10:17:00'), dischtime=Timestamp('2141-06-17 16:29:00'), deathtime=NaT, procedures=[], prescriptions=[], diagnoses=['Hypertensive chronic kidney disease, malignant, with chronic kidney disease stage V or end stage renal disease', 'End stage renal disease', 'Other encephalopathy', 'Chronic glomerulonephritis in diseases classified elsewhere', 'Urinary tract infection, site not specified', 'Acidosis', 'Unspecified iridocyclitis', 'Acquired hemolytic anemia, unspecified', 'Systemic lupus erythematosus', 'Personal history of venous thrombosis and embolism', 'Long-term (current) use of anticoagulants', 'Swelling, mass, or lump in head and neck', 'Hyperpotassemia', 'Lump or mass in breast', 'Thrombocytopenia, unspecified', 'Hypocalcemia', 'Disorders of phosphorus metabolism'], labevent=[]), Visit(visit_id=131345, admittime=Timestamp('2141-09-05 20:04:00'), dischtime=Timestamp('2141-09-08 18:30:00'), deathtime=NaT, procedures=[], prescriptions=[], diagnoses=['Hypertensive chronic kidney disease, malignant, with chronic kidney disease stage V or end stage renal disease', 'Chronic glomerulonephritis in diseases classified elsewhere', 'Other primary cardiomyopathies', 'Systemic lupus erythematosus', 'Thrombocytopenia, unspecified', 'Nausea alone', 'Other antihypertensive agents causing adverse effects in therapeutic use', 'Hip and thigh injury', 'Unspecified accident', 'Hypotension, unspecified', 'Anemia, unspecified', 'Personal history of venous thrombosis and embolism', 'End stage renal disease', 'V451', 'Urinary tract infection, site not specified', 'Hyperpotassemia', 'Acidosis', 'Disorders of phosphorus metabolism', 'Hypocalcemia', 'Secondary hyperparathyroidism (of renal origin)'], labevent=[]), Visit(visit_id=139061, admittime=Timestamp('2141-09-11 10:12:00'), dischtime=Timestamp('2141-09-14 20:00:00'), deathtime=NaT, procedures=['Arterial catheterization'], prescriptions=[], diagnoses=['Hypertensive chronic kidney disease, malignant, with chronic kidney disease stage V or end stage renal disease', 'Chronic glomerulonephritis in diseases classified elsewhere', 'Chronic kidney disease, Stage V', 'Urinary tract infection, site not specified', 'Other primary cardiomyopathies', 'Systemic lupus erythematosus', 'Sciatica', 'Hyperpotassemia', 'Thrombocytopenia, unspecified', 'Abnormal coagulation profile', 'Hyperparathyroidism, unspecified', 'Anemia of other chronic disease', 'Personal history of venous thrombosis and embolism'], labevent=[]), Visit(visit_id=172335, admittime=Timestamp('2141-09-18 10:32:00'), dischtime=Timestamp('2141-09-24 13:53:00'), deathtime=NaT, procedures=['Peritoneal dialysis'], prescriptions=[], diagnoses=['Hypertensive chronic kidney disease, malignant, with chronic kidney disease stage V or end stage renal disease', 'Pneumonia, organism unspecified', 'Chronic glomerulonephritis in diseases classified elsewhere', 'Chronic kidney disease, Stage V', 'Other primary cardiomyopathies', 'Acidosis', 'Systemic lupus erythematosus', 'Hyperpotassemia', 'Sciatica', 'Other iatrogenic hypotension', 'Thrombocytopenia, unspecified', 'Anemia in chronic kidney disease', 'Anemia of other chronic disease', 'Hypocalcemia'], labevent=[]), Visit(visit_id=126055, admittime=Timestamp('2141-10-13 23:10:00'), dischtime=Timestamp('2141-11-03 18:45:00'), deathtime=NaT, procedures=['Exploratory laparotomy', 'Venous catheterization for renal dialysis', 'Hemodialysis', 'Venous catheterization, not elsewhere classified', 'Transfusion of other serum', 'Transfusion of packed cells', 'Esophagogastroduodenoscopy [EGD] with closed biopsy', 'Non-invasive mechanical ventilation'], prescriptions=[], diagnoses=['Renal dialysis status', 'Epilepsy, unspecified, without mention of intractable epilepsy', 'Constipation, unspecified', 'Anemia in chronic kidney disease', 'Abnormal coagulation profile', 'Obstructive sleep apnea (adult)(pediatric)', 'Other diseases of lung, not elsewhere classified', 'Other chest pain', 'Fever, unspecified', 'Rash and other nonspecific skin eruption', 'Other chronic pulmonary heart diseases', 'Personal history of venous thrombosis and embolism', 'Long-term (current) use of anticoagulants', 'Malignant essential hypertension', 'End stage renal disease', 'Chronic glomerulonephritis in diseases classified elsewhere', 'Unspecified disease of pericardium', 'Other ascites', 'Acidosis', 'Hyposmolality and/or hyponatremia', 'Abdominal pain, other specified site', 'Abdominal pain, epigastric', 'Nausea with vomiting', 'Diarrhea', 'Systemic lupus erythematosus', 'Hyperparathyroidism, unspecified', 'Anemia, unspecified', 'Thrombocytopenia, unspecified', 'Esophageal reflux'], labevent=[]), Visit(visit_id=125288, admittime=Timestamp('2141-11-18 14:00:00'), dischtime=Timestamp('2141-11-23 16:42:00'), deathtime=NaT, procedures=['Hemodialysis'], prescriptions=[], diagnoses=['Hypertensive chronic kidney disease, malignant, with chronic kidney disease stage V or end stage renal disease', 'End stage renal disease', '2841', 'Systemic lupus erythematosus', 'Abdominal pain, unspecified site', 'Anemia, unspecified', 'Personal history of venous thrombosis and embolism', 'Long-term (current) use of anticoagulants'], labevent=[]), Visit(visit_id=161950, admittime=Timestamp('2141-11-24 16:11:00'), dischtime=Timestamp('2141-12-01 19:00:00'), deathtime=NaT, procedures=['Hemodialysis'], prescriptions=[], diagnoses=['Hypertensive chronic kidney disease, malignant, with chronic kidney disease stage V or end stage renal disease', 'End stage renal disease', 'Other ascites', '4251', 'Systemic lupus erythematosus', 'Headache', 'Anemia in chronic kidney disease', 'Anxiety state, unspecified', 'Other chest pain', 'Personal history of venous thrombosis and embolism', 'Long-term (current) use of anticoagulants', 'Renal dialysis status', 'Acquired absence of organ, eye'], labevent=[]), Visit(visit_id=173633, admittime=Timestamp('2141-12-08 01:40:00'), dischtime=Timestamp('2141-12-14 17:16:00'), deathtime=NaT, procedures=['Hemodialysis', 'Venous catheterization, not elsewhere classified', 'Transfusion of packed cells'], prescriptions=[], diagnoses=['Hypertensive chronic kidney disease, malignant, with chronic kidney disease stage V or end stage renal disease', 'End stage renal disease', 'Nephritis and nephropathy, not specified as acute or chronic, in diseases classified elsewhere', 'Systemic lupus erythematosus', 'Other and unspecified noninfectious gastroenteritis and colitis', 'Thrombocytopenia, unspecified', 'Anemia in chronic kidney disease', 'Other iatrogenic hypotension', 'Obstructive sleep apnea (adult)(pediatric)', 'Hemangioma of intra-abdominal structures', 'Other chronic pain', 'Abdominal pain, unspecified site', 'Abnormal coagulation profile', 'Renal dialysis status', 'Personal history of venous thrombosis and embolism'], labevent=[]), Visit(visit_id=140167, admittime=Timestamp('2141-12-18 03:50:00'), dischtime=Timestamp('2141-12-23 19:51:00'), deathtime=NaT, procedures=['Incision of peritoneum', 'Removal of peritoneal drainage device', 'Non-invasive mechanical ventilation', 'Venous catheterization for renal dialysis', 'Hemodialysis'], prescriptions=[], diagnoses=['Hypertensive chronic kidney disease, malignant, with chronic kidney disease stage V or end stage renal disease', 'End stage renal disease', 'Mechanical complication due to peritoneal dialysis catheter', '4251', 'Unspecified disease of pericardium', 'Angioneurotic edema, not elsewhere classified', 'Abdominal pain, other specified site', 'Systemic lupus erythematosus', '2874', 'Anemia in chronic kidney disease', 'Dysthymic disorder', 'Obstructive sleep apnea (adult)(pediatric)', 'Personal history of venous thrombosis and embolism', 'Long-term (current) use of steroids', 'Long-term (current) use of anticoagulants', 'Surgical operation with implant of artificial internal device causing abnormal patient reaction, or later complication,without mention of misadventure at time of operation', 'Other antihypertensive agents causing adverse effects in therapeutic use'], labevent=[]), Visit(visit_id=135923, admittime=Timestamp('2142-01-08 06:36:00'), dischtime=Timestamp('2142-01-13 21:00:00'), deathtime=NaT, procedures=['Hemodialysis', 'Non-invasive mechanical ventilation'], prescriptions=[], diagnoses=['Hypertensive chronic kidney disease, malignant, with chronic kidney disease stage V or end stage renal disease', 'End stage renal disease', '4251', 'Systemic lupus erythematosus', 'Hypoxemia', 'Other opiates and related narcotics causing adverse effects in therapeutic use', 'Thrombocytopenia, unspecified', 'Anemia in chronic kidney disease', 'Abdominal pain, other specified site', 'Obstructive sleep apnea (adult)(pediatric)', 'Dysthymic disorder', 'Renal dialysis status', 'Personal history of venous thrombosis and embolism', 'Long-term (current) use of anticoagulants', 'Other postprocedural status'], labevent=[]), Visit(visit_id=124657, admittime=Timestamp('2142-01-14 17:34:00'), dischtime=Timestamp('2142-01-20 13:30:00'), deathtime=NaT, procedures=['Hemodialysis'], prescriptions=[], diagnoses=['Hypertensive chronic kidney disease, malignant, with chronic kidney disease stage V or end stage renal disease', 'End stage renal disease', '4251', 'Other vascular complications of medical care, not elsewhere classified', 'Systemic lupus erythematosus', 'Hyperpotassemia', 'Phlebitis and thrombophlebitis of upper extremities, unspecified', 'Personal history of venous thrombosis and embolism', 'Long-term (current) use of anticoagulants'], labevent=[]), Visit(visit_id=176760, admittime=Timestamp('2142-01-21 11:23:00'), dischtime=Timestamp('2142-01-23 16:40:00'), deathtime=NaT, procedures=['Venous catheterization, not elsewhere classified'], prescriptions=[], diagnoses=['Other vascular complications of medical care, not elsewhere classified', 'End stage renal disease', 'Hypertensive chronic kidney disease, malignant, with chronic kidney disease stage V or end stage renal disease', '4251', 'Systemic lupus erythematosus', 'Phlebitis and thrombophlebitis of upper extremities, unspecified'], labevent=[]), Visit(visit_id=113189, admittime=Timestamp('2142-02-14 10:42:00'), dischtime=Timestamp('2142-02-17 18:15:00'), deathtime=NaT, procedures=['Hemodialysis'], prescriptions=[], diagnoses=['Hypertensive chronic kidney disease, malignant, with chronic kidney disease stage V or end stage renal disease', 'End stage renal disease', 'Chronic glomerulonephritis in diseases classified elsewhere', '4251', 'Thrombotic microangiopathy', 'Systemic lupus erythematosus', 'Anemia in chronic kidney disease', 'Thrombocytopenia, unspecified', 'Obstructive sleep apnea (adult)(pediatric)', 'Nontraumatic hematoma of soft tissue', 'Dysthymic disorder', 'Noncompliance with renal dialysis', 'Long-term (current) use of anticoagulants', 'Personal history of venous thrombosis and embolism'], labevent=[]), Visit(visit_id=158995, admittime=Timestamp('2142-02-25 15:49:00'), dischtime=Timestamp('2142-02-26 16:11:00'), deathtime=NaT, procedures=['Hemodialysis', 'Transfusion of packed cells'], prescriptions=[], diagnoses=['Poisoning by other opiates and related narcotics', 'End stage renal disease', 'Hypertensive chronic kidney disease, malignant, with chronic kidney disease stage V or end stage renal disease', 'Chronic glomerulonephritis in diseases classified elsewhere', 'Thrombotic microangiopathy', 'Other primary cardiomyopathies', 'Acidosis', 'Systemic lupus erythematosus', 'Thrombocytopenia, unspecified', 'Altered mental status', 'Other iatrogenic hypotension', 'Accidental poisoning by other opiates and related narcotics', 'Hyperpotassemia', 'Anemia in chronic kidney disease', 'Obstructive sleep apnea (adult)(pediatric)', 'Dysthymic disorder', 'Nontraumatic hematoma of soft tissue', 'Noncompliance with renal dialysis', 'Long-term (current) use of anticoagulants', 'Personal history of venous thrombosis and embolism'], labevent=[]), Visit(visit_id=158943, admittime=Timestamp('2142-03-21 09:25:00'), dischtime=Timestamp('2142-03-23 18:11:00'), deathtime=NaT, procedures=['Hemodialysis', 'Transfusion of packed cells', 'Non-invasive mechanical ventilation'], prescriptions=[], diagnoses=['2766', 'End stage renal disease', 'Hypertensive chronic kidney disease, malignant, with chronic kidney disease stage V or end stage renal disease', 'Chronic glomerulonephritis in diseases classified elsewhere', 'Compression of vein', 'Unspecified disease of pericardium', 'Infection and inflammatory reaction due to other vascular device, implant, and graft', 'Bacteremia', 'Primary hypercoagulable state', 'Other primary cardiomyopathies', '4251', 'Abdominal pain, unspecified site', 'Urinary tract infection, site not specified', 'Acidosis', 'Other chest pain', 'Other chronic pain', 'Systemic lupus erythematosus', 'Noncompliance with renal dialysis', 'Thrombocytopenia, unspecified', 'Anemia in chronic kidney disease', 'Hyperpotassemia', 'Streptococcus infection in conditions classified elsewhere and of unspecified site, streptococcus, group D [Enterococcus]', 'Kidney dialysis as the cause of abnormal reaction of patient, or of later complication, without mention of misadventure at time of procedure', 'Methicillin resistant Staphylococcus aureus in conditions classified elsewhere and of unspecified site', 'Obstructive sleep apnea (adult)(pediatric)', 'Personal history of venous thrombosis and embolism', 'Long-term (current) use of anticoagulants'], labevent=[]), Visit(visit_id=124398, admittime=Timestamp('2142-03-24 16:34:00'), dischtime=Timestamp('2142-03-31 15:15:00'), deathtime=NaT, procedures=['Hemodialysis'], prescriptions=[], diagnoses=['Hypertensive chronic kidney disease, malignant, with chronic kidney disease stage V or end stage renal disease', 'End stage renal disease', 'Chronic glomerulonephritis in diseases classified elsewhere', '4251', 'Systemic lupus erythematosus', 'Anemia in chronic kidney disease', 'Long-term (current) use of steroids', 'Other chronic pain', 'Obstructive sleep apnea (adult)(pediatric)', 'Abdominal pain, generalized', 'Hyperpotassemia'], labevent=[]), Visit(visit_id=137510, admittime=Timestamp('2142-04-20 13:39:00'), dischtime=Timestamp('2142-04-22 15:30:00'), deathtime=NaT, procedures=['Hemodialysis', 'Venous catheterization for renal dialysis'], prescriptions=[], diagnoses=['Hypertensive chronic kidney disease, malignant, with chronic kidney disease stage V or end stage renal disease', 'End stage renal disease', 'Unspecified iridocyclitis', 'Other primary cardiomyopathies', 'Unspecified disease of pericardium', '2766', 'Systemic lupus erythematosus', 'Nephritis and nephropathy, not specified as acute or chronic, in diseases classified elsewhere', 'Noncompliance with renal dialysis', 'Personal history of noncompliance with medical treatment, presenting hazards to health', \"Surgical or other procedure not carried out because of patient's decision\", 'Abdominal pain, left lower quadrant', 'Renal dialysis status', 'Thrombocytopenia, unspecified', 'Anemia of other chronic disease', 'Personal history of venous thrombosis and embolism', 'Long-term (current) use of anticoagulants', 'Peripheral vascular disease, unspecified', 'Acquired absence of organ, eye', 'Carrier or suspected carrier of Methicillin resistant Staphylococcus aureus'], labevent=[]), Visit(visit_id=151240, admittime=Timestamp('2142-05-15 10:45:00'), dischtime=Timestamp('2142-05-18 15:58:00'), deathtime=NaT, procedures=['Hemodialysis'], prescriptions=[], diagnoses=['Hypertensive chronic kidney disease, malignant, with chronic kidney disease stage V or end stage renal disease', 'End stage renal disease', 'Other primary cardiomyopathies', 'Unspecified disease of pericardium', 'Systemic lupus erythematosus', 'Nephritis and nephropathy, not specified as acute or chronic, in diseases classified elsewhere', 'Hyperpotassemia', 'Nausea with vomiting', 'Diarrhea', 'Disorders of phosphorus metabolism', 'Anemia of other chronic disease', 'Abdominal pain, left lower quadrant', 'Other chronic pain', 'Thrombocytopenia, unspecified', 'Other specified peripheral vascular diseases', 'Carrier or suspected carrier of Methicillin resistant Staphylococcus aureus', 'Long-term (current) use of anticoagulants', 'Noncompliance with renal dialysis', 'Renal dialysis status', 'Personal history of noncompliance with medical treatment, presenting hazards to health'], labevent=[]), Visit(visit_id=102024, admittime=Timestamp('2142-05-20 12:59:00'), dischtime=Timestamp('2142-06-05 16:18:00'), deathtime=NaT, procedures=['Esophagogastroduodenoscopy [EGD] with closed biopsy', 'Hemodialysis', 'Injection of anesthetic into peripheral nerve for analgesia', 'Transfusion of packed cells', 'Transfusion of other serum'], prescriptions=[], diagnoses=['Hypertensive chronic kidney disease, malignant, with chronic kidney disease stage V or end stage renal disease', 'End stage renal disease', 'Chronic or unspecified gastric ulcer with hemorrhage, without mention of obstruction', 'Acute posthemorrhagic anemia', 'Unspecified intestinal obstruction', 'Other primary cardiomyopathies', 'Unspecified disease of pericardium', 'Systemic lupus erythematosus', 'Nephritis and nephropathy, not specified as acute or chronic, in diseases classified elsewhere', 'Disorders of phosphorus metabolism', 'Hypotension, unspecified', 'Hyperpotassemia', 'Mononeuritis of unspecified site', 'Anemia of other chronic disease', 'Abdominal pain, left lower quadrant', 'Other chronic pain', 'Thrombocytopenia, unspecified', 'Diaphragmatic hernia without mention of obstruction or gangrene', 'Other specified peripheral vascular diseases', 'Carrier or suspected carrier of Methicillin resistant Staphylococcus aureus', 'Noncompliance with renal dialysis', 'Renal dialysis status', 'Long-term (current) use of anticoagulants', 'Personal history of noncompliance with medical treatment, presenting hazards to health'], labevent=[]), Visit(visit_id=136572, admittime=Timestamp('2142-06-18 03:11:00'), dischtime=Timestamp('2142-06-20 16:34:00'), deathtime=NaT, procedures=['Hemodialysis', 'Venous catheterization, not elsewhere classified', 'Transfusion of packed cells'], prescriptions=[], diagnoses=['2766', 'End stage renal disease', 'Hypertensive chronic kidney disease, malignant, with chronic kidney disease stage V or end stage renal disease', 'Other primary cardiomyopathies', 'Unspecified disease of pericardium', 'Anemia of other chronic disease', 'Hyperpotassemia', 'Systemic lupus erythematosus', 'Abdominal pain, other specified site', 'Other chronic pain', 'Hypotension, unspecified', 'Gastric ulcer, unspecified as acute or chronic, without mention of hemorrhage or perforation, without mention of obstruction', 'Epilepsy, unspecified, without mention of intractable epilepsy', 'Depressive disorder, not elsewhere classified', 'Personal history of venous thrombosis and embolism', 'Noncompliance with renal dialysis'], labevent=[]), Visit(visit_id=174489, admittime=Timestamp('2142-07-03 14:48:00'), dischtime=Timestamp('2142-07-04 17:23:00'), deathtime=NaT, procedures=['Hemodialysis', 'Transfusion of packed cells'], prescriptions=[], diagnoses=['Hypertensive chronic kidney disease, malignant, with chronic kidney disease stage V or end stage renal disease', 'End stage renal disease', 'Chronic glomerulonephritis in diseases classified elsewhere', 'Unspecified iridocyclitis', 'Other primary cardiomyopathies', 'Abdominal pain, unspecified site', 'Other chronic pain', 'Nausea with vomiting', 'Systemic lupus erythematosus', 'Thrombocytopenia, unspecified', 'Anemia in chronic kidney disease', 'Other specified peripheral vascular diseases', 'Obstructive sleep apnea (adult)(pediatric)', 'Anemia of other chronic disease', 'Gastric ulcer, unspecified as acute or chronic, without mention of hemorrhage or perforation, without mention of obstruction', 'Epilepsy, unspecified, without mention of intractable epilepsy', 'Long-term (current) use of anticoagulants', 'Personal history of venous thrombosis and embolism', 'Personal history of transient ischemic attack (TIA), and cerebral infarction without residual deficits'], labevent=[]), Visit(visit_id=131376, admittime=Timestamp('2142-07-07 10:01:00'), dischtime=Timestamp('2142-07-08 18:05:00'), deathtime=NaT, procedures=['Hemodialysis'], prescriptions=[], diagnoses=['Hypertensive chronic kidney disease, malignant, with chronic kidney disease stage V or end stage renal disease', 'End stage renal disease', 'Chronic glomerulonephritis in diseases classified elsewhere', 'Other primary cardiomyopathies', 'Unspecified iridocyclitis', '2841', 'Other ascites', 'Other chronic pain', 'Abdominal pain, unspecified site', 'Systemic lupus erythematosus', 'Thrombocytopenia, unspecified', 'Anemia in chronic kidney disease', 'Obstructive sleep apnea (adult)(pediatric)', 'Other specified peripheral vascular diseases', 'Anemia of other chronic disease', 'Gastric ulcer, unspecified as acute or chronic, without mention of hemorrhage or perforation, without mention of obstruction', 'Epilepsy, unspecified, without mention of intractable epilepsy', 'Long-term (current) use of anticoagulants', 'Personal history of venous thrombosis and embolism', 'Personal history of transient ischemic attack (TIA), and cerebral infarction without residual deficits'], labevent=[]), Visit(visit_id=196721, admittime=Timestamp('2142-07-12 15:27:00'), dischtime=Timestamp('2142-07-23 18:41:00'), deathtime=NaT, procedures=['Hemodialysis', 'Percutaneous abdominal drainage', 'Phlebography of other specified sites using contrast material', 'Transfusion of packed cells', 'Non-invasive mechanical ventilation'], prescriptions=[], diagnoses=['Hypertensive chronic kidney disease, malignant, with chronic kidney disease stage V or end stage renal disease', 'End stage renal disease', 'Chronic glomerulonephritis in diseases classified elsewhere', 'Other ascites', 'Infection and inflammatory reaction due to other vascular device, implant, and graft', 'Bacteremia', 'Other primary cardiomyopathies', 'Unspecified disease of pericardium', 'Compression of vein', 'Systemic lupus erythematosus', 'Abdominal pain, unspecified site', 'Other chronic pain', 'Staphylococcus infection in conditions classified elsewhere and of unspecified site, other staphylococcus', 'Stridor', 'Angioneurotic edema, not elsewhere classified', 'Unspecified accident', 'Thrombocytopenia, unspecified', 'Anemia in chronic kidney disease', 'Obstructive sleep apnea (adult)(pediatric)', 'Other specified peripheral vascular diseases', 'Anemia of other chronic disease', 'Gastric ulcer, unspecified as acute or chronic, without mention of hemorrhage or perforation, without mention of obstruction', 'Epilepsy, unspecified, without mention of intractable epilepsy', '7931', 'Other specified procedures as the cause of abnormal reaction of patient, or of later complication, without mention of misadventure at time of procedure', 'Long-term (current) use of anticoagulants', 'Personal history of venous thrombosis and embolism', 'Personal history of transient ischemic attack (TIA), and cerebral infarction without residual deficits'], labevent=[]), Visit(visit_id=155726, admittime=Timestamp('2142-08-13 04:03:00'), dischtime=Timestamp('2142-08-16 18:17:00'), deathtime=NaT, procedures=['Hemodialysis', 'Transfusion of packed cells'], prescriptions=[], diagnoses=['Hypertensive chronic kidney disease, malignant, with chronic kidney disease stage V or end stage renal disease', 'End stage renal disease', 'Chronic glomerulonephritis in diseases classified elsewhere', 'Other primary cardiomyopathies', 'Other ascites', 'Thrombocytopenia, unspecified', 'Compression of vein', '2841', 'Systemic lupus erythematosus', 'Abdominal pain, unspecified site', 'Other acute pain', 'Other chronic pain', 'Gastric ulcer, unspecified as acute or chronic, without mention of hemorrhage or perforation, without mention of obstruction', 'Esophageal reflux', 'Depressive disorder, not elsewhere classified', 'Anemia in chronic kidney disease', 'Anemia of other chronic disease', 'Epilepsy, unspecified, without mention of intractable epilepsy', 'Other disorders of bone and cartilage', 'Obstructive sleep apnea (adult)(pediatric)', 'Other specified peripheral vascular diseases', 'Mild dysplasia of cervix', 'Noncompliance with renal dialysis', 'Personal history of venous thrombosis and embolism', 'Long-term (current) use of anticoagulants'], labevent=[]), Visit(visit_id=189332, admittime=Timestamp('2142-08-28 19:48:00'), dischtime=Timestamp('2142-08-30 15:20:00'), deathtime=Timestamp('2142-08-30 15:20:00'), procedures=['Hemodialysis', 'Cardiopulmonary resuscitation, not otherwise specified', 'Injection or infusion of thrombolytic agent', 'Transfusion of packed cells', 'Venous catheterization, not elsewhere classified', 'Insertion of endotracheal tube'], prescriptions=[], diagnoses=['2766', 'End stage renal disease', 'Hypertensive chronic kidney disease, malignant, with chronic kidney disease stage V or end stage renal disease', 'Chronic glomerulonephritis in diseases classified elsewhere', 'Constrictive pericarditis', 'Other primary cardiomyopathies', 'Other ascites', 'Compression of vein', '2841', 'Cardiac arrest', 'Personal history of noncompliance with medical treatment, presenting hazards to health', 'Hyperpotassemia', 'Systemic lupus erythematosus', 'Abdominal pain, unspecified site', 'Other chronic pain', 'Gastric ulcer, unspecified as acute or chronic, without mention of hemorrhage or perforation, without mention of obstruction', 'Esophageal reflux', 'Anemia in chronic kidney disease', 'Thrombocytopenia, unspecified', 'Epilepsy, unspecified, without mention of intractable epilepsy', 'Obstructive sleep apnea (adult)(pediatric)', 'Mild dysplasia of cervix', 'Other specified peripheral vascular diseases', 'Personal history of venous thrombosis and embolism', 'Long-term (current) use of anticoagulants'], labevent=[])])"
      ]
     },
     "execution_count": 108,
     "metadata": {},
     "output_type": "execute_result"
    }
   ],
   "source": [
    "from tqdm import tqdm\n",
    "ehrBase = loadPkl(\"../dataset_processed/MIMICIII_data/ehrBase_v2.pkl\")\n",
    "\n",
    "# 遍历 table 中的每一行数据\n",
    "for index, row in tqdm(table.iterrows(), total=len(table), desc=\"Processing rows\"):\n",
    "    subject_id = row['SUBJECT_ID']\n",
    "    hadm_id = row['HADM_ID']\n",
    "    icd9_code = row['ICD9_CODE']\n",
    "    \n",
    "    if str(subject_id) in ehrBase:\n",
    "        patient = ehrBase[subject_id]\n",
    "        \n",
    "        #print('id 匹配')\n",
    "        for visit in patient.visits:\n",
    "            #print('visit 匹配', type(visit.visit_id))\n",
    "            if str(visit.visit_id) == hadm_id:\n",
    "                #print('visit_id 匹配')\n",
    "                visit.diagnoses.append(icd9_code)\n",
    "                ehrBase[subject_id] = patient\n",
    "                break\n",
    "\n",
    "ehrBase['109']"
   ]
  },
  {
   "cell_type": "markdown",
   "metadata": {},
   "source": [
    "### 3.5 药物"
   ]
  },
  {
   "cell_type": "markdown",
   "metadata": {},
   "source": [
    "构造映射字典"
   ]
  },
  {
   "cell_type": "code",
   "execution_count": 114,
   "metadata": {},
   "outputs": [],
   "source": [
    "# 读取 csv 映射表来构造 映射字典 （因为 lookup 函数在查 3601 的时候 内部总是 改写为 36.01）\n",
    "mapper = InnerMap.load(dataset.code_vocs['drugs'])"
   ]
  },
  {
   "cell_type": "markdown",
   "metadata": {},
   "source": [
    "读取数据 进行映射"
   ]
  },
  {
   "cell_type": "code",
   "execution_count": 118,
   "metadata": {},
   "outputs": [
    {
     "name": "stderr",
     "output_type": "stream",
     "text": [
      "Task processing:: 100%|██████████| 1979323/1979323 [02:07<00:00, 15523.47it/s]\n"
     ]
    },
    {
     "data": {
      "text/html": [
       "<div>\n",
       "<style scoped>\n",
       "    .dataframe tbody tr th:only-of-type {\n",
       "        vertical-align: middle;\n",
       "    }\n",
       "\n",
       "    .dataframe tbody tr th {\n",
       "        vertical-align: top;\n",
       "    }\n",
       "\n",
       "    .dataframe thead th {\n",
       "        text-align: right;\n",
       "    }\n",
       "</style>\n",
       "<table border=\"1\" class=\"dataframe\">\n",
       "  <thead>\n",
       "    <tr style=\"text-align: right;\">\n",
       "      <th></th>\n",
       "      <th>SUBJECT_ID</th>\n",
       "      <th>HADM_ID</th>\n",
       "      <th>NDC</th>\n",
       "    </tr>\n",
       "  </thead>\n",
       "  <tbody>\n",
       "    <tr>\n",
       "      <th>0</th>\n",
       "      <td>6</td>\n",
       "      <td>107064</td>\n",
       "      <td>tacrolimus 1 MG Oral Capsule [Prograf]</td>\n",
       "    </tr>\n",
       "    <tr>\n",
       "      <th>1</th>\n",
       "      <td>6</td>\n",
       "      <td>107064</td>\n",
       "      <td>warfarin sodium 5 MG Oral Tablet [Coumadin]</td>\n",
       "    </tr>\n",
       "    <tr>\n",
       "      <th>2</th>\n",
       "      <td>6</td>\n",
       "      <td>107064</td>\n",
       "      <td>250 ML heparin sodium, porcine 100 UNT/ML Inje...</td>\n",
       "    </tr>\n",
       "    <tr>\n",
       "      <th>3</th>\n",
       "      <td>6</td>\n",
       "      <td>107064</td>\n",
       "      <td>0</td>\n",
       "    </tr>\n",
       "    <tr>\n",
       "      <th>4</th>\n",
       "      <td>6</td>\n",
       "      <td>107064</td>\n",
       "      <td>furosemide 20 MG Oral Tablet</td>\n",
       "    </tr>\n",
       "  </tbody>\n",
       "</table>\n",
       "</div>"
      ],
      "text/plain": [
       "  SUBJECT_ID HADM_ID                                                NDC\n",
       "0          6  107064             tacrolimus 1 MG Oral Capsule [Prograf]\n",
       "1          6  107064        warfarin sodium 5 MG Oral Tablet [Coumadin]\n",
       "2          6  107064  250 ML heparin sodium, porcine 100 UNT/ML Inje...\n",
       "3          6  107064                                                  0\n",
       "4          6  107064                       furosemide 20 MG Oral Tablet"
      ]
     },
     "execution_count": 118,
     "metadata": {},
     "output_type": "execute_result"
    }
   ],
   "source": [
    "from collections import Counter\n",
    "\n",
    "# 初始化计数器\n",
    "missing_codes = Counter() # 记录一下 没有映射成功的字段\n",
    "\n",
    "table = readcsv('../dataset/MIMICIII_data/', 'PRESCRIPTIONS.csv')\n",
    "fliter = ['SUBJECT_ID', 'HADM_ID', 'NDC']\n",
    "table = table[fliter]\n",
    "\n",
    "# 去重\n",
    "table = table.drop_duplicates()\n",
    "\n",
    "# 对该列 每个元素  进行 medCode 到 自然语言 转换\n",
    "for index, row in tqdm(table.iterrows(), total=len(table), desc=\"Task processing:\"):\n",
    "    code = str(row['NDC'])\n",
    "    if code in mapper:\n",
    "        table.at[index, 'NDC'] = mapper.lookup(code)\n",
    "    else:\n",
    "        # 如果代码不在映射字典中，保持原样并记录\n",
    "        missing_codes[code] += 1\n",
    "\n",
    "table.head()"
   ]
  },
  {
   "cell_type": "markdown",
   "metadata": {},
   "source": [
    "未映射成功的部分：\n",
    "\n",
    "Counter({'0': 48985,\n",
    "         '17314931102': 5137,\n",
    "         '66689036430': 4476,\n",
    "         '62584078833': 2397,\n",
    "         '66591018442': 2134,\n",
    "         '62174057751': 2040,\n",
    "         '55499120401': 1913,\n",
    "         '00074729501': 1877,\n",
    "         'nan': 1613,\n",
    "         '00245008201': 1186,\n",
    "         '16837085839': 1182,\n",
    "         '15127020017': 1167,\n",
    "         '11980002515': 980,\n",
    "         '37205014472': 964,\n",
    "         '00087036503': 541,\n",
    "         '00338040360': 515,\n",
    "         '87701071218': 448,\n",
    "         '00338101102': 432,\n",
    "         '00065041435': 340,\n",
    "         '00074131201': 307,\n",
    "         '00245009101': 276,\n",
    "         '00436515110': 184,\n",
    "         '00074010304': 141,\n",
    "         '54569475100': 132,\n",
    "         '47682021701': 96,\n",
    "...\n",
    "         '00026066420': 1,\n",
    "         '00026066430': 1,\n",
    "         '72140085731': 1,\n",
    "         '49281000610': 1,\n",
    "         '00054348254': 1})"
   ]
  },
  {
   "cell_type": "markdown",
   "metadata": {},
   "source": [
    "进行 ehrBase 数据填充"
   ]
  },
  {
   "cell_type": "code",
   "execution_count": 121,
   "metadata": {},
   "outputs": [
    {
     "name": "stdout",
     "output_type": "stream",
     "text": [
      "已成功加载文件：../dataset_processed/MIMICIII_data/ehrBase_v3.pkl\n"
     ]
    },
    {
     "name": "stderr",
     "output_type": "stream",
     "text": [
      "Processing rows: 100%|██████████| 1979323/1979323 [01:32<00:00, 21353.04it/s]\n"
     ]
    },
    {
     "data": {
      "text/plain": [
       "Patient(expire_flag=1, visits=[Visit(visit_id=183350, admittime=Timestamp('2137-11-04 19:36:00'), dischtime=Timestamp('2137-11-21 18:13:00'), deathtime=NaT, procedures=['Closed [percutaneous] [needle] biopsy of kidney', 'Therapeutic plasmapheresis', 'Venous catheterization, not elsewhere classified', 'Transfusion of packed cells', 'Other endoscopy of small intestine', 'Venous catheterization for renal dialysis', 'Hemodialysis'], prescriptions=['metoprolol tartrate 25 MG Oral Tablet', 'clonidine hydrochloride 0.2 MG Oral Tablet', 'metoprolol tartrate 50 MG Oral Tablet', 'labetalol hydrochloride 200 MG Oral Tablet', 'clonidine hydrochloride 0.1 MG Oral Tablet', 'Labetalol hydrochloride 5 MG/ML Injectable Solution [Normodyne]', 'Glucose 50 MG/ML Injectable Solution', 'Metoclopramide 5 MG/ML Injectable Solution [Reglan]', 'Nifedipine 10 MG Oral Capsule', '1 ML hydralazine hydrochloride 20 MG/ML Injection', 'Nifedipine 20 MG Oral Capsule', 'calcium acetate 667 MG Oral Tablet [Phoslo]', 'Lisinopril 5 MG Oral Tablet [Zestril]', 'Nifedipine 90 MG 24 Hour Extended Release Tablet [Adalat]', 'Nitroglycerin 0.4 MG/ML Injectable Solution', '0', 'Prednisone 10 MG Oral Tablet', 'Acetaminophen 325 MG Oral Tablet', 'Potassium Chloride 10 MEQ Extended Release Oral Capsule', 'pantoprazole 40 MG Delayed Release Oral Tablet [Protonix]', 'Sennosides 8.6 MG Oral Tablet [Senokot]', 'Hydroxychloroquine Sulfate 200 MG Oral Tablet [Plaquenil]', 'Docusate Sodium 100 MG Oral Capsule', 'lorazepam 0.5 MG Oral Tablet', 'hydralazine hydrochloride 10 MG Oral Tablet', 'Prednisone 50 MG Oral Tablet', '50 ML sodium chloride 9 MG/ML Injection', '1 ML Desmopressin Acetate 0.004 MG/ML Injection [DDAVP]', '15127020017', 'cholecalciferol 0.01 MG Oral Tablet [Delta D3]', 'folic acid 1 MG Oral Tablet', '5 ML metoprolol tartrate 1 MG/ML Injection', 'Prednisone 20 MG Oral Tablet', 'diphenhydramine hydrochloride 25 MG Oral Capsule', 'diphenhydramine hydrochloride 50 MG/ML Injectable Solution', 'Nifedipine 60 MG 24 Hour Extended Release Tablet [Adalat]', 'mycophenolate mofetil 500 MG Oral Tablet [Cellcept]', 'Lisinopril 20 MG Oral Tablet [Zestril]', 'Isosorbide Dinitrate 20 MG Oral Tablet', '168 HR clonidine 0.0125 MG/HR Transdermal System [Catapres]', '168 HR Clonidine Hydrochloride 0.00417 MG/HR Transdermal Patch [Catapres-TTS-1]', 'Metoclopramide 10 MG Oral Tablet', 'camphor 5 MG/ML / menthol 5 MG/ML Topical Lotion [Men-phor]', 'Prochlorperazine 10 MG Oral Tablet [Compazine]', 'hydralazine hydrochloride 25 MG Oral Tablet', 'Oxycodone Hydrochloride 5 MG Oral Tablet [Roxicodone]', 'Morphine Sulfate 2 MG/ML Injectable Solution', 'Glucose 50 MG/ML Injectable Solution', 'Morphine Sulfate 8 MG/ML Injectable Solution', '1 ML Lorazepam 2 MG/ML Prefilled Syringe', '2 ML Magnesium Sulfate 500 MG/ML Injection', '100 ML sodium chloride 9 MG/ML Injection', 'pantoprazole 4 MG/ML Injectable Solution [Protonix IV]', 'Ondansetron 2 MG/ML Injectable Solution [Zofran]', 'Methylprednisolone 125 MG/ML Injectable Solution [Solu-Medrol]', 'albuterol 0.83 MG/ML Inhalation Solution', 'ipratropium bromide 0.2 MG/ML Inhalation Solution', '250 ML sodium chloride 9 MG/ML Injection', '10 ML calcium gluconate 100 MG/ML Injection', 'Furosemide 10 MG/ML Injectable Solution', 'meperidine hydrochloride 10 MG/ML Oral Solution', 'Midazolam 1 MG/ML Injectable Solution', 'Menthol 5.4 MG Lozenge [Cepacol Sore Throat from Post Nasal Drip]', '16837085839', '24 HR metoprolol succinate 100 MG Extended Release Oral Tablet [Toprol]', 'ferrous sulfate 325 MG Oral Tablet', 'Nitroglycerin 0.02 MG/MG Topical Ointment [Nitro-Bid]'], diagnoses=['Systemic lupus erythematosus', 'Acute kidney failure, unspecified', 'Hematemesis', 'Hemorrhage complicating a procedure', 'Thrombotic microangiopathy', 'Hypertensive chronic kidney disease, malignant, with chronic kidney disease stage V or end stage renal disease', 'Chronic glomerulonephritis in diseases classified elsewhere', 'Other specified procedures as the cause of abnormal reaction of patient, or of later complication, without mention of misadventure at time of procedure', 'Other specified disorders resulting from impaired renal function', \"Raynaud's syndrome\", 'Other chest pain'], labevent=[]), Visit(visit_id=128755, admittime=Timestamp('2138-04-16 17:44:00'), dischtime=Timestamp('2138-04-19 16:00:00'), deathtime=NaT, procedures=['Hemodialysis'], prescriptions=['Glucose 50 MG/ML Injectable Solution', 'Prednisone 10 MG Oral Tablet', 'Labetalol hydrochloride 5 MG/ML Injectable Solution [Normodyne]', 'labetalol hydrochloride 200 MG Oral Tablet', '168 HR Clonidine Hydrochloride 0.00417 MG/HR Transdermal Patch [Catapres-TTS-1]', 'Lisinopril 20 MG Oral Tablet [Zestril]', 'heparin sodium, porcine 5000 UNT/ML Injectable Solution', 'folic acid 1 MG Oral Tablet', 'Hydroxychloroquine Sulfate 200 MG Oral Tablet [Plaquenil]', '1 ML Lorazepam 2 MG/ML Prefilled Syringe', '0', 'pantoprazole 4 MG/ML Injectable Solution [Protonix IV]', 'Phenytoin sodium 50 MG/ML Injectable Solution', '00074729501', 'Phenytoin sodium 50 MG/ML Injectable Solution', 'Sodium Chloride 0.154 MEQ/ML Injectable Solution', '250 ML sodium chloride 9 MG/ML Injection', '500 ML sodium chloride 9 MG/ML Injection', 'Sodium Chloride 0.154 MEQ/ML Injectable Solution', '17314931102', 'Acetaminophen 325 MG Oral Tablet', 'phenytoin sodium 100 MG Extended Release Oral Capsule', 'pantoprazole 40 MG Delayed Release Oral Tablet [Protonix]', 'Levetiracetam 250 MG Oral Tablet [Keppra]', 'Menthol 5.4 MG Lozenge [Cepacol Sore Throat from Post Nasal Drip]'], diagnoses=['Hypertensive encephalopathy', 'Other convulsions', 'Systemic lupus erythematosus', 'Hypertensive chronic kidney disease, unspecified, with chronic kidney disease stage V or end stage renal disease', '4251', 'Anemia, unspecified'], labevent=[]), Visit(visit_id=164029, admittime=Timestamp('2140-01-19 13:25:00'), dischtime=Timestamp('2140-01-21 13:25:00'), deathtime=NaT, procedures=['Hemodialysis'], prescriptions=['Labetalol hydrochloride 5 MG/ML Injectable Solution [Normodyne]', 'Glucose 50 MG/ML Injectable Solution', 'prednisolone acetate 10 MG/ML Ophthalmic Suspension', 'Lisinopril 20 MG Oral Tablet', 'labetalol hydrochloride 200 MG Oral Tablet', 'valsartan 160 MG Oral Tablet [Diovan]', '1 ML morphine sulfate 2 MG/ML Prefilled Syringe', 'sevelamer hydrochloride 800 MG Oral Tablet [RenaGel]', 'sennosides, USP 8.6 MG Oral Tablet [Senokot]', 'Docusate Sodium 100 MG Oral Capsule', 'lorazepam 1 MG Oral Tablet', 'ciprofloxacin 3 MG/ML Ophthalmic Solution', 'Atropine Sulfate 10 MG/ML Ophthalmic Solution', 'prednisone 20 MG Oral Tablet', '0', 'acetaminophen 500 MG Oral Tablet', 'clonidine hydrochloride 0.1 MG Oral Tablet', 'Dolasetron 100 MG Oral Tablet [Anzemet]', '0.625 ML dolasetron mesylate 20 MG/ML Injection [Anzemet]', 'oxycodone hydrochloride 5 MG Oral Tablet', 'Tramadol Hydrochloride 50 MG Oral Tablet', '168 HR clonidine 0.0125 MG/HR Transdermal System [Catapres]'], diagnoses=['Hypertensive chronic kidney disease, malignant, with chronic kidney disease stage V or end stage renal disease', 'Systemic lupus erythematosus', 'End stage renal disease', 'Awaiting organ transplant status', 'Nephritis and nephropathy, not specified as acute or chronic, in diseases classified elsewhere', 'Unspecified iridocyclitis'], labevent=[]), Visit(visit_id=108375, admittime=Timestamp('2140-02-02 02:13:00'), dischtime=Timestamp('2140-02-02 16:25:00'), deathtime=NaT, procedures=[], prescriptions=['Labetalol hydrochloride 5 MG/ML Injectable Solution [Normodyne]', 'Glucose 50 MG/ML Injectable Solution', 'labetalol hydrochloride 200 MG Oral Tablet', 'valsartan 80 MG Oral Tablet [Diovan]', 'Lisinopril 20 MG Oral Tablet', 'sevelamer hydrochloride 800 MG Oral Tablet [RenaGel]', 'prednisone 20 MG Oral Tablet', 'lorazepam 1 MG Oral Tablet', '1 ML hydralazine hydrochloride 20 MG/ML Injection', 'Nicardipine hydrochloride 30 MG Oral Capsule', '168 HR clonidine 0.0125 MG/HR Transdermal System [Catapres]'], diagnoses=['Systemic lupus erythematosus', 'Hypertensive chronic kidney disease, malignant, with chronic kidney disease stage V or end stage renal disease', 'End stage renal disease', 'Nephritis and nephropathy, not specified as acute or chronic, in diseases classified elsewhere', 'Unspecified iridocyclitis', 'Anemia in chronic kidney disease'], labevent=[]), Visit(visit_id=193281, admittime=Timestamp('2140-04-07 19:51:00'), dischtime=Timestamp('2140-05-02 16:30:00'), deathtime=NaT, procedures=['Other enucleation of eyeball', 'Hemodialysis'], prescriptions=['1 ML hydromorphone hydrochloride 2 MG/ML Cartridge', '1 ML hydromorphone hydrochloride 4 MG/ML Cartridge', 'terazosine 1 MG Oral Capsule [Hytrin]', '0', 'gabapentin 100 MG Oral Capsule [Neurontin]', 'morphine sulfate 30 MG Extended Release Oral Tablet', 'Hydromorphone Hydrochloride 4 MG Oral Tablet [Dilaudid]', 'hydralazine hydrochloride 25 MG Oral Tablet', '1 ML Lorazepam 2 MG/ML Prefilled Syringe', 'sodium polystyrene sulfonate 250 MG/ML Oral Suspension [SPS]', 'terazosine 5 MG Oral Capsule [Hytrin]', '1 ML hydralazine hydrochloride 20 MG/ML Injection', 'tobramycin 3 MG/ML Ophthalmic Solution [Tobrex]', 'vancomycin 500 MG Injection', 'prednisolone acetate 10 MG/ML Ophthalmic Suspension', '12 HR Oxycodone Hydrochloride 40 MG Extended Release Tablet [Oxycontin]', '12 HR Oxycodone Hydrochloride 10 MG Extended Release Tablet [Oxycontin]', 'Hydromorphone Hydrochloride 4 MG/ML Injectable Solution [Dilaudid]', '12 HR Oxycodone Hydrochloride 20 MG Extended Release Tablet [Oxycontin]', '1 ML promethazine hydrochloride 25 MG/ML Injection', '1 ML meperidine hydrochloride 50 MG/ML Cartridge [Demerol]', '2 ML Prochlorperazine 5 MG/ML Injection', 'azithromycin 250 MG Oral Tablet [Zithromax]', 'Clindamycin 150 MG Oral Capsule', '2 ML ondansetron 2 MG/ML Injection', 'bacitracin 0.5 UNT/MG / polymyxin B 10 UNT/MG Ophthalmic Ointment', 'clonidine hydrochloride 0.1 MG Oral Tablet', 'oxycodone hydrochloride 5 MG Oral Tablet', 'mycophenolate mofetil 250 MG Oral Capsule [Cellcept]', 'labetalol hydrochloride 200 MG Oral Tablet', 'Docusate Sodium 100 MG Oral Capsule', 'sennosides, USP 8.6 MG Oral Tablet [Senokot]', 'Hydralazine Hydrochloride 50 MG Oral Tablet', 'prednisone 10 MG Oral Tablet', '200 ML vancomycin 5 MG/ML Injection', '1 ML morphine sulfate 2 MG/ML Prefilled Syringe', '1 ML morphine sulfate 4 MG/ML Injection', 'sevelamer hydrochloride 400 MG Oral Tablet [RenaGel]', '250 ML sodium chloride 9 MG/ML Injection', 'diphenhydramine hydrochloride 25 MG Oral Capsule', '168 HR clonidine 0.0125 MG/HR Transdermal System [Catapres]', '2 ML sodium nitroprusside 25 MG/ML Injection [Nitropress]', '250 ML glucose 50 MG/ML Injection', 'Labetalol hydrochloride 5 MG/ML Injectable Solution [Normodyne]', 'Glucose 50 MG/ML Injectable Solution', 'Nicardipine hydrochloride 30 MG Oral Capsule', 'mycophenolate mofetil 500 MG Oral Tablet [Cellcept]', 'prednisone 20 MG Oral Tablet', 'heparin sodium, porcine 5000 UNT/ML Injectable Solution', 'Lisinopril 20 MG Oral Tablet', 'valsartan 160 MG Oral Tablet [Diovan]', 'Acetaminophen 325 MG Oral Tablet', 'lorazepam 1 MG Oral Tablet', '2 ML Magnesium Sulfate 500 MG/ML Injection', 'pantoprazole 40 MG Delayed Release Oral Tablet [Protonix]', 'sulfamethoxazole 800 MG / trimethoprim 160 MG Oral Tablet', 'Nicardipine hydrochloride 20 MG Oral Capsule [Cardene]', 'Morphine Sulfate 15 MG Oral Tablet', '1 ML morphine sulfate 10 MG/ML Injection', 'Atropine Sulfate 10 MG/ML Ophthalmic Solution', 'morphine sulfate 15 MG Extended Release Oral Tablet', 'sevelamer hydrochloride 800 MG Oral Tablet [RenaGel]'], diagnoses=['Hypertensive chronic kidney disease, malignant, with chronic kidney disease stage V or end stage renal disease', 'End stage renal disease', 'Systemic lupus erythematosus', 'Bacteremia', 'Other primary cardiomyopathies', 'Infection and inflammatory reaction due to other vascular device, implant, and graft', 'Hematoma complicating a procedure', 'Acute endophthalmitis', 'Other candidiasis of other specified sites', 'Long-term (current) use of steroids', 'Rash and other nonspecific skin eruption', 'Anemia in chronic kidney disease', 'Scleritis, unspecified', 'Orbital hemorrhage', 'Mycotic corneal ulcer', 'Acute and subacute iridocyclitis, unspecified'], labevent=[]), Visit(visit_id=175347, admittime=Timestamp('2140-05-17 14:27:00'), dischtime=Timestamp('2140-05-20 19:50:00'), deathtime=NaT, procedures=['Hemodialysis'], prescriptions=['Glucose 50 MG/ML Injectable Solution', 'labetalol hydrochloride 200 MG Oral Tablet', 'Labetalol hydrochloride 5 MG/ML Injectable Solution [Normodyne]', 'valsartan 160 MG Oral Tablet [Diovan]', 'Lisinopril 20 MG Oral Tablet', 'Nicardipine hydrochloride 20 MG Oral Capsule [Cardene]', 'Docusate Sodium 100 MG Oral Capsule', 'heparin sodium, porcine 5000 UNT/ML Injectable Solution', 'terazosine 5 MG Oral Capsule [Hytrin]', 'terazosine 1 MG Oral Capsule [Hytrin]', 'gabapentin 100 MG Oral Capsule [Neurontin]', 'Acetaminophen 325 MG Oral Tablet', 'oxycodone hydrochloride 5 MG Oral Tablet', 'bacitracin 0.5 UNT/MG / polymyxin B 10 UNT/MG Ophthalmic Ointment', 'sevelamer hydrochloride 400 MG Oral Tablet [RenaGel]', 'prednisone 20 MG Oral Tablet', 'lorazepam 1 MG Oral Tablet', '12 HR Oxycodone Hydrochloride 10 MG Extended Release Tablet [Oxycontin]', '12 HR Oxycodone Hydrochloride 20 MG Extended Release Tablet [Oxycontin]', '2 ML ondansetron 2 MG/ML Injection', 'pantoprazole 40 MG Delayed Release Oral Tablet [Protonix]', 'sennosides, USP 8.6 MG Oral Tablet [Senokot]', '0', '200 ML vancomycin 5 MG/ML Injection', 'diphenhydramine hydrochloride 25 MG Oral Capsule', 'sulfamethoxazole 800 MG / trimethoprim 160 MG Oral Tablet', 'vancomycin 500 MG Injection', 'Ascorbic Acid 100 MG / Biotin 0.15 MG / Calcium Pantothenate 5 MG / Folic Acid 1 MG / Niacin 20 MG / pyridoxine 10 MG / Riboflavin 1.7 MG / Thiamine Mononitrate 1.5 MG / Vitamin B 12 0.006 MG Oral Capsule [Nephrocaps]', 'hydralazine hydrochloride 25 MG Oral Tablet', 'hydralazine hydrochloride 10 MG Oral Tablet', '168 HR clonidine 0.0125 MG/HR Transdermal System [Catapres]'], diagnoses=['Hypertensive heart and chronic kidney disease, unspecified, without heart failure and with chronic kidney disease stage V or end stage renal disease', 'End stage renal disease', 'V451', 'Systemic lupus erythematosus', 'Bacteremia', 'Infection and inflammatory reaction due to other vascular device, implant, and graft', 'Staphylococcus infection in conditions classified elsewhere and of unspecified site, other staphylococcus', 'Chronic glomerulonephritis in diseases classified elsewhere', 'Anemia, unspecified', 'Acquired absence of organ, eye', 'Unspecified iridocyclitis', 'Other endophthalmitis'], labevent=[]), Visit(visit_id=110668, admittime=Timestamp('2140-08-25 14:39:00'), dischtime=Timestamp('2140-09-02 18:30:00'), deathtime=NaT, procedures=[], prescriptions=['sodium polystyrene sulfonate 250 MG/ML Oral Suspension [SPS]', 'citric acid 60 MG/ML / sodium citrate 100 MG/ML Oral Solution', 'valsartan 160 MG Oral Tablet [Diovan]', 'sevelamer hydrochloride 800 MG Oral Tablet [RenaGel]', 'labetalol hydrochloride 200 MG Oral Tablet', 'Glucose 50 MG/ML Injectable Solution', 'Labetalol hydrochloride 5 MG/ML Injectable Solution [Normodyne]', 'lorazepam 0.5 MG Oral Tablet', 'Nitroglycerin 0.02 MG/MG Topical Ointment [Nitro-Bid]', 'Nicardipine hydrochloride 30 MG Oral Capsule', 'Nicardipine hydrochloride 2.5 MG/ML Injectable Solution [Cardene]', 'Lisinopril 20 MG Oral Tablet', 'hydralazine hydrochloride 25 MG Oral Tablet', 'clonidine hydrochloride 0.1 MG Oral Tablet', '250 ML sodium chloride 9 MG/ML Injection', 'vancomycin 500 MG Injection', '168 HR clonidine 0.0125 MG/HR Transdermal System [Catapres]', '0', 'prednisone 5 MG Oral Tablet', '1 ML epoetin alfa 4000 UNT/ML Injection [Procrit]', '1 ML hydralazine hydrochloride 20 MG/ML Injection', '1 ML Lorazepam 2 MG/ML Prefilled Syringe', 'pantoprazole 40 MG Delayed Release Oral Tablet [Protonix]', 'Acetaminophen 325 MG Oral Tablet', 'rocuronium bromide 10 MG/ML Injectable Solution [Zemuron]', 'Propofol 10 MG/ML Injectable Suspension [Diprivan]', 'Propofol 10 MG/ML Injectable Suspension [Diprivan]', '1000 ML glucose 50 MG/ML Injection', '50 ML sodium bicarbonate 84 MG/ML Injection', '250 ML glucose 50 MG/ML Injection', '1 ML Phenylephrine Hydrochloride 10 MG/ML Injection', 'pantoprazole 40 MG Injection [Protonix]', '66591018442', 'alanine 8.8 MG/ML / arginine 4.89 MG/ML / calcium chloride 0.004 MEQ/ML / dibasic potassium phosphate 2.61 MG/ML / glucose 50 MG/ML / glycine 4.38 MG/ML / histidine 2.04 MG/ML / isoleucine 2.55 MG/ML / leucine 3.11 MG/ML / lysine 2.47 MG/ML / magnesium...', '1 ML morphine sulfate 2 MG/ML Prefilled Syringe', 'acetaminophen 500 MG Oral Tablet', '5 ML phenytoin sodium 50 MG/ML Injection', 'prednisone 10 MG Oral Tablet', '250 ML sodium chloride 9 MG/ML Injection', '2 ML phenytoin sodium 50 MG/ML Injection', '200 ML vancomycin 5 MG/ML Injection', '5 ML Lidocaine Hydrochloride 0.02 MG/MG Prefilled Applicator', 'Menthol 5.4 MG Lozenge [Cepacol Sore Throat from Post Nasal Drip]', 'Miconazole Nitrate 0.02 MG/MG Topical Powder [Mitrazol]', 'Prochlorperazine 10 MG Oral Tablet', 'Methylprednisolone 40 MG/ML Injectable Solution [Solu-Medrol]', 'Fluconazole 200 MG Oral Tablet', '2 ML Prochlorperazine 5 MG/ML Injection', 'polyvinyl alcohol 0.014 ML/ML / povidone 6 MG/ML Ophthalmic Solution', 'phenytoin sodium 100 MG Extended Release Oral Capsule', '5 ML heparin sodium, porcine 100 UNT/ML Prefilled Syringe', 'prednisone 20 MG Oral Tablet'], diagnoses=['Hypertensive chronic kidney disease, unspecified, with chronic kidney disease stage V or end stage renal disease', 'Other convulsions', 'Bacteremia', 'Systemic lupus erythematosus', 'Hypertensive encephalopathy', 'Chronic kidney disease, Stage V', 'Staphylococcus infection in conditions classified elsewhere and of unspecified site, other staphylococcus', 'Chronic glomerulonephritis in diseases classified elsewhere', 'Unspecified intracranial hemorrhage'], labevent=[]), Visit(visit_id=166018, admittime=Timestamp('2141-03-27 21:08:00'), dischtime=Timestamp('2141-03-28 17:45:00'), deathtime=NaT, procedures=[], prescriptions=['Hydralazine Hydrochloride 25 MG Oral Tablet', 'labetalol hydrochloride 200 MG Oral Tablet', 'Nicardipine hydrochloride 30 MG Oral Capsule', 'valsartan 160 MG Oral Tablet [Diovan]', 'prednisone 5 MG Oral Tablet', 'heparin sodium, porcine 5000 UNT/ML Injectable Solution', 'Acetaminophen 325 MG Oral Tablet', 'ergocalciferol 1.25 MG Oral Capsule', 'Lisinopril 20 MG Oral Tablet', 'prednisone 10 MG Oral Tablet', 'Labetalol hydrochloride 100 MG Oral Tablet', 'pantoprazole 40 MG Delayed Release Oral Tablet [Protonix]', '0', 'Docusate Sodium 100 MG Oral Capsule [DOK]', 'sennosides, USP 8.6 MG Oral Tablet', '168 HR clonidine 0.0125 MG/HR Transdermal System [Catapres]'], diagnoses=['Malignant essential hypertension', 'End stage renal disease', 'Chronic glomerulonephritis in diseases classified elsewhere', 'Other primary cardiomyopathies', '2841', 'Systemic lupus erythematosus', 'Thrombocytopenia, unspecified', 'Anemia, unspecified', 'V451', 'Other postprocedural status', 'Other states following surgery of eye and adnexa'], labevent=[]), Visit(visit_id=170149, admittime=Timestamp('2141-05-24 14:47:00'), dischtime=Timestamp('2141-06-06 19:55:00'), deathtime=NaT, procedures=[], prescriptions=['Morphine Sulfate 15 MG Oral Tablet', '24 HR Nifedipine 30 MG Extended Release Oral Tablet [Afeditab CR]', 'Hydralazine Hydrochloride 25 MG Oral Tablet', 'labetalol hydrochloride 200 MG Oral Tablet', 'diphenhydramine hydrochloride 50 MG/ML Injectable Solution', 'diphenhydramine hydrochloride 25 MG Oral Capsule', 'Nicardipine hydrochloride 30 MG Oral Capsule [Cardene]', '1 ML lorazepam 2 MG/ML Cartridge', 'Methylprednisolone 62.5 MG/ML Injectable Solution [Solu-Medrol]', '0', '50 ML famotidine 0.4 MG/ML Injection', '250 ML nitroglycerin 0.4 MG/ML Injection', 'cinacalcet 30 MG Oral Tablet [Sensipar]', 'heparin sodium, porcine 5000 UNT/ML Injectable Solution', 'sodium bicarbonate 650 MG Oral Tablet', 'sennosides, USP 8.6 MG Oral Tablet', 'pantoprazole 40 MG Delayed Release Oral Tablet [Protonix]', 'Docusate Sodium 100 MG Oral Capsule [DOK]', '168 HR clonidine 0.0125 MG/HR Transdermal System [Catapres]', 'Nitroglycerin 0.02 MG/MG Topical Ointment [Nitro-Bid]', '250 ML sodium chloride 9 MG/ML Injection', 'calcium carbonate 500 MG Chewable Tablet', '10 ML calcium gluconate 100 MG/ML Injection', 'sodium polystyrene sulfonate 250 MG/ML Oral Suspension [SPS]', '50 ML magnesium sulfate 40 MG/ML Injection', 'Hydralazine Hydrochloride 50 MG Oral Tablet', '250 ML heparin sodium, porcine 100 UNT/ML Injection', 'cholecalciferol 0.01 MG Oral Tablet [Delta D3]', 'acetylcysteine 200 MG/ML Inhalation Solution', '1000 ML glucose 50 MG/ML Injection', '50 ML sodium bicarbonate 84 MG/ML Injection', 'warfarin sodium 5 MG Oral Tablet [Coumadin]', '24 HR Nifedipine 60 MG Extended Release Oral Tablet [Adalat]', '1 ML hydralazine hydrochloride 20 MG/ML Injection', 'warfarin sodium 1 MG Oral Tablet [Coumadin]', '24 HR nitroglycerin 0.2 MG/HR Transdermal System', 'Labetalol hydrochloride 100 MG Oral Tablet', 'bisacodyl 10 MG Rectal Suppository', 'Bisacodyl 5 MG Enteric Coated Tablet', '1 ML morphine sulfate 2 MG/ML Prefilled Syringe', '1 ML morphine sulfate 4 MG/ML Injection', '24 HR Nifedipine 90 MG Extended Release Oral Tablet [Adalat]', 'warfarin sodium 2 MG Oral Tablet [Coumadin]', 'prednisone 10 MG Oral Tablet', 'ergocalciferol 1.25 MG Oral Capsule', 'Isosorbide Dinitrate 20 MG Oral Tablet', 'prednisone 5 MG Oral Tablet', 'Nicardipine hydrochloride 20 MG Oral Capsule [Cardene]', 'Isosorbide Mononitrate 30 MG 24 Hour Extended Release Tablet', '2 ML ondansetron 2 MG/ML Injection', '1 ML epoetin alfa 10000 UNT/ML Injection [Procrit]', 'Lorazepam 0.5 MG Oral Tablet', 'Acetaminophen 325 MG Oral Tablet', '2 ML Prochlorperazine 5 MG/ML Injection', '250 ML glucose 50 MG/ML Injection', 'calcitriol 0.00025 MG Oral Capsule', 'Aluminum Hydroxide 40 MG/ML / Magnesium Hydroxide 40 MG/ML / Simethicone 4 MG/ML Oral Suspension [Maalox Plus]'], diagnoses=['4538', 'End stage renal disease', 'Hypertensive chronic kidney disease, malignant, with chronic kidney disease stage V or end stage renal disease', 'Compression of vein', 'Chronic glomerulonephritis in diseases classified elsewhere', 'Other primary cardiomyopathies', '2841', 'Systemic lupus erythematosus', 'Anemia in chronic kidney disease', 'Hyperpotassemia', 'Hyperparathyroidism, unspecified', 'Other iatrogenic hypotension', 'Nausea with vomiting', '2874', 'Abnormal glandular Papanicolaou smear of cervix', 'Abdominal pain, other specified site', 'Other specified disorders of pancreatic internal secretion', 'Adrenal cortical steroids causing adverse effects in therapeutic use'], labevent=[]), Visit(visit_id=147469, admittime=Timestamp('2141-06-11 10:17:00'), dischtime=Timestamp('2141-06-17 16:29:00'), deathtime=NaT, procedures=[], prescriptions=['Ciprofloxacin 500 MG Oral Tablet', '150 ML glucose 50 MG/ML Injection', 'Labetalol hydrochloride 5 MG/ML Injectable Solution', '1 ML morphine sulfate 2 MG/ML Prefilled Syringe', 'prochlorperazine 10 MG Oral Tablet', '2 ML Prochlorperazine 5 MG/ML Injection', '24 HR Nifedipine 90 MG Extended Release Oral Tablet [Adalat]', '1 ML hydralazine hydrochloride 20 MG/ML Injection', 'Hydralazine Hydrochloride 25 MG Oral Tablet', '10 ML calcium gluconate 100 MG/ML Injection', '2 ML ondansetron 2 MG/ML Injection', 'sodium bicarbonate 650 MG Oral Tablet', 'prednisone 10 MG Oral Tablet', 'levetiracetam 250 MG Oral Tablet [Keppra]', 'guaifenesin 20 MG/ML Oral Solution', '24 HR Nifedipine 60 MG Extended Release Oral Tablet [Adalat]', '24 HR Nifedipine 30 MG Extended Release Oral Tablet [Afeditab CR]', 'Ciprofloxacin 250 MG Oral Tablet', 'sodium polystyrene sulfonate 250 MG/ML Oral Suspension [SPS]', 'Bisacodyl 5 MG Enteric Coated Tablet', 'Docusate Sodium 100 MG Oral Capsule [DOK]', 'sennosides, USP 8.6 MG Oral Tablet', 'labetalol hydrochloride 200 MG Oral Tablet', 'warfarin sodium 5 MG Oral Tablet [Coumadin]', 'Lactulose 667 MG/ML Oral Solution', 'aliskiren 150 MG Oral Tablet [Tekturna]', '168 HR clonidine 0.0125 MG/HR Transdermal System [Catapres]', 'furosemide 40 MG Oral Tablet', 'heparin sodium, porcine 10 UNT/ML Injectable Solution', 'warfarin sodium 2.5 MG Oral Tablet [Coumadin]', 'alteplase 50 MG Injection [Activase]', '50 ML magnesium sulfate 40 MG/ML Injection', '1 ML lorazepam 2 MG/ML Cartridge', '0', 'Ciprofloxacin 2 MG/ML Injectable Solution [Cipro I.V.]', '1 ML morphine sulfate 4 MG/ML Injection'], diagnoses=['Hypertensive chronic kidney disease, malignant, with chronic kidney disease stage V or end stage renal disease', 'End stage renal disease', 'Other encephalopathy', 'Chronic glomerulonephritis in diseases classified elsewhere', 'Urinary tract infection, site not specified', 'Acidosis', 'Unspecified iridocyclitis', 'Acquired hemolytic anemia, unspecified', 'Systemic lupus erythematosus', 'Personal history of venous thrombosis and embolism', 'Long-term (current) use of anticoagulants', 'Swelling, mass, or lump in head and neck', 'Hyperpotassemia', 'Lump or mass in breast', 'Thrombocytopenia, unspecified', 'Hypocalcemia', 'Disorders of phosphorus metabolism'], labevent=[]), Visit(visit_id=131345, admittime=Timestamp('2141-09-05 20:04:00'), dischtime=Timestamp('2141-09-08 18:30:00'), deathtime=NaT, procedures=[], prescriptions=['Hydralazine Hydrochloride 50 MG Oral Tablet', '168 HR clonidine 0.0125 MG/HR Transdermal System [Catapres]', 'Labetalol hydrochloride 5 MG/ML Injectable Solution', '150 ML glucose 50 MG/ML Injection', '24 HR Nifedipine 30 MG Extended Release Oral Tablet [Afeditab CR]', 'labetalol hydrochloride 200 MG Oral Tablet', 'aliskiren 150 MG Oral Tablet [Tekturna]', 'prednisone 5 MG Oral Tablet', 'Acetaminophen 325 MG Oral Tablet', 'prochlorperazine 10 MG Oral Tablet', 'Docusate Sodium 100 MG Oral Capsule [DOK]', 'warfarin sodium 2 MG Oral Tablet [Coumadin]', 'Hydromorphone Hydrochloride 2 MG Oral Tablet', 'pantoprazole 40 MG Delayed Release Oral Tablet [Protonix]', 'Lorazepam 1 MG Oral Tablet', 'Ciprofloxacin 250 MG Oral Tablet', 'sodium polystyrene sulfonate 250 MG/ML Oral Suspension [SPS]', 'hydralazine hydrochloride 10 MG Oral Tablet', '0', 'sevelamer hydrochloride 800 MG Oral Tablet [RenaGel]', 'ergocalciferol 1.25 MG Oral Capsule', '1 ML hydralazine hydrochloride 20 MG/ML Injection', '1000 ML glucose 50 MG/ML Injection', '50 ML sodium bicarbonate 84 MG/ML Injection', 'Lactulose 667 MG/ML Oral Solution', 'Labetalol hydrochloride 100 MG Oral Tablet', 'calcium carbonate 500 MG Chewable Tablet'], diagnoses=['Hypertensive chronic kidney disease, malignant, with chronic kidney disease stage V or end stage renal disease', 'Chronic glomerulonephritis in diseases classified elsewhere', 'Other primary cardiomyopathies', 'Systemic lupus erythematosus', 'Thrombocytopenia, unspecified', 'Nausea alone', 'Other antihypertensive agents causing adverse effects in therapeutic use', 'Hip and thigh injury', 'Unspecified accident', 'Hypotension, unspecified', 'Anemia, unspecified', 'Personal history of venous thrombosis and embolism', 'End stage renal disease', 'V451', 'Urinary tract infection, site not specified', 'Hyperpotassemia', 'Acidosis', 'Disorders of phosphorus metabolism', 'Hypocalcemia', 'Secondary hyperparathyroidism (of renal origin)'], labevent=[]), Visit(visit_id=139061, admittime=Timestamp('2141-09-11 10:12:00'), dischtime=Timestamp('2141-09-14 20:00:00'), deathtime=NaT, procedures=['Arterial catheterization'], prescriptions=['sodium polystyrene sulfonate 250 MG/ML Oral Suspension [SPS]', 'sevelamer hydrochloride 800 MG Oral Tablet [RenaGel]', '10 ML calcium gluconate 100 MG/ML Injection', '250 ML sodium chloride 9 MG/ML Injection', 'Nitroglycerin 0.02 MG/MG Topical Ointment [Nitro-Bid]', 'miconazole nitrate 20 MG/ML Vaginal Cream', '0', 'Lactulose 667 MG/ML Oral Solution', 'Lorazepam 0.5 MG Oral Tablet', '1 ML morphine sulfate 2 MG/ML Prefilled Syringe', 'Lorazepam 1 MG Oral Tablet', 'nifedipine 10 MG Oral Capsule', '1 ML hydralazine hydrochloride 20 MG/ML Injection', 'diphenhydramine hydrochloride 25 MG Oral Capsule', 'Hydralazine Hydrochloride 50 MG Oral Tablet', 'aliskiren 150 MG Oral Tablet [Tekturna]', '24 HR Nifedipine 60 MG Extended Release Oral Tablet [Adalat]', 'labetalol hydrochloride 200 MG Oral Tablet', 'Hydromorphone Hydrochloride 4 MG Oral Tablet [Dilaudid]', 'Hydromorphone Hydrochloride 2 MG Oral Tablet', 'Calcitriol 0.0005 MG Oral Capsule [Rocaltrol]', '168 HR clonidine 0.0125 MG/HR Transdermal System [Catapres]', 'Labetalol hydrochloride 100 MG Oral Tablet', '2 ML ondansetron 2 MG/ML Injection', '150 ML glucose 50 MG/ML Injection', 'warfarin sodium 2 MG Oral Tablet [Coumadin]', 'Labetalol hydrochloride 5 MG/ML Injectable Solution', 'Ciprofloxacin 500 MG Oral Tablet', 'warfarin sodium 5 MG Oral Tablet [Coumadin]', 'sennosides, USP 8.6 MG Oral Tablet', 'bisacodyl 10 MG Rectal Suppository', 'Bisacodyl 5 MG Enteric Coated Tablet', 'Acetaminophen 325 MG Oral Tablet', 'pantoprazole 40 MG Delayed Release Oral Tablet [Protonix]', '1 ML morphine sulfate 4 MG/ML Injection', 'prednisone 5 MG Oral Tablet', 'Docusate Sodium 100 MG Oral Capsule [DOK]', 'calcium carbonate 500 MG Chewable Tablet', 'magnesium oxide 400 MG Oral Tablet [Mag-Ox 400]'], diagnoses=['Hypertensive chronic kidney disease, malignant, with chronic kidney disease stage V or end stage renal disease', 'Chronic glomerulonephritis in diseases classified elsewhere', 'Chronic kidney disease, Stage V', 'Urinary tract infection, site not specified', 'Other primary cardiomyopathies', 'Systemic lupus erythematosus', 'Sciatica', 'Hyperpotassemia', 'Thrombocytopenia, unspecified', 'Abnormal coagulation profile', 'Hyperparathyroidism, unspecified', 'Anemia of other chronic disease', 'Personal history of venous thrombosis and embolism'], labevent=[]), Visit(visit_id=172335, admittime=Timestamp('2141-09-18 10:32:00'), dischtime=Timestamp('2141-09-24 13:53:00'), deathtime=NaT, procedures=['Peritoneal dialysis'], prescriptions=['Lorazepam 1 MG Oral Tablet', 'Hydralazine Hydrochloride 50 MG Oral Tablet', 'diphenhydramine hydrochloride 25 MG Oral Capsule', 'warfarin sodium 2 MG Oral Tablet [Coumadin]', 'aliskiren 150 MG Oral Tablet [Tekturna]', 'labetalol hydrochloride 200 MG Oral Tablet', 'Calcitriol 0.0005 MG Oral Capsule [Rocaltrol]', '24 HR Nifedipine 60 MG Extended Release Oral Tablet [Adalat]', 'morphine sulfate 15 MG Oral Tablet', '1 ML morphine sulfate 2 MG/ML Prefilled Syringe', 'prednisone 5 MG Oral Tablet', 'calcium carbonate 500 MG Chewable Tablet', 'Lactulose 667 MG/ML Oral Solution', '0', '250 ML sodium chloride 9 MG/ML Injection', '10 ML calcium gluconate 100 MG/ML Injection', '2 ML ondansetron 2 MG/ML Injection', 'sodium bicarbonate 650 MG Oral Tablet', 'sodium polystyrene sulfonate 250 MG/ML Oral Suspension [SPS]', '168 HR clonidine 0.0125 MG/HR Transdermal System [Catapres]', '200 ML vancomycin 5 MG/ML Injection', 'Hydrocortisone 50 MG/ML Injectable Solution [Solu-Cortef]', '50 ML magnesium sulfate 40 MG/ML Injection', 'Aztreonam 333 MG/ML Injectable Solution [Azactam]', '50 ML glucose 50 MG/ML Injection', '1 ML hydralazine hydrochloride 20 MG/ML Injection', 'Levofloxacin 250 MG Oral Tablet [Levaquin]', 'Acetaminophen 325 MG Oral Tablet', 'Acetaminophen 500 MG / Hydrocodone Bitartrate 5 MG Oral Tablet', 'calcitriol 0.00025 MG Oral Capsule', '250 ML glucose 50 MG/ML Injection', 'vancomycin 500 MG Injection', 'Hydralazine Hydrochloride 25 MG Oral Tablet', '1 ML promethazine hydrochloride 25 MG/ML Injection'], diagnoses=['Hypertensive chronic kidney disease, malignant, with chronic kidney disease stage V or end stage renal disease', 'Pneumonia, organism unspecified', 'Chronic glomerulonephritis in diseases classified elsewhere', 'Chronic kidney disease, Stage V', 'Other primary cardiomyopathies', 'Acidosis', 'Systemic lupus erythematosus', 'Hyperpotassemia', 'Sciatica', 'Other iatrogenic hypotension', 'Thrombocytopenia, unspecified', 'Anemia in chronic kidney disease', 'Anemia of other chronic disease', 'Hypocalcemia'], labevent=[]), Visit(visit_id=126055, admittime=Timestamp('2141-10-13 23:10:00'), dischtime=Timestamp('2141-11-03 18:45:00'), deathtime=NaT, procedures=['Exploratory laparotomy', 'Venous catheterization for renal dialysis', 'Hemodialysis', 'Venous catheterization, not elsewhere classified', 'Transfusion of other serum', 'Transfusion of packed cells', 'Esophagogastroduodenoscopy [EGD] with closed biopsy', 'Non-invasive mechanical ventilation'], prescriptions=['24 HR metoprolol succinate 100 MG Extended Release Oral Tablet [Toprol]', 'warfarin sodium 2 MG Oral Tablet [Coumadin]', '1 ML morphine sulfate 4 MG/ML Injection', '1 ML morphine sulfate 2 MG/ML Prefilled Syringe', '72 HR fentanyl 0.025 MG/HR Transdermal System', 'Labetalol hydrochloride 5 MG/ML Injectable Solution', '150 ML glucose 50 MG/ML Injection', 'Hydralazine Hydrochloride 50 MG Oral Tablet', 'warfarin sodium 1 MG Oral Tablet [Coumadin]', '50 ML sodium chloride 9 MG/ML Injection', '250 ML sodium chloride 9 MG/ML Injection', '1 ML Desmopressin Acetate 0.004 MG/ML Injection [DDAVP]', '10 ML calcium gluconate 100 MG/ML Injection', '5 ML heparin sodium, porcine 10 UNT/ML Prefilled Syringe', 'lidocaine hydrochloride 20 MG/ML Mucous Membrane Topical Solution', 'Aluminum Hydroxide 40 MG/ML / Magnesium Hydroxide 40 MG/ML / Simethicone 4 MG/ML Oral Suspension [Maalox Plus]', 'morphine sulfate 15 MG Oral Tablet', 'diphenhydramine hydrochloride 25 MG Oral Capsule', 'Hydralazine Hydrochloride 25 MG Oral Tablet', 'Nicardipine hydrochloride 20 MG Oral Capsule [Cardene]', 'Labetalol hydrochloride 100 MG Oral Tablet', 'aliskiren 150 MG Oral Tablet [Tekturna]', '0', 'pantoprazole 40 MG Injection [Protonix]', '50 ML magnesium sulfate 40 MG/ML Injection', 'Acetaminophen 325 MG Oral Tablet', '24 HR Nifedipine 60 MG Extended Release Oral Tablet [Adalat]', '50 ML glucose 50 MG/ML Injection', '1 ML vitamin K1 10 MG/ML Injection', '2 ML metoclopramide 5 MG/ML Injection', '1 ML hydralazine hydrochloride 20 MG/ML Injection', '1 ML hydromorphone hydrochloride 1 MG/ML Cartridge', '2 ML ondansetron 2 MG/ML Injection', 'heparin sodium, porcine 5000 UNT/ML Injectable Solution', '1 ML morphine sulfate 10 MG/ML Injection', '200 ML vancomycin 5 MG/ML Injection', '100 ML metronidazole 5 MG/ML Injection', 'Ciprofloxacin 2 MG/ML Injectable Solution [Cipro I.V.]', 'prednisone 1 MG Oral Tablet', 'Albuterol 0.83 MG/ML Inhalant Solution', '1000 ML sodium chloride 9 MG/ML Injection', 'ipratropium bromide 0.2 MG/ML Inhalation Solution', '250 ML heparin sodium, porcine 100 UNT/ML Injection', 'sodium polystyrene sulfonate 250 MG/ML Oral Suspension [SPS]', 'acetaminophen 325 MG / oxycodone hydrochloride 5 MG Oral Tablet', 'Vitamin K 1 5 MG Oral Tablet [Mephyton]', 'docusate sodium 10 MG/ML Oral Suspension', 'sennosides, USP 8.6 MG Oral Tablet', '1000 ML glucose 50 MG/ML / sodium chloride 4.5 MG/ML Injection', 'calcium carbonate 500 MG Chewable Tablet', 'labetalol hydrochloride 200 MG Oral Tablet', '24 HR Nifedipine 30 MG Extended Release Oral Tablet [Afeditab CR]', 'Docusate Sodium 100 MG Oral Capsule [DOK]', 'Calcitriol 0.0005 MG Oral Capsule [Rocaltrol]', '1 ML epoetin alfa 4000 UNT/ML Injection [Procrit]', 'pantoprazole 40 MG Delayed Release Oral Tablet [Protonix]', 'purified protein derivative of tuberculin 50 UNT/ML Injectable Solution [Tubersol]', 'guaifenesin 20 MG/ML Oral Solution', 'lidocaine 0.05 MG/MG Medicated Patch [Lidoderm]', 'Lactulose 667 MG/ML Oral Solution', '5 ML metoprolol tartrate 1 MG/ML Injection', 'polyethylene glycol 3350 17000 MG Powder for Oral Solution', '24 HR Nifedipine 90 MG Extended Release Oral Tablet [Adalat]', 'oxycodone hydrochloride 5 MG Oral Tablet', '50 ML sodium bicarbonate 84 MG/ML Injection', 'diphenhydramine hydrochloride 50 MG/ML Injectable Solution', '1 ML lorazepam 2 MG/ML Cartridge', '1000 ML glucose 50 MG/ML Injection', '1 ML epoetin alfa 10000 UNT/ML Injection [Epogen]', 'bisacodyl 10 MG Rectal Suppository', 'Bisacodyl 5 MG Enteric Coated Tablet', 'Midazolam 1 MG/ML Injectable Solution', 'Fentanyl 0.05 MG/ML Injectable Solution', 'ergocalciferol 1.25 MG Oral Capsule', '168 HR clonidine 0.0125 MG/HR Transdermal System [Catapres]', '100 ML sodium chloride 9 MG/ML Injection', 'prochlorperazine 10 MG Oral Tablet', 'warfarin sodium 5 MG Oral Tablet [Coumadin]', 'Nitroglycerin 0.02 MG/MG Topical Ointment [Nitro-Bid]', 'camphor 5 MG/ML / menthol 5 MG/ML Topical Lotion [Men-phor]'], diagnoses=['Renal dialysis status', 'Epilepsy, unspecified, without mention of intractable epilepsy', 'Constipation, unspecified', 'Anemia in chronic kidney disease', 'Abnormal coagulation profile', 'Obstructive sleep apnea (adult)(pediatric)', 'Other diseases of lung, not elsewhere classified', 'Other chest pain', 'Fever, unspecified', 'Rash and other nonspecific skin eruption', 'Other chronic pulmonary heart diseases', 'Personal history of venous thrombosis and embolism', 'Long-term (current) use of anticoagulants', 'Malignant essential hypertension', 'End stage renal disease', 'Chronic glomerulonephritis in diseases classified elsewhere', 'Unspecified disease of pericardium', 'Other ascites', 'Acidosis', 'Hyposmolality and/or hyponatremia', 'Abdominal pain, other specified site', 'Abdominal pain, epigastric', 'Nausea with vomiting', 'Diarrhea', 'Systemic lupus erythematosus', 'Hyperparathyroidism, unspecified', 'Anemia, unspecified', 'Thrombocytopenia, unspecified', 'Esophageal reflux'], labevent=[]), Visit(visit_id=125288, admittime=Timestamp('2141-11-18 14:00:00'), dischtime=Timestamp('2141-11-23 16:42:00'), deathtime=NaT, procedures=['Hemodialysis'], prescriptions=['1 ML hydromorphone hydrochloride 1 MG/ML Cartridge', 'Hydromorphone Hydrochloride 2 MG Oral Tablet', 'heparin sodium, porcine 5000 UNT/ML Injectable Solution', '0', 'Labetalol hydrochloride 5 MG/ML Injectable Solution', '250 ML heparin sodium, porcine 100 UNT/ML Injection', 'warfarin sodium 1 MG Oral Tablet [Coumadin]', 'Hydralazine Hydrochloride 25 MG Oral Tablet', 'prednisone 1 MG Oral Tablet', 'aliskiren 150 MG Oral Tablet [Tekturna]', 'pantoprazole 40 MG Delayed Release Oral Tablet [Protonix]', '24 HR Nifedipine 90 MG Extended Release Oral Tablet [Adalat]', 'Labetalol hydrochloride 100 MG Oral Tablet', 'ergocalciferol 1.25 MG Oral Capsule', 'prochlorperazine 10 MG Oral Tablet', '2 ML Prochlorperazine 5 MG/ML Injection', 'docusate sodium 10 MG/ML Oral Suspension', 'sennosides, USP 8.6 MG Oral Tablet', 'bisacodyl 10 MG Rectal Suppository', 'Bisacodyl 5 MG Enteric Coated Tablet', 'calcium carbonate 500 MG Chewable Tablet', 'Levofloxacin 250 MG Oral Tablet [Levaquin]', 'Metronidazole 500 MG Oral Tablet', '200 ML vancomycin 5 MG/ML Injection', 'Ciprofloxacin 500 MG Oral Tablet', 'Acetaminophen 325 MG Oral Tablet', 'warfarin sodium 5 MG Oral Tablet [Coumadin]', '168 HR clonidine 0.0125 MG/HR Transdermal System [Catapres]', 'Hydralazine Hydrochloride 50 MG Oral Tablet', 'camphor 5 MG/ML / menthol 5 MG/ML Topical Lotion [Men-phor]', 'Lorazepam 1 MG Oral Tablet', 'acetaminophen 500 MG Oral Tablet'], diagnoses=['Hypertensive chronic kidney disease, malignant, with chronic kidney disease stage V or end stage renal disease', 'End stage renal disease', '2841', 'Systemic lupus erythematosus', 'Abdominal pain, unspecified site', 'Anemia, unspecified', 'Personal history of venous thrombosis and embolism', 'Long-term (current) use of anticoagulants'], labevent=[]), Visit(visit_id=161950, admittime=Timestamp('2141-11-24 16:11:00'), dischtime=Timestamp('2141-12-01 19:00:00'), deathtime=NaT, procedures=['Hemodialysis'], prescriptions=['warfarin sodium 5 MG Oral Tablet [Coumadin]', 'labetalol hydrochloride 200 MG Oral Tablet', 'Lorazepam 1 MG Oral Tablet', '24 HR Nifedipine 90 MG Extended Release Oral Tablet [Adalat]', 'Hydralazine Hydrochloride 50 MG Oral Tablet', 'citalopram 20 MG Oral Tablet', '0', 'sennosides, USP 8.6 MG Oral Tablet', 'aliskiren 150 MG Oral Tablet [Tekturna]', 'prednisone 1 MG Oral Tablet', 'ergocalciferol 1.25 MG Oral Capsule', 'Docusate Sodium 100 MG Oral Capsule [DOK]', '1 ML hydralazine hydrochloride 20 MG/ML Injection', '1 ML hydromorphone hydrochloride 1 MG/ML Cartridge', 'Acetaminophen 325 MG Oral Tablet', '168 HR clonidine 0.0125 MG/HR Transdermal System [Catapres]', 'heparin sodium, porcine 5000 UNT/ML Injectable Solution', 'Hydromorphone Hydrochloride 4 MG Oral Tablet [Dilaudid]', 'Hydromorphone Hydrochloride 2 MG Oral Tablet', 'clonazepam 0.5 MG Oral Tablet', 'gabapentin 300 MG Oral Capsule', '1 ML lorazepam 2 MG/ML Cartridge', 'warfarin sodium 1 MG Oral Tablet [Coumadin]', 'sodium polystyrene sulfonate 250 MG/ML Oral Suspension [SPS]', 'warfarin sodium 2 MG Oral Tablet [Coumadin]', 'Labetalol hydrochloride 5 MG/ML Injectable Solution', '150 ML glucose 50 MG/ML Injection', '250 ML heparin sodium, porcine 100 UNT/ML Injection'], diagnoses=['Hypertensive chronic kidney disease, malignant, with chronic kidney disease stage V or end stage renal disease', 'End stage renal disease', 'Other ascites', '4251', 'Systemic lupus erythematosus', 'Headache', 'Anemia in chronic kidney disease', 'Anxiety state, unspecified', 'Other chest pain', 'Personal history of venous thrombosis and embolism', 'Long-term (current) use of anticoagulants', 'Renal dialysis status', 'Acquired absence of organ, eye'], labevent=[]), Visit(visit_id=173633, admittime=Timestamp('2141-12-08 01:40:00'), dischtime=Timestamp('2141-12-14 17:16:00'), deathtime=NaT, procedures=['Hemodialysis', 'Venous catheterization, not elsewhere classified', 'Transfusion of packed cells'], prescriptions=['Labetalol hydrochloride 5 MG/ML Injectable Solution', 'labetalol hydrochloride 200 MG Oral Tablet', '150 ML glucose 50 MG/ML Injection', '1 ML hydromorphone hydrochloride 1 MG/ML Cartridge', 'aliskiren 150 MG Oral Tablet [Tekturna]', '2 ML ondansetron 2 MG/ML Injection', '24 HR Nifedipine 90 MG Extended Release Oral Tablet [Adalat]', 'sennosides, USP 8.6 MG Oral Tablet', 'Docusate Sodium 100 MG Oral Capsule [DOK]', '0', 'warfarin sodium 2 MG Oral Tablet [Coumadin]', 'heparin sodium, porcine 5000 UNT/ML Injectable Solution', 'Bisacodyl 5 MG Enteric Coated Tablet', 'bisacodyl 10 MG Rectal Suppository', '250 ML heparin sodium, porcine 100 UNT/ML Injection', 'clonazepam 0.5 MG Oral Tablet', 'Hydromorphone Hydrochloride 4 MG Oral Tablet [Dilaudid]', 'gabapentin 300 MG Oral Capsule', 'citalopram 20 MG Oral Tablet', 'prednisone 1 MG Oral Tablet', 'prochlorperazine 10 MG Oral Tablet', 'Acetaminophen 325 MG Oral Tablet', '2 ML Prochlorperazine 5 MG/ML Injection', '168 HR clonidine 0.0125 MG/HR Transdermal System [Catapres]', 'Hydralazine Hydrochloride 50 MG Oral Tablet', '1 ML hydralazine hydrochloride 20 MG/ML Injection', '168 HR Clonidine 0.00417 MG/HR Transdermal Patch [Catapres-TTS-1]', 'pantoprazole 40 MG Delayed Release Oral Tablet [Protonix]', 'diphenhydramine hydrochloride 25 MG Oral Capsule', 'warfarin sodium 5 MG Oral Tablet [Coumadin]', 'hydralazine hydrochloride 10 MG Oral Tablet', 'Hydralazine Hydrochloride 25 MG Oral Tablet', 'Hydromorphone Hydrochloride 2 MG Oral Tablet', 'acetaminophen 500 MG Oral Tablet', 'lidocaine 0.05 MG/MG Medicated Patch [Lidoderm]', 'Lorazepam 0.5 MG Oral Tablet', 'warfarin sodium 1 MG Oral Tablet [Coumadin]'], diagnoses=['Hypertensive chronic kidney disease, malignant, with chronic kidney disease stage V or end stage renal disease', 'End stage renal disease', 'Nephritis and nephropathy, not specified as acute or chronic, in diseases classified elsewhere', 'Systemic lupus erythematosus', 'Other and unspecified noninfectious gastroenteritis and colitis', 'Thrombocytopenia, unspecified', 'Anemia in chronic kidney disease', 'Other iatrogenic hypotension', 'Obstructive sleep apnea (adult)(pediatric)', 'Hemangioma of intra-abdominal structures', 'Other chronic pain', 'Abdominal pain, unspecified site', 'Abnormal coagulation profile', 'Renal dialysis status', 'Personal history of venous thrombosis and embolism'], labevent=[]), Visit(visit_id=140167, admittime=Timestamp('2141-12-18 03:50:00'), dischtime=Timestamp('2141-12-23 19:51:00'), deathtime=NaT, procedures=['Incision of peritoneum', 'Removal of peritoneal drainage device', 'Non-invasive mechanical ventilation', 'Venous catheterization for renal dialysis', 'Hemodialysis'], prescriptions=['Bisacodyl 5 MG Enteric Coated Tablet', 'sennosides, USP 8.6 MG Oral Tablet', 'Docusate Sodium 100 MG Oral Capsule [DOK]', '168 HR clonidine 0.0125 MG/HR Transdermal System [Catapres]', '250 ML heparin sodium, porcine 100 UNT/ML Injection', '50 ML famotidine 0.4 MG/ML Injection', 'heparin sodium, porcine 5000 UNT/ML Injectable Solution', '0', 'diphenhydramine hydrochloride 50 MG/ML Injectable Solution', '1 ML hydralazine hydrochloride 20 MG/ML Injection', 'prednisone 20 MG Oral Tablet', '4 ML Furosemide 10 MG/ML Injection', '1 ML lorazepam 2 MG/ML Cartridge', '1 ML dexamethasone phosphate 4 MG/ML Injection', '1 ML Naloxone Hydrochloride 0.4 MG/ML Injection', 'Hydromorphone Hydrochloride 2 MG Oral Tablet', 'prednisone 1 MG Oral Tablet', '24 HR Nifedipine 60 MG Extended Release Oral Tablet [Adalat]', '250 ML nitroglycerin 0.4 MG/ML Injection', '1 ML hydromorphone hydrochloride 1 MG/ML Cartridge', 'pantoprazole 40 MG Delayed Release Oral Tablet [Protonix]', 'clonazepam 0.5 MG Oral Tablet', 'gabapentin 300 MG Oral Capsule', 'warfarin sodium 2 MG Oral Tablet [Coumadin]', 'Hydralazine Hydrochloride 25 MG Oral Tablet', 'Labetalol hydrochloride 100 MG Oral Tablet', 'Hydromorphone Hydrochloride 4 MG Oral Tablet [Dilaudid]', 'Nicardipine hydrochloride 2.5 MG/ML Injectable Solution [Cardene]', 'Lorazepam 0.5 MG Oral Tablet', '250 ML sodium chloride 9 MG/ML Injection', 'aliskiren 150 MG Oral Tablet [Tekturna]', '24 HR Nifedipine 90 MG Extended Release Oral Tablet [Adalat]', 'Hydralazine Hydrochloride 50 MG Oral Tablet', 'labetalol hydrochloride 200 MG Oral Tablet', '2 ML ondansetron 2 MG/ML Injection', 'citalopram 20 MG Oral Tablet', 'Acetaminophen 325 MG Oral Tablet', 'bisacodyl 10 MG Rectal Suppository', '168 HR Clonidine 0.00417 MG/HR Transdermal Patch [Catapres-TTS-1]', 'clonidine hydrochloride 0.1 MG Oral Tablet', '1 ML ketorolac tromethamine 30 MG/ML Injection'], diagnoses=['Hypertensive chronic kidney disease, malignant, with chronic kidney disease stage V or end stage renal disease', 'End stage renal disease', 'Mechanical complication due to peritoneal dialysis catheter', '4251', 'Unspecified disease of pericardium', 'Angioneurotic edema, not elsewhere classified', 'Abdominal pain, other specified site', 'Systemic lupus erythematosus', '2874', 'Anemia in chronic kidney disease', 'Dysthymic disorder', 'Obstructive sleep apnea (adult)(pediatric)', 'Personal history of venous thrombosis and embolism', 'Long-term (current) use of steroids', 'Long-term (current) use of anticoagulants', 'Surgical operation with implant of artificial internal device causing abnormal patient reaction, or later complication,without mention of misadventure at time of operation', 'Other antihypertensive agents causing adverse effects in therapeutic use'], labevent=[]), Visit(visit_id=135923, admittime=Timestamp('2142-01-08 06:36:00'), dischtime=Timestamp('2142-01-13 21:00:00'), deathtime=NaT, procedures=['Hemodialysis', 'Non-invasive mechanical ventilation'], prescriptions=['Labetalol hydrochloride 5 MG/ML Injectable Solution', 'Hydromorphone Hydrochloride 4 MG Oral Tablet [Dilaudid]', '250 ML glucose 50 MG/ML Injection', 'Nicardipine hydrochloride 2.5 MG/ML Injectable Solution [Cardene]', '0', 'heparin sodium, porcine 5000 UNT/ML Injectable Solution', '250 ML heparin sodium, porcine 100 UNT/ML Injection', 'Acetaminophen 325 MG Oral Tablet', 'prednisone 1 MG Oral Tablet', 'citalopram 20 MG Oral Tablet', 'clonazepam 0.5 MG Oral Tablet', 'labetalol hydrochloride 200 MG Oral Tablet', 'Hydralazine Hydrochloride 50 MG Oral Tablet', 'aliskiren 150 MG Oral Tablet [Tekturna]', 'warfarin sodium 2 MG Oral Tablet [Coumadin]', 'gabapentin 300 MG Oral Capsule', '2 ML Prochlorperazine 5 MG/ML Injection', '1 ML hydromorphone hydrochloride 1 MG/ML Cartridge', '168 HR clonidine 0.0125 MG/HR Transdermal System [Catapres]', 'Hydromorphone Hydrochloride 2 MG Oral Tablet', '1 ML Naloxone Hydrochloride 0.4 MG/ML Injection', 'morphine sulfate 15 MG Extended Release Oral Tablet', '1 ML hydralazine hydrochloride 20 MG/ML Injection', 'morphine sulfate 15 MG Oral Tablet', '168 HR Clonidine 0.00417 MG/HR Transdermal Patch [Catapres-TTS-1]', 'acetaminophen 500 MG Oral Tablet', 'Nicardipine hydrochloride 30 MG Oral Capsule [Cardene]', 'calcium carbonate 500 MG Chewable Tablet'], diagnoses=['Hypertensive chronic kidney disease, malignant, with chronic kidney disease stage V or end stage renal disease', 'End stage renal disease', '4251', 'Systemic lupus erythematosus', 'Hypoxemia', 'Other opiates and related narcotics causing adverse effects in therapeutic use', 'Thrombocytopenia, unspecified', 'Anemia in chronic kidney disease', 'Abdominal pain, other specified site', 'Obstructive sleep apnea (adult)(pediatric)', 'Dysthymic disorder', 'Renal dialysis status', 'Personal history of venous thrombosis and embolism', 'Long-term (current) use of anticoagulants', 'Other postprocedural status'], labevent=[]), Visit(visit_id=124657, admittime=Timestamp('2142-01-14 17:34:00'), dischtime=Timestamp('2142-01-20 13:30:00'), deathtime=NaT, procedures=['Hemodialysis'], prescriptions=['hydralazine hydrochloride 10 MG Oral Tablet', '250 ML sodium chloride 9 MG/ML Injection', 'Nicardipine hydrochloride 2.5 MG/ML Injectable Solution [Cardene]', 'morphine sulfate 15 MG Oral Tablet', 'labetalol hydrochloride 200 MG Oral Tablet', 'Acetaminophen 325 MG Oral Tablet', 'gabapentin 300 MG Oral Capsule', 'clonazepam 0.5 MG Oral Tablet', 'Hydralazine Hydrochloride 50 MG Oral Tablet', '0', 'pantoprazole 40 MG Delayed Release Oral Tablet [Protonix]', 'prednisone 1 MG Oral Tablet', 'citalopram 20 MG Oral Tablet', 'aliskiren 150 MG Oral Tablet [Tekturna]', 'sodium polystyrene sulfonate 250 MG/ML Oral Suspension [SPS]', 'Nicardipine hydrochloride 30 MG Oral Capsule [Cardene]', 'Hydromorphone Hydrochloride 4 MG Oral Tablet [Dilaudid]', '1 ML hydromorphone hydrochloride 1 MG/ML Cartridge', 'Hydromorphone Hydrochloride 2 MG Oral Tablet', 'Labetalol hydrochloride 100 MG Oral Tablet', '168 HR clonidine 0.0125 MG/HR Transdermal System [Catapres]', '24 HR Nifedipine 90 MG Extended Release Oral Tablet [Adalat]', '168 HR Clonidine 0.00417 MG/HR Transdermal Patch [Catapres-TTS-1]', 'warfarin sodium 2 MG Oral Tablet [Coumadin]', '250 ML heparin sodium, porcine 100 UNT/ML Injection', 'Morphine Sulfate 2 MG/ML Oral Solution', 'heparin sodium, porcine 5000 UNT/ML Injectable Solution', 'acetaminophen 500 MG Oral Tablet'], diagnoses=['Hypertensive chronic kidney disease, malignant, with chronic kidney disease stage V or end stage renal disease', 'End stage renal disease', '4251', 'Other vascular complications of medical care, not elsewhere classified', 'Systemic lupus erythematosus', 'Hyperpotassemia', 'Phlebitis and thrombophlebitis of upper extremities, unspecified', 'Personal history of venous thrombosis and embolism', 'Long-term (current) use of anticoagulants'], labevent=[]), Visit(visit_id=176760, admittime=Timestamp('2142-01-21 11:23:00'), dischtime=Timestamp('2142-01-23 16:40:00'), deathtime=NaT, procedures=['Venous catheterization, not elsewhere classified'], prescriptions=['labetalol hydrochloride 200 MG Oral Tablet', '0', '200 ML vancomycin 5 MG/ML Injection', 'Hydralazine Hydrochloride 50 MG Oral Tablet', 'aliskiren 150 MG Oral Tablet [Tekturna]', 'acetaminophen 500 MG Oral Tablet', 'pantoprazole 40 MG Delayed Release Oral Tablet [Protonix]', 'citalopram 20 MG Oral Tablet', 'gabapentin 300 MG Oral Capsule', '24 HR Nifedipine 90 MG Extended Release Oral Tablet [Adalat]', 'prednisone 1 MG Oral Tablet', '1 ML hydromorphone hydrochloride 1 MG/ML Cartridge', 'Ondansetron 4 MG Disintegrating Tablet', 'warfarin sodium 2 MG Oral Tablet [Coumadin]', 'warfarin sodium 2.5 MG Oral Tablet [Coumadin]', 'magnesium oxide 400 MG Oral Tablet [Mag-Ox 400]', '5 ML heparin sodium, porcine 10 UNT/ML Prefilled Syringe', '2 ML ondansetron 2 MG/ML Injection', 'Hydromorphone Hydrochloride 2 MG Oral Tablet', '168 HR clonidine 0.0125 MG/HR Transdermal System [Catapres]', '168 HR Clonidine 0.00417 MG/HR Transdermal Patch [Catapres-TTS-1]', 'chlorhexidine gluconate 1.2 MG/ML Mouthwash', '1 ML lorazepam 2 MG/ML Cartridge', '500 ML sodium chloride 9 MG/ML Injection', 'Docusate Sodium 100 MG Oral Capsule [DOK]', 'morphine sulfate 15 MG Oral Tablet', 'Labetalol hydrochloride 100 MG Oral Tablet'], diagnoses=['Other vascular complications of medical care, not elsewhere classified', 'End stage renal disease', 'Hypertensive chronic kidney disease, malignant, with chronic kidney disease stage V or end stage renal disease', '4251', 'Systemic lupus erythematosus', 'Phlebitis and thrombophlebitis of upper extremities, unspecified'], labevent=[]), Visit(visit_id=113189, admittime=Timestamp('2142-02-14 10:42:00'), dischtime=Timestamp('2142-02-17 18:15:00'), deathtime=NaT, procedures=['Hemodialysis'], prescriptions=['1 ML hydralazine hydrochloride 20 MG/ML Injection', 'Hydromorphone Hydrochloride 4 MG Oral Tablet [Dilaudid]', 'Hydromorphone Hydrochloride 2 MG Oral Tablet', '250 ML sodium chloride 9 MG/ML Injection', '5 ML heparin sodium, porcine 10 UNT/ML Prefilled Syringe', 'prednisone 1 MG Oral Tablet', '0', 'gabapentin 300 MG Oral Capsule', '24 HR Nifedipine 90 MG Extended Release Oral Tablet [Adalat]', 'labetalol hydrochloride 200 MG Oral Tablet', 'Labetalol hydrochloride 100 MG Oral Tablet', '168 HR clonidine 0.0125 MG/HR Transdermal System [Catapres]', '168 HR Clonidine 0.00417 MG/HR Transdermal Patch [Catapres-TTS-1]', 'warfarin sodium 2 MG Oral Tablet [Coumadin]', 'pantoprazole 40 MG Delayed Release Oral Tablet [Protonix]', 'aliskiren 150 MG Oral Tablet [Tekturna]', 'citalopram 20 MG Oral Tablet', '1 ML hydromorphone hydrochloride 1 MG/ML Cartridge', '50 ML magnesium sulfate 40 MG/ML Injection', 'morphine sulfate 15 MG Oral Tablet', 'Hydralazine Hydrochloride 50 MG Oral Tablet', 'Lorazepam 0.5 MG Oral Tablet', '2 ML ondansetron 2 MG/ML Injection'], diagnoses=['Hypertensive chronic kidney disease, malignant, with chronic kidney disease stage V or end stage renal disease', 'End stage renal disease', 'Chronic glomerulonephritis in diseases classified elsewhere', '4251', 'Thrombotic microangiopathy', 'Systemic lupus erythematosus', 'Anemia in chronic kidney disease', 'Thrombocytopenia, unspecified', 'Obstructive sleep apnea (adult)(pediatric)', 'Nontraumatic hematoma of soft tissue', 'Dysthymic disorder', 'Noncompliance with renal dialysis', 'Long-term (current) use of anticoagulants', 'Personal history of venous thrombosis and embolism'], labevent=[]), Visit(visit_id=158995, admittime=Timestamp('2142-02-25 15:49:00'), dischtime=Timestamp('2142-02-26 16:11:00'), deathtime=NaT, procedures=['Hemodialysis', 'Transfusion of packed cells'], prescriptions=['24 HR Nifedipine 90 MG Extended Release Oral Tablet [Adalat]', 'Labetalol hydrochloride 100 MG Oral Tablet', 'pantoprazole 40 MG Delayed Release Oral Tablet [Protonix]', 'aliskiren 150 MG Oral Tablet [Tekturna]', 'heparin sodium, porcine 5000 UNT/ML Injectable Solution', 'warfarin sodium 2 MG Oral Tablet [Coumadin]', 'Hydralazine Hydrochloride 50 MG Oral Tablet', '1 ML hydralazine hydrochloride 20 MG/ML Injection', 'sevelamer hydrochloride 400 MG Oral Tablet [RenaGel]', 'gabapentin 300 MG Oral Capsule'], diagnoses=['Poisoning by other opiates and related narcotics', 'End stage renal disease', 'Hypertensive chronic kidney disease, malignant, with chronic kidney disease stage V or end stage renal disease', 'Chronic glomerulonephritis in diseases classified elsewhere', 'Thrombotic microangiopathy', 'Other primary cardiomyopathies', 'Acidosis', 'Systemic lupus erythematosus', 'Thrombocytopenia, unspecified', 'Altered mental status', 'Other iatrogenic hypotension', 'Accidental poisoning by other opiates and related narcotics', 'Hyperpotassemia', 'Anemia in chronic kidney disease', 'Obstructive sleep apnea (adult)(pediatric)', 'Dysthymic disorder', 'Nontraumatic hematoma of soft tissue', 'Noncompliance with renal dialysis', 'Long-term (current) use of anticoagulants', 'Personal history of venous thrombosis and embolism'], labevent=[]), Visit(visit_id=158943, admittime=Timestamp('2142-03-21 09:25:00'), dischtime=Timestamp('2142-03-23 18:11:00'), deathtime=NaT, procedures=['Hemodialysis', 'Transfusion of packed cells', 'Non-invasive mechanical ventilation'], prescriptions=['150 ML glucose 50 MG/ML Injection', 'Labetalol hydrochloride 5 MG/ML Injectable Solution', '24 HR Nifedipine 90 MG Extended Release Oral Tablet [Adalat]', '10 ML Nicardipine hydrochloride 2.5 MG/ML Injection [Cardene]', '2 ML sodium nitroprusside 25 MG/ML Injection [Nitropress]', '250 ML glucose 50 MG/ML Injection', 'Hydralazine Hydrochloride 25 MG Oral Tablet', 'labetalol hydrochloride 200 MG Oral Tablet', 'Lorazepam 1 MG Oral Tablet', 'Hydromorphone Hydrochloride 4 MG Oral Tablet [Dilaudid]', 'Hydromorphone Hydrochloride 2 MG Oral Tablet', 'aliskiren 150 MG Oral Tablet [Tekturna]', 'pantoprazole 40 MG Delayed Release Oral Tablet [Protonix]', 'prednisone 1 MG Oral Tablet', 'heparin sodium, porcine 5000 UNT/ML Injectable Solution', 'docusate sodium 10 MG/ML Oral Suspension', 'Ondansetron 4 MG Disintegrating Tablet', 'warfarin sodium 1 MG Oral Tablet [Coumadin]', '0', 'citalopram 20 MG Oral Tablet', 'sennosides, USP 8.6 MG Oral Tablet', '1 ML hydralazine hydrochloride 20 MG/ML Injection', 'furosemide 40 MG Oral Tablet', 'Furosemide 20 MG Oral Tablet', '2 ML ondansetron 2 MG/ML Injection', 'Hydralazine Hydrochloride 50 MG Oral Tablet', '168 HR Clonidine 0.00417 MG/HR Transdermal Patch [Catapres-TTS-1]', '168 HR clonidine 0.0125 MG/HR Transdermal System [Catapres]'], diagnoses=['2766', 'End stage renal disease', 'Hypertensive chronic kidney disease, malignant, with chronic kidney disease stage V or end stage renal disease', 'Chronic glomerulonephritis in diseases classified elsewhere', 'Compression of vein', 'Unspecified disease of pericardium', 'Infection and inflammatory reaction due to other vascular device, implant, and graft', 'Bacteremia', 'Primary hypercoagulable state', 'Other primary cardiomyopathies', '4251', 'Abdominal pain, unspecified site', 'Urinary tract infection, site not specified', 'Acidosis', 'Other chest pain', 'Other chronic pain', 'Systemic lupus erythematosus', 'Noncompliance with renal dialysis', 'Thrombocytopenia, unspecified', 'Anemia in chronic kidney disease', 'Hyperpotassemia', 'Streptococcus infection in conditions classified elsewhere and of unspecified site, streptococcus, group D [Enterococcus]', 'Kidney dialysis as the cause of abnormal reaction of patient, or of later complication, without mention of misadventure at time of procedure', 'Methicillin resistant Staphylococcus aureus in conditions classified elsewhere and of unspecified site', 'Obstructive sleep apnea (adult)(pediatric)', 'Personal history of venous thrombosis and embolism', 'Long-term (current) use of anticoagulants'], labevent=[]), Visit(visit_id=124398, admittime=Timestamp('2142-03-24 16:34:00'), dischtime=Timestamp('2142-03-31 15:15:00'), deathtime=NaT, procedures=['Hemodialysis'], prescriptions=['250 ML glucose 50 MG/ML Injection', '10 ML Nicardipine hydrochloride 2.5 MG/ML Injection [Cardene]', '150 ML glucose 50 MG/ML Injection', 'Labetalol hydrochloride 5 MG/ML Injectable Solution', 'Hydromorphone Hydrochloride 2 MG Oral Tablet', 'Hydralazine Hydrochloride 25 MG Oral Tablet', 'labetalol hydrochloride 200 MG Oral Tablet', '24 HR Nifedipine 90 MG Extended Release Oral Tablet [Adalat]', 'warfarin sodium 2 MG Oral Tablet [Coumadin]', '168 HR clonidine 0.0125 MG/HR Transdermal System [Catapres]', 'prednisone 1 MG Oral Tablet', 'pantoprazole 40 MG Delayed Release Oral Tablet [Protonix]', 'citalopram 20 MG Oral Tablet', '2 ML ondansetron 2 MG/ML Injection', '1 ML hydromorphone hydrochloride 1 MG/ML Cartridge', '1 ML hydralazine hydrochloride 20 MG/ML Injection', 'aliskiren 150 MG Oral Tablet [Tekturna]', 'Hydralazine Hydrochloride 50 MG Oral Tablet', '0', '168 HR Clonidine 0.00417 MG/HR Transdermal Patch [Catapres-TTS-1]', 'Acetaminophen 325 MG Oral Tablet', 'Hydromorphone Hydrochloride 4 MG Oral Tablet [Dilaudid]', '24 HR Nifedipine 30 MG Extended Release Oral Tablet [Afeditab CR]'], diagnoses=['Hypertensive chronic kidney disease, malignant, with chronic kidney disease stage V or end stage renal disease', 'End stage renal disease', 'Chronic glomerulonephritis in diseases classified elsewhere', '4251', 'Systemic lupus erythematosus', 'Anemia in chronic kidney disease', 'Long-term (current) use of steroids', 'Other chronic pain', 'Obstructive sleep apnea (adult)(pediatric)', 'Abdominal pain, generalized', 'Hyperpotassemia'], labevent=[]), Visit(visit_id=137510, admittime=Timestamp('2142-04-20 13:39:00'), dischtime=Timestamp('2142-04-22 15:30:00'), deathtime=NaT, procedures=['Hemodialysis', 'Venous catheterization for renal dialysis'], prescriptions=['24 HR Nifedipine 60 MG Extended Release Oral Tablet [Adalat]', '24 HR Nifedipine 90 MG Extended Release Oral Tablet [Adalat]', 'docusate sodium 10 MG/ML Oral Suspension', '0', 'Hydromorphone Hydrochloride 2 MG Oral Tablet', 'Hydromorphone Hydrochloride 4 MG Oral Tablet [Dilaudid]', 'prednisone 1 MG Oral Tablet', 'citalopram 20 MG Oral Tablet', 'pantoprazole 40 MG Delayed Release Oral Tablet [Protonix]', 'warfarin sodium 1 MG Oral Tablet [Coumadin]', 'gabapentin 300 MG Oral Capsule', 'Hydralazine Hydrochloride 50 MG Oral Tablet', '72 HR fentanyl 0.025 MG/HR Transdermal System', 'lidocaine 0.05 MG/MG Medicated Patch [Lidoderm]', 'sennosides, USP 8.6 MG Oral Tablet', 'Labetalol hydrochloride 5 MG/ML Injectable Solution', '250 ML nitroglycerin 0.4 MG/ML Injection', '150 ML glucose 50 MG/ML Injection', 'labetalol hydrochloride 200 MG Oral Tablet', 'aliskiren 150 MG Oral Tablet [Tekturna]', '168 HR clonidine 0.00833 MG/HR Transdermal System [Catapres]'], diagnoses=['Hypertensive chronic kidney disease, malignant, with chronic kidney disease stage V or end stage renal disease', 'End stage renal disease', 'Unspecified iridocyclitis', 'Other primary cardiomyopathies', 'Unspecified disease of pericardium', '2766', 'Systemic lupus erythematosus', 'Nephritis and nephropathy, not specified as acute or chronic, in diseases classified elsewhere', 'Noncompliance with renal dialysis', 'Personal history of noncompliance with medical treatment, presenting hazards to health', \"Surgical or other procedure not carried out because of patient's decision\", 'Abdominal pain, left lower quadrant', 'Renal dialysis status', 'Thrombocytopenia, unspecified', 'Anemia of other chronic disease', 'Personal history of venous thrombosis and embolism', 'Long-term (current) use of anticoagulants', 'Peripheral vascular disease, unspecified', 'Acquired absence of organ, eye', 'Carrier or suspected carrier of Methicillin resistant Staphylococcus aureus'], labevent=[]), Visit(visit_id=151240, admittime=Timestamp('2142-05-15 10:45:00'), dischtime=Timestamp('2142-05-18 15:58:00'), deathtime=NaT, procedures=['Hemodialysis'], prescriptions=['168 HR Clonidine 0.00417 MG/HR Transdermal Patch [Catapres-TTS-1]', 'warfarin sodium 1 MG Oral Tablet [Coumadin]', 'prochlorperazine 5 MG Oral Tablet', 'labetalol hydrochloride 200 MG Oral Tablet', '1 ML hydralazine hydrochloride 20 MG/ML Injection', 'Labetalol hydrochloride 5 MG/ML Injectable Solution', '150 ML glucose 50 MG/ML Injection', 'Hydralazine Hydrochloride 50 MG Oral Tablet', 'warfarin sodium 2 MG Oral Tablet [Coumadin]', 'prednisone 1 MG Oral Tablet', '24 HR Nifedipine 90 MG Extended Release Oral Tablet [Adalat]', '24 HR Nifedipine 60 MG Extended Release Oral Tablet [Adalat]', 'aliskiren 150 MG Oral Tablet [Tekturna]', '72 HR fentanyl 0.025 MG/HR Transdermal System', 'heparin sodium, porcine 5000 UNT/ML Injectable Solution', 'Hydromorphone Hydrochloride 2 MG Oral Tablet', 'Hydromorphone Hydrochloride 4 MG Oral Tablet [Dilaudid]', '2 ML ondansetron 2 MG/ML Injection', 'citalopram 20 MG Oral Tablet', '500 ML sodium chloride 9 MG/ML Injection', '5 ML heparin sodium, porcine 100 UNT/ML Prefilled Syringe', '0', 'sennosides, USP 8.6 MG Oral Tablet', 'Docusate Sodium 100 MG Oral Capsule [DOK]', '168 HR clonidine 0.0125 MG/HR Transdermal System [Catapres]'], diagnoses=['Hypertensive chronic kidney disease, malignant, with chronic kidney disease stage V or end stage renal disease', 'End stage renal disease', 'Other primary cardiomyopathies', 'Unspecified disease of pericardium', 'Systemic lupus erythematosus', 'Nephritis and nephropathy, not specified as acute or chronic, in diseases classified elsewhere', 'Hyperpotassemia', 'Nausea with vomiting', 'Diarrhea', 'Disorders of phosphorus metabolism', 'Anemia of other chronic disease', 'Abdominal pain, left lower quadrant', 'Other chronic pain', 'Thrombocytopenia, unspecified', 'Other specified peripheral vascular diseases', 'Carrier or suspected carrier of Methicillin resistant Staphylococcus aureus', 'Long-term (current) use of anticoagulants', 'Noncompliance with renal dialysis', 'Renal dialysis status', 'Personal history of noncompliance with medical treatment, presenting hazards to health'], labevent=[]), Visit(visit_id=102024, admittime=Timestamp('2142-05-20 12:59:00'), dischtime=Timestamp('2142-06-05 16:18:00'), deathtime=NaT, procedures=['Esophagogastroduodenoscopy [EGD] with closed biopsy', 'Hemodialysis', 'Injection of anesthetic into peripheral nerve for analgesia', 'Transfusion of packed cells', 'Transfusion of other serum'], prescriptions=['sodium polystyrene sulfonate 250 MG/ML Oral Suspension [Kionex]', '250 ML glucose 50 MG/ML Injection', '10 ML Nicardipine hydrochloride 2.5 MG/ML Injection [Cardene]', 'gabapentin 300 MG Oral Capsule', 'Hydralazine Hydrochloride 50 MG Oral Tablet', 'labetalol hydrochloride 200 MG Oral Tablet', 'warfarin sodium 1 MG Oral Tablet [Coumadin]', 'pantoprazole 40 MG Delayed Release Oral Tablet [Protonix]', '24 HR Nifedipine 90 MG Extended Release Oral Tablet [Adalat]', '24 HR Nifedipine 30 MG Extended Release Oral Tablet [Afeditab CR]', 'Hydromorphone Hydrochloride 2 MG Oral Tablet', 'Hydralazine Hydrochloride 25 MG Oral Tablet', 'prednisone 1 MG Oral Tablet', 'aliskiren 150 MG Oral Tablet [Tekturna]', '0', 'citalopram 20 MG Oral Tablet', '72 HR fentanyl 0.025 MG/HR Transdermal System', 'lidocaine 0.05 MG/MG Medicated Patch [Lidoderm]', '2 ML ondansetron 2 MG/ML Injection', 'prochlorperazine 5 MG Oral Tablet', '2 ML Prochlorperazine 5 MG/ML Injection', 'sevelamer hydrochloride 400 MG Oral Tablet [RenaGel]', 'gabapentin 100 MG Oral Capsule', 'warfarin sodium 2 MG Oral Tablet [Coumadin]', 'heparin sodium, porcine 5000 UNT/ML Injectable Solution', 'calcium carbonate 500 MG Chewable Tablet', 'aluminum hydroxide 40 MG/ML / magnesium hydroxide 40 MG/ML / simethicone 4 MG/ML Oral Suspension', 'Ranitidine 150 MG Oral Tablet', '1 ML hydromorphone hydrochloride 2 MG/ML Cartridge', 'pantoprazole 40 MG Injection [Protonix]', '24 HR Nifedipine 60 MG Extended Release Oral Tablet [Adalat]', 'Metronidazole 500 MG Oral Tablet', 'Clarithromycin 250 MG Oral Tablet', '168 HR clonidine 0.00833 MG/HR Transdermal System [Catapres]', '1 ML hydromorphone hydrochloride 1 MG/ML Cartridge', '168 HR Clonidine 0.00417 MG/HR Transdermal Patch [Catapres-TTS-1]', '168 HR clonidine 0.0125 MG/HR Transdermal System [Catapres]', 'Hydromorphone Hydrochloride 4 MG Oral Tablet [Dilaudid]', '250 ML heparin sodium, porcine 100 UNT/ML Injection', 'warfarin sodium 5 MG Oral Tablet [Coumadin]', 'sucralfate 1000 MG Oral Tablet', 'bismuth subsalicylate 17.5 MG/ML Oral Suspension [Pink Bismuth]', 'piperacillin 2000 MG / tazobactam 250 MG Injection [Zosyn]', 'Metoclopramide 10 MG Oral Tablet', 'lidocaine hydrochloride 20 MG/ML Mucous Membrane Topical Solution', 'Acetaminophen 325 MG Oral Tablet', '200 ML vancomycin 5 MG/ML Injection', '50 ML magnesium sulfate 40 MG/ML Injection', 'ceftriaxone 1000 MG Injection', '1 ML lorazepam 2 MG/ML Cartridge', '5 ML levetiracetam 100 MG/ML Injection [Keppra]', '100 ML sodium chloride 9 MG/ML Injection', '1000 ML glucose 50 MG/ML / sodium chloride 4.5 MG/ML Injection', 'ceftriaxone 2000 MG Injection', 'Midazolam 1 MG/ML Injectable Solution', '1 ML hydralazine hydrochloride 20 MG/ML Injection', '250 ML sodium chloride 9 MG/ML Injection', 'Methylprednisolone 40 MG/ML Injectable Solution [Solu-Medrol]', 'levetiracetam 500 MG Oral Tablet [Keppra]'], diagnoses=['Hypertensive chronic kidney disease, malignant, with chronic kidney disease stage V or end stage renal disease', 'End stage renal disease', 'Chronic or unspecified gastric ulcer with hemorrhage, without mention of obstruction', 'Acute posthemorrhagic anemia', 'Unspecified intestinal obstruction', 'Other primary cardiomyopathies', 'Unspecified disease of pericardium', 'Systemic lupus erythematosus', 'Nephritis and nephropathy, not specified as acute or chronic, in diseases classified elsewhere', 'Disorders of phosphorus metabolism', 'Hypotension, unspecified', 'Hyperpotassemia', 'Mononeuritis of unspecified site', 'Anemia of other chronic disease', 'Abdominal pain, left lower quadrant', 'Other chronic pain', 'Thrombocytopenia, unspecified', 'Diaphragmatic hernia without mention of obstruction or gangrene', 'Other specified peripheral vascular diseases', 'Carrier or suspected carrier of Methicillin resistant Staphylococcus aureus', 'Noncompliance with renal dialysis', 'Renal dialysis status', 'Long-term (current) use of anticoagulants', 'Personal history of noncompliance with medical treatment, presenting hazards to health'], labevent=[]), Visit(visit_id=136572, admittime=Timestamp('2142-06-18 03:11:00'), dischtime=Timestamp('2142-06-20 16:34:00'), deathtime=NaT, procedures=['Hemodialysis', 'Venous catheterization, not elsewhere classified', 'Transfusion of packed cells'], prescriptions=['heparin sodium, porcine 5000 UNT/ML Injectable Solution', '50 ML magnesium sulfate 40 MG/ML Injection', '0', 'gabapentin 100 MG Oral Capsule', 'levetiracetam 500 MG Oral Tablet [Keppra]', 'warfarin sodium 1 MG Oral Tablet [Coumadin]', '168 HR Clonidine 0.00417 MG/HR Transdermal Patch [Catapres-TTS-1]', '168 HR clonidine 0.0125 MG/HR Transdermal System [Catapres]', 'lidocaine 0.05 MG/MG Medicated Patch [Lidoderm]', 'Calcium Gluconate 20 MG/ML Injectable Solution', '24 HR Nifedipine 90 MG Extended Release Oral Tablet [Adalat]', 'Labetalol hydrochloride 5 MG/ML Injectable Solution', '24 HR Nifedipine 30 MG Extended Release Oral Tablet [Afeditab CR]', '250 ML sodium chloride 9 MG/ML Injection', '150 ML glucose 50 MG/ML Injection', '24 HR Nifedipine 60 MG Extended Release Oral Tablet [Adalat]', '1 ML hydralazine hydrochloride 20 MG/ML Injection', 'labetalol hydrochloride 200 MG Oral Tablet', 'calcium carbonate 500 MG Chewable Tablet', 'Hydromorphone Hydrochloride 4 MG Oral Tablet [Dilaudid]', 'Hydromorphone Hydrochloride 2 MG Oral Tablet', 'sevelamer hydrochloride 400 MG Oral Tablet [RenaGel]', 'aliskiren 150 MG Oral Tablet [Tekturna]', '72 HR fentanyl 0.025 MG/HR Transdermal System', 'prednisone 1 MG Oral Tablet', 'citalopram 20 MG Oral Tablet', 'Hydralazine Hydrochloride 50 MG Oral Tablet', 'pantoprazole 40 MG Delayed Release Oral Tablet [Protonix]'], diagnoses=['2766', 'End stage renal disease', 'Hypertensive chronic kidney disease, malignant, with chronic kidney disease stage V or end stage renal disease', 'Other primary cardiomyopathies', 'Unspecified disease of pericardium', 'Anemia of other chronic disease', 'Hyperpotassemia', 'Systemic lupus erythematosus', 'Abdominal pain, other specified site', 'Other chronic pain', 'Hypotension, unspecified', 'Gastric ulcer, unspecified as acute or chronic, without mention of hemorrhage or perforation, without mention of obstruction', 'Epilepsy, unspecified, without mention of intractable epilepsy', 'Depressive disorder, not elsewhere classified', 'Personal history of venous thrombosis and embolism', 'Noncompliance with renal dialysis'], labevent=[]), Visit(visit_id=174489, admittime=Timestamp('2142-07-03 14:48:00'), dischtime=Timestamp('2142-07-04 17:23:00'), deathtime=NaT, procedures=['Hemodialysis', 'Transfusion of packed cells'], prescriptions=['prednisone 1 MG Oral Tablet', 'gabapentin 100 MG Oral Capsule', '0', '150 ML glucose 50 MG/ML Injection', '2 ML ondansetron 2 MG/ML Injection', '250 ML nitroglycerin 0.4 MG/ML Injection', 'Labetalol hydrochloride 5 MG/ML Injectable Solution', 'heparin sodium, porcine 5000 UNT/ML Injectable Solution', 'warfarin sodium 1 MG Oral Tablet [Coumadin]', '24 HR Nifedipine 60 MG Extended Release Oral Tablet [Adalat]', '24 HR Nifedipine 90 MG Extended Release Oral Tablet [Adalat]', '1 ML hydromorphone hydrochloride 1 MG/ML Cartridge', 'Hydromorphone Hydrochloride 2 MG Oral Tablet', 'sevelamer hydrochloride 400 MG Oral Tablet [RenaGel]', 'citalopram 20 MG Oral Tablet', 'levetiracetam 500 MG Oral Tablet [Keppra]', 'pantoprazole 40 MG Delayed Release Oral Tablet [Protonix]', 'Hydralazine Hydrochloride 50 MG Oral Tablet', 'labetalol hydrochloride 200 MG Oral Tablet', 'lidocaine 0.05 MG/MG Medicated Patch [Lidoderm]', '72 HR fentanyl 0.075 MG/HR Transdermal System', '250 ML heparin sodium, porcine 100 UNT/ML Injection', 'aliskiren 150 MG Oral Tablet [Tekturna]', '168 HR Clonidine 0.00417 MG/HR Transdermal Patch [Catapres-TTS-1]', '168 HR clonidine 0.0125 MG/HR Transdermal System [Catapres]'], diagnoses=['Hypertensive chronic kidney disease, malignant, with chronic kidney disease stage V or end stage renal disease', 'End stage renal disease', 'Chronic glomerulonephritis in diseases classified elsewhere', 'Unspecified iridocyclitis', 'Other primary cardiomyopathies', 'Abdominal pain, unspecified site', 'Other chronic pain', 'Nausea with vomiting', 'Systemic lupus erythematosus', 'Thrombocytopenia, unspecified', 'Anemia in chronic kidney disease', 'Other specified peripheral vascular diseases', 'Obstructive sleep apnea (adult)(pediatric)', 'Anemia of other chronic disease', 'Gastric ulcer, unspecified as acute or chronic, without mention of hemorrhage or perforation, without mention of obstruction', 'Epilepsy, unspecified, without mention of intractable epilepsy', 'Long-term (current) use of anticoagulants', 'Personal history of venous thrombosis and embolism', 'Personal history of transient ischemic attack (TIA), and cerebral infarction without residual deficits'], labevent=[]), Visit(visit_id=131376, admittime=Timestamp('2142-07-07 10:01:00'), dischtime=Timestamp('2142-07-08 18:05:00'), deathtime=NaT, procedures=['Hemodialysis'], prescriptions=['gabapentin 100 MG Oral Capsule', 'sevelamer hydrochloride 400 MG Oral Tablet [RenaGel]', '168 HR clonidine 0.0125 MG/HR Transdermal System [Catapres]', 'labetalol hydrochloride 200 MG Oral Tablet', 'Hydromorphone Hydrochloride 2 MG Oral Tablet', 'diphenhydramine hydrochloride 25 MG Oral Capsule', '150 ML glucose 50 MG/ML Injection', 'Labetalol hydrochloride 5 MG/ML Injectable Solution', 'Hydralazine Hydrochloride 50 MG Oral Tablet', '168 HR Clonidine 0.00417 MG/HR Transdermal Patch [Catapres-TTS-1]', 'prednisone 1 MG Oral Tablet', '72 HR fentanyl 0.025 MG/HR Transdermal System', 'citalopram 20 MG Oral Tablet', 'aliskiren 150 MG Oral Tablet [Tekturna]', 'lidocaine 0.05 MG/MG Medicated Patch [Lidoderm]', '24 HR Nifedipine 90 MG Extended Release Oral Tablet [Adalat]', '24 HR Nifedipine 60 MG Extended Release Oral Tablet [Adalat]', 'heparin sodium, porcine 5000 UNT/ML Injectable Solution', 'sennosides, USP 8.6 MG Oral Tablet', 'bisacodyl 10 MG Rectal Suppository', 'bisacodyl 5 MG Delayed Release Oral Tablet', 'warfarin sodium 1 MG Oral Tablet [Coumadin]', 'pantoprazole 40 MG Delayed Release Oral Tablet [Protonix]', 'levetiracetam 500 MG Oral Tablet [Keppra]'], diagnoses=['Hypertensive chronic kidney disease, malignant, with chronic kidney disease stage V or end stage renal disease', 'End stage renal disease', 'Chronic glomerulonephritis in diseases classified elsewhere', 'Other primary cardiomyopathies', 'Unspecified iridocyclitis', '2841', 'Other ascites', 'Other chronic pain', 'Abdominal pain, unspecified site', 'Systemic lupus erythematosus', 'Thrombocytopenia, unspecified', 'Anemia in chronic kidney disease', 'Obstructive sleep apnea (adult)(pediatric)', 'Other specified peripheral vascular diseases', 'Anemia of other chronic disease', 'Gastric ulcer, unspecified as acute or chronic, without mention of hemorrhage or perforation, without mention of obstruction', 'Epilepsy, unspecified, without mention of intractable epilepsy', 'Long-term (current) use of anticoagulants', 'Personal history of venous thrombosis and embolism', 'Personal history of transient ischemic attack (TIA), and cerebral infarction without residual deficits'], labevent=[]), Visit(visit_id=196721, admittime=Timestamp('2142-07-12 15:27:00'), dischtime=Timestamp('2142-07-23 18:41:00'), deathtime=NaT, procedures=['Hemodialysis', 'Percutaneous abdominal drainage', 'Phlebography of other specified sites using contrast material', 'Transfusion of packed cells', 'Non-invasive mechanical ventilation'], prescriptions=['vancomycin 500 MG Injection', 'labetalol hydrochloride 200 MG Oral Tablet', 'Hydromorphone Hydrochloride 4 MG Oral Tablet [Dilaudid]', '0', '150 ML glucose 50 MG/ML Injection', 'Docusate Sodium 100 MG Oral Capsule [DOK]', 'sennosides, USP 8.6 MG Oral Tablet', '1 ML Naloxone Hydrochloride 0.4 MG/ML Injection', 'Labetalol hydrochloride 5 MG/ML Injectable Solution', 'prednisone 1 MG Oral Tablet', 'aliskiren 150 MG Oral Tablet [Tekturna]', 'Hydromorphone Hydrochloride 2 MG Oral Tablet', 'warfarin sodium 1 MG Oral Tablet [Coumadin]', '1 ML hydralazine hydrochloride 20 MG/ML Injection', '1 ML hydromorphone hydrochloride 1 MG/ML Cartridge', 'heparin sodium, porcine 5000 UNT/ML Injectable Solution', '2 ML ondansetron 2 MG/ML Injection', '1 ML lorazepam 2 MG/ML Cartridge', '250 ML heparin sodium, porcine 100 UNT/ML Injection', 'Lorazepam 0.5 MG Oral Tablet', 'gabapentin 100 MG Oral Capsule', 'Hydralazine Hydrochloride 50 MG Oral Tablet', 'citalopram 20 MG Oral Tablet', '168 HR clonidine 0.0125 MG/HR Transdermal System [Catapres]', '168 HR Clonidine 0.00417 MG/HR Transdermal Patch [Catapres-TTS-1]', 'levetiracetam 500 MG Oral Tablet [Keppra]', '24 HR Nifedipine 60 MG Extended Release Oral Tablet [Adalat]', 'pantoprazole 40 MG Delayed Release Oral Tablet [Protonix]', 'sevelamer hydrochloride 400 MG Oral Tablet [RenaGel]', '72 HR fentanyl 0.025 MG/HR Transdermal System', 'lidocaine 0.05 MG/MG Medicated Patch [Lidoderm]', '24 HR Nifedipine 30 MG Extended Release Oral Tablet [Afeditab CR]', '200 ML vancomycin 5 MG/ML Injection', 'Levofloxacin 250 MG Oral Tablet [Levaquin]', 'acetaminophen 32 MG/ML Oral Solution'], diagnoses=['Hypertensive chronic kidney disease, malignant, with chronic kidney disease stage V or end stage renal disease', 'End stage renal disease', 'Chronic glomerulonephritis in diseases classified elsewhere', 'Other ascites', 'Infection and inflammatory reaction due to other vascular device, implant, and graft', 'Bacteremia', 'Other primary cardiomyopathies', 'Unspecified disease of pericardium', 'Compression of vein', 'Systemic lupus erythematosus', 'Abdominal pain, unspecified site', 'Other chronic pain', 'Staphylococcus infection in conditions classified elsewhere and of unspecified site, other staphylococcus', 'Stridor', 'Angioneurotic edema, not elsewhere classified', 'Unspecified accident', 'Thrombocytopenia, unspecified', 'Anemia in chronic kidney disease', 'Obstructive sleep apnea (adult)(pediatric)', 'Other specified peripheral vascular diseases', 'Anemia of other chronic disease', 'Gastric ulcer, unspecified as acute or chronic, without mention of hemorrhage or perforation, without mention of obstruction', 'Epilepsy, unspecified, without mention of intractable epilepsy', '7931', 'Other specified procedures as the cause of abnormal reaction of patient, or of later complication, without mention of misadventure at time of procedure', 'Long-term (current) use of anticoagulants', 'Personal history of venous thrombosis and embolism', 'Personal history of transient ischemic attack (TIA), and cerebral infarction without residual deficits'], labevent=[]), Visit(visit_id=155726, admittime=Timestamp('2142-08-13 04:03:00'), dischtime=Timestamp('2142-08-16 18:17:00'), deathtime=NaT, procedures=['Hemodialysis', 'Transfusion of packed cells'], prescriptions=['24 HR Nifedipine 90 MG Extended Release Oral Tablet [Adalat]', 'aliskiren 150 MG Oral Tablet [Tekturna]', 'Hydralazine Hydrochloride 50 MG Oral Tablet', 'labetalol hydrochloride 200 MG Oral Tablet', 'Labetalol hydrochloride 5 MG/ML Injectable Solution', '150 ML glucose 50 MG/ML Injection', '168 HR Clonidine 0.00417 MG/HR Transdermal Patch [Catapres-TTS-1]', 'Hydromorphone Hydrochloride 2 MG Oral Tablet', 'Hydromorphone Hydrochloride 4 MG Oral Tablet [Dilaudid]', 'citalopram 20 MG Oral Tablet', 'prednisone 1 MG Oral Tablet', 'lidocaine 0.05 MG/MG Medicated Patch [Lidoderm]', 'sevelamer hydrochloride 400 MG Oral Tablet [RenaGel]', 'gabapentin 100 MG Oral Capsule', 'bisacodyl 5 MG Delayed Release Oral Tablet', 'bisacodyl 10 MG Rectal Suppository', 'sennosides, USP 8.6 MG Oral Tablet', 'docusate sodium 10 MG/ML Oral Suspension', 'heparin sodium, porcine 5000 UNT/ML Injectable Solution', 'pantoprazole 40 MG Delayed Release Oral Tablet [Protonix]', 'Acetaminophen 325 MG Oral Tablet', 'alprazolam 0.25 MG Oral Tablet', '168 HR clonidine 0.0125 MG/HR Transdermal System [Catapres]', 'levetiracetam 500 MG Oral Tablet [Keppra]', '0', '2 ML ondansetron 2 MG/ML Injection'], diagnoses=['Hypertensive chronic kidney disease, malignant, with chronic kidney disease stage V or end stage renal disease', 'End stage renal disease', 'Chronic glomerulonephritis in diseases classified elsewhere', 'Other primary cardiomyopathies', 'Other ascites', 'Thrombocytopenia, unspecified', 'Compression of vein', '2841', 'Systemic lupus erythematosus', 'Abdominal pain, unspecified site', 'Other acute pain', 'Other chronic pain', 'Gastric ulcer, unspecified as acute or chronic, without mention of hemorrhage or perforation, without mention of obstruction', 'Esophageal reflux', 'Depressive disorder, not elsewhere classified', 'Anemia in chronic kidney disease', 'Anemia of other chronic disease', 'Epilepsy, unspecified, without mention of intractable epilepsy', 'Other disorders of bone and cartilage', 'Obstructive sleep apnea (adult)(pediatric)', 'Other specified peripheral vascular diseases', 'Mild dysplasia of cervix', 'Noncompliance with renal dialysis', 'Personal history of venous thrombosis and embolism', 'Long-term (current) use of anticoagulants'], labevent=[]), Visit(visit_id=189332, admittime=Timestamp('2142-08-28 19:48:00'), dischtime=Timestamp('2142-08-30 15:20:00'), deathtime=Timestamp('2142-08-30 15:20:00'), procedures=['Hemodialysis', 'Cardiopulmonary resuscitation, not otherwise specified', 'Injection or infusion of thrombolytic agent', 'Transfusion of packed cells', 'Venous catheterization, not elsewhere classified', 'Insertion of endotracheal tube'], prescriptions=['1000 ML sodium chloride 4.5 MG/ML Injection', '0', 'levetiracetam 500 MG Oral Tablet [Keppra]', 'alprazolam 0.25 MG Oral Tablet', 'gabapentin 100 MG Oral Capsule', 'Hydralazine Hydrochloride 50 MG Oral Tablet', 'labetalol hydrochloride 200 MG Oral Tablet', 'prednisone 1 MG Oral Tablet', '24 HR Nifedipine 90 MG Extended Release Oral Tablet [Adalat]', 'aliskiren 150 MG Oral Tablet [Tekturna]', 'Acetaminophen 325 MG Oral Tablet', 'lidocaine 0.05 MG/MG Medicated Patch [Lidoderm]', 'citalopram 20 MG Oral Tablet', 'pantoprazole 40 MG Delayed Release Oral Tablet [Protonix]', 'Hydromorphone Hydrochloride 2 MG Oral Tablet', 'bisacodyl 5 MG Delayed Release Oral Tablet', 'bisacodyl 10 MG Rectal Suppository', 'sennosides, USP 8.6 MG Oral Tablet', 'heparin sodium, porcine 5000 UNT/ML Injectable Solution', 'Docusate Sodium 100 MG Oral Capsule [DOK]', 'sodium polystyrene sulfonate 250 MG/ML Oral Suspension [Kionex]', '2 ML ondansetron 2 MG/ML Injection', '168 HR Clonidine 0.00417 MG/HR Transdermal Patch [Catapres-TTS-1]', '168 HR clonidine 0.0125 MG/HR Transdermal System [Catapres]'], diagnoses=['2766', 'End stage renal disease', 'Hypertensive chronic kidney disease, malignant, with chronic kidney disease stage V or end stage renal disease', 'Chronic glomerulonephritis in diseases classified elsewhere', 'Constrictive pericarditis', 'Other primary cardiomyopathies', 'Other ascites', 'Compression of vein', '2841', 'Cardiac arrest', 'Personal history of noncompliance with medical treatment, presenting hazards to health', 'Hyperpotassemia', 'Systemic lupus erythematosus', 'Abdominal pain, unspecified site', 'Other chronic pain', 'Gastric ulcer, unspecified as acute or chronic, without mention of hemorrhage or perforation, without mention of obstruction', 'Esophageal reflux', 'Anemia in chronic kidney disease', 'Thrombocytopenia, unspecified', 'Epilepsy, unspecified, without mention of intractable epilepsy', 'Obstructive sleep apnea (adult)(pediatric)', 'Mild dysplasia of cervix', 'Other specified peripheral vascular diseases', 'Personal history of venous thrombosis and embolism', 'Long-term (current) use of anticoagulants'], labevent=[])])"
      ]
     },
     "execution_count": 121,
     "metadata": {},
     "output_type": "execute_result"
    }
   ],
   "source": [
    "from tqdm import tqdm\n",
    "ehrBase = loadPkl(\"../dataset_processed/MIMICIII_data/ehrBase_v3.pkl\")\n",
    "\n",
    "# 遍历 table 中的每一行数据\n",
    "for index, row in tqdm(table.iterrows(), total=len(table), desc=\"Processing rows\"):\n",
    "    subject_id = row['SUBJECT_ID']\n",
    "    hadm_id = row['HADM_ID']\n",
    "    ndc_code = row['NDC']\n",
    "    \n",
    "    if str(subject_id) in ehrBase:\n",
    "        patient = ehrBase[subject_id]\n",
    "        \n",
    "        #print('id 匹配')\n",
    "        for visit in patient.visits:\n",
    "            #print('visit 匹配', type(visit.visit_id))\n",
    "            if str(visit.visit_id) == hadm_id:\n",
    "                #print('visit_id 匹配')\n",
    "                visit.prescriptions.append(ndc_code)\n",
    "                ehrBase[subject_id] = patient\n",
    "                break\n",
    "\n",
    "ehrBase['109']"
   ]
  },
  {
   "cell_type": "markdown",
   "metadata": {},
   "source": [
    "### 3.6 实验室检查数据"
   ]
  },
  {
   "cell_type": "markdown",
   "metadata": {},
   "source": [
    "构造映射字典"
   ]
  },
  {
   "cell_type": "code",
   "execution_count": 133,
   "metadata": {},
   "outputs": [
    {
     "data": {
      "text/plain": [
       "753"
      ]
     },
     "execution_count": 133,
     "metadata": {},
     "output_type": "execute_result"
    }
   ],
   "source": [
    "# 读取 csv 映射表来构造 映射字典 （因为 lookup 函数在查 3601 的时候 内部总是 改写为 36.01）\n",
    "mapper = readcsv('../dataset/MIMICIII_data/', 'D_LABITEMS.csv')[['ITEMID', 'LABEL', 'FLUID']]  # 测量的概念，测量的物质\n",
    "\n",
    "mid = dict()\n",
    "for index, row in mapper.iterrows():\n",
    "    mid[str(row['ITEMID'])] = [str(row['LABEL']), str(row['FLUID'])]  # 第一个表示 测量的概念，第二个元素表示 测量的物质\n",
    "\n",
    "mapper = mid\n",
    "len(mapper)"
   ]
  },
  {
   "cell_type": "markdown",
   "metadata": {},
   "source": [
    "读取数据 进行映射"
   ]
  },
  {
   "cell_type": "code",
   "execution_count": null,
   "metadata": {},
   "outputs": [],
   "source": [
    "from collections import Counter\n",
    "\n",
    "# 初始化计数器\n",
    "missing_codes = Counter() # 记录一下 没有映射成功的字段\n",
    "\n",
    "table = readcsv('../dataset/MIMICIII_data/', 'LABEVENTS.csv')\n",
    "fliter = ['SUBJECT_ID', 'HADM_ID', 'ITEMID', 'CHARTTIME', 'VALUE', 'VALUEUOM', 'FLAG']  # 包括：检查项目，检查时间(暂时忽略), 检查值，单位，是否正常\n",
    "table = table[fliter]\n",
    "\n",
    "# 去重\n",
    "table = table.drop_duplicates()\n",
    "print('读取 和 去重完毕')\n",
    "\n",
    "# 拼接 VALUE 和 VALUEUOM 字段，并将结果存入 VALUE 字段\n",
    "table['VALUE'] = table.apply(lambda row: f\"{row['VALUE']} {row['VALUEUOM']}\" if pd.notna(row['VALUEUOM']) else row['VALUE'], axis=1)\n",
    "print('拼接完毕')\n",
    "\n",
    "# 清空 VALUEUOM 字段的所有内容，设置为 NaN\n",
    "table['VALUEUOM'] = pd.NA\n",
    "print('清空完毕')\n",
    "\n",
    "# 将 VALUEUOM 字段改名\n",
    "table.rename(columns={'VALUEUOM': 'ITEMCONTENT'}, inplace=True)\n"
   ]
  },
  {
   "cell_type": "code",
   "execution_count": 141,
   "metadata": {},
   "outputs": [
    {
     "data": {
      "text/html": [
       "<div>\n",
       "<style scoped>\n",
       "    .dataframe tbody tr th:only-of-type {\n",
       "        vertical-align: middle;\n",
       "    }\n",
       "\n",
       "    .dataframe tbody tr th {\n",
       "        vertical-align: top;\n",
       "    }\n",
       "\n",
       "    .dataframe thead th {\n",
       "        text-align: right;\n",
       "    }\n",
       "</style>\n",
       "<table border=\"1\" class=\"dataframe\">\n",
       "  <thead>\n",
       "    <tr style=\"text-align: right;\">\n",
       "      <th></th>\n",
       "      <th>SUBJECT_ID</th>\n",
       "      <th>HADM_ID</th>\n",
       "      <th>ITEMID</th>\n",
       "      <th>CHARTTIME</th>\n",
       "      <th>VALUE</th>\n",
       "      <th>FLAG</th>\n",
       "      <th>ITEMCONTENT</th>\n",
       "    </tr>\n",
       "  </thead>\n",
       "  <tbody>\n",
       "    <tr>\n",
       "      <th>0</th>\n",
       "      <td>3</td>\n",
       "      <td>NaN</td>\n",
       "      <td>pH</td>\n",
       "      <td>2101-10-12 16:07:00</td>\n",
       "      <td>7.39 units</td>\n",
       "      <td>NaN</td>\n",
       "      <td>&lt;NA&gt;</td>\n",
       "    </tr>\n",
       "    <tr>\n",
       "      <th>1</th>\n",
       "      <td>3</td>\n",
       "      <td>NaN</td>\n",
       "      <td>50800</td>\n",
       "      <td>2101-10-12 18:17:00</td>\n",
       "      <td>ART</td>\n",
       "      <td>NaN</td>\n",
       "      <td>&lt;NA&gt;</td>\n",
       "    </tr>\n",
       "    <tr>\n",
       "      <th>2</th>\n",
       "      <td>3</td>\n",
       "      <td>NaN</td>\n",
       "      <td>50802</td>\n",
       "      <td>2101-10-12 18:17:00</td>\n",
       "      <td>-1 mEq/L</td>\n",
       "      <td>NaN</td>\n",
       "      <td>&lt;NA&gt;</td>\n",
       "    </tr>\n",
       "    <tr>\n",
       "      <th>3</th>\n",
       "      <td>3</td>\n",
       "      <td>NaN</td>\n",
       "      <td>50804</td>\n",
       "      <td>2101-10-12 18:17:00</td>\n",
       "      <td>22 mEq/L</td>\n",
       "      <td>NaN</td>\n",
       "      <td>&lt;NA&gt;</td>\n",
       "    </tr>\n",
       "    <tr>\n",
       "      <th>4</th>\n",
       "      <td>3</td>\n",
       "      <td>NaN</td>\n",
       "      <td>50808</td>\n",
       "      <td>2101-10-12 18:17:00</td>\n",
       "      <td>0.93 mmol/L</td>\n",
       "      <td>abnormal</td>\n",
       "      <td>&lt;NA&gt;</td>\n",
       "    </tr>\n",
       "  </tbody>\n",
       "</table>\n",
       "</div>"
      ],
      "text/plain": [
       "  SUBJECT_ID HADM_ID ITEMID            CHARTTIME        VALUE      FLAG  \\\n",
       "0          3     NaN     pH  2101-10-12 16:07:00   7.39 units       NaN   \n",
       "1          3     NaN  50800  2101-10-12 18:17:00          ART       NaN   \n",
       "2          3     NaN  50802  2101-10-12 18:17:00     -1 mEq/L       NaN   \n",
       "3          3     NaN  50804  2101-10-12 18:17:00     22 mEq/L       NaN   \n",
       "4          3     NaN  50808  2101-10-12 18:17:00  0.93 mmol/L  abnormal   \n",
       "\n",
       "  ITEMCONTENT  \n",
       "0        <NA>  \n",
       "1        <NA>  \n",
       "2        <NA>  \n",
       "3        <NA>  \n",
       "4        <NA>  "
      ]
     },
     "execution_count": 141,
     "metadata": {},
     "output_type": "execute_result"
    }
   ],
   "source": [
    "table.head()"
   ]
  },
  {
   "cell_type": "code",
   "execution_count": 157,
   "metadata": {},
   "outputs": [
    {
     "name": "stderr",
     "output_type": "stream",
     "text": [
      "Task processing:: 100%|██████████| 27851392/27851392 [37:48<00:00, 12276.38it/s]\n"
     ]
    }
   ],
   "source": [
    "# 对该列 每个元素  进行 medCode 到 自然语言 转换\n",
    "for index, row in tqdm(table.iterrows(), total=len(table), desc=\"Task processing:\"):\n",
    "    code = str(row['ITEMID'])\n",
    "    if code in mapper:\n",
    "        table.at[index, 'ITEMID'] = mapper[code][0]\n",
    "        table.at[index, 'ITEMCONTENT'] = mapper[code][1]\n",
    "    else:\n",
    "        # 如果代码不在映射字典中，保持原样并记录\n",
    "        missing_codes[code] += 1"
   ]
  },
  {
   "cell_type": "code",
   "execution_count": 159,
   "metadata": {},
   "outputs": [
    {
     "data": {
      "text/html": [
       "<div>\n",
       "<style scoped>\n",
       "    .dataframe tbody tr th:only-of-type {\n",
       "        vertical-align: middle;\n",
       "    }\n",
       "\n",
       "    .dataframe tbody tr th {\n",
       "        vertical-align: top;\n",
       "    }\n",
       "\n",
       "    .dataframe thead th {\n",
       "        text-align: right;\n",
       "    }\n",
       "</style>\n",
       "<table border=\"1\" class=\"dataframe\">\n",
       "  <thead>\n",
       "    <tr style=\"text-align: right;\">\n",
       "      <th></th>\n",
       "      <th>SUBJECT_ID</th>\n",
       "      <th>HADM_ID</th>\n",
       "      <th>ITEMID</th>\n",
       "      <th>CHARTTIME</th>\n",
       "      <th>VALUE</th>\n",
       "      <th>FLAG</th>\n",
       "      <th>ITEMCONTENT</th>\n",
       "    </tr>\n",
       "  </thead>\n",
       "  <tbody>\n",
       "    <tr>\n",
       "      <th>27854050</th>\n",
       "      <td>96443</td>\n",
       "      <td>103219</td>\n",
       "      <td>Bicarbonate</td>\n",
       "      <td>2109-12-30 01:40:00</td>\n",
       "      <td>26 mEq/L</td>\n",
       "      <td>NaN</td>\n",
       "      <td>Blood</td>\n",
       "    </tr>\n",
       "    <tr>\n",
       "      <th>27854051</th>\n",
       "      <td>96443</td>\n",
       "      <td>103219</td>\n",
       "      <td>Bilirubin, Total</td>\n",
       "      <td>2109-12-30 01:40:00</td>\n",
       "      <td>2.1 mg/dL</td>\n",
       "      <td>abnormal</td>\n",
       "      <td>Blood</td>\n",
       "    </tr>\n",
       "    <tr>\n",
       "      <th>27854052</th>\n",
       "      <td>96443</td>\n",
       "      <td>103219</td>\n",
       "      <td>Chloride</td>\n",
       "      <td>2109-12-30 01:40:00</td>\n",
       "      <td>97 mEq/L</td>\n",
       "      <td>NaN</td>\n",
       "      <td>Blood</td>\n",
       "    </tr>\n",
       "    <tr>\n",
       "      <th>27854053</th>\n",
       "      <td>96443</td>\n",
       "      <td>103219</td>\n",
       "      <td>Creatine Kinase, MB Isoenzyme</td>\n",
       "      <td>2109-12-30 01:40:00</td>\n",
       "      <td>2 ng/mL</td>\n",
       "      <td>NaN</td>\n",
       "      <td>Blood</td>\n",
       "    </tr>\n",
       "    <tr>\n",
       "      <th>27854054</th>\n",
       "      <td>96443</td>\n",
       "      <td>103219</td>\n",
       "      <td>Creatinine</td>\n",
       "      <td>2109-12-30 01:40:00</td>\n",
       "      <td>1.6 mg/dL</td>\n",
       "      <td>abnormal</td>\n",
       "      <td>Blood</td>\n",
       "    </tr>\n",
       "  </tbody>\n",
       "</table>\n",
       "</div>"
      ],
      "text/plain": [
       "         SUBJECT_ID HADM_ID                         ITEMID  \\\n",
       "27854050      96443  103219                    Bicarbonate   \n",
       "27854051      96443  103219               Bilirubin, Total   \n",
       "27854052      96443  103219                       Chloride   \n",
       "27854053      96443  103219  Creatine Kinase, MB Isoenzyme   \n",
       "27854054      96443  103219                     Creatinine   \n",
       "\n",
       "                    CHARTTIME      VALUE      FLAG ITEMCONTENT  \n",
       "27854050  2109-12-30 01:40:00   26 mEq/L       NaN       Blood  \n",
       "27854051  2109-12-30 01:40:00  2.1 mg/dL  abnormal       Blood  \n",
       "27854052  2109-12-30 01:40:00   97 mEq/L       NaN       Blood  \n",
       "27854053  2109-12-30 01:40:00    2 ng/mL       NaN       Blood  \n",
       "27854054  2109-12-30 01:40:00  1.6 mg/dL  abnormal       Blood  "
      ]
     },
     "execution_count": 159,
     "metadata": {},
     "output_type": "execute_result"
    }
   ],
   "source": [
    "table.tail()"
   ]
  },
  {
   "cell_type": "code",
   "execution_count": null,
   "metadata": {},
   "outputs": [
    {
     "name": "stdout",
     "output_type": "stream",
     "text": [
      "    SUBJECT_ID HADM_ID                ITEMID            CHARTTIME      VALUE  \\\n",
      "160          3  145834             Anion Gap  2101-10-20 16:40:00   17 mEq/L   \n",
      "161          3  145834           Bicarbonate  2101-10-20 16:40:00   25 mEq/L   \n",
      "162          3  145834        Calcium, Total  2101-10-20 16:40:00  8.2 mg/dL   \n",
      "163          3  145834              Chloride  2101-10-20 16:40:00   99 mEq/L   \n",
      "164          3  145834  Creatine Kinase (CK)  2101-10-20 16:40:00    48 IU/L   \n",
      "\n",
      "         FLAG ITEMCONTENT  \n",
      "160       NaN       Blood  \n",
      "161       NaN       Blood  \n",
      "162  abnormal       Blood  \n",
      "163  abnormal       Blood  \n",
      "164       NaN       Blood   22245034\n"
     ]
    }
   ],
   "source": [
    "# 删除 HADM_ID 为空的行\n",
    "table = table.dropna(subset=['HADM_ID'])\n",
    "print(table.head(), len(table))"
   ]
  },
  {
   "cell_type": "markdown",
   "metadata": {},
   "source": [
    "未映射成功的部分：\n",
    "\n",
    "Counter({'pH': 5,\n",
    "         'SPECIMEN TYPE': 1,\n",
    "         'Base Excess': 1,\n",
    "         'Calculated Total CO2': 1,\n",
    "         'Free Calcium': 1,\n",
    "         'Intubated': 1})"
   ]
  },
  {
   "cell_type": "markdown",
   "metadata": {},
   "source": [
    "进行 ehrBase 数据填充"
   ]
  },
  {
   "cell_type": "code",
   "execution_count": 169,
   "metadata": {},
   "outputs": [
    {
     "name": "stdout",
     "output_type": "stream",
     "text": [
      "已成功加载文件：../dataset_processed/MIMICIII_data/ehrBase_v4.pkl\n"
     ]
    },
    {
     "name": "stderr",
     "output_type": "stream",
     "text": [
      "Processing rows: 100%|██████████| 22245034/22245034 [21:06<00:00, 17569.81it/s]\n"
     ]
    }
   ],
   "source": [
    "from tqdm import tqdm\n",
    "ehrBase = loadPkl(\"../dataset_processed/MIMICIII_data/ehrBase_v4.pkl\")\n",
    "\n",
    "# 遍历 table 中的每一行数据\n",
    "for index, row in tqdm(table.iterrows(), total=len(table), desc=\"Processing rows\"):\n",
    "    subject_id = row['SUBJECT_ID']\n",
    "    hadm_id = row['HADM_ID']\n",
    "    item = row['ITEMID']\n",
    "    value = row['VALUE']\n",
    "    flag = row['FLAG']\n",
    "    itemcontent = row['ITEMCONTENT']  # 测量物质\n",
    "    \n",
    "    record = {\n",
    "    'item': item,\n",
    "    'value': value,\n",
    "    'flag': flag,\n",
    "    'itemcontent': itemcontent\n",
    "}\n",
    "\n",
    "    if str(subject_id) in ehrBase:\n",
    "        patient = ehrBase[subject_id]\n",
    "        \n",
    "        #print('id 匹配')\n",
    "        for visit in patient.visits:\n",
    "            #print('visit 匹配', type(visit.visit_id))\n",
    "            if str(visit.visit_id) == hadm_id:\n",
    "                #print('visit_id 匹配')\n",
    "                visit.labevent.append(record)\n",
    "                ehrBase[subject_id] = patient\n",
    "                break\n",
    "            "
   ]
  },
  {
   "cell_type": "code",
   "execution_count": 177,
   "metadata": {},
   "outputs": [
    {
     "data": {
      "text/plain": [
       "635"
      ]
     },
     "execution_count": 177,
     "metadata": {},
     "output_type": "execute_result"
    }
   ],
   "source": [
    "len(ehrBase['211'].visits[0].labevent)"
   ]
  },
  {
   "cell_type": "markdown",
   "metadata": {},
   "source": [
    "## 4. 将 ehrBase 保存一波"
   ]
  },
  {
   "cell_type": "markdown",
   "metadata": {},
   "source": [
    "### 4.1 版本1"
   ]
  },
  {
   "cell_type": "code",
   "execution_count": null,
   "metadata": {},
   "outputs": [
    {
     "name": "stdout",
     "output_type": "stream",
     "text": [
      "对象已成功保存到 ../dataset_processed/MIMICIII_data\\ehrBase_v1.pkl\n"
     ]
    }
   ],
   "source": [
    "# 运行完 3.2 进行一次保存\n",
    "savePkl(outputdir='../dataset_processed/MIMICIII_data', filename='ehrBase_v1.pkl', content=ehrBase)  # 版本一：包含 病人 id, 病人 住院号 等基本信息"
   ]
  },
  {
   "cell_type": "code",
   "execution_count": null,
   "metadata": {},
   "outputs": [
    {
     "name": "stdout",
     "output_type": "stream",
     "text": [
      "已成功加载文件：../dataset_processed/MIMICIII_data/ehrBase_v1.pkl\n",
      "列表元素示例 Patient(expire_flag=0, visits=[Visit(visit_id=116935, admittime=Timestamp('2149-12-17 20:41:00'), dischtime=Timestamp('2149-12-31 14:55:00'), deathtime=NaT, procedures=[], prescriptions=[], diagnoses=[], labevent=[]), Visit(visit_id=149546, admittime=Timestamp('2155-02-03 20:16:00'), dischtime=Timestamp('2155-02-14 11:15:00'), deathtime=NaT, procedures=[], prescriptions=[], diagnoses=[], labevent=[]), Visit(visit_id=158975, admittime=Timestamp('2156-04-27 15:33:00'), dischtime=Timestamp('2156-05-14 15:30:00'), deathtime=NaT, procedures=[], prescriptions=[], diagnoses=[], labevent=[])]) 长度： 46520\n"
     ]
    }
   ],
   "source": [
    "ehrBase = loadPkl(\"../dataset_processed/MIMICIII_data/ehrBase_v1.pkl\")\n",
    "print('字典元素示例', ehrBase['249'], '长度：', len(ehrBase))"
   ]
  },
  {
   "cell_type": "markdown",
   "metadata": {},
   "source": [
    "### 4.2 版本2"
   ]
  },
  {
   "cell_type": "code",
   "execution_count": 93,
   "metadata": {},
   "outputs": [
    {
     "name": "stdout",
     "output_type": "stream",
     "text": [
      "对象已成功保存到 ../dataset_processed/MIMICIII_data\\ehrBase_v2.pkl\n"
     ]
    }
   ],
   "source": [
    "# 运行完 3.3 进行一次保存\n",
    "savePkl(outputdir='../dataset_processed/MIMICIII_data', filename='ehrBase_v2.pkl', content=ehrBase)  # 版本二：增加病人的 手术信息"
   ]
  },
  {
   "cell_type": "code",
   "execution_count": null,
   "metadata": {},
   "outputs": [
    {
     "name": "stdout",
     "output_type": "stream",
     "text": [
      "已成功加载文件：../dataset_processed/MIMICIII_data/ehrBase_v2.pkl\n",
      "列表元素示例 Patient(expire_flag=0, visits=[Visit(visit_id=116935, admittime=Timestamp('2149-12-17 20:41:00'), dischtime=Timestamp('2149-12-31 14:55:00'), deathtime=NaT, procedures=['Continuous invasive mechanical ventilation for 96 consecutive hours or more', 'Left heart cardiac catheterization', 'Coronary arteriography using two catheters', 'Other and unspecified coronary arteriography', 'Venous catheterization, not elsewhere classified', 'Insertion of endotracheal tube', 'Transfusion of packed cells', 'Enteral infusion of concentrated nutritional substances', 'Transfusion of other serum'], prescriptions=[], diagnoses=[], labevent=[]), Visit(visit_id=149546, admittime=Timestamp('2155-02-03 20:16:00'), dischtime=Timestamp('2155-02-14 11:15:00'), deathtime=NaT, procedures=['Endovascular removal of obstruction from head and neck vessel(s)', 'Procedure on single vessel', 'Arteriography of cerebral arteries', 'Injection or infusion of thrombolytic agent'], prescriptions=[], diagnoses=[], labevent=[]), Visit(visit_id=158975, admittime=Timestamp('2156-04-27 15:33:00'), dischtime=Timestamp('2156-05-14 15:30:00'), deathtime=NaT, procedures=['Open and other right hemicolectomy', 'Other small-to-large intestinal anastomosis', 'Closed [endoscopic] biopsy of large intestine', 'Endoscopic polypectomy of large intestine', 'Percutaneous abdominal drainage'], prescriptions=[], diagnoses=[], labevent=[])]) 长度： 46520\n"
     ]
    }
   ],
   "source": [
    "ehrBase = loadPkl(\"../dataset_processed/MIMICIII_data/ehrBase_v2.pkl\")\n",
    "print('字典元素示例', ehrBase['249'], '长度：', len(ehrBase))"
   ]
  },
  {
   "cell_type": "markdown",
   "metadata": {},
   "source": [
    "### 4.3 版本3"
   ]
  },
  {
   "cell_type": "code",
   "execution_count": 111,
   "metadata": {},
   "outputs": [
    {
     "name": "stdout",
     "output_type": "stream",
     "text": [
      "对象已成功保存到 ../dataset_processed/MIMICIII_data\\ehrBase_v3.pkl\n"
     ]
    }
   ],
   "source": [
    "# 运行完 3.4 进行一次保存\n",
    "savePkl(outputdir='../dataset_processed/MIMICIII_data', filename='ehrBase_v3.pkl', content=ehrBase)  # 版本三：增加病人的 诊断信息"
   ]
  },
  {
   "cell_type": "code",
   "execution_count": 113,
   "metadata": {},
   "outputs": [
    {
     "name": "stdout",
     "output_type": "stream",
     "text": [
      "已成功加载文件：../dataset_processed/MIMICIII_data/ehrBase_v3.pkl\n",
      "字典元素示例 Patient(expire_flag=0, visits=[Visit(visit_id=116935, admittime=Timestamp('2149-12-17 20:41:00'), dischtime=Timestamp('2149-12-31 14:55:00'), deathtime=NaT, procedures=['Continuous invasive mechanical ventilation for 96 consecutive hours or more', 'Left heart cardiac catheterization', 'Coronary arteriography using two catheters', 'Other and unspecified coronary arteriography', 'Venous catheterization, not elsewhere classified', 'Insertion of endotracheal tube', 'Transfusion of packed cells', 'Enteral infusion of concentrated nutritional substances', 'Transfusion of other serum'], prescriptions=[], diagnoses=['Chronic obstructive asthma with (acute) exacerbation', 'Other pulmonary insufficiency, not elsewhere classified', 'Subendocardial infarction, initial episode of care', 'Acute combined systolic and diastolic heart failure', 'Hematoma complicating a procedure', 'Acute kidney failure, unspecified', 'Atrial fibrillation', 'Acute bronchitis', 'Hypotension, unspecified', 'Coronary atherosclerosis of native coronary artery', 'Coronary atherosclerosis of autologous vein bypass graft', 'Unspecified acquired hypothyroidism', 'Nonspecific abnormal findings in stool contents', 'Diabetes mellitus without mention of complication, type II or unspecified type, not stated as uncontrolled', 'Esophageal reflux', 'Anemia, unspecified'], labevent=[]), Visit(visit_id=149546, admittime=Timestamp('2155-02-03 20:16:00'), dischtime=Timestamp('2155-02-14 11:15:00'), deathtime=NaT, procedures=['Endovascular removal of obstruction from head and neck vessel(s)', 'Procedure on single vessel', 'Arteriography of cerebral arteries', 'Injection or infusion of thrombolytic agent'], prescriptions=[], diagnoses=['Angiodysplasia of intestine with hemorrhage', 'Subendocardial infarction, initial episode of care', 'Cerebral embolism with cerebral infarction', 'Acute kidney failure, unspecified', 'Acute posthemorrhagic anemia', 'Other specified hemiplegia and hemiparesis affecting unspecified side', 'Coronary atherosclerosis of autologous vein bypass graft', 'Atrial fibrillation', 'Congestive heart failure, unspecified', 'Hypertensive chronic kidney disease, unspecified, with chronic kidney disease stage I through stage IV, or unspecified', 'Dysarthria', 'Diabetes mellitus without mention of complication, type II or unspecified type, not stated as uncontrolled', 'Chronic kidney disease, unspecified', 'Other and unspecified hyperlipidemia', 'Chronic obstructive asthma, unspecified', 'Esophageal reflux', 'Unspecified acquired hypothyroidism'], labevent=[]), Visit(visit_id=158975, admittime=Timestamp('2156-04-27 15:33:00'), dischtime=Timestamp('2156-05-14 15:30:00'), deathtime=NaT, procedures=['Open and other right hemicolectomy', 'Other small-to-large intestinal anastomosis', 'Closed [endoscopic] biopsy of large intestine', 'Endoscopic polypectomy of large intestine', 'Percutaneous abdominal drainage'], prescriptions=[], diagnoses=['Malignant neoplasm of cecum', 'Acute systolic heart failure', 'Secondary malignant neoplasm of skin', 'Unspecified protein-calorie malnutrition', 'Acute kidney failure, unspecified', 'Paralytic ileus', 'Hemorrhage complicating a procedure', 'Seroma complicating a procedure', 'Atrial fibrillation', 'Congestive heart failure, unspecified', 'Hypertensive chronic kidney disease, unspecified, with chronic kidney disease stage I through stage IV, or unspecified', 'Chronic kidney disease, Stage III (moderate)', 'Other and unspecified angina pectoris', 'Diabetes mellitus without mention of complication, type II or unspecified type, not stated as uncontrolled', 'Esophageal reflux', 'Unspecified acquired hypothyroidism', 'Chronic obstructive asthma, unspecified', 'Old myocardial infarction', 'Aortocoronary bypass status', 'Personal history of transient ischemic attack (TIA), and cerebral infarction without residual deficits', 'Do not resuscitate status', 'Other specified surgical operations and procedures causing abnormal patient reaction, or later complication, without mention of misadventure at time of operation', 'Iron deficiency anemia secondary to blood loss (chronic)', 'Other iatrogenic hypotension', 'Gross hematuria', 'Anticoagulants causing adverse effects in therapeutic use'], labevent=[])]) 长度： 46520\n"
     ]
    }
   ],
   "source": [
    "ehrBase = loadPkl(\"../dataset_processed/MIMICIII_data/ehrBase_v3.pkl\")\n",
    "print('字典元素示例', ehrBase['249'], '长度：', len(ehrBase))"
   ]
  },
  {
   "cell_type": "markdown",
   "metadata": {},
   "source": [
    "### 4.4 版本4"
   ]
  },
  {
   "cell_type": "code",
   "execution_count": 123,
   "metadata": {},
   "outputs": [
    {
     "name": "stdout",
     "output_type": "stream",
     "text": [
      "对象已成功保存到 ../dataset_processed/MIMICIII_data\\ehrBase_v4.pkl\n"
     ]
    }
   ],
   "source": [
    "# 运行完 3.5 进行一次保存\n",
    "savePkl(outputdir='../dataset_processed/MIMICIII_data', filename='ehrBase_v4.pkl', content=ehrBase)  # 版本四：增加病人的 用药信息\n"
   ]
  },
  {
   "cell_type": "code",
   "execution_count": 124,
   "metadata": {},
   "outputs": [
    {
     "name": "stdout",
     "output_type": "stream",
     "text": [
      "已成功加载文件：../dataset_processed/MIMICIII_data/ehrBase_v4.pkl\n",
      "字典元素示例 Patient(expire_flag=0, visits=[Visit(visit_id=116935, admittime=Timestamp('2149-12-17 20:41:00'), dischtime=Timestamp('2149-12-31 14:55:00'), deathtime=NaT, procedures=['Continuous invasive mechanical ventilation for 96 consecutive hours or more', 'Left heart cardiac catheterization', 'Coronary arteriography using two catheters', 'Other and unspecified coronary arteriography', 'Venous catheterization, not elsewhere classified', 'Insertion of endotracheal tube', 'Transfusion of packed cells', 'Enteral infusion of concentrated nutritional substances', 'Transfusion of other serum'], prescriptions=['lorazepam 0.5 MG Oral Tablet', 'lorazepam 1 MG Oral Tablet', 'trandolapril 1 MG Oral Tablet [Mavik]', '0', '250 ML heparin sodium, porcine 100 UNT/ML Injection', 'Vancomycin 100 MG/ML Injectable Solution [Vancocin]', 'Captopril 12.5 MG Oral Tablet [Capoten]', 'Nitroglycerin 0.02 MG/MG Topical Ointment [Nitro-Bid]', 'Prednisone 20 MG Oral Tablet', '17314931102', 'Levofloxacin 250 MG Oral Tablet [Levaquin]', 'Morphine Sulfate 8 MG/ML Injectable Solution', 'Furosemide 10 MG/ML Injectable Solution', '100 ML sodium chloride 9 MG/ML Injection', 'Vitamin K 1 10 MG/ML Injectable Solution', 'insulin, regular, human 100 UNT/ML Injectable Solution [Humulin R]', 'Captopril 25 MG Oral Tablet', 'Nitroglycerin 0.4 MG/ML Injectable Solution', '50 ML potassium chloride 0.4 MEQ/ML Injection', 'racepinephrine 22.5 MG/ML Inhalation Solution [S-2]', '1 ML hydralazine hydrochloride 20 MG/ML Injection', 'metoprolol tartrate 25 MG Oral Tablet', 'heparin sodium, porcine 5000 UNT/ML Injectable Solution', 'aspirin 81 MG Chewable Tablet', 'Ipratropium Bromide 0.2 MG/ML Inhalant Solution', 'Prednisone 10 MG Oral Tablet', 'Aspirin 325 MG Oral Tablet', '200 ACTUAT Albuterol 0.09 MG/ACTUAT / Ipratropium Bromide 0.018 MG/ACTUAT Metered Dose Inhaler [Combivent]', 'metoprolol tartrate 50 MG Oral Tablet', 'Acetaminophen 325 MG Oral Tablet', 'Potassium Chloride 10 MEQ Extended Release Oral Capsule', 'Guaifenesin 20 MG/ML Oral Solution', '2 ML Magnesium Sulfate 500 MG/ML Injection', '1000 ML glucose 50 MG/ML / sodium chloride 4.5 MG/ML Injection', 'isosorbide dinitrate 10 MG Oral Tablet', 'pantoprazole 40 MG Delayed Release Oral Tablet [Protonix]', '50 ML glucose 50 MG/ML Injection', '10 ML Furosemide 10 MG/ML Injection', 'magnesium oxide 400 MG Oral Tablet [Mag-Ox 400]', 'Isosorbide Mononitrate 30 MG 24 Hour Extended Release Tablet [Imdur]', 'Nitroglycerin 0.3 MG Sublingual Tablet [Nitroquick]', '250 ML glucose 50 MG/ML Injection', 'Lisinopril 5 MG Oral Tablet [Zestril]', 'Nystatin 100000 UNT/ML Oral Suspension', 'Potassium Chloride 1.33 MEQ/ML Oral Solution [Kay Ciel]', '24 HR Diltiazem Hydrochloride 120 MG Extended Release Capsule [Tiazac]', 'warfarin sodium 1 MG Oral Tablet [Coumadin]', '200 ACTUAT Ipratropium Bromide 0.018 MG/ACTUAT Metered Dose Inhaler [Atrovent]', 'Calcitriol 0.00025 MG Oral Capsule [Rocaltrol]', '60 ACTUAT Fluticasone propionate 0.11 MG/ACTUAT Metered Dose Inhaler [Flovent]', 'atorvastatin 40 MG Oral Tablet [Lipitor]', '15127020017', 'levothyroxine sodium 0.075 MG Oral Tablet [Synthroid]', '10 ML diltiazem hydrochloride 5 MG/ML Injection', 'diltiazem hydrochloride 30 MG Oral Tablet', 'Methylprednisolone 62.5 MG/ML Injectable Solution [Solu-Medrol]', 'albuterol 0.83 MG/ML Inhalation Solution', '5 ML metoprolol tartrate 1 MG/ML Injection', 'diltiazem hydrochloride 60 MG Oral Tablet', 'diltiazem hydrochloride 90 MG Oral Tablet', 'azithromycin 250 MG Oral Tablet [Zithromax]', '24 HR Isosorbide Mononitrate 60 MG Extended Release Tablet [Imdur]', '1 ML Lorazepam 2 MG/ML Prefilled Syringe', '200 ACTUAT Albuterol 0.09 MG/ACTUAT Metered Dose Inhaler', '50 ML potassium chloride 0.2 MEQ/ML Injection', '250 ML sodium chloride 9 MG/ML Injection', '500 ML sodium chloride 9 MG/ML Injection', 'Propofol 10 MG/ML Injectable Suspension [Diprivan]', 'Methylprednisolone 125 MG/ML Injectable Solution [Solu-Medrol]', 'Levofloxacin 5 MG/ML Injectable Solution [Levaquin]', 'lansoprazole 30 MG Enteric Coated Capsule [Prevacid]'], diagnoses=['Chronic obstructive asthma with (acute) exacerbation', 'Other pulmonary insufficiency, not elsewhere classified', 'Subendocardial infarction, initial episode of care', 'Acute combined systolic and diastolic heart failure', 'Hematoma complicating a procedure', 'Acute kidney failure, unspecified', 'Atrial fibrillation', 'Acute bronchitis', 'Hypotension, unspecified', 'Coronary atherosclerosis of native coronary artery', 'Coronary atherosclerosis of autologous vein bypass graft', 'Unspecified acquired hypothyroidism', 'Nonspecific abnormal findings in stool contents', 'Diabetes mellitus without mention of complication, type II or unspecified type, not stated as uncontrolled', 'Esophageal reflux', 'Anemia, unspecified'], labevent=[]), Visit(visit_id=149546, admittime=Timestamp('2155-02-03 20:16:00'), dischtime=Timestamp('2155-02-14 11:15:00'), deathtime=NaT, procedures=['Endovascular removal of obstruction from head and neck vessel(s)', 'Procedure on single vessel', 'Arteriography of cerebral arteries', 'Injection or infusion of thrombolytic agent'], prescriptions=['1000 ML sodium chloride 9 MG/ML Injection', 'atorvastatin 40 MG Oral Tablet [Lipitor]', 'NITROFURANTOIN, MACROCRYSTALS 25 MG / Nitrofurantoin, Monohydrate 75 MG Oral Capsule [Macrobid]', 'pantoprazole 40 MG Injection [Protonix]', '0', '50 ML glucose 500 MG/ML Prefilled Syringe', 'glucagon (rDNA) 1 MG Injection [GlucaGen]', 'TAB-A-VITE TABLET', 'Nitroglycerin 0.3 MG Sublingual Tablet [Nitroquick]', 'levothyroxine sodium 0.075 MG Oral Tablet [Synthroid]', '1 ML morphine sulfate 4 MG/ML Injection', '1 ML morphine sulfate 2 MG/ML Prefilled Syringe', 'ipratropium bromide 0.2 MG/ML Inhalation Solution', '120 ACTUAT fluticasone propionate 0.11 MG/ACTUAT Metered Dose Inhaler [Flovent]', 'metoprolol tartrate 25 MG Oral Tablet', '4 ML Furosemide 10 MG/ML Injection', 'NITROFURANTOIN, MACROCRYSTALS 50 MG Oral Capsule', 'Acetaminophen 325 MG Oral Tablet', '50 ML magnesium sulfate 40 MG/ML Injection', 'pantoprazole 40 MG Delayed Release Oral Tablet [Protonix]', '24 HR Potassium Chloride 20 MEQ Extended Release Tablet', 'Furosemide 20 MG Oral Tablet', 'Lisinopril 5 MG Oral Tablet', 'Isosorbide Mononitrate 30 MG 24 Hour Extended Release Tablet', 'chlorhexidine gluconate 1.2 MG/ML Mouthwash', '250 ML glucose 50 MG/ML Injection', '1 ML Phenylephrine Hydrochloride 10 MG/ML Injection', '100 ML propofol 10 MG/ML Injection [Diprivan]', '5 ML metoprolol tartrate 1 MG/ML Injection', 'levothyroxine sodium 0.2 MG Injection', 'acetaminophen 650 MG Rectal Suppository [Acephen]', '500 ML sodium chloride 9 MG/ML Injection', '100 ML potassium chloride 0.1 MEQ/ML Injection', '15 ML sodium phosphate, dibasic 142 MG/ML / sodium phosphate, monobasic 276 MG/ML Injection', 'Calcium Gluconate 20 MG/ML Injectable Solution', '1 ML hydralazine hydrochloride 20 MG/ML Injection', '200 ACTUAT Albuterol 0.09 MG/ACTUAT Metered Dose Inhaler', '200 ACTUAT ipratropium bromide 0.017 MG/ACTUAT Metered Dose Inhaler [Atrovent]', 'warfarin sodium 1 MG Oral Tablet [Coumadin]', 'Albuterol 0.83 MG/ML Inhalant Solution', 'simvastatin 10 MG Oral Tablet', 'Metoprolol Tartrate 50 MG Oral Tablet', 'lansoprazole 30 MG Disintegrating Oral Tablet [Prevacid]', 'Docusate Sodium 100 MG Oral Capsule [DOK]', '2 ML ondansetron 2 MG/ML Injection', 'sennosides, USP 8.6 MG Oral Tablet'], diagnoses=['Angiodysplasia of intestine with hemorrhage', 'Subendocardial infarction, initial episode of care', 'Cerebral embolism with cerebral infarction', 'Acute kidney failure, unspecified', 'Acute posthemorrhagic anemia', 'Other specified hemiplegia and hemiparesis affecting unspecified side', 'Coronary atherosclerosis of autologous vein bypass graft', 'Atrial fibrillation', 'Congestive heart failure, unspecified', 'Hypertensive chronic kidney disease, unspecified, with chronic kidney disease stage I through stage IV, or unspecified', 'Dysarthria', 'Diabetes mellitus without mention of complication, type II or unspecified type, not stated as uncontrolled', 'Chronic kidney disease, unspecified', 'Other and unspecified hyperlipidemia', 'Chronic obstructive asthma, unspecified', 'Esophageal reflux', 'Unspecified acquired hypothyroidism'], labevent=[]), Visit(visit_id=158975, admittime=Timestamp('2156-04-27 15:33:00'), dischtime=Timestamp('2156-05-14 15:30:00'), deathtime=NaT, procedures=['Open and other right hemicolectomy', 'Other small-to-large intestinal anastomosis', 'Closed [endoscopic] biopsy of large intestine', 'Endoscopic polypectomy of large intestine', 'Percutaneous abdominal drainage'], prescriptions=['0', 'heparin sodium, porcine 5000 UNT/ML Injectable Solution', '250 ML albumin human, USP 50 MG/ML Injection [Buminate]', '250 ML sodium chloride 9 MG/ML Injection', '50 ML albumin human, USP 250 MG/ML Injection', '10 ML potassium chloride 2 MEQ/ML Injection', 'calcium chloride 0.0014 MEQ/ML / potassium chloride 0.004 MEQ/ML / sodium chloride 0.103 MEQ/ML / sodium lactate 0.028 MEQ/ML Injectable Solution', 'piperacillin 4000 MG / tazobactam 500 MG Injection [Zosyn]', '200 ML vancomycin 5 MG/ML Injection', 'piperacillin 2000 MG / tazobactam 250 MG Injection [Zosyn]', '4 ML Furosemide 10 MG/ML Injection', '1 ML hydromorphone hydrochloride 1 MG/ML Cartridge', 'Acetaminophen 325 MG Oral Tablet', 'acetaminophen 32 MG/ML Oral Solution', 'metoprolol tartrate 25 MG Oral Tablet', 'Metronidazole 500 MG Oral Tablet', '5 ML metoprolol tartrate 1 MG/ML Injection', 'sennosides, USP 8.6 MG Oral Tablet', 'ciprofloxacin 500 MG Oral Tablet', 'Levalbuterol 0.21 MG/ML Inhalant Solution [Xopenex]', 'Docusate Sodium 100 MG Oral Capsule [DOK]', 'Hydromorphone Hydrochloride 2 MG Oral Tablet', 'pantoprazole 40 MG Delayed Release Oral Tablet [Protonix]', 'Nitroglycerin 0.3 MG Sublingual Tablet [Nitroquick]', '250 ML heparin sodium, porcine 100 UNT/ML Injection', '1000 ML glucose 50 MG/ML / sodium chloride 9 MG/ML Injection', '50 ML magnesium sulfate 40 MG/ML Injection', 'ascorbic acid 4700 MG / polyethylene glycol 3350 100000 MG / potassium chloride 1015 MG / sodium ascorbate 5900 MG / sodium chloride 2690 MG / sodium sulfate 7500 MG Powder for Oral Solution [MoviPrep]', 'Lisinopril 5 MG Oral Tablet', '24 HR metoprolol succinate 25 MG Extended Release Oral Tablet', 'NITROFURANTOIN, MACROCRYSTALS 50 MG Oral Capsule', 'tiotropium 0.018 MG Inhalation Powder [Spiriva]', 'glucagon (rDNA) 1 MG Injection [GlucaGen]', '50 ML glucose 500 MG/ML Prefilled Syringe', 'aspirin 81 MG Chewable Tablet', 'levothyroxine sodium 0.075 MG Oral Tablet [Synthroid]', 'guaifenesin 20 MG/ML Oral Solution', 'atorvastatin 20 MG Oral Tablet [Lipitor]', '120 ACTUAT fluticasone propionate 0.11 MG/ACTUAT Metered Dose Inhaler [Flovent]', 'READI-CAT 2 2% SUSPENSION', '1000 ML sodium chloride 9 MG/ML Injection', '100 ML metronidazole 5 MG/ML Injection', 'pantoprazole 40 MG Injection [Protonix]', 'Morphine Sulfate 5 MG/ML Injectable Solution', '200 ML ciprofloxacin 2 MG/ML Injection', '500 ML albumin human, USP 50 MG/ML Injection [Albutein]', 'polyvinyl alcohol 0.014 ML/ML / povidone 6 MG/ML Ophthalmic Solution', '500 ML sodium chloride 9 MG/ML Injection', '20 ML potassium chloride 2 MEQ/ML Injection', '2 ML ondansetron 2 MG/ML Injection', 'ipratropium bromide 0.2 MG/ML Inhalation Solution', 'Potassium Chloride 1.33 MEQ/ML Oral Solution [Kay Ciel]', 'warfarin sodium 2 MG Oral Tablet [Coumadin]', '2 ML metoclopramide 5 MG/ML Injection', 'PHOS-NAK PACKET', 'dabigatran etexilate 75 MG Oral Capsule [Pradaxa]', 'warfarin sodium 1 MG Oral Tablet [Coumadin]', '1 ML vitamin K1 10 MG/ML Injection', '50 ML glucose 50 MG/ML Injection', 'Vitamin K 1 5 MG Oral Tablet [Mephyton]', '1000 ML glucose 50 MG/ML / potassium chloride 0.02 MEQ/ML / sodium chloride 9 MG/ML Injection', 'levothyroxine sodium 0.2 MG Injection', '50 ML potassium chloride 0.4 MEQ/ML Injection', 'Midazolam 1 MG/ML Injectable Solution', '5 ML heparin sodium, porcine 10 UNT/ML Prefilled Syringe', 'oxycodone hydrochloride 5 MG Oral Tablet', 'camphor 5 MG/ML / menthol 5 MG/ML Topical Lotion [Men-phor]', 'Potassium Chloride 10 MEQ Extended Release Oral Tablet [Klor-Con]', 'Mineral Oil 0.466 MG/MG / Pramoxine hydrochloride 0.01 MG/MG / Zinc Oxide 0.125 MG/MG Rectal Ointment [Tucks Hemorrhoidal]', 'fluconazole 150 MG Oral Tablet'], diagnoses=['Malignant neoplasm of cecum', 'Acute systolic heart failure', 'Secondary malignant neoplasm of skin', 'Unspecified protein-calorie malnutrition', 'Acute kidney failure, unspecified', 'Paralytic ileus', 'Hemorrhage complicating a procedure', 'Seroma complicating a procedure', 'Atrial fibrillation', 'Congestive heart failure, unspecified', 'Hypertensive chronic kidney disease, unspecified, with chronic kidney disease stage I through stage IV, or unspecified', 'Chronic kidney disease, Stage III (moderate)', 'Other and unspecified angina pectoris', 'Diabetes mellitus without mention of complication, type II or unspecified type, not stated as uncontrolled', 'Esophageal reflux', 'Unspecified acquired hypothyroidism', 'Chronic obstructive asthma, unspecified', 'Old myocardial infarction', 'Aortocoronary bypass status', 'Personal history of transient ischemic attack (TIA), and cerebral infarction without residual deficits', 'Do not resuscitate status', 'Other specified surgical operations and procedures causing abnormal patient reaction, or later complication, without mention of misadventure at time of operation', 'Iron deficiency anemia secondary to blood loss (chronic)', 'Other iatrogenic hypotension', 'Gross hematuria', 'Anticoagulants causing adverse effects in therapeutic use'], labevent=[])]) 长度： 46520\n"
     ]
    }
   ],
   "source": [
    "ehrBase = loadPkl(\"../dataset_processed/MIMICIII_data/ehrBase_v4.pkl\")\n",
    "print('字典元素示例', ehrBase['249'], '长度：', len(ehrBase))"
   ]
  },
  {
   "cell_type": "markdown",
   "metadata": {},
   "source": [
    "### 4.5 版本5"
   ]
  },
  {
   "cell_type": "code",
   "execution_count": null,
   "metadata": {},
   "outputs": [
    {
     "name": "stdout",
     "output_type": "stream",
     "text": [
      "对象已成功保存到 ../dataset_processed/MIMICIII_data\\labevents_withNAN.pkl\n"
     ]
    }
   ],
   "source": [
    "# 运行 3.6 过程中进行一次保存\n",
    "savePkl(outputdir='../dataset_processed/MIMICIII_data', filename='labevents_withNAN.pkl', content=table)  # 包含 hadm_id NAN值 的实验室检查数据"
   ]
  },
  {
   "cell_type": "code",
   "execution_count": null,
   "metadata": {},
   "outputs": [
    {
     "name": "stdout",
     "output_type": "stream",
     "text": [
      "对象已成功保存到 ../dataset_processed/MIMICIII_data\\labevents_withoutNAN.pkl\n"
     ]
    }
   ],
   "source": [
    "# 运行 3.6 过程中进行一次保存\n",
    "savePkl(outputdir='../dataset_processed/MIMICIII_data', filename='labevents_withoutNAN.pkl', content=table)  # 不包含 hadm_id NAN值 的实验室检查数据"
   ]
  },
  {
   "cell_type": "code",
   "execution_count": null,
   "metadata": {},
   "outputs": [
    {
     "name": "stdout",
     "output_type": "stream",
     "text": [
      "对象已成功保存到 ../dataset_processed/MIMICIII_data\\ehrBase_v5.pkl\n"
     ]
    }
   ],
   "source": [
    "# 运行完 3.6 进行一次保存\n",
    "savePkl(outputdir='../dataset_processed/MIMICIII_data', filename='ehrBase_v5.pkl', content=ehrBase)  # 版本五：增加病人的 实验室检查数据"
   ]
  },
  {
   "cell_type": "code",
   "execution_count": 7,
   "metadata": {},
   "outputs": [
    {
     "name": "stdout",
     "output_type": "stream",
     "text": [
      "已成功加载文件：../dataset_processed/MIMICIII_data/ehrBase_v5.pkl\n",
      "字典元素示例 Patient(expire_flag=0, visits=[Visit(visit_id=116935, admittime=Timestamp('2149-12-17 20:41:00'), dischtime=Timestamp('2149-12-31 14:55:00'), deathtime=NaT, procedures=['Continuous invasive mechanical ventilation for 96 consecutive hours or more', 'Left heart cardiac catheterization', 'Coronary arteriography using two catheters', 'Other and unspecified coronary arteriography', 'Venous catheterization, not elsewhere classified', 'Insertion of endotracheal tube', 'Transfusion of packed cells', 'Enteral infusion of concentrated nutritional substances', 'Transfusion of other serum'], prescriptions=['lorazepam 0.5 MG Oral Tablet', 'lorazepam 1 MG Oral Tablet', 'trandolapril 1 MG Oral Tablet [Mavik]', '0', '250 ML heparin sodium, porcine 100 UNT/ML Injection', 'Vancomycin 100 MG/ML Injectable Solution [Vancocin]', 'Captopril 12.5 MG Oral Tablet [Capoten]', 'Nitroglycerin 0.02 MG/MG Topical Ointment [Nitro-Bid]', 'Prednisone 20 MG Oral Tablet', '17314931102', 'Levofloxacin 250 MG Oral Tablet [Levaquin]', 'Morphine Sulfate 8 MG/ML Injectable Solution', 'Furosemide 10 MG/ML Injectable Solution', '100 ML sodium chloride 9 MG/ML Injection', 'Vitamin K 1 10 MG/ML Injectable Solution', 'insulin, regular, human 100 UNT/ML Injectable Solution [Humulin R]', 'Captopril 25 MG Oral Tablet', 'Nitroglycerin 0.4 MG/ML Injectable Solution', '50 ML potassium chloride 0.4 MEQ/ML Injection', 'racepinephrine 22.5 MG/ML Inhalation Solution [S-2]', '1 ML hydralazine hydrochloride 20 MG/ML Injection', 'metoprolol tartrate 25 MG Oral Tablet', 'heparin sodium, porcine 5000 UNT/ML Injectable Solution', 'aspirin 81 MG Chewable Tablet', 'Ipratropium Bromide 0.2 MG/ML Inhalant Solution', 'Prednisone 10 MG Oral Tablet', 'Aspirin 325 MG Oral Tablet', '200 ACTUAT Albuterol 0.09 MG/ACTUAT / Ipratropium Bromide 0.018 MG/ACTUAT Metered Dose Inhaler [Combivent]', 'metoprolol tartrate 50 MG Oral Tablet', 'Acetaminophen 325 MG Oral Tablet', 'Potassium Chloride 10 MEQ Extended Release Oral Capsule', 'Guaifenesin 20 MG/ML Oral Solution', '2 ML Magnesium Sulfate 500 MG/ML Injection', '1000 ML glucose 50 MG/ML / sodium chloride 4.5 MG/ML Injection', 'isosorbide dinitrate 10 MG Oral Tablet', 'pantoprazole 40 MG Delayed Release Oral Tablet [Protonix]', '50 ML glucose 50 MG/ML Injection', '10 ML Furosemide 10 MG/ML Injection', 'magnesium oxide 400 MG Oral Tablet [Mag-Ox 400]', 'Isosorbide Mononitrate 30 MG 24 Hour Extended Release Tablet [Imdur]', 'Nitroglycerin 0.3 MG Sublingual Tablet [Nitroquick]', '250 ML glucose 50 MG/ML Injection', 'Lisinopril 5 MG Oral Tablet [Zestril]', 'Nystatin 100000 UNT/ML Oral Suspension', 'Potassium Chloride 1.33 MEQ/ML Oral Solution [Kay Ciel]', '24 HR Diltiazem Hydrochloride 120 MG Extended Release Capsule [Tiazac]', 'warfarin sodium 1 MG Oral Tablet [Coumadin]', '200 ACTUAT Ipratropium Bromide 0.018 MG/ACTUAT Metered Dose Inhaler [Atrovent]', 'Calcitriol 0.00025 MG Oral Capsule [Rocaltrol]', '60 ACTUAT Fluticasone propionate 0.11 MG/ACTUAT Metered Dose Inhaler [Flovent]', 'atorvastatin 40 MG Oral Tablet [Lipitor]', '15127020017', 'levothyroxine sodium 0.075 MG Oral Tablet [Synthroid]', '10 ML diltiazem hydrochloride 5 MG/ML Injection', 'diltiazem hydrochloride 30 MG Oral Tablet', 'Methylprednisolone 62.5 MG/ML Injectable Solution [Solu-Medrol]', 'albuterol 0.83 MG/ML Inhalation Solution', '5 ML metoprolol tartrate 1 MG/ML Injection', 'diltiazem hydrochloride 60 MG Oral Tablet', 'diltiazem hydrochloride 90 MG Oral Tablet', 'azithromycin 250 MG Oral Tablet [Zithromax]', '24 HR Isosorbide Mononitrate 60 MG Extended Release Tablet [Imdur]', '1 ML Lorazepam 2 MG/ML Prefilled Syringe', '200 ACTUAT Albuterol 0.09 MG/ACTUAT Metered Dose Inhaler', '50 ML potassium chloride 0.2 MEQ/ML Injection', '250 ML sodium chloride 9 MG/ML Injection', '500 ML sodium chloride 9 MG/ML Injection', 'Propofol 10 MG/ML Injectable Suspension [Diprivan]', 'Methylprednisolone 125 MG/ML Injectable Solution [Solu-Medrol]', 'Levofloxacin 5 MG/ML Injectable Solution [Levaquin]', 'lansoprazole 30 MG Enteric Coated Capsule [Prevacid]'], diagnoses=['Chronic obstructive asthma with (acute) exacerbation', 'Other pulmonary insufficiency, not elsewhere classified', 'Subendocardial infarction, initial episode of care', 'Acute combined systolic and diastolic heart failure', 'Hematoma complicating a procedure', 'Acute kidney failure, unspecified', 'Atrial fibrillation', 'Acute bronchitis', 'Hypotension, unspecified', 'Coronary atherosclerosis of native coronary artery', 'Coronary atherosclerosis of autologous vein bypass graft', 'Unspecified acquired hypothyroidism', 'Nonspecific abnormal findings in stool contents', 'Diabetes mellitus without mention of complication, type II or unspecified type, not stated as uncontrolled', 'Esophageal reflux', 'Anemia, unspecified'], labevent=[{'item': 'INR(PT)', 'value': '1.4', 'flag': nan, 'itemcontent': 'Blood'}, {'item': 'MCH', 'value': '29.7 pg', 'flag': nan, 'itemcontent': 'Blood'}, {'item': 'MCHC', 'value': '33.4 %', 'flag': nan, 'itemcontent': 'Blood'}, {'item': 'MCV', 'value': '89 fL', 'flag': nan, 'itemcontent': 'Blood'}, {'item': 'Platelet Count', 'value': '260 K/uL', 'flag': nan, 'itemcontent': 'Blood'}, {'item': 'PT', 'value': '15.1 sec', 'flag': 'abnormal', 'itemcontent': 'Blood'}, {'item': 'PTT', 'value': '54.3 sec', 'flag': 'abnormal', 'itemcontent': 'Blood'}, {'item': 'RDW', 'value': '14.0 %', 'flag': nan, 'itemcontent': 'Blood'}, {'item': 'Red Blood Cells', 'value': '4.23 m/uL', 'flag': nan, 'itemcontent': 'Blood'}, {'item': 'White Blood Cells', 'value': '15.3 K/uL', 'flag': 'abnormal', 'itemcontent': 'Blood'}, {'item': 'Alanine Aminotransferase (ALT)', 'value': '118 IU/L', 'flag': 'abnormal', 'itemcontent': 'Blood'}, {'item': 'Albumin', 'value': '3.2 g/dL', 'flag': 'abnormal', 'itemcontent': 'Blood'}, {'item': 'Alkaline Phosphatase', 'value': '105 IU/L', 'flag': nan, 'itemcontent': 'Blood'}, {'item': 'Anion Gap', 'value': '11 mEq/L', 'flag': nan, 'itemcontent': 'Blood'}, {'item': 'Asparate Aminotransferase (AST)', 'value': '79 IU/L', 'flag': 'abnormal', 'itemcontent': 'Blood'}, {'item': 'Bicarbonate', 'value': '30 mEq/L', 'flag': 'abnormal', 'itemcontent': 'Blood'}, {'item': 'Bilirubin, Total', 'value': '2.0 mg/dL', 'flag': 'abnormal', 'itemcontent': 'Blood'}, {'item': 'Chloride', 'value': '101 mEq/L', 'flag': nan, 'itemcontent': 'Blood'}, {'item': 'Creatinine', 'value': '1.3 mg/dL', 'flag': 'abnormal', 'itemcontent': 'Blood'}, {'item': 'Glucose', 'value': '109 mg/dL', 'flag': 'abnormal', 'itemcontent': 'Blood'}, {'item': 'Magnesium', 'value': '1.5 mg/dL', 'flag': 'abnormal', 'itemcontent': 'Blood'}, {'item': 'Potassium', 'value': '4.2 mEq/L', 'flag': nan, 'itemcontent': 'Blood'}, {'item': 'Sodium', 'value': '138 mEq/L', 'flag': nan, 'itemcontent': 'Blood'}, {'item': 'Urea Nitrogen', 'value': '41 mg/dL', 'flag': 'abnormal', 'itemcontent': 'Blood'}, {'item': 'Hematocrit', 'value': '34.9 %', 'flag': 'abnormal', 'itemcontent': 'Blood'}, {'item': 'Hemoglobin', 'value': '12.3 g/dL', 'flag': nan, 'itemcontent': 'Blood'}, {'item': 'INR(PT)', 'value': '1.5', 'flag': nan, 'itemcontent': 'Blood'}, {'item': 'MCH', 'value': '31.0 pg', 'flag': nan, 'itemcontent': 'Blood'}, {'item': 'MCHC', 'value': '35.3 %', 'flag': 'abnormal', 'itemcontent': 'Blood'}, {'item': 'MCV', 'value': '88 fL', 'flag': nan, 'itemcontent': 'Blood'}, {'item': 'Platelet Count', 'value': '216 K/uL', 'flag': nan, 'itemcontent': 'Blood'}, {'item': 'PT', 'value': '15.2 sec', 'flag': 'abnormal', 'itemcontent': 'Blood'}, {'item': 'PTT', 'value': '55.4 sec', 'flag': 'abnormal', 'itemcontent': 'Blood'}, {'item': 'RDW', 'value': '14.2 %', 'flag': nan, 'itemcontent': 'Blood'}, {'item': 'Red Blood Cells', 'value': '3.97 m/uL', 'flag': 'abnormal', 'itemcontent': 'Blood'}, {'item': 'White Blood Cells', 'value': '13.4 K/uL', 'flag': 'abnormal', 'itemcontent': 'Blood'}, {'item': 'Alanine Aminotransferase (ALT)', 'value': '123 IU/L', 'flag': 'abnormal', 'itemcontent': 'Blood'}, {'item': 'Alkaline Phosphatase', 'value': '106 IU/L', 'flag': nan, 'itemcontent': 'Blood'}, {'item': 'Anion Gap', 'value': '12 mEq/L', 'flag': nan, 'itemcontent': 'Blood'}, {'item': 'Asparate Aminotransferase (AST)', 'value': '79 IU/L', 'flag': 'abnormal', 'itemcontent': 'Blood'}, {'item': 'Bicarbonate', 'value': '28 mEq/L', 'flag': nan, 'itemcontent': 'Blood'}, {'item': 'Bilirubin, Total', 'value': '1.8 mg/dL', 'flag': 'abnormal', 'itemcontent': 'Blood'}, {'item': 'Chloride', 'value': '102 mEq/L', 'flag': nan, 'itemcontent': 'Blood'}, {'item': 'Creatinine', 'value': '1.2 mg/dL', 'flag': 'abnormal', 'itemcontent': 'Blood'}, {'item': 'Glucose', 'value': '121 mg/dL', 'flag': 'abnormal', 'itemcontent': 'Blood'}, {'item': 'Magnesium', 'value': '1.5 mg/dL', 'flag': 'abnormal', 'itemcontent': 'Blood'}, {'item': 'Potassium', 'value': '4.1 mEq/L', 'flag': nan, 'itemcontent': 'Blood'}, {'item': 'Sodium', 'value': '138 mEq/L', 'flag': nan, 'itemcontent': 'Blood'}, {'item': 'Urea Nitrogen', 'value': '31 mg/dL', 'flag': 'abnormal', 'itemcontent': 'Blood'}, {'item': 'Hematocrit', 'value': '35.1 %', 'flag': 'abnormal', 'itemcontent': 'Blood'}, {'item': 'Hemoglobin', 'value': '11.7 g/dL', 'flag': 'abnormal', 'itemcontent': 'Blood'}, {'item': 'INR(PT)', 'value': '1.4', 'flag': nan, 'itemcontent': 'Blood'}, {'item': 'MCH', 'value': '29.8 pg', 'flag': nan, 'itemcontent': 'Blood'}, {'item': 'MCHC', 'value': '33.3 %', 'flag': nan, 'itemcontent': 'Blood'}, {'item': 'MCV', 'value': '90 fL', 'flag': nan, 'itemcontent': 'Blood'}, {'item': 'Platelet Count', 'value': '230 K/uL', 'flag': nan, 'itemcontent': 'Blood'}, {'item': 'PT', 'value': '14.9 sec', 'flag': 'abnormal', 'itemcontent': 'Blood'}, {'item': 'PTT', 'value': '58.5 sec', 'flag': 'abnormal', 'itemcontent': 'Blood'}, {'item': 'RDW', 'value': '14.3 %', 'flag': nan, 'itemcontent': 'Blood'}, {'item': 'Red Blood Cells', 'value': '3.92 m/uL', 'flag': 'abnormal', 'itemcontent': 'Blood'}, {'item': 'White Blood Cells', 'value': '14.1 K/uL', 'flag': 'abnormal', 'itemcontent': 'Blood'}, {'item': 'Alanine Aminotransferase (ALT)', 'value': '118 IU/L', 'flag': 'abnormal', 'itemcontent': 'Blood'}, {'item': 'Alkaline Phosphatase', 'value': '110 IU/L', 'flag': nan, 'itemcontent': 'Blood'}, {'item': 'Anion Gap', 'value': '12 mEq/L', 'flag': nan, 'itemcontent': 'Blood'}, {'item': 'Asparate Aminotransferase (AST)', 'value': '71 IU/L', 'flag': 'abnormal', 'itemcontent': 'Blood'}, {'item': 'Bicarbonate', 'value': '27 mEq/L', 'flag': nan, 'itemcontent': 'Blood'}, {'item': 'Bilirubin, Total', 'value': '1.8 mg/dL', 'flag': 'abnormal', 'itemcontent': 'Blood'}, {'item': 'Chloride', 'value': '102 mEq/L', 'flag': nan, 'itemcontent': 'Blood'}, {'item': 'Creatinine', 'value': '1.2 mg/dL', 'flag': 'abnormal', 'itemcontent': 'Blood'}, {'item': 'Glucose', 'value': '111 mg/dL', 'flag': 'abnormal', 'itemcontent': 'Blood'}, {'item': 'Magnesium', 'value': '2.0 mg/dL', 'flag': nan, 'itemcontent': 'Blood'}, {'item': 'Potassium', 'value': '3.8 mEq/L', 'flag': nan, 'itemcontent': 'Blood'}, {'item': 'Sodium', 'value': '137 mEq/L', 'flag': nan, 'itemcontent': 'Blood'}, {'item': 'Urea Nitrogen', 'value': '27 mg/dL', 'flag': 'abnormal', 'itemcontent': 'Blood'}, {'item': 'INR(PT)', 'value': '2.0', 'flag': nan, 'itemcontent': 'Blood'}, {'item': 'MCH', 'value': '31.1 pg', 'flag': nan, 'itemcontent': 'Blood'}, {'item': 'MCHC', 'value': '34.2 %', 'flag': nan, 'itemcontent': 'Blood'}, {'item': 'MCV', 'value': '91 fL', 'flag': nan, 'itemcontent': 'Blood'}, {'item': 'Platelet Count', 'value': '208 K/uL', 'flag': nan, 'itemcontent': 'Blood'}, {'item': 'PT', 'value': '18.0 sec', 'flag': 'abnormal', 'itemcontent': 'Blood'}, {'item': 'PTT', 'value': '27.9 sec', 'flag': nan, 'itemcontent': 'Blood'}, {'item': 'RDW', 'value': '14.5 %', 'flag': nan, 'itemcontent': 'Blood'}, {'item': 'Red Blood Cells', 'value': '3.38 m/uL', 'flag': 'abnormal', 'itemcontent': 'Blood'}, {'item': 'White Blood Cells', 'value': '16.8 K/uL', 'flag': 'abnormal', 'itemcontent': 'Blood'}, {'item': 'SPECIMEN TYPE', 'value': 'ART', 'flag': nan, 'itemcontent': 'BLOOD'}, {'item': 'Base Excess', 'value': '1 mEq/L', 'flag': nan, 'itemcontent': 'Blood'}, {'item': 'Calculated Total CO2', 'value': '30 mEq/L', 'flag': nan, 'itemcontent': 'Blood'}, {'item': 'Free Calcium', 'value': '1.14 mmol/L', 'flag': nan, 'itemcontent': 'Blood'}, {'item': 'Intubated', 'value': 'INTUBATED', 'flag': nan, 'itemcontent': 'Blood'}, {'item': 'Lactate', 'value': '1.2 mmol/L', 'flag': nan, 'itemcontent': 'Blood'}, {'item': 'Oxygen', 'value': '50 %', 'flag': nan, 'itemcontent': 'Blood'}, {'item': 'pCO2', 'value': '55 mm Hg', 'flag': 'abnormal', 'itemcontent': 'Blood'}, {'item': 'PEEP', 'value': '5', 'flag': nan, 'itemcontent': 'Blood'}, {'item': 'pH', 'value': '7.33 units', 'flag': 'abnormal', 'itemcontent': 'Blood'}, {'item': 'pO2', 'value': '219 mm Hg', 'flag': 'abnormal', 'itemcontent': 'Blood'}, {'item': 'Temperature', 'value': '36.7', 'flag': nan, 'itemcontent': 'Blood'}, {'item': 'Tidal Volume', 'value': '450', 'flag': nan, 'itemcontent': 'Blood'}, {'item': 'INR(PT)', 'value': '1.7', 'flag': nan, 'itemcontent': 'Blood'}, {'item': 'PT', 'value': '16.3 sec', 'flag': 'abnormal', 'itemcontent': 'Blood'}, {'item': 'PTT', 'value': '26.9 sec', 'flag': nan, 'itemcontent': 'Blood'}, {'item': 'Anion Gap', 'value': '11 mEq/L', 'flag': nan, 'itemcontent': 'Blood'}, {'item': 'Bicarbonate', 'value': '30 mEq/L', 'flag': 'abnormal', 'itemcontent': 'Blood'}, {'item': 'Calcium, Total', 'value': '8.8 mg/dL', 'flag': nan, 'itemcontent': 'Blood'}, {'item': 'Chloride', 'value': '106 mEq/L', 'flag': nan, 'itemcontent': 'Blood'}, {'item': 'Creatinine', 'value': '1.2 mg/dL', 'flag': 'abnormal', 'itemcontent': 'Blood'}, {'item': 'Glucose', 'value': '227 mg/dL', 'flag': 'abnormal', 'itemcontent': 'Blood'}, {'item': 'Magnesium', 'value': '2.9 mg/dL', 'flag': 'abnormal', 'itemcontent': 'Blood'}, {'item': 'Phosphate', 'value': '2.9 mg/dL', 'flag': nan, 'itemcontent': 'Blood'}, {'item': 'Potassium', 'value': '4.0 mEq/L', 'flag': nan, 'itemcontent': 'Blood'}, {'item': 'Sodium', 'value': '143 mEq/L', 'flag': nan, 'itemcontent': 'Blood'}, {'item': 'Urea Nitrogen', 'value': '51 mg/dL', 'flag': 'abnormal', 'itemcontent': 'Blood'}, {'item': 'Hematocrit', 'value': '28.2 %', 'flag': 'abnormal', 'itemcontent': 'Blood'}, {'item': 'Hemoglobin', 'value': '9.2 g/dL', 'flag': 'abnormal', 'itemcontent': 'Blood'}, {'item': 'INR(PT)', 'value': '2.1', 'flag': nan, 'itemcontent': 'Blood'}, {'item': 'MCH', 'value': '30.1 pg', 'flag': nan, 'itemcontent': 'Blood'}, {'item': 'MCHC', 'value': '32.8 %', 'flag': nan, 'itemcontent': 'Blood'}, {'item': 'MCV', 'value': '92 fL', 'flag': nan, 'itemcontent': 'Blood'}, {'item': 'Platelet Count', 'value': '219 K/uL', 'flag': nan, 'itemcontent': 'Blood'}, {'item': 'PT', 'value': '18.2 sec', 'flag': 'abnormal', 'itemcontent': 'Blood'}, {'item': 'PTT', 'value': '68.0 sec', 'flag': 'abnormal', 'itemcontent': 'Blood'}, {'item': 'RDW', 'value': '14.7 %', 'flag': nan, 'itemcontent': 'Blood'}, {'item': 'Red Blood Cells', 'value': '3.07 m/uL', 'flag': 'abnormal', 'itemcontent': 'Blood'}, {'item': 'White Blood Cells', 'value': '12.7 K/uL', 'flag': 'abnormal', 'itemcontent': 'Blood'}, {'item': 'SPECIMEN TYPE', 'value': 'ART', 'flag': nan, 'itemcontent': 'BLOOD'}, {'item': 'Base Excess', 'value': '7 mEq/L', 'flag': nan, 'itemcontent': 'Blood'}, {'item': 'Calculated Total CO2', 'value': '35 mEq/L', 'flag': 'abnormal', 'itemcontent': 'Blood'}, {'item': 'Free Calcium', 'value': '1.20 mmol/L', 'flag': nan, 'itemcontent': 'Blood'}, {'item': 'Intubated', 'value': 'INTUBATED', 'flag': nan, 'itemcontent': 'Blood'}, {'item': 'Lactate', 'value': '1.3 mmol/L', 'flag': nan, 'itemcontent': 'Blood'}, {'item': 'Oxygen', 'value': '40 %', 'flag': nan, 'itemcontent': 'Blood'}, {'item': 'pCO2', 'value': '55 mm Hg', 'flag': 'abnormal', 'itemcontent': 'Blood'}, {'item': 'PEEP', 'value': '5', 'flag': nan, 'itemcontent': 'Blood'}, {'item': 'pH', 'value': '7.39 units', 'flag': nan, 'itemcontent': 'Blood'}, {'item': 'pO2', 'value': '140 mm Hg', 'flag': 'abnormal', 'itemcontent': 'Blood'}, {'item': 'Temperature', 'value': '37.4', 'flag': nan, 'itemcontent': 'Blood'}, {'item': 'Tidal Volume', 'value': '450', 'flag': nan, 'itemcontent': 'Blood'}, {'item': 'Ventilation Rate', 'value': '18/', 'flag': nan, 'itemcontent': 'Blood'}, {'item': 'INR(PT)', 'value': '2.8', 'flag': nan, 'itemcontent': 'Blood'}, {'item': 'PT', 'value': '21.0 sec', 'flag': 'abnormal', 'itemcontent': 'Blood'}, {'item': 'PTT', 'value': '141.7 sec', 'flag': 'abnormal', 'itemcontent': 'Blood'}, {'item': 'SPECIMEN TYPE', 'value': 'ART', 'flag': nan, 'itemcontent': 'BLOOD'}, {'item': 'Base Excess', 'value': '5 mEq/L', 'flag': nan, 'itemcontent': 'Blood'}, {'item': 'Calculated Total CO2', 'value': '34 mEq/L', 'flag': 'abnormal', 'itemcontent': 'Blood'}, {'item': 'Intubated', 'value': 'INTUBATED', 'flag': nan, 'itemcontent': 'Blood'}, {'item': 'Oxygen', 'value': '40 %', 'flag': nan, 'itemcontent': 'Blood'}, {'item': 'pCO2', 'value': '59 mm Hg', 'flag': 'abnormal', 'itemcontent': 'Blood'}, {'item': 'PEEP', 'value': '5', 'flag': nan, 'itemcontent': 'Blood'}, {'item': 'pH', 'value': '7.35 units', 'flag': nan, 'itemcontent': 'Blood'}, {'item': 'pO2', 'value': '134 mm Hg', 'flag': 'abnormal', 'itemcontent': 'Blood'}, {'item': 'Temperature', 'value': '37.1', 'flag': nan, 'itemcontent': 'Blood'}, {'item': 'Tidal Volume', 'value': '440', 'flag': nan, 'itemcontent': 'Blood'}, {'item': 'Thyroxine (T4), Free', 'value': '1.5 ng/dL', 'flag': nan, 'itemcontent': 'Blood'}, {'item': 'Hematocrit', 'value': '30.0 %', 'flag': 'abnormal', 'itemcontent': 'Blood'}, {'item': 'INR(PT)', 'value': '2.8', 'flag': nan, 'itemcontent': 'Blood'}, {'item': 'PT', 'value': '21.0 sec', 'flag': 'abnormal', 'itemcontent': 'Blood'}, {'item': 'PTT', 'value': '115.0 sec', 'flag': 'abnormal', 'itemcontent': 'Blood'}, {'item': 'Albumin', 'value': '3.3 g/dL', 'flag': 'abnormal', 'itemcontent': 'Blood'}, {'item': 'Anion Gap', 'value': '12 mEq/L', 'flag': nan, 'itemcontent': 'Blood'}, {'item': 'Bicarbonate', 'value': '30 mEq/L', 'flag': 'abnormal', 'itemcontent': 'Blood'}, {'item': 'Calcium, Total', 'value': '9.0 mg/dL', 'flag': nan, 'itemcontent': 'Blood'}, {'item': 'Chloride', 'value': '110 mEq/L', 'flag': 'abnormal', 'itemcontent': 'Blood'}, {'item': 'Creatinine', 'value': '1.2 mg/dL', 'flag': 'abnormal', 'itemcontent': 'Blood'}, {'item': 'Glucose', 'value': '186 mg/dL', 'flag': 'abnormal', 'itemcontent': 'Blood'}, {'item': 'Magnesium', 'value': '2.8 mg/dL', 'flag': 'abnormal', 'itemcontent': 'Blood'}, {'item': 'Phosphate', 'value': '2.7 mg/dL', 'flag': nan, 'itemcontent': 'Blood'}, {'item': 'Potassium', 'value': '4.3 mEq/L', 'flag': nan, 'itemcontent': 'Blood'}, {'item': 'Sodium', 'value': '148 mEq/L', 'flag': 'abnormal', 'itemcontent': 'Blood'}, {'item': 'Urea Nitrogen', 'value': '53 mg/dL', 'flag': 'abnormal', 'itemcontent': 'Blood'}, {'item': 'Vancomycin', 'value': '5.2 ug/mL', 'flag': 'abnormal', 'itemcontent': 'Blood'}, {'item': 'Hematocrit', 'value': '28.2 %', 'flag': 'abnormal', 'itemcontent': 'Blood'}, {'item': 'Hemoglobin', 'value': '9.5 g/dL', 'flag': 'abnormal', 'itemcontent': 'Blood'}, {'item': 'MCH', 'value': '30.8 pg', 'flag': nan, 'itemcontent': 'Blood'}, {'item': 'MCHC', 'value': '33.8 %', 'flag': nan, 'itemcontent': 'Blood'}, {'item': 'MCV', 'value': '91 fL', 'flag': nan, 'itemcontent': 'Blood'}, {'item': 'Platelet Count', 'value': '233 K/uL', 'flag': nan, 'itemcontent': 'Blood'}, {'item': 'RDW', 'value': '14.3 %', 'flag': nan, 'itemcontent': 'Blood'}, {'item': 'Red Blood Cells', 'value': '3.09 m/uL', 'flag': 'abnormal', 'itemcontent': 'Blood'}, {'item': 'White Blood Cells', 'value': '14.8 K/uL', 'flag': 'abnormal', 'itemcontent': 'Blood'}, {'item': 'INR(PT)', 'value': '2.3', 'flag': nan, 'itemcontent': 'Blood'}, {'item': 'PT', 'value': '19.0 sec', 'flag': 'abnormal', 'itemcontent': 'Blood'}, {'item': 'PTT', 'value': '66.5 sec', 'flag': 'abnormal', 'itemcontent': 'Blood'}, {'item': 'SPECIMEN TYPE', 'value': 'ART', 'flag': nan, 'itemcontent': 'BLOOD'}, {'item': 'Base Excess', 'value': '6 mEq/L', 'flag': nan, 'itemcontent': 'Blood'}, {'item': 'Calculated Total CO2', 'value': '35 mEq/L', 'flag': 'abnormal', 'itemcontent': 'Blood'}, {'item': 'Free Calcium', 'value': '1.21 mmol/L', 'flag': nan, 'itemcontent': 'Blood'}, {'item': 'Intubated', 'value': 'INTUBATED', 'flag': nan, 'itemcontent': 'Blood'}, {'item': 'Lactate', 'value': '1.1 mmol/L', 'flag': nan, 'itemcontent': 'Blood'}, {'item': 'pCO2', 'value': '58 mm Hg', 'flag': 'abnormal', 'itemcontent': 'Blood'}, {'item': 'pH', 'value': '7.37 units', 'flag': nan, 'itemcontent': 'Blood'}, {'item': 'pO2', 'value': '144 mm Hg', 'flag': 'abnormal', 'itemcontent': 'Blood'}, {'item': 'Hematocrit', 'value': '28.6 %', 'flag': 'abnormal', 'itemcontent': 'Blood'}, {'item': 'Bacteria', 'value': 'FEW', 'flag': nan, 'itemcontent': 'Urine'}, {'item': 'Bilirubin', 'value': 'NEG EU/dL', 'flag': nan, 'itemcontent': 'Urine'}, {'item': 'Blood', 'value': 'LG', 'flag': nan, 'itemcontent': 'Urine'}, {'item': 'Epithelial Cells', 'value': '0-2 #/hpf', 'flag': nan, 'itemcontent': 'Urine'}, {'item': 'Glucose', 'value': 'NEG mg/dL', 'flag': nan, 'itemcontent': 'Urine'}, {'item': 'Ketone', 'value': 'NEG mg/dL', 'flag': nan, 'itemcontent': 'Urine'}, {'item': 'Leukocytes', 'value': 'TR', 'flag': nan, 'itemcontent': 'Urine'}, {'item': 'Nitrite', 'value': 'NEG', 'flag': nan, 'itemcontent': 'Urine'}, {'item': 'pH', 'value': '5.0 units', 'flag': nan, 'itemcontent': 'Urine'}, {'item': 'Protein', 'value': 'TR mg/dL', 'flag': nan, 'itemcontent': 'Urine'}, {'item': 'RBC', 'value': '11-20 #/hpf', 'flag': 'abnormal', 'itemcontent': 'Urine'}, {'item': 'Specific Gravity', 'value': '1.018  ', 'flag': nan, 'itemcontent': 'Urine'}, {'item': 'Urine Appearance', 'value': 'Clear', 'flag': nan, 'itemcontent': 'Urine'}, {'item': 'Urine Color', 'value': 'Straw', 'flag': nan, 'itemcontent': 'Urine'}, {'item': 'Urobilinogen', 'value': 'NEG EU/dL', 'flag': nan, 'itemcontent': 'Urine'}, {'item': 'WBC', 'value': '21-50 #/hpf', 'flag': 'abnormal', 'itemcontent': 'Urine'}, {'item': 'Yeast', 'value': 'NONE', 'flag': nan, 'itemcontent': 'Urine'}, {'item': 'SPECIMEN TYPE', 'value': 'ART', 'flag': nan, 'itemcontent': 'BLOOD'}, {'item': 'Base Excess', 'value': '5 mEq/L', 'flag': nan, 'itemcontent': 'Blood'}, {'item': 'Calculated Total CO2', 'value': '34 mEq/L', 'flag': 'abnormal', 'itemcontent': 'Blood'}, {'item': 'pCO2', 'value': '58 mm Hg', 'flag': 'abnormal', 'itemcontent': 'Blood'}, {'item': 'pH', 'value': '7.36 units', 'flag': nan, 'itemcontent': 'Blood'}, {'item': 'pO2', 'value': '118 mm Hg', 'flag': 'abnormal', 'itemcontent': 'Blood'}, {'item': 'Sodium', 'value': '144 mEq/L', 'flag': nan, 'itemcontent': 'Blood'}, {'item': 'Anion Gap', 'value': '8 mEq/L', 'flag': nan, 'itemcontent': 'Blood'}, {'item': 'Bicarbonate', 'value': '33 mEq/L', 'flag': 'abnormal', 'itemcontent': 'Blood'}, {'item': 'Calcium, Total', 'value': '8.3 mg/dL', 'flag': 'abnormal', 'itemcontent': 'Blood'}, {'item': 'Chloride', 'value': '103 mEq/L', 'flag': nan, 'itemcontent': 'Blood'}, {'item': 'Creatinine', 'value': '0.9 mg/dL', 'flag': nan, 'itemcontent': 'Blood'}, {'item': 'Glucose', 'value': '249 mg/dL', 'flag': 'abnormal', 'itemcontent': 'Blood'}, {'item': 'Potassium', 'value': '4.2 mEq/L', 'flag': nan, 'itemcontent': 'Blood'}, {'item': 'Sodium', 'value': '140 mEq/L', 'flag': nan, 'itemcontent': 'Blood'}, {'item': 'Urea Nitrogen', 'value': '46 mg/dL', 'flag': 'abnormal', 'itemcontent': 'Blood'}, {'item': 'Hematocrit', 'value': '25.9 %', 'flag': 'abnormal', 'itemcontent': 'Blood'}, {'item': 'Hemoglobin', 'value': '8.6 g/dL', 'flag': 'abnormal', 'itemcontent': 'Blood'}, {'item': 'INR(PT)', 'value': '2.0', 'flag': nan, 'itemcontent': 'Blood'}, {'item': 'MCH', 'value': '30.3 pg', 'flag': nan, 'itemcontent': 'Blood'}, {'item': 'MCHC', 'value': '33.3 %', 'flag': nan, 'itemcontent': 'Blood'}, {'item': 'MCV', 'value': '91 fL', 'flag': nan, 'itemcontent': 'Blood'}, {'item': 'Platelet Count', 'value': '193 K/uL', 'flag': nan, 'itemcontent': 'Blood'}, {'item': 'PT', 'value': '17.9 sec', 'flag': 'abnormal', 'itemcontent': 'Blood'}, {'item': 'PTT', 'value': '25.9 sec', 'flag': nan, 'itemcontent': 'Blood'}, {'item': 'RDW', 'value': '14.1 %', 'flag': nan, 'itemcontent': 'Blood'}, {'item': 'Red Blood Cells', 'value': '2.84 m/uL', 'flag': 'abnormal', 'itemcontent': 'Blood'}, {'item': 'White Blood Cells', 'value': '11.8 K/uL', 'flag': 'abnormal', 'itemcontent': 'Blood'}, {'item': 'Hematocrit', 'value': '25.3 %', 'flag': 'abnormal', 'itemcontent': 'Blood'}, {'item': 'SPECIMEN TYPE', 'value': 'ART', 'flag': nan, 'itemcontent': 'BLOOD'}, {'item': 'Base Excess', 'value': '10 mEq/L', 'flag': nan, 'itemcontent': 'Blood'}, {'item': 'Calculated Total CO2', 'value': '37 mEq/L', 'flag': 'abnormal', 'itemcontent': 'Blood'}, {'item': 'Lactate', 'value': '1.4 mmol/L', 'flag': nan, 'itemcontent': 'Blood'}, {'item': 'pCO2', 'value': '52 mm Hg', 'flag': 'abnormal', 'itemcontent': 'Blood'}, {'item': 'pH', 'value': '7.45 units', 'flag': nan, 'itemcontent': 'Blood'}, {'item': 'pO2', 'value': '126 mm Hg', 'flag': 'abnormal', 'itemcontent': 'Blood'}, {'item': 'INR(PT)', 'value': '1.8', 'flag': nan, 'itemcontent': 'Blood'}, {'item': 'PT', 'value': '17.0 sec', 'flag': 'abnormal', 'itemcontent': 'Blood'}, {'item': 'PTT', 'value': '24.4 sec', 'flag': nan, 'itemcontent': 'Blood'}, {'item': 'Hematocrit', 'value': '32.9 %', 'flag': 'abnormal', 'itemcontent': 'Blood'}, {'item': 'SPECIMEN TYPE', 'value': 'ART', 'flag': nan, 'itemcontent': 'BLOOD'}, {'item': 'Base Excess', 'value': '10 mEq/L', 'flag': nan, 'itemcontent': 'Blood'}, {'item': 'Calculated Total CO2', 'value': '38 mEq/L', 'flag': 'abnormal', 'itemcontent': 'Blood'}, {'item': 'Free Calcium', 'value': '1.14 mmol/L', 'flag': nan, 'itemcontent': 'Blood'}, {'item': 'Intubated', 'value': 'INTUBATED', 'flag': nan, 'itemcontent': 'Blood'}, {'item': 'Lactate', 'value': '1.2 mmol/L', 'flag': nan, 'itemcontent': 'Blood'}, {'item': 'O2 Flow', 'value': '40 L/min', 'flag': nan, 'itemcontent': 'Blood'}, {'item': 'Oxygen', 'value': '40 %', 'flag': nan, 'itemcontent': 'Blood'}, {'item': 'pCO2', 'value': '57 mm Hg', 'flag': 'abnormal', 'itemcontent': 'Blood'}, {'item': 'PEEP', 'value': '5', 'flag': nan, 'itemcontent': 'Blood'}, {'item': 'pH', 'value': '7.42 units', 'flag': nan, 'itemcontent': 'Blood'}, {'item': 'pO2', 'value': '124 mm Hg', 'flag': 'abnormal', 'itemcontent': 'Blood'}, {'item': 'Temperature', 'value': '36.6', 'flag': nan, 'itemcontent': 'Blood'}, {'item': 'Ventilation Rate', 'value': '/14', 'flag': nan, 'itemcontent': 'Blood'}, {'item': 'Ventilator', 'value': 'SPONTANEOUS', 'flag': nan, 'itemcontent': 'Blood'}, {'item': 'Anion Gap', 'value': '12 mEq/L', 'flag': nan, 'itemcontent': 'Blood'}, {'item': 'Bicarbonate', 'value': '37 mEq/L', 'flag': 'abnormal', 'itemcontent': 'Blood'}, {'item': 'Calcium, Total', 'value': '8.9 mg/dL', 'flag': nan, 'itemcontent': 'Blood'}, {'item': 'Chloride', 'value': '98 mEq/L', 'flag': nan, 'itemcontent': 'Blood'}, {'item': 'Creatinine', 'value': '0.9 mg/dL', 'flag': nan, 'itemcontent': 'Blood'}, {'item': 'Glucose', 'value': '124 mg/dL', 'flag': 'abnormal', 'itemcontent': 'Blood'}, {'item': 'Magnesium', 'value': '2.2 mg/dL', 'flag': nan, 'itemcontent': 'Blood'}, {'item': 'Phosphate', 'value': '3.3 mg/dL', 'flag': nan, 'itemcontent': 'Blood'}, {'item': 'Potassium', 'value': '3.2 mEq/L', 'flag': 'abnormal', 'itemcontent': 'Blood'}, {'item': 'Sodium', 'value': '144 mEq/L', 'flag': nan, 'itemcontent': 'Blood'}, {'item': 'Urea Nitrogen', 'value': '39 mg/dL', 'flag': 'abnormal', 'itemcontent': 'Blood'}, {'item': 'Hematocrit', 'value': '31.8 %', 'flag': 'abnormal', 'itemcontent': 'Blood'}, {'item': 'Hemoglobin', 'value': '10.8 g/dL', 'flag': 'abnormal', 'itemcontent': 'Blood'}, {'item': 'INR(PT)', 'value': '1.4', 'flag': nan, 'itemcontent': 'Blood'}, {'item': 'MCH', 'value': '29.7 pg', 'flag': nan, 'itemcontent': 'Blood'}, {'item': 'MCHC', 'value': '33.9 %', 'flag': nan, 'itemcontent': 'Blood'}, {'item': 'MCV', 'value': '88 fL', 'flag': nan, 'itemcontent': 'Blood'}, {'item': 'Platelet Count', 'value': '154 K/uL', 'flag': nan, 'itemcontent': 'Blood'}, {'item': 'PT', 'value': '14.8 sec', 'flag': 'abnormal', 'itemcontent': 'Blood'}, {'item': 'PTT', 'value': '21.9 sec', 'flag': 'abnormal', 'itemcontent': 'Blood'}, {'item': 'RDW', 'value': '15.1 %', 'flag': nan, 'itemcontent': 'Blood'}, {'item': 'Red Blood Cells', 'value': '3.64 m/uL', 'flag': 'abnormal', 'itemcontent': 'Blood'}, {'item': 'White Blood Cells', 'value': '12.8 K/uL', 'flag': 'abnormal', 'itemcontent': 'Blood'}, {'item': 'Potassium', 'value': '4.0 mEq/L', 'flag': nan, 'itemcontent': 'Blood'}, {'item': 'Hematocrit', 'value': '34.8 %', 'flag': 'abnormal', 'itemcontent': 'Blood'}, {'item': 'SPECIMEN TYPE', 'value': 'ART', 'flag': nan, 'itemcontent': 'BLOOD'}, {'item': 'Base Excess', 'value': '11 mEq/L', 'flag': nan, 'itemcontent': 'Blood'}, {'item': 'Calculated Total CO2', 'value': '38 mEq/L', 'flag': 'abnormal', 'itemcontent': 'Blood'}, {'item': 'Intubated', 'value': 'NOT INTUBATED', 'flag': nan, 'itemcontent': 'Blood'}, {'item': 'pCO2', 'value': '56 mm Hg', 'flag': 'abnormal', 'itemcontent': 'Blood'}, {'item': 'pH', 'value': '7.43 units', 'flag': nan, 'itemcontent': 'Blood'}, {'item': 'pO2', 'value': '230 mm Hg', 'flag': 'abnormal', 'itemcontent': 'Blood'}, {'item': 'Temperature', 'value': '36.6', 'flag': nan, 'itemcontent': 'Blood'}, {'item': 'SPECIMEN TYPE', 'value': 'ART', 'flag': nan, 'itemcontent': 'BLOOD'}, {'item': 'Base Excess', 'value': '12 mEq/L', 'flag': nan, 'itemcontent': 'Blood'}, {'item': 'Calculated Total CO2', 'value': '40 mEq/L', 'flag': 'abnormal', 'itemcontent': 'Blood'}, {'item': 'Intubated', 'value': 'NOT INTUBATED', 'flag': nan, 'itemcontent': 'Blood'}, {'item': 'O2 Flow', 'value': '2 L/min', 'flag': nan, 'itemcontent': 'Blood'}, {'item': 'pCO2', 'value': '55 mm Hg', 'flag': 'abnormal', 'itemcontent': 'Blood'}, {'item': 'pH', 'value': '7.46 units', 'flag': 'abnormal', 'itemcontent': 'Blood'}, {'item': 'pO2', 'value': '77 mm Hg', 'flag': 'abnormal', 'itemcontent': 'Blood'}, {'item': 'Temperature', 'value': '36.6', 'flag': nan, 'itemcontent': 'Blood'}, {'item': 'Anion Gap', 'value': '10 mEq/L', 'flag': nan, 'itemcontent': 'Blood'}, {'item': 'Bicarbonate', 'value': '37 mEq/L', 'flag': 'abnormal', 'itemcontent': 'Blood'}, {'item': 'Calcium, Total', 'value': '9.0 mg/dL', 'flag': nan, 'itemcontent': 'Blood'}, {'item': 'Chloride', 'value': '99 mEq/L', 'flag': nan, 'itemcontent': 'Blood'}, {'item': 'Creatinine', 'value': '0.8 mg/dL', 'flag': nan, 'itemcontent': 'Blood'}, {'item': 'Glucose', 'value': '158 mg/dL', 'flag': 'abnormal', 'itemcontent': 'Blood'}, {'item': 'Magnesium', 'value': '2.2 mg/dL', 'flag': nan, 'itemcontent': 'Blood'}, {'item': 'Phosphate', 'value': '3.4 mg/dL', 'flag': nan, 'itemcontent': 'Blood'}, {'item': 'Potassium', 'value': '4.1 mEq/L', 'flag': nan, 'itemcontent': 'Blood'}, {'item': 'Sodium', 'value': '142 mEq/L', 'flag': nan, 'itemcontent': 'Blood'}, {'item': 'Urea Nitrogen', 'value': '33 mg/dL', 'flag': 'abnormal', 'itemcontent': 'Blood'}, {'item': 'Hematocrit', 'value': '33.3 %', 'flag': 'abnormal', 'itemcontent': 'Blood'}, {'item': 'Hemoglobin', 'value': '11.5 g/dL', 'flag': 'abnormal', 'itemcontent': 'Blood'}, {'item': 'INR(PT)', 'value': '1.3', 'flag': nan, 'itemcontent': 'Blood'}, {'item': 'MCH', 'value': '30.6 pg', 'flag': nan, 'itemcontent': 'Blood'}, {'item': 'MCHC', 'value': '34.5 %', 'flag': nan, 'itemcontent': 'Blood'}, {'item': 'MCV', 'value': '89 fL', 'flag': nan, 'itemcontent': 'Blood'}, {'item': 'Platelet Count', 'value': '172 K/uL', 'flag': nan, 'itemcontent': 'Blood'}, {'item': 'PT', 'value': '14.2 sec', 'flag': 'abnormal', 'itemcontent': 'Blood'}, {'item': 'PTT', 'value': '22.1 sec', 'flag': nan, 'itemcontent': 'Blood'}, {'item': 'RDW', 'value': '14.7 %', 'flag': nan, 'itemcontent': 'Blood'}, {'item': 'Red Blood Cells', 'value': '3.77 m/uL', 'flag': 'abnormal', 'itemcontent': 'Blood'}, {'item': 'White Blood Cells', 'value': '13.1 K/uL', 'flag': 'abnormal', 'itemcontent': 'Blood'}, {'item': 'SPECIMEN TYPE', 'value': 'ART', 'flag': nan, 'itemcontent': 'BLOOD'}, {'item': 'Base Excess', 'value': '13 mEq/L', 'flag': nan, 'itemcontent': 'Blood'}, {'item': 'Calculated Total CO2', 'value': '41 mEq/L', 'flag': 'abnormal', 'itemcontent': 'Blood'}, {'item': 'pCO2', 'value': '60 mm Hg', 'flag': 'abnormal', 'itemcontent': 'Blood'}, {'item': 'pH', 'value': '7.43 units', 'flag': nan, 'itemcontent': 'Blood'}, {'item': 'pO2', 'value': '134 mm Hg', 'flag': 'abnormal', 'itemcontent': 'Blood'}, {'item': 'Bacteria', 'value': 'NONE', 'flag': nan, 'itemcontent': 'Urine'}, {'item': 'Bilirubin', 'value': 'NEG EU/dL', 'flag': nan, 'itemcontent': 'Urine'}, {'item': 'Blood', 'value': 'LG', 'flag': nan, 'itemcontent': 'Urine'}, {'item': 'Epithelial Cells', 'value': '0-2 #/hpf', 'flag': nan, 'itemcontent': 'Urine'}, {'item': 'Glucose', 'value': 'NEG mg/dL', 'flag': nan, 'itemcontent': 'Urine'}, {'item': 'Ketone', 'value': 'NEG mg/dL', 'flag': nan, 'itemcontent': 'Urine'}, {'item': 'Leukocytes', 'value': 'NEG', 'flag': nan, 'itemcontent': 'Urine'}, {'item': 'Nitrite', 'value': 'NEG', 'flag': nan, 'itemcontent': 'Urine'}, {'item': 'pH', 'value': '7.0 units', 'flag': nan, 'itemcontent': 'Urine'}, {'item': 'Protein', 'value': '30 mg/dL', 'flag': nan, 'itemcontent': 'Urine'}, {'item': 'RBC', 'value': '>50 #/hpf', 'flag': nan, 'itemcontent': 'Urine'}, {'item': 'Specific Gravity', 'value': '1.018  ', 'flag': nan, 'itemcontent': 'Urine'}, {'item': 'Urine Appearance', 'value': 'Hazy', 'flag': nan, 'itemcontent': 'Urine'}, {'item': 'Urine Color', 'value': 'LtAmb', 'flag': nan, 'itemcontent': 'Urine'}, {'item': 'Urobilinogen', 'value': '1 EU/dL', 'flag': nan, 'itemcontent': 'Urine'}, {'item': 'WBC', 'value': '0-2 #/hpf', 'flag': nan, 'itemcontent': 'Urine'}, {'item': 'Yeast', 'value': 'NONE', 'flag': nan, 'itemcontent': 'Urine'}, {'item': 'Anion Gap', 'value': '11 mEq/L', 'flag': nan, 'itemcontent': 'Blood'}, {'item': 'Bicarbonate', 'value': '37 mEq/L', 'flag': 'abnormal', 'itemcontent': 'Blood'}, {'item': 'Calcium, Total', 'value': '9.5 mg/dL', 'flag': nan, 'itemcontent': 'Blood'}, {'item': 'Chloride', 'value': '97 mEq/L', 'flag': nan, 'itemcontent': 'Blood'}, {'item': 'Creatine Kinase (CK)', 'value': '70 IU/L', 'flag': nan, 'itemcontent': 'Blood'}, {'item': 'Creatine Kinase, MB Isoenzyme', 'value': 'NotDone ng/mL', 'flag': nan, 'itemcontent': 'Blood'}, {'item': 'Creatinine', 'value': '0.7 mg/dL', 'flag': nan, 'itemcontent': 'Blood'}, {'item': 'Glucose', 'value': '110 mg/dL', 'flag': 'abnormal', 'itemcontent': 'Blood'}, {'item': 'Magnesium', 'value': '1.9 mg/dL', 'flag': nan, 'itemcontent': 'Blood'}, {'item': 'Phosphate', 'value': '2.7 mg/dL', 'flag': nan, 'itemcontent': 'Blood'}, {'item': 'Potassium', 'value': '3.7 mEq/L', 'flag': nan, 'itemcontent': 'Blood'}, {'item': 'Sodium', 'value': '141 mEq/L', 'flag': nan, 'itemcontent': 'Blood'}, {'item': 'Troponin T', 'value': '<0.01 ng/mL', 'flag': nan, 'itemcontent': 'Blood'}, {'item': 'Urea Nitrogen', 'value': '30 mg/dL', 'flag': 'abnormal', 'itemcontent': 'Blood'}, {'item': 'Anisocytosis', 'value': '2+', 'flag': nan, 'itemcontent': 'Blood'}, {'item': 'Atypical Lymphocytes', 'value': '0 %', 'flag': nan, 'itemcontent': 'Blood'}, {'item': 'Bands', 'value': '0 %', 'flag': nan, 'itemcontent': 'Blood'}, {'item': 'Basophils', 'value': '0 %', 'flag': nan, 'itemcontent': 'Blood'}, {'item': 'Burr Cells', 'value': '2+', 'flag': nan, 'itemcontent': 'Blood'}, {'item': 'Eosinophils', 'value': '1 %', 'flag': nan, 'itemcontent': 'Blood'}, {'item': 'Hematocrit', 'value': '35.5 %', 'flag': 'abnormal', 'itemcontent': 'Blood'}, {'item': 'Hemoglobin', 'value': '12.1 g/dL', 'flag': nan, 'itemcontent': 'Blood'}, {'item': 'Hypochromia', 'value': 'NORMAL', 'flag': nan, 'itemcontent': 'Blood'}, {'item': 'Lymphocytes', 'value': '11 %', 'flag': 'abnormal', 'itemcontent': 'Blood'}, {'item': 'Macrocytes', 'value': '2+', 'flag': nan, 'itemcontent': 'Blood'}, {'item': 'MCH', 'value': '29.9 pg', 'flag': nan, 'itemcontent': 'Blood'}, {'item': 'MCHC', 'value': '33.9 %', 'flag': nan, 'itemcontent': 'Blood'}, {'item': 'MCV', 'value': '88 fL', 'flag': nan, 'itemcontent': 'Blood'}, {'item': 'Metamyelocytes', 'value': '2 %', 'flag': 'abnormal', 'itemcontent': 'Blood'}, {'item': 'Microcytes', 'value': '2+', 'flag': nan, 'itemcontent': 'Blood'}, {'item': 'Monocytes', 'value': '9 %', 'flag': nan, 'itemcontent': 'Blood'}, {'item': 'Myelocytes', 'value': '0 %', 'flag': nan, 'itemcontent': 'Blood'}, {'item': 'Neutrophils', 'value': '77 %', 'flag': 'abnormal', 'itemcontent': 'Blood'}, {'item': 'Ovalocytes', 'value': '2+', 'flag': nan, 'itemcontent': 'Blood'}, {'item': 'Platelet Count', 'value': '189 K/uL', 'flag': nan, 'itemcontent': 'Blood'}, {'item': 'Platelet Smear', 'value': 'NORMAL', 'flag': nan, 'itemcontent': 'Blood'}, {'item': 'Poikilocytosis', 'value': '2+', 'flag': nan, 'itemcontent': 'Blood'}, {'item': 'Polychromasia', 'value': 'NORMAL', 'flag': nan, 'itemcontent': 'Blood'}, {'item': 'RDW', 'value': '14.1 %', 'flag': nan, 'itemcontent': 'Blood'}, {'item': 'Red Blood Cells', 'value': '4.03 m/uL', 'flag': 'abnormal', 'itemcontent': 'Blood'}, {'item': 'Target Cells', 'value': '2+', 'flag': nan, 'itemcontent': 'Blood'}, {'item': 'Teardrop Cells', 'value': '2+', 'flag': nan, 'itemcontent': 'Blood'}, {'item': 'White Blood Cells', 'value': '12.5 K/uL', 'flag': 'abnormal', 'itemcontent': 'Blood'}, {'item': 'Anion Gap', 'value': '14 mEq/L', 'flag': nan, 'itemcontent': 'Blood'}, {'item': 'Bicarbonate', 'value': '31 mEq/L', 'flag': 'abnormal', 'itemcontent': 'Blood'}, {'item': 'Chloride', 'value': '98 mEq/L', 'flag': nan, 'itemcontent': 'Blood'}, {'item': 'Creatine Kinase (CK)', 'value': '123 IU/L', 'flag': nan, 'itemcontent': 'Blood'}, {'item': 'Creatine Kinase, MB Isoenzyme', 'value': '3 ng/mL', 'flag': nan, 'itemcontent': 'Blood'}, {'item': 'Creatinine', 'value': '0.8 mg/dL', 'flag': nan, 'itemcontent': 'Blood'}, {'item': 'Glucose', 'value': '92 mg/dL', 'flag': nan, 'itemcontent': 'Blood'}, {'item': 'Magnesium', 'value': '1.8 mg/dL', 'flag': nan, 'itemcontent': 'Blood'}, {'item': 'Potassium', 'value': '4.5 mEq/L', 'flag': nan, 'itemcontent': 'Blood'}, {'item': 'Sodium', 'value': '138 mEq/L', 'flag': nan, 'itemcontent': 'Blood'}, {'item': 'Urea Nitrogen', 'value': '27 mg/dL', 'flag': 'abnormal', 'itemcontent': 'Blood'}, {'item': 'Hematocrit', 'value': '39.2 %', 'flag': nan, 'itemcontent': 'Blood'}, {'item': 'Hemoglobin', 'value': '13.2 g/dL', 'flag': nan, 'itemcontent': 'Blood'}, {'item': 'MCH', 'value': '29.6 pg', 'flag': nan, 'itemcontent': 'Blood'}, {'item': 'MCHC', 'value': '33.6 %', 'flag': nan, 'itemcontent': 'Blood'}, {'item': 'MCV', 'value': '88 fL', 'flag': nan, 'itemcontent': 'Blood'}, {'item': 'Platelet Count', 'value': '202 K/uL', 'flag': nan, 'itemcontent': 'Blood'}, {'item': 'RDW', 'value': '14.0 %', 'flag': nan, 'itemcontent': 'Blood'}, {'item': 'Red Blood Cells', 'value': '4.44 m/uL', 'flag': nan, 'itemcontent': 'Blood'}, {'item': 'White Blood Cells', 'value': '17.3 K/uL', 'flag': 'abnormal', 'itemcontent': 'Blood'}, {'item': 'INR(PT)', 'value': '1.4', 'flag': nan, 'itemcontent': 'Blood'}, {'item': 'PT', 'value': '14.7 sec', 'flag': 'abnormal', 'itemcontent': 'Blood'}, {'item': 'PTT', 'value': '33.3 sec', 'flag': nan, 'itemcontent': 'Blood'}, {'item': 'Bacteria', 'value': 'NONE', 'flag': nan, 'itemcontent': 'Urine'}, {'item': 'Bilirubin', 'value': 'NEG EU/dL', 'flag': nan, 'itemcontent': 'Urine'}, {'item': 'Blood', 'value': 'LGE', 'flag': nan, 'itemcontent': 'Urine'}, {'item': 'Epithelial Cells', 'value': '0 #/hpf', 'flag': nan, 'itemcontent': 'Urine'}, {'item': 'Glucose', 'value': 'NEG mg/dL', 'flag': nan, 'itemcontent': 'Urine'}, {'item': 'Ketone', 'value': 'NEG mg/dL', 'flag': nan, 'itemcontent': 'Urine'}, {'item': 'Leukocytes', 'value': 'NEG', 'flag': nan, 'itemcontent': 'Urine'}, {'item': 'Nitrite', 'value': 'NEG', 'flag': nan, 'itemcontent': 'Urine'}, {'item': 'pH', 'value': '7.0 units', 'flag': nan, 'itemcontent': 'Urine'}, {'item': 'Protein', 'value': 'TR mg/dL', 'flag': nan, 'itemcontent': 'Urine'}, {'item': 'RBC', 'value': '12 #/hpf', 'flag': 'abnormal', 'itemcontent': 'Urine'}, {'item': 'Specific Gravity', 'value': '1.005  ', 'flag': nan, 'itemcontent': 'Urine'}, {'item': 'Urine Appearance', 'value': 'Clear', 'flag': nan, 'itemcontent': 'Urine'}, {'item': 'Urine Color', 'value': 'Straw', 'flag': nan, 'itemcontent': 'Urine'}, {'item': 'Urobilinogen', 'value': 'NEG EU/dL', 'flag': nan, 'itemcontent': 'Urine'}, {'item': 'WBC', 'value': '0 #/hpf', 'flag': nan, 'itemcontent': 'Urine'}, {'item': 'Yeast', 'value': 'NONE', 'flag': nan, 'itemcontent': 'Urine'}, {'item': 'Anion Gap', 'value': '11 mEq/L', 'flag': nan, 'itemcontent': 'Blood'}, {'item': 'Bicarbonate', 'value': '31 mEq/L', 'flag': 'abnormal', 'itemcontent': 'Blood'}, {'item': 'Chloride', 'value': '100 mEq/L', 'flag': nan, 'itemcontent': 'Blood'}, {'item': 'Creatinine', 'value': '0.8 mg/dL', 'flag': nan, 'itemcontent': 'Blood'}, {'item': 'Glucose', 'value': '118 mg/dL', 'flag': 'abnormal', 'itemcontent': 'Blood'}, {'item': 'Magnesium', 'value': '1.6 mg/dL', 'flag': nan, 'itemcontent': 'Blood'}, {'item': 'Potassium', 'value': '4.1 mEq/L', 'flag': nan, 'itemcontent': 'Blood'}, {'item': 'Sodium', 'value': '138 mEq/L', 'flag': nan, 'itemcontent': 'Blood'}, {'item': 'Urea Nitrogen', 'value': '26 mg/dL', 'flag': 'abnormal', 'itemcontent': 'Blood'}, {'item': 'Hematocrit', 'value': '36.6 %', 'flag': nan, 'itemcontent': 'Blood'}, {'item': 'INR(PT)', 'value': '1.4', 'flag': nan, 'itemcontent': 'Blood'}, {'item': 'Platelet Count', 'value': '211 K/uL', 'flag': nan, 'itemcontent': 'Blood'}, {'item': 'PT', 'value': '14.8 sec', 'flag': 'abnormal', 'itemcontent': 'Blood'}, {'item': 'PTT', 'value': '39.3 sec', 'flag': 'abnormal', 'itemcontent': 'Blood'}, {'item': 'Hematocrit', 'value': '39.5 %', 'flag': nan, 'itemcontent': 'Blood'}, {'item': 'Albumin', 'value': '3.3 g/dL', 'flag': 'abnormal', 'itemcontent': 'Blood'}, {'item': 'Anion Gap', 'value': '16 mEq/L', 'flag': nan, 'itemcontent': 'Blood'}, {'item': 'Bicarbonate', 'value': '29 mEq/L', 'flag': nan, 'itemcontent': 'Blood'}, {'item': 'Chloride', 'value': '99 mEq/L', 'flag': nan, 'itemcontent': 'Blood'}, {'item': 'Creatinine', 'value': '1.1 mg/dL', 'flag': nan, 'itemcontent': 'Blood'}, {'item': 'Glucose', 'value': '93 mg/dL', 'flag': nan, 'itemcontent': 'Blood'}, {'item': 'Magnesium', 'value': '1.5 mg/dL', 'flag': 'abnormal', 'itemcontent': 'Blood'}, {'item': 'Potassium', 'value': '4.1 mEq/L', 'flag': nan, 'itemcontent': 'Blood'}, {'item': 'Sodium', 'value': '140 mEq/L', 'flag': nan, 'itemcontent': 'Blood'}, {'item': 'Urea Nitrogen', 'value': '35 mg/dL', 'flag': 'abnormal', 'itemcontent': 'Blood'}, {'item': 'Hematocrit', 'value': '37.6 %', 'flag': nan, 'itemcontent': 'Blood'}, {'item': 'Hemoglobin', 'value': '12.6 g/dL', 'flag': nan, 'itemcontent': 'Blood'}, {'item': 'RDW', 'value': '14.4 %', 'flag': nan, 'itemcontent': 'Blood'}, {'item': 'Red Blood Cells', 'value': '3.84 m/uL', 'flag': 'abnormal', 'itemcontent': 'Blood'}, {'item': 'White Blood Cells', 'value': '8.8 K/uL', 'flag': nan, 'itemcontent': 'Blood'}, {'item': 'INR(PT)', 'value': '2.9', 'flag': nan, 'itemcontent': 'Blood'}, {'item': 'PT', 'value': '21.3 sec', 'flag': 'abnormal', 'itemcontent': 'Blood'}, {'item': 'PTT', 'value': '31.7 sec', 'flag': nan, 'itemcontent': 'Blood'}, {'item': 'Creatine Kinase (CK)', 'value': '147 IU/L', 'flag': 'abnormal', 'itemcontent': 'Blood'}, {'item': 'Creatine Kinase, MB Isoenzyme', 'value': '6 ng/mL', 'flag': nan, 'itemcontent': 'Blood'}, {'item': 'Troponin T', 'value': '0.06 ng/ml', 'flag': 'abnormal', 'itemcontent': 'Blood'}, {'item': 'INR(PT)', 'value': '3.6', 'flag': nan, 'itemcontent': 'Blood'}, {'item': 'PT', 'value': '23.8 sec', 'flag': 'abnormal', 'itemcontent': 'Blood'}, {'item': 'PTT', 'value': '120.9 sec', 'flag': 'abnormal', 'itemcontent': 'Blood'}, {'item': 'CK-MB Index', 'value': '6.5 %', 'flag': 'abnormal', 'itemcontent': 'Blood'}, {'item': 'Creatine Kinase (CK)', 'value': '339 IU/L', 'flag': 'abnormal', 'itemcontent': 'Blood'}, {'item': 'Creatine Kinase, MB Isoenzyme', 'value': '22 ng/mL', 'flag': 'abnormal', 'itemcontent': 'Blood'}, {'item': 'Troponin T', 'value': '0.06 ng/ml', 'flag': 'abnormal', 'itemcontent': 'Blood'}, {'item': 'Anion Gap', 'value': '16 mEq/L', 'flag': nan, 'itemcontent': 'Blood'}, {'item': 'Bicarbonate', 'value': '30 mEq/L', 'flag': 'abnormal', 'itemcontent': 'Blood'}, {'item': 'Chloride', 'value': '95 mEq/L', 'flag': 'abnormal', 'itemcontent': 'Blood'}, {'item': 'Cholesterol Ratio (Total/HDL)', 'value': '2.3 Ratio', 'flag': nan, 'itemcontent': 'Blood'}, {'item': 'Cholesterol, HDL', 'value': '60 mg/dL', 'flag': nan, 'itemcontent': 'Blood'}, {'item': 'Cholesterol, LDL, Calculated', 'value': '62 mg/dL', 'flag': nan, 'itemcontent': 'Blood'}, {'item': 'Cholesterol, Total', 'value': '140 mg/dL', 'flag': nan, 'itemcontent': 'Blood'}, {'item': 'CK-MB Index', 'value': '6.8 %', 'flag': 'abnormal', 'itemcontent': 'Blood'}, {'item': 'Creatine Kinase (CK)', 'value': '352 IU/L', 'flag': 'abnormal', 'itemcontent': 'Blood'}, {'item': 'Creatine Kinase, MB Isoenzyme', 'value': '24 ng/mL', 'flag': 'abnormal', 'itemcontent': 'Blood'}, {'item': 'Creatinine', 'value': '1.2 mg/dL', 'flag': 'abnormal', 'itemcontent': 'Blood'}, {'item': 'Glucose', 'value': '234 mg/dL', 'flag': 'abnormal', 'itemcontent': 'Blood'}, {'item': 'Magnesium', 'value': '1.4 mg/dL', 'flag': 'abnormal', 'itemcontent': 'Blood'}, {'item': 'Potassium', 'value': '3.6 mEq/L', 'flag': nan, 'itemcontent': 'Blood'}, {'item': 'Sodium', 'value': '137 mEq/L', 'flag': nan, 'itemcontent': 'Blood'}, {'item': 'Thyroid Stimulating Hormone', 'value': '0.58 uIU/mL', 'flag': nan, 'itemcontent': 'Blood'}, {'item': 'Triglycerides', 'value': '88 mg/dL', 'flag': nan, 'itemcontent': 'Blood'}, {'item': 'Troponin T', 'value': '0.06 ng/ml', 'flag': 'abnormal', 'itemcontent': 'Blood'}, {'item': 'Urea Nitrogen', 'value': '28 mg/dL', 'flag': 'abnormal', 'itemcontent': 'Blood'}, {'item': 'Hematocrit', 'value': '34.6 %', 'flag': 'abnormal', 'itemcontent': 'Blood'}, {'item': 'Hemoglobin', 'value': '11.7 g/dL', 'flag': 'abnormal', 'itemcontent': 'Blood'}, {'item': 'MCH', 'value': '30.6 pg', 'flag': nan, 'itemcontent': 'Blood'}, {'item': 'MCHC', 'value': '33.9 %', 'flag': nan, 'itemcontent': 'Blood'}, {'item': 'MCV', 'value': '90 fL', 'flag': nan, 'itemcontent': 'Blood'}, {'item': 'Platelet Count', 'value': '238 K/uL', 'flag': nan, 'itemcontent': 'Blood'}, {'item': 'RDW', 'value': '14.2 %', 'flag': nan, 'itemcontent': 'Blood'}, {'item': 'Red Blood Cells', 'value': '3.83 m/uL', 'flag': 'abnormal', 'itemcontent': 'Blood'}, {'item': 'White Blood Cells', 'value': '20.2 K/uL', 'flag': 'abnormal', 'itemcontent': 'Blood'}, {'item': 'INR(PT)', 'value': '2.6', 'flag': nan, 'itemcontent': 'Blood'}, {'item': 'PT', 'value': '20.3 sec', 'flag': 'abnormal', 'itemcontent': 'Blood'}, {'item': 'PTT', 'value': '30.4 sec', 'flag': nan, 'itemcontent': 'Blood'}, {'item': 'SPECIMEN TYPE', 'value': 'ART', 'flag': nan, 'itemcontent': 'BLOOD'}, {'item': 'Base Excess', 'value': '1 mEq/L', 'flag': nan, 'itemcontent': 'Blood'}, {'item': 'Calculated Total CO2', 'value': '34 mEq/L', 'flag': 'abnormal', 'itemcontent': 'Blood'}, {'item': 'pCO2', 'value': '74 mm Hg', 'flag': 'abnormal', 'itemcontent': 'Blood'}, {'item': 'pH', 'value': '7.25 units', 'flag': 'abnormal', 'itemcontent': 'Blood'}, {'item': 'pO2', 'value': '104 mm Hg', 'flag': nan, 'itemcontent': 'Blood'}, {'item': 'SPECIMEN TYPE', 'value': 'ART', 'flag': nan, 'itemcontent': 'BLOOD'}, {'item': 'Base Excess', 'value': '2 mEq/L', 'flag': nan, 'itemcontent': 'Blood'}, {'item': 'Calculated Total CO2', 'value': '35 mEq/L', 'flag': 'abnormal', 'itemcontent': 'Blood'}, {'item': 'pCO2', 'value': '80 mm Hg', 'flag': 'abnormal', 'itemcontent': 'Blood'}, {'item': 'pH', 'value': '7.23 units', 'flag': 'abnormal', 'itemcontent': 'Blood'}, {'item': 'pO2', 'value': '78 mm Hg', 'flag': 'abnormal', 'itemcontent': 'Blood'}, {'item': 'SPECIMEN TYPE', 'value': 'ART', 'flag': nan, 'itemcontent': 'BLOOD'}, {'item': 'Base Excess', 'value': '1 mEq/L', 'flag': nan, 'itemcontent': 'Blood'}, {'item': 'Calculated Total CO2', 'value': '32 mEq/L', 'flag': 'abnormal', 'itemcontent': 'Blood'}, {'item': 'pCO2', 'value': '68 mm Hg', 'flag': 'abnormal', 'itemcontent': 'Blood'}, {'item': 'pH', 'value': '7.26 units', 'flag': 'abnormal', 'itemcontent': 'Blood'}, {'item': 'pO2', 'value': '342 mm Hg', 'flag': 'abnormal', 'itemcontent': 'Blood'}, {'item': 'Anion Gap', 'value': '19 mEq/L', 'flag': nan, 'itemcontent': 'Blood'}, {'item': 'Bicarbonate', 'value': '29 mEq/L', 'flag': nan, 'itemcontent': 'Blood'}, {'item': 'Calcium, Total', 'value': '9.2 mg/dL', 'flag': nan, 'itemcontent': 'Blood'}, {'item': 'Chloride', 'value': '96 mEq/L', 'flag': nan, 'itemcontent': 'Blood'}, {'item': 'CK-MB Index', 'value': '7.1 %', 'flag': 'abnormal', 'itemcontent': 'Blood'}, {'item': 'Creatine Kinase (CK)', 'value': '393 IU/L', 'flag': 'abnormal', 'itemcontent': 'Blood'}, {'item': 'Creatine Kinase, MB Isoenzyme', 'value': '28 ng/mL', 'flag': 'abnormal', 'itemcontent': 'Blood'}, {'item': 'Creatinine', 'value': '1.7 mg/dL', 'flag': 'abnormal', 'itemcontent': 'Blood'}, {'item': 'Glucose', 'value': '226 mg/dL', 'flag': 'abnormal', 'itemcontent': 'Blood'}, {'item': 'Magnesium', 'value': '3.2 mg/dL', 'flag': 'abnormal', 'itemcontent': 'Blood'}, {'item': 'Phosphate', 'value': '6.8 mg/dL', 'flag': 'abnormal', 'itemcontent': 'Blood'}, {'item': 'Potassium', 'value': '4.4 mEq/L', 'flag': nan, 'itemcontent': 'Blood'}, {'item': 'Sodium', 'value': '140 mEq/L', 'flag': nan, 'itemcontent': 'Blood'}, {'item': 'Troponin T', 'value': '0.05 ng/ml', 'flag': 'abnormal', 'itemcontent': 'Blood'}, {'item': 'Urea Nitrogen', 'value': '42 mg/dL', 'flag': 'abnormal', 'itemcontent': 'Blood'}, {'item': 'Hematocrit', 'value': '37.9 %', 'flag': nan, 'itemcontent': 'Blood'}, {'item': 'Hemoglobin', 'value': '12.0 g/dL', 'flag': nan, 'itemcontent': 'Blood'}, {'item': 'INR(PT)', 'value': '2.7', 'flag': nan, 'itemcontent': 'Blood'}, {'item': 'MCH', 'value': '29.5 pg', 'flag': nan, 'itemcontent': 'Blood'}, {'item': 'MCHC', 'value': '31.7 %', 'flag': nan, 'itemcontent': 'Blood'}, {'item': 'MCV', 'value': '93 fL', 'flag': nan, 'itemcontent': 'Blood'}, {'item': 'Platelet Count', 'value': '336 K/uL', 'flag': nan, 'itemcontent': 'Blood'}, {'item': 'PT', 'value': '20.8 sec', 'flag': 'abnormal', 'itemcontent': 'Blood'}, {'item': 'PTT', 'value': '30.4 sec', 'flag': nan, 'itemcontent': 'Blood'}, {'item': 'RDW', 'value': '14.5 %', 'flag': nan, 'itemcontent': 'Blood'}, {'item': 'Red Blood Cells', 'value': '4.08 m/uL', 'flag': 'abnormal', 'itemcontent': 'Blood'}, {'item': 'White Blood Cells', 'value': '28.6 K/uL', 'flag': 'abnormal', 'itemcontent': 'Blood'}, {'item': 'SPECIMEN TYPE', 'value': 'ART', 'flag': nan, 'itemcontent': 'BLOOD'}, {'item': 'Base Excess', 'value': '2 mEq/L', 'flag': nan, 'itemcontent': 'Blood'}, {'item': 'Calculated Total CO2', 'value': '32 mEq/L', 'flag': 'abnormal', 'itemcontent': 'Blood'}, {'item': 'Lactate', 'value': '2.0 mmol/L', 'flag': nan, 'itemcontent': 'Blood'}, {'item': 'pCO2', 'value': '63 mm Hg', 'flag': 'abnormal', 'itemcontent': 'Blood'}, {'item': 'pH', 'value': '7.30 units', 'flag': 'abnormal', 'itemcontent': 'Blood'}, {'item': 'pO2', 'value': '98 mm Hg', 'flag': nan, 'itemcontent': 'Blood'}, {'item': 'Anion Gap', 'value': '17 mEq/L', 'flag': nan, 'itemcontent': 'Blood'}, {'item': 'Bicarbonate', 'value': '29 mEq/L', 'flag': nan, 'itemcontent': 'Blood'}, {'item': 'Calcium, Total', 'value': '9.4 mg/dL', 'flag': nan, 'itemcontent': 'Blood'}, {'item': 'Chloride', 'value': '96 mEq/L', 'flag': nan, 'itemcontent': 'Blood'}, {'item': 'CK-MB Index', 'value': '6.7 %', 'flag': 'abnormal', 'itemcontent': 'Blood'}, {'item': 'Creatine Kinase (CK)', 'value': '358 IU/L', 'flag': 'abnormal', 'itemcontent': 'Blood'}, {'item': 'Creatine Kinase, MB Isoenzyme', 'value': '24 ng/mL', 'flag': 'abnormal', 'itemcontent': 'Blood'}, {'item': 'Creatinine', 'value': '1.7 mg/dL', 'flag': 'abnormal', 'itemcontent': 'Blood'}, {'item': 'Glucose', 'value': '222 mg/dL', 'flag': 'abnormal', 'itemcontent': 'Blood'}, {'item': 'Magnesium', 'value': '3.1 mg/dL', 'flag': 'abnormal', 'itemcontent': 'Blood'}, {'item': 'Phosphate', 'value': '6.0 mg/dL', 'flag': 'abnormal', 'itemcontent': 'Blood'}, {'item': 'Potassium', 'value': '4.2 mEq/L', 'flag': nan, 'itemcontent': 'Blood'}, {'item': 'Sodium', 'value': '138 mEq/L', 'flag': nan, 'itemcontent': 'Blood'}, {'item': 'Urea Nitrogen', 'value': '44 mg/dL', 'flag': 'abnormal', 'itemcontent': 'Blood'}, {'item': 'Hematocrit', 'value': '36.8 %', 'flag': nan, 'itemcontent': 'Blood'}, {'item': 'Hemoglobin', 'value': '11.9 g/dL', 'flag': 'abnormal', 'itemcontent': 'Blood'}, {'item': 'MCH', 'value': '30.0 pg', 'flag': nan, 'itemcontent': 'Blood'}, {'item': 'MCHC', 'value': '32.3 %', 'flag': nan, 'itemcontent': 'Blood'}, {'item': 'MCV', 'value': '93 fL', 'flag': nan, 'itemcontent': 'Blood'}, {'item': 'Platelet Count', 'value': '301 K/uL', 'flag': nan, 'itemcontent': 'Blood'}, {'item': 'RDW', 'value': '14.5 %', 'flag': nan, 'itemcontent': 'Blood'}, {'item': 'Red Blood Cells', 'value': '3.96 m/uL', 'flag': 'abnormal', 'itemcontent': 'Blood'}, {'item': 'White Blood Cells', 'value': '28.5 K/uL', 'flag': 'abnormal', 'itemcontent': 'Blood'}, {'item': 'Bacteria', 'value': 'OCC', 'flag': nan, 'itemcontent': 'Urine'}, {'item': 'Bilirubin', 'value': 'NEG EU/dL', 'flag': nan, 'itemcontent': 'Urine'}, {'item': 'Blood', 'value': 'LG', 'flag': nan, 'itemcontent': 'Urine'}, {'item': 'Epithelial Cells', 'value': '0 #/hpf', 'flag': nan, 'itemcontent': 'Urine'}, {'item': 'Glucose', 'value': 'NEG mg/dL', 'flag': nan, 'itemcontent': 'Urine'}, {'item': 'Ketone', 'value': 'NEG mg/dL', 'flag': nan, 'itemcontent': 'Urine'}, {'item': 'Leukocytes', 'value': 'NEG', 'flag': nan, 'itemcontent': 'Urine'}, {'item': 'Nitrite', 'value': 'NEG', 'flag': nan, 'itemcontent': 'Urine'}, {'item': 'pH', 'value': '5.0 units', 'flag': nan, 'itemcontent': 'Urine'}, {'item': 'Protein', 'value': '30 mg/dL', 'flag': nan, 'itemcontent': 'Urine'}, {'item': 'RBC', 'value': '21-50 #/hpf', 'flag': 'abnormal', 'itemcontent': 'Urine'}, {'item': 'Specific Gravity', 'value': '1.017  ', 'flag': nan, 'itemcontent': 'Urine'}, {'item': 'Urine Appearance', 'value': 'Hazy', 'flag': nan, 'itemcontent': 'Urine'}, {'item': 'Urine Color', 'value': 'Straw', 'flag': nan, 'itemcontent': 'Urine'}, {'item': 'Urine Mucous', 'value': 'OCC', 'flag': nan, 'itemcontent': 'Urine'}, {'item': 'Urobilinogen', 'value': 'NEG EU/dL', 'flag': nan, 'itemcontent': 'Urine'}, {'item': 'WBC', 'value': '0-2 #/hpf', 'flag': nan, 'itemcontent': 'Urine'}, {'item': 'Yeast', 'value': 'NONE', 'flag': nan, 'itemcontent': 'Urine'}, {'item': 'INR(PT)', 'value': '4.8', 'flag': nan, 'itemcontent': 'Blood'}, {'item': 'PT', 'value': '27.6 sec', 'flag': 'abnormal', 'itemcontent': 'Blood'}, {'item': 'PTT', 'value': '150 sec', 'flag': 'abnormal', 'itemcontent': 'Blood'}, {'item': 'SPECIMEN TYPE', 'value': 'ART', 'flag': nan, 'itemcontent': 'BLOOD'}, {'item': 'Base Excess', 'value': '2 mEq/L', 'flag': nan, 'itemcontent': 'Blood'}, {'item': 'Calculated Total CO2', 'value': '32 mEq/L', 'flag': 'abnormal', 'itemcontent': 'Blood'}, {'item': 'Glucose', 'value': '209 mg/dL', 'flag': 'abnormal', 'itemcontent': 'Blood'}, {'item': 'Intubated', 'value': 'NOT INTUBATED', 'flag': nan, 'itemcontent': 'Blood'}, {'item': 'Oxygen', 'value': '40 %', 'flag': nan, 'itemcontent': 'Blood'}, {'item': 'pCO2', 'value': '64 mm Hg', 'flag': 'abnormal', 'itemcontent': 'Blood'}, {'item': 'PEEP', 'value': '5', 'flag': nan, 'itemcontent': 'Blood'}, {'item': 'pH', 'value': '7.29 units', 'flag': 'abnormal', 'itemcontent': 'Blood'}, {'item': 'pO2', 'value': '131 mm Hg', 'flag': 'abnormal', 'itemcontent': 'Blood'}, {'item': 'Temperature', 'value': '38.1', 'flag': nan, 'itemcontent': 'Blood'}, {'item': 'SPECIMEN TYPE', 'value': 'ART', 'flag': nan, 'itemcontent': 'BLOOD'}, {'item': 'Base Excess', 'value': '3 mEq/L', 'flag': nan, 'itemcontent': 'Blood'}, {'item': 'Calculated Total CO2', 'value': '33 mEq/L', 'flag': 'abnormal', 'itemcontent': 'Blood'}, {'item': 'Free Calcium', 'value': '1.24 mmol/L', 'flag': nan, 'itemcontent': 'Blood'}, {'item': 'Glucose', 'value': '209 mg/dL', 'flag': 'abnormal', 'itemcontent': 'Blood'}, {'item': 'pCO2', 'value': '67 mm Hg', 'flag': 'abnormal', 'itemcontent': 'Blood'}, {'item': 'pH', 'value': '7.28 units', 'flag': 'abnormal', 'itemcontent': 'Blood'}, {'item': 'pO2', 'value': '131 mm Hg', 'flag': 'abnormal', 'itemcontent': 'Blood'}, {'item': 'Potassium, Whole Blood', 'value': '4.1 mEq/L', 'flag': nan, 'itemcontent': 'Blood'}, {'item': 'INR(PT)', 'value': '4.4', 'flag': nan, 'itemcontent': 'Blood'}, {'item': 'PT', 'value': '26.5 sec', 'flag': 'abnormal', 'itemcontent': 'Blood'}, {'item': 'PTT', 'value': '150 sec', 'flag': 'abnormal', 'itemcontent': 'Blood'}, {'item': 'SPECIMEN TYPE', 'value': 'ART', 'flag': nan, 'itemcontent': 'BLOOD'}, {'item': 'Base Excess', 'value': '-1 mEq/L', 'flag': nan, 'itemcontent': 'Blood'}, {'item': 'Calculated Total CO2', 'value': '29 mEq/L', 'flag': nan, 'itemcontent': 'Blood'}, {'item': 'Glucose', 'value': '188 mg/dL', 'flag': 'abnormal', 'itemcontent': 'Blood'}, {'item': 'pCO2', 'value': '66 mm Hg', 'flag': 'abnormal', 'itemcontent': 'Blood'}, {'item': 'pH', 'value': '7.23 units', 'flag': 'abnormal', 'itemcontent': 'Blood'}, {'item': 'pO2', 'value': '100 mm Hg', 'flag': nan, 'itemcontent': 'Blood'}, {'item': 'SPECIMEN TYPE', 'value': 'ART', 'flag': nan, 'itemcontent': 'BLOOD'}, {'item': 'Base Excess', 'value': '0 mEq/L', 'flag': nan, 'itemcontent': 'Blood'}, {'item': 'Calculated Total CO2', 'value': '29 mEq/L', 'flag': nan, 'itemcontent': 'Blood'}, {'item': 'pCO2', 'value': '63 mm Hg', 'flag': 'abnormal', 'itemcontent': 'Blood'}, {'item': 'pH', 'value': '7.25 units', 'flag': 'abnormal', 'itemcontent': 'Blood'}, {'item': 'pO2', 'value': '116 mm Hg', 'flag': 'abnormal', 'itemcontent': 'Blood'}, {'item': 'INR(PT)', 'value': '3.6', 'flag': nan, 'itemcontent': 'Blood'}, {'item': 'PT', 'value': '24.0 sec', 'flag': 'abnormal', 'itemcontent': 'Blood'}, {'item': 'PTT', 'value': '65.3 sec', 'flag': 'abnormal', 'itemcontent': 'Blood'}, {'item': 'SPECIMEN TYPE', 'value': 'ART', 'flag': nan, 'itemcontent': 'BLOOD'}, {'item': 'Base Excess', 'value': '0 mEq/L', 'flag': nan, 'itemcontent': 'Blood'}, {'item': 'Calculated Total CO2', 'value': '27 mEq/L', 'flag': nan, 'itemcontent': 'Blood'}, {'item': 'Glucose', 'value': '198 mg/dL', 'flag': 'abnormal', 'itemcontent': 'Blood'}, {'item': 'pCO2', 'value': '51 mm Hg', 'flag': 'abnormal', 'itemcontent': 'Blood'}, {'item': 'pH', 'value': '7.32 units', 'flag': 'abnormal', 'itemcontent': 'Blood'}, {'item': 'pO2', 'value': '117 mm Hg', 'flag': 'abnormal', 'itemcontent': 'Blood'}, {'item': 'Anion Gap', 'value': '15 mEq/L', 'flag': nan, 'itemcontent': 'Blood'}, {'item': 'Bicarbonate', 'value': '27 mEq/L', 'flag': nan, 'itemcontent': 'Blood'}, {'item': 'Calcium, Total', 'value': '7.8 mg/dL', 'flag': 'abnormal', 'itemcontent': 'Blood'}, {'item': 'Chloride', 'value': '103 mEq/L', 'flag': nan, 'itemcontent': 'Blood'}, {'item': 'CK-MB Index', 'value': '4.0 %', 'flag': nan, 'itemcontent': 'Blood'}, {'item': 'Creatine Kinase (CK)', 'value': '275 IU/L', 'flag': 'abnormal', 'itemcontent': 'Blood'}, {'item': 'Creatine Kinase, MB Isoenzyme', 'value': '11 ng/mL', 'flag': 'abnormal', 'itemcontent': 'Blood'}, {'item': 'Creatinine', 'value': '1.7 mg/dL', 'flag': 'abnormal', 'itemcontent': 'Blood'}, {'item': 'Glucose', 'value': '201 mg/dL', 'flag': 'abnormal', 'itemcontent': 'Blood'}, {'item': 'Magnesium', 'value': '2.6 mg/dL', 'flag': nan, 'itemcontent': 'Blood'}, {'item': 'Phosphate', 'value': '4.7 mg/dL', 'flag': 'abnormal', 'itemcontent': 'Blood'}, {'item': 'Potassium', 'value': '3.9 mEq/L', 'flag': nan, 'itemcontent': 'Blood'}, {'item': 'Sodium', 'value': '141 mEq/L', 'flag': nan, 'itemcontent': 'Blood'}, {'item': 'Troponin T', 'value': '0.05 ng/ml', 'flag': 'abnormal', 'itemcontent': 'Blood'}, {'item': 'Hematocrit', 'value': '34.1 %', 'flag': 'abnormal', 'itemcontent': 'Blood'}, {'item': 'Hemoglobin', 'value': '11.4 g/dL', 'flag': 'abnormal', 'itemcontent': 'Blood'}, {'item': 'INR(PT)', 'value': '1.3', 'flag': nan, 'itemcontent': 'Blood'}, {'item': 'MCH', 'value': '29.9 pg', 'flag': nan, 'itemcontent': 'Blood'}, {'item': 'MCHC', 'value': '33.5 %', 'flag': nan, 'itemcontent': 'Blood'}, {'item': 'MCV', 'value': '89 fL', 'flag': nan, 'itemcontent': 'Blood'}, {'item': 'Platelet Count', 'value': '221 K/uL', 'flag': nan, 'itemcontent': 'Blood'}, {'item': 'PT', 'value': '14.5 sec', 'flag': 'abnormal', 'itemcontent': 'Blood'}, {'item': 'PTT', 'value': '36.6 sec', 'flag': 'abnormal', 'itemcontent': 'Blood'}, {'item': 'RDW', 'value': '14.6 %', 'flag': nan, 'itemcontent': 'Blood'}, {'item': 'Red Blood Cells', 'value': '3.82 m/uL', 'flag': 'abnormal', 'itemcontent': 'Blood'}, {'item': 'White Blood Cells', 'value': '13.1 K/uL', 'flag': 'abnormal', 'itemcontent': 'Blood'}, {'item': 'Urea Nitrogen', 'value': '53 mg/dL', 'flag': 'abnormal', 'itemcontent': 'Blood'}, {'item': 'Hematocrit', 'value': '30.6 %', 'flag': 'abnormal', 'itemcontent': 'Blood'}, {'item': 'Hemoglobin', 'value': '10.0 g/dL', 'flag': 'abnormal', 'itemcontent': 'Blood'}, {'item': 'MCH', 'value': '30.2 pg', 'flag': nan, 'itemcontent': 'Blood'}, {'item': 'MCHC', 'value': '32.7 %', 'flag': nan, 'itemcontent': 'Blood'}, {'item': 'MCV', 'value': '93 fL', 'flag': nan, 'itemcontent': 'Blood'}, {'item': 'Platelet Count', 'value': '236 K/uL', 'flag': nan, 'itemcontent': 'Blood'}, {'item': 'RDW', 'value': '14.4 %', 'flag': nan, 'itemcontent': 'Blood'}, {'item': 'Red Blood Cells', 'value': '3.31 m/uL', 'flag': 'abnormal', 'itemcontent': 'Blood'}, {'item': 'White Blood Cells', 'value': '20.4 K/uL', 'flag': 'abnormal', 'itemcontent': 'Blood'}, {'item': 'Hematocrit', 'value': '30.8 %', 'flag': 'abnormal', 'itemcontent': 'Blood'}, {'item': 'Hemoglobin', 'value': '10.1 g/dL', 'flag': 'abnormal', 'itemcontent': 'Blood'}, {'item': 'MCH', 'value': '30.2 pg', 'flag': nan, 'itemcontent': 'Blood'}, {'item': 'MCHC', 'value': '33.0 %', 'flag': nan, 'itemcontent': 'Blood'}, {'item': 'MCV', 'value': '91 fL', 'flag': nan, 'itemcontent': 'Blood'}, {'item': 'Platelet Count', 'value': '230 K/uL', 'flag': nan, 'itemcontent': 'Blood'}, {'item': 'RDW', 'value': '14.4 %', 'flag': nan, 'itemcontent': 'Blood'}, {'item': 'Red Blood Cells', 'value': '3.36 m/uL', 'flag': 'abnormal', 'itemcontent': 'Blood'}, {'item': 'White Blood Cells', 'value': '17.9 K/uL', 'flag': 'abnormal', 'itemcontent': 'Blood'}, {'item': 'SPECIMEN TYPE', 'value': 'ART', 'flag': nan, 'itemcontent': 'BLOOD'}, {'item': 'Base Excess', 'value': '4 mEq/L', 'flag': nan, 'itemcontent': 'Blood'}, {'item': 'Calculated Total CO2', 'value': '32 mEq/L', 'flag': 'abnormal', 'itemcontent': 'Blood'}, {'item': 'Intubated', 'value': 'INTUBATED', 'flag': nan, 'itemcontent': 'Blood'}, {'item': 'Oxygen', 'value': '40 %', 'flag': nan, 'itemcontent': 'Blood'}, {'item': 'pCO2', 'value': '55 mm Hg', 'flag': 'abnormal', 'itemcontent': 'Blood'}, {'item': 'PEEP', 'value': '5', 'flag': nan, 'itemcontent': 'Blood'}, {'item': 'pH', 'value': '7.36 units', 'flag': nan, 'itemcontent': 'Blood'}, {'item': 'pO2', 'value': '125 mm Hg', 'flag': 'abnormal', 'itemcontent': 'Blood'}, {'item': 'Tidal Volume', 'value': '450', 'flag': nan, 'itemcontent': 'Blood'}, {'item': 'Ventilation Rate', 'value': '18/0', 'flag': nan, 'itemcontent': 'Blood'}, {'item': 'Bilirubin, Total', 'value': '0.4 mg/dL', 'flag': nan, 'itemcontent': 'Blood'}, {'item': 'Creatinine', 'value': '1.4 mg/dL', 'flag': 'abnormal', 'itemcontent': 'Blood'}, {'item': 'Glucose', 'value': '215 mg/dL', 'flag': 'abnormal', 'itemcontent': 'Blood'}, {'item': 'Haptoglobin', 'value': '175 mg/dL', 'flag': nan, 'itemcontent': 'Blood'}, {'item': 'Lactate Dehydrogenase (LD)', 'value': '218 IU/L', 'flag': nan, 'itemcontent': 'Blood'}, {'item': 'Osmolality, Measured', 'value': '310 mOsm/kg', 'flag': nan, 'itemcontent': 'Blood'}, {'item': 'Potassium', 'value': '3.5 mEq/L', 'flag': nan, 'itemcontent': 'Blood'}, {'item': 'INR(PT)', 'value': '4.2', 'flag': nan, 'itemcontent': 'Blood'}, {'item': 'PT', 'value': '25.7 sec', 'flag': 'abnormal', 'itemcontent': 'Blood'}, {'item': 'PTT', 'value': '34.8 sec', 'flag': nan, 'itemcontent': 'Blood'}, {'item': 'Creatinine, Urine', 'value': '85 mg/dL', 'flag': nan, 'itemcontent': 'Urine'}, {'item': 'Length of Urine Collection', 'value': 'RANDOM', 'flag': nan, 'itemcontent': 'Urine'}, {'item': 'Osmolality, Urine', 'value': '557 mOsm/kg', 'flag': nan, 'itemcontent': 'Urine'}, {'item': 'Sodium, Urine', 'value': '19 mEq/L', 'flag': nan, 'itemcontent': 'Urine'}, {'item': 'Bacteria', 'value': 'FEW', 'flag': nan, 'itemcontent': 'Urine'}, {'item': 'Bilirubin', 'value': 'NEG EU/dL', 'flag': nan, 'itemcontent': 'Urine'}, {'item': 'Blood', 'value': 'LG', 'flag': nan, 'itemcontent': 'Urine'}, {'item': 'Epithelial Cells', 'value': '0 #/hpf', 'flag': nan, 'itemcontent': 'Urine'}, {'item': 'Glucose', 'value': 'NEG mg/dL', 'flag': nan, 'itemcontent': 'Urine'}, {'item': 'Ketone', 'value': 'NEG mg/dL', 'flag': nan, 'itemcontent': 'Urine'}, {'item': 'Leukocytes', 'value': 'NEG', 'flag': nan, 'itemcontent': 'Urine'}, {'item': 'Nitrite', 'value': 'NEG', 'flag': nan, 'itemcontent': 'Urine'}, {'item': 'pH', 'value': '6.5 units', 'flag': nan, 'itemcontent': 'Urine'}, {'item': 'Protein', 'value': 'TR mg/dL', 'flag': nan, 'itemcontent': 'Urine'}, {'item': 'RBC', 'value': '11-20 #/hpf', 'flag': 'abnormal', 'itemcontent': 'Urine'}, {'item': 'Specific Gravity', 'value': '1.016  ', 'flag': nan, 'itemcontent': 'Urine'}, {'item': 'Urine Appearance', 'value': 'Clear', 'flag': nan, 'itemcontent': 'Urine'}, {'item': 'Urine Color', 'value': 'Straw', 'flag': nan, 'itemcontent': 'Urine'}, {'item': 'Urobilinogen', 'value': 'NEG EU/dL', 'flag': nan, 'itemcontent': 'Urine'}, {'item': 'WBC', 'value': '0 #/hpf', 'flag': nan, 'itemcontent': 'Urine'}, {'item': 'Yeast', 'value': 'NONE', 'flag': nan, 'itemcontent': 'Urine'}, {'item': 'Anion Gap', 'value': '12 mEq/L', 'flag': nan, 'itemcontent': 'Blood'}, {'item': 'Bicarbonate', 'value': '29 mEq/L', 'flag': nan, 'itemcontent': 'Blood'}, {'item': 'Calcium, Total', 'value': '8.7 mg/dL', 'flag': nan, 'itemcontent': 'Blood'}, {'item': 'Chloride', 'value': '105 mEq/L', 'flag': nan, 'itemcontent': 'Blood'}, {'item': 'Creatine Kinase (CK)', 'value': '192 IU/L', 'flag': 'abnormal', 'itemcontent': 'Blood'}, {'item': 'Creatine Kinase, MB Isoenzyme', 'value': '8 ng/mL', 'flag': nan, 'itemcontent': 'Blood'}, {'item': 'Creatinine', 'value': '1.3 mg/dL', 'flag': 'abnormal', 'itemcontent': 'Blood'}, {'item': 'Glucose', 'value': '203 mg/dL', 'flag': 'abnormal', 'itemcontent': 'Blood'}, {'item': 'Magnesium', 'value': '2.7 mg/dL', 'flag': 'abnormal', 'itemcontent': 'Blood'}, {'item': 'Phosphate', 'value': '4.0 mg/dL', 'flag': nan, 'itemcontent': 'Blood'}, {'item': 'Potassium', 'value': '3.6 mEq/L', 'flag': nan, 'itemcontent': 'Blood'}, {'item': 'Sodium', 'value': '142 mEq/L', 'flag': nan, 'itemcontent': 'Blood'}, {'item': 'Troponin T', 'value': '0.02 ng/ml', 'flag': 'abnormal', 'itemcontent': 'Blood'}, {'item': 'Urea Nitrogen', 'value': '52 mg/dL', 'flag': 'abnormal', 'itemcontent': 'Blood'}, {'item': 'Hematocrit', 'value': '30.7 %', 'flag': 'abnormal', 'itemcontent': 'Blood'}, {'item': 'Hemoglobin', 'value': '10.5 g/dL', 'flag': 'abnormal', 'itemcontent': 'Blood'}, {'item': 'Anion Gap', 'value': '16 mEq/L', 'flag': nan, 'itemcontent': 'Blood'}, {'item': 'Bicarbonate', 'value': '27 mEq/L', 'flag': nan, 'itemcontent': 'Blood'}, {'item': 'Chloride', 'value': '99 mEq/L', 'flag': nan, 'itemcontent': 'Blood'}, {'item': 'Creatine Kinase (CK)', 'value': '95 IU/L', 'flag': nan, 'itemcontent': 'Blood'}, {'item': 'Creatine Kinase, MB Isoenzyme', 'value': 'NotDone ng/mL', 'flag': nan, 'itemcontent': 'Blood'}, {'item': 'Creatinine', 'value': '1.1 mg/dL', 'flag': nan, 'itemcontent': 'Blood'}, {'item': 'Glucose', 'value': '180 mg/dL', 'flag': 'abnormal', 'itemcontent': 'Blood'}, {'item': 'Potassium', 'value': '3.9 mEq/L', 'flag': nan, 'itemcontent': 'Blood'}, {'item': 'Sodium', 'value': '138 mEq/L', 'flag': nan, 'itemcontent': 'Blood'}, {'item': 'Troponin T', 'value': '<0.01 ng/mL', 'flag': nan, 'itemcontent': 'Blood'}, {'item': 'Urea Nitrogen', 'value': '15 mg/dL', 'flag': nan, 'itemcontent': 'Blood'}, {'item': 'Basophils', 'value': '0.1 %', 'flag': nan, 'itemcontent': 'Blood'}, {'item': 'Eosinophils', 'value': '1.1 %', 'flag': nan, 'itemcontent': 'Blood'}, {'item': 'Hematocrit', 'value': '34.6 %', 'flag': 'abnormal', 'itemcontent': 'Blood'}, {'item': 'Hemoglobin', 'value': '11.7 g/dL', 'flag': 'abnormal', 'itemcontent': 'Blood'}, {'item': 'Lymphocytes', 'value': '9.4 %', 'flag': 'abnormal', 'itemcontent': 'Blood'}, {'item': 'MCH', 'value': '30.3 pg', 'flag': nan, 'itemcontent': 'Blood'}, {'item': 'MCHC', 'value': '33.6 %', 'flag': nan, 'itemcontent': 'Blood'}, {'item': 'MCV', 'value': '90 fL', 'flag': nan, 'itemcontent': 'Blood'}, {'item': 'Monocytes', 'value': '5.6 %', 'flag': nan, 'itemcontent': 'Blood'}, {'item': 'Neutrophils', 'value': '83.9 %', 'flag': 'abnormal', 'itemcontent': 'Blood'}, {'item': 'Platelet Count', 'value': '237 K/uL', 'flag': nan, 'itemcontent': 'Blood'}]), Visit(visit_id=149546, admittime=Timestamp('2155-02-03 20:16:00'), dischtime=Timestamp('2155-02-14 11:15:00'), deathtime=NaT, procedures=['Endovascular removal of obstruction from head and neck vessel(s)', 'Procedure on single vessel', 'Arteriography of cerebral arteries', 'Injection or infusion of thrombolytic agent'], prescriptions=['1000 ML sodium chloride 9 MG/ML Injection', 'atorvastatin 40 MG Oral Tablet [Lipitor]', 'NITROFURANTOIN, MACROCRYSTALS 25 MG / Nitrofurantoin, Monohydrate 75 MG Oral Capsule [Macrobid]', 'pantoprazole 40 MG Injection [Protonix]', '0', '50 ML glucose 500 MG/ML Prefilled Syringe', 'glucagon (rDNA) 1 MG Injection [GlucaGen]', 'TAB-A-VITE TABLET', 'Nitroglycerin 0.3 MG Sublingual Tablet [Nitroquick]', 'levothyroxine sodium 0.075 MG Oral Tablet [Synthroid]', '1 ML morphine sulfate 4 MG/ML Injection', '1 ML morphine sulfate 2 MG/ML Prefilled Syringe', 'ipratropium bromide 0.2 MG/ML Inhalation Solution', '120 ACTUAT fluticasone propionate 0.11 MG/ACTUAT Metered Dose Inhaler [Flovent]', 'metoprolol tartrate 25 MG Oral Tablet', '4 ML Furosemide 10 MG/ML Injection', 'NITROFURANTOIN, MACROCRYSTALS 50 MG Oral Capsule', 'Acetaminophen 325 MG Oral Tablet', '50 ML magnesium sulfate 40 MG/ML Injection', 'pantoprazole 40 MG Delayed Release Oral Tablet [Protonix]', '24 HR Potassium Chloride 20 MEQ Extended Release Tablet', 'Furosemide 20 MG Oral Tablet', 'Lisinopril 5 MG Oral Tablet', 'Isosorbide Mononitrate 30 MG 24 Hour Extended Release Tablet', 'chlorhexidine gluconate 1.2 MG/ML Mouthwash', '250 ML glucose 50 MG/ML Injection', '1 ML Phenylephrine Hydrochloride 10 MG/ML Injection', '100 ML propofol 10 MG/ML Injection [Diprivan]', '5 ML metoprolol tartrate 1 MG/ML Injection', 'levothyroxine sodium 0.2 MG Injection', 'acetaminophen 650 MG Rectal Suppository [Acephen]', '500 ML sodium chloride 9 MG/ML Injection', '100 ML potassium chloride 0.1 MEQ/ML Injection', '15 ML sodium phosphate, dibasic 142 MG/ML / sodium phosphate, monobasic 276 MG/ML Injection', 'Calcium Gluconate 20 MG/ML Injectable Solution', '1 ML hydralazine hydrochloride 20 MG/ML Injection', '200 ACTUAT Albuterol 0.09 MG/ACTUAT Metered Dose Inhaler', '200 ACTUAT ipratropium bromide 0.017 MG/ACTUAT Metered Dose Inhaler [Atrovent]', 'warfarin sodium 1 MG Oral Tablet [Coumadin]', 'Albuterol 0.83 MG/ML Inhalant Solution', 'simvastatin 10 MG Oral Tablet', 'Metoprolol Tartrate 50 MG Oral Tablet', 'lansoprazole 30 MG Disintegrating Oral Tablet [Prevacid]', 'Docusate Sodium 100 MG Oral Capsule [DOK]', '2 ML ondansetron 2 MG/ML Injection', 'sennosides, USP 8.6 MG Oral Tablet'], diagnoses=['Angiodysplasia of intestine with hemorrhage', 'Subendocardial infarction, initial episode of care', 'Cerebral embolism with cerebral infarction', 'Acute kidney failure, unspecified', 'Acute posthemorrhagic anemia', 'Other specified hemiplegia and hemiparesis affecting unspecified side', 'Coronary atherosclerosis of autologous vein bypass graft', 'Atrial fibrillation', 'Congestive heart failure, unspecified', 'Hypertensive chronic kidney disease, unspecified, with chronic kidney disease stage I through stage IV, or unspecified', 'Dysarthria', 'Diabetes mellitus without mention of complication, type II or unspecified type, not stated as uncontrolled', 'Chronic kidney disease, unspecified', 'Other and unspecified hyperlipidemia', 'Chronic obstructive asthma, unspecified', 'Esophageal reflux', 'Unspecified acquired hypothyroidism'], labevent=[{'item': 'Chloride', 'value': '105 mEq/L', 'flag': nan, 'itemcontent': 'Blood'}, {'item': 'Creatinine', 'value': '1.0 mg/dL', 'flag': nan, 'itemcontent': 'Blood'}, {'item': 'Glucose', 'value': '148 mg/dL', 'flag': 'abnormal', 'itemcontent': 'Blood'}, {'item': 'Magnesium', 'value': '1.9 mg/dL', 'flag': nan, 'itemcontent': 'Blood'}, {'item': 'Phosphate', 'value': '3.0 mg/dL', 'flag': nan, 'itemcontent': 'Blood'}, {'item': 'Potassium', 'value': '4.4 mEq/L', 'flag': nan, 'itemcontent': 'Blood'}, {'item': 'Sodium', 'value': '143 mEq/L', 'flag': nan, 'itemcontent': 'Blood'}, {'item': 'Urea Nitrogen', 'value': '24 mg/dL', 'flag': 'abnormal', 'itemcontent': 'Blood'}, {'item': 'Hematocrit', 'value': '35.0 %', 'flag': 'abnormal', 'itemcontent': 'Blood'}, {'item': 'Hemoglobin', 'value': '10.9 g/dL', 'flag': 'abnormal', 'itemcontent': 'Blood'}, {'item': 'INR(PT)', 'value': '2.3', 'flag': 'abnormal', 'itemcontent': 'Blood'}, {'item': 'MCH', 'value': '28.8 pg', 'flag': nan, 'itemcontent': 'Blood'}, {'item': 'MCHC', 'value': '31.2 %', 'flag': nan, 'itemcontent': 'Blood'}, {'item': 'MCV', 'value': '92 fL', 'flag': nan, 'itemcontent': 'Blood'}, {'item': 'Platelet Count', 'value': '225 K/uL', 'flag': nan, 'itemcontent': 'Blood'}, {'item': 'PT', 'value': '24.2 sec', 'flag': 'abnormal', 'itemcontent': 'Blood'}, {'item': 'PTT', 'value': '26.3 sec', 'flag': nan, 'itemcontent': 'Blood'}, {'item': 'RDW', 'value': '14.4 %', 'flag': nan, 'itemcontent': 'Blood'}, {'item': 'Red Blood Cells', 'value': '3.79 m/uL', 'flag': 'abnormal', 'itemcontent': 'Blood'}, {'item': 'White Blood Cells', 'value': '10.8 K/uL', 'flag': nan, 'itemcontent': 'Blood'}, {'item': 'Anion Gap', 'value': '15 mEq/L', 'flag': nan, 'itemcontent': 'Blood'}, {'item': 'Bicarbonate', 'value': '27 mEq/L', 'flag': nan, 'itemcontent': 'Blood'}, {'item': 'Calcium, Total', 'value': '8.9 mg/dL', 'flag': nan, 'itemcontent': 'Blood'}, {'item': 'Chloride', 'value': '105 mEq/L', 'flag': nan, 'itemcontent': 'Blood'}, {'item': 'Creatinine', 'value': '0.9 mg/dL', 'flag': nan, 'itemcontent': 'Blood'}, {'item': 'Glucose', 'value': '111 mg/dL', 'flag': 'abnormal', 'itemcontent': 'Blood'}, {'item': 'Magnesium', 'value': '1.7 mg/dL', 'flag': nan, 'itemcontent': 'Blood'}, {'item': 'Phosphate', 'value': '3.0 mg/dL', 'flag': nan, 'itemcontent': 'Blood'}, {'item': 'Potassium', 'value': '4.3 mEq/L', 'flag': nan, 'itemcontent': 'Blood'}, {'item': 'Sodium', 'value': '143 mEq/L', 'flag': nan, 'itemcontent': 'Blood'}, {'item': 'Urea Nitrogen', 'value': '20 mg/dL', 'flag': nan, 'itemcontent': 'Blood'}, {'item': 'Hematocrit', 'value': '33.7 %', 'flag': 'abnormal', 'itemcontent': 'Blood'}, {'item': 'Hemoglobin', 'value': '10.6 g/dL', 'flag': 'abnormal', 'itemcontent': 'Blood'}, {'item': 'INR(PT)', 'value': '2.5', 'flag': 'abnormal', 'itemcontent': 'Blood'}, {'item': 'MCH', 'value': '29.0 pg', 'flag': nan, 'itemcontent': 'Blood'}, {'item': 'MCHC', 'value': '31.3 %', 'flag': nan, 'itemcontent': 'Blood'}, {'item': 'MCV', 'value': '93 fL', 'flag': nan, 'itemcontent': 'Blood'}, {'item': 'Platelet Count', 'value': '219 K/uL', 'flag': nan, 'itemcontent': 'Blood'}, {'item': 'PT', 'value': '26.0 sec', 'flag': 'abnormal', 'itemcontent': 'Blood'}, {'item': 'PTT', 'value': '27.9 sec', 'flag': nan, 'itemcontent': 'Blood'}, {'item': 'RDW', 'value': '14.4 %', 'flag': nan, 'itemcontent': 'Blood'}, {'item': 'Red Blood Cells', 'value': '3.64 m/uL', 'flag': 'abnormal', 'itemcontent': 'Blood'}, {'item': 'White Blood Cells', 'value': '10.4 K/uL', 'flag': nan, 'itemcontent': 'Blood'}, {'item': 'Anion Gap', 'value': '12 mEq/L', 'flag': nan, 'itemcontent': 'Blood'}, {'item': 'Bicarbonate', 'value': '28 mEq/L', 'flag': nan, 'itemcontent': 'Blood'}, {'item': 'Calcium, Total', 'value': '9.0 mg/dL', 'flag': nan, 'itemcontent': 'Blood'}, {'item': 'Chloride', 'value': '106 mEq/L', 'flag': nan, 'itemcontent': 'Blood'}, {'item': 'Creatinine', 'value': '0.8 mg/dL', 'flag': nan, 'itemcontent': 'Blood'}, {'item': 'Glucose', 'value': '111 mg/dL', 'flag': 'abnormal', 'itemcontent': 'Blood'}, {'item': 'Magnesium', 'value': '1.6 mg/dL', 'flag': nan, 'itemcontent': 'Blood'}, {'item': 'Phosphate', 'value': '3.1 mg/dL', 'flag': nan, 'itemcontent': 'Blood'}, {'item': 'Potassium', 'value': '4.1 mEq/L', 'flag': nan, 'itemcontent': 'Blood'}, {'item': 'Sodium', 'value': '142 mEq/L', 'flag': nan, 'itemcontent': 'Blood'}, {'item': 'Urea Nitrogen', 'value': '21 mg/dL', 'flag': 'abnormal', 'itemcontent': 'Blood'}, {'item': 'Hematocrit', 'value': '30.8 %', 'flag': 'abnormal', 'itemcontent': 'Blood'}, {'item': 'Hemoglobin', 'value': '9.7 g/dL', 'flag': 'abnormal', 'itemcontent': 'Blood'}, {'item': 'INR(PT)', 'value': '3.1', 'flag': 'abnormal', 'itemcontent': 'Blood'}, {'item': 'MCH', 'value': '29.1 pg', 'flag': nan, 'itemcontent': 'Blood'}, {'item': 'MCHC', 'value': '31.6 %', 'flag': nan, 'itemcontent': 'Blood'}, {'item': 'MCV', 'value': '92 fL', 'flag': nan, 'itemcontent': 'Blood'}, {'item': 'Platelet Count', 'value': '249 K/uL', 'flag': nan, 'itemcontent': 'Blood'}, {'item': 'PT', 'value': '30.7 sec', 'flag': 'abnormal', 'itemcontent': 'Blood'}, {'item': 'PTT', 'value': '30.8 sec', 'flag': nan, 'itemcontent': 'Blood'}, {'item': 'RDW', 'value': '14.3 %', 'flag': nan, 'itemcontent': 'Blood'}, {'item': 'Red Blood Cells', 'value': '3.35 m/uL', 'flag': 'abnormal', 'itemcontent': 'Blood'}, {'item': 'White Blood Cells', 'value': '10.9 K/uL', 'flag': nan, 'itemcontent': 'Blood'}, {'item': 'Anion Gap', 'value': '13 mEq/L', 'flag': nan, 'itemcontent': 'Blood'}, {'item': 'Bicarbonate', 'value': '26 mEq/L', 'flag': nan, 'itemcontent': 'Blood'}, {'item': 'Calcium, Total', 'value': '9.0 mg/dL', 'flag': nan, 'itemcontent': 'Blood'}, {'item': 'Chloride', 'value': '105 mEq/L', 'flag': nan, 'itemcontent': 'Blood'}, {'item': 'Creatine Kinase (CK)', 'value': '36 IU/L', 'flag': nan, 'itemcontent': 'Blood'}, {'item': 'Creatine Kinase, MB Isoenzyme', 'value': 'NotDone ng/mL', 'flag': nan, 'itemcontent': 'Blood'}, {'item': 'Creatinine', 'value': '1.4 mg/dL', 'flag': 'abnormal', 'itemcontent': 'Blood'}, {'item': 'Estimated GFR (MDRD equation)', 'value': 'See Comments', 'flag': nan, 'itemcontent': 'Blood'}, {'item': 'Glucose', 'value': '249 mg/dL', 'flag': 'abnormal', 'itemcontent': 'Blood'}, {'item': 'Magnesium', 'value': '1.6 mg/dL', 'flag': nan, 'itemcontent': 'Blood'}, {'item': 'Phosphate', 'value': '3.0 mg/dL', 'flag': nan, 'itemcontent': 'Blood'}, {'item': 'Potassium', 'value': '4.4 mEq/L', 'flag': nan, 'itemcontent': 'Blood'}, {'item': 'Sodium', 'value': '140 mEq/L', 'flag': nan, 'itemcontent': 'Blood'}, {'item': 'Troponin T', 'value': '<0.01 ng/mL', 'flag': nan, 'itemcontent': 'Blood'}, {'item': 'Urea Nitrogen', 'value': '33 mg/dL', 'flag': 'abnormal', 'itemcontent': 'Blood'}, {'item': 'Basophils', 'value': '0.4 %', 'flag': nan, 'itemcontent': 'Blood'}, {'item': 'Eosinophils', 'value': '5.1 %', 'flag': 'abnormal', 'itemcontent': 'Blood'}, {'item': 'Hematocrit', 'value': '22.5 %', 'flag': 'abnormal', 'itemcontent': 'Blood'}, {'item': 'Hemoglobin', 'value': '7.0 g/dL', 'flag': 'abnormal', 'itemcontent': 'Blood'}, {'item': 'Lymphocytes', 'value': '13.2 %', 'flag': 'abnormal', 'itemcontent': 'Blood'}, {'item': 'MCH', 'value': '28.8 pg', 'flag': nan, 'itemcontent': 'Blood'}, {'item': 'MCHC', 'value': '31.2 %', 'flag': nan, 'itemcontent': 'Blood'}, {'item': 'MCV', 'value': '92 fL', 'flag': nan, 'itemcontent': 'Blood'}, {'item': 'Monocytes', 'value': '5.4 %', 'flag': nan, 'itemcontent': 'Blood'}, {'item': 'Neutrophils', 'value': '75.8 %', 'flag': 'abnormal', 'itemcontent': 'Blood'}, {'item': 'Platelet Count', 'value': '251 K/uL', 'flag': nan, 'itemcontent': 'Blood'}, {'item': 'RDW', 'value': '15.1 %', 'flag': nan, 'itemcontent': 'Blood'}, {'item': 'Red Blood Cells', 'value': '2.45 m/uL', 'flag': 'abnormal', 'itemcontent': 'Blood'}, {'item': 'White Blood Cells', 'value': '9.9 K/uL', 'flag': 'delta', 'itemcontent': 'Blood'}, {'item': 'Hematocrit, Calculated', 'value': '23 %', 'flag': nan, 'itemcontent': 'Blood'}, {'item': 'Hemoglobin', 'value': '7.7 g/dL', 'flag': 'abnormal', 'itemcontent': 'Blood'}, {'item': 'Potassium, Whole Blood', 'value': '4.4 mEq/L', 'flag': nan, 'itemcontent': 'Blood'}, {'item': 'INR(PT)', 'value': '4.5', 'flag': 'abnormal', 'itemcontent': 'Blood'}, {'item': 'PT', 'value': '42.4 sec', 'flag': 'abnormal', 'itemcontent': 'Blood'}, {'item': 'PTT', 'value': '33.3 sec', 'flag': nan, 'itemcontent': 'Blood'}, {'item': 'Hematocrit', 'value': '26.6 %', 'flag': 'abnormal', 'itemcontent': 'Blood'}, {'item': 'CK-MB Index', 'value': '9.4 %', 'flag': 'abnormal', 'itemcontent': 'Blood'}, {'item': 'Creatine Kinase (CK)', 'value': '254 IU/L', 'flag': 'abnormal', 'itemcontent': 'Blood'}, {'item': 'Creatine Kinase, MB Isoenzyme', 'value': '24 ng/mL', 'flag': 'abnormal', 'itemcontent': 'Blood'}, {'item': 'Troponin T', 'value': '0.46 ng/mL', 'flag': 'abnormal', 'itemcontent': 'Blood'}, {'item': 'Anion Gap', 'value': '13 mEq/L', 'flag': nan, 'itemcontent': 'Blood'}, {'item': 'Bicarbonate', 'value': '27 mEq/L', 'flag': nan, 'itemcontent': 'Blood'}, {'item': 'Calcium, Total', 'value': '8.4 mg/dL', 'flag': nan, 'itemcontent': 'Blood'}, {'item': 'Chloride', 'value': '108 mEq/L', 'flag': nan, 'itemcontent': 'Blood'}, {'item': 'Cholesterol Ratio (Total/HDL)', 'value': '2.5 Ratio', 'flag': nan, 'itemcontent': 'Blood'}, {'item': 'Cholesterol, HDL', 'value': '47 mg/dL', 'flag': nan, 'itemcontent': 'Blood'}, {'item': 'Cholesterol, LDL, Calculated', 'value': '56 mg/dL', 'flag': nan, 'itemcontent': 'Blood'}, {'item': 'Cholesterol, Total', 'value': '119 mg/dL', 'flag': nan, 'itemcontent': 'Blood'}, {'item': 'Creatinine', 'value': '1.3 mg/dL', 'flag': 'abnormal', 'itemcontent': 'Blood'}, {'item': 'Glucose', 'value': '149 mg/dL', 'flag': 'abnormal', 'itemcontent': 'Blood'}, {'item': 'Magnesium', 'value': '1.6 mg/dL', 'flag': nan, 'itemcontent': 'Blood'}, {'item': 'Phosphate', 'value': '4.7 mg/dL', 'flag': 'abnormal', 'itemcontent': 'Blood'}, {'item': 'Potassium', 'value': '4.6 mEq/L', 'flag': nan, 'itemcontent': 'Blood'}, {'item': 'Sodium', 'value': '143 mEq/L', 'flag': nan, 'itemcontent': 'Blood'}, {'item': 'Triglycerides', 'value': '78 mg/dL', 'flag': nan, 'itemcontent': 'Blood'}, {'item': 'Urea Nitrogen', 'value': '29 mg/dL', 'flag': 'abnormal', 'itemcontent': 'Blood'}, {'item': 'Hematocrit', 'value': '29.6 %', 'flag': 'abnormal', 'itemcontent': 'Blood'}, {'item': 'Hemoglobin', 'value': '9.8 g/dL', 'flag': 'abnormal', 'itemcontent': 'Blood'}, {'item': 'INR(PT)', 'value': '1.5', 'flag': 'abnormal', 'itemcontent': 'Blood'}, {'item': 'MCH', 'value': '29.6 pg', 'flag': nan, 'itemcontent': 'Blood'}, {'item': 'MCHC', 'value': '33.1 %', 'flag': nan, 'itemcontent': 'Blood'}, {'item': 'MCV', 'value': '90 fL', 'flag': nan, 'itemcontent': 'Blood'}, {'item': 'Platelet Count', 'value': '186 K/uL', 'flag': nan, 'itemcontent': 'Blood'}, {'item': 'PT', 'value': '17.2 sec', 'flag': 'abnormal', 'itemcontent': 'Blood'}, {'item': 'PTT', 'value': '22.9 sec', 'flag': nan, 'itemcontent': 'Blood'}, {'item': 'RDW', 'value': '16.0 %', 'flag': 'abnormal', 'itemcontent': 'Blood'}, {'item': 'Red Blood Cells', 'value': '3.30 m/uL', 'flag': 'abnormal', 'itemcontent': 'Blood'}, {'item': 'White Blood Cells', 'value': '12.5 K/uL', 'flag': 'abnormal', 'itemcontent': 'Blood'}, {'item': 'CK-MB Index', 'value': '10.4 %', 'flag': 'abnormal', 'itemcontent': 'Blood'}, {'item': 'Creatine Kinase (CK)', 'value': '556 IU/L', 'flag': 'abnormal', 'itemcontent': 'Blood'}, {'item': 'Creatine Kinase, MB Isoenzyme', 'value': '58 ng/mL', 'flag': 'abnormal', 'itemcontent': 'Blood'}, {'item': 'Troponin T', 'value': '1.80 ng/mL', 'flag': 'abnormal', 'itemcontent': 'Blood'}, {'item': 'Hematocrit', 'value': '31.6 %', 'flag': 'abnormal', 'itemcontent': 'Blood'}, {'item': 'Anion Gap', 'value': '14 mEq/L', 'flag': nan, 'itemcontent': 'Blood'}, {'item': 'Bicarbonate', 'value': '23 mEq/L', 'flag': nan, 'itemcontent': 'Blood'}, {'item': 'Chloride', 'value': '110 mEq/L', 'flag': 'abnormal', 'itemcontent': 'Blood'}, {'item': 'CK-MB Index', 'value': '7.4 %', 'flag': 'abnormal', 'itemcontent': 'Blood'}, {'item': 'Creatine Kinase (CK)', 'value': '378 IU/L', 'flag': 'abnormal', 'itemcontent': 'Blood'}, {'item': 'Creatine Kinase, MB Isoenzyme', 'value': '28 ng/mL', 'flag': 'abnormal', 'itemcontent': 'Blood'}, {'item': 'Potassium', 'value': '3.8 mEq/L', 'flag': nan, 'itemcontent': 'Blood'}, {'item': 'Sodium', 'value': '143 mEq/L', 'flag': nan, 'itemcontent': 'Blood'}, {'item': 'Troponin T', 'value': '1.37 ng/mL', 'flag': 'abnormal', 'itemcontent': 'Blood'}, {'item': 'Hematocrit', 'value': '31.6 %', 'flag': 'abnormal', 'itemcontent': 'Blood'}, {'item': 'Anion Gap', 'value': '14 mEq/L', 'flag': nan, 'itemcontent': 'Blood'}, {'item': 'Bicarbonate', 'value': '28 mEq/L', 'flag': nan, 'itemcontent': 'Blood'}, {'item': 'Calcium, Total', 'value': '8.4 mg/dL', 'flag': nan, 'itemcontent': 'Blood'}, {'item': 'Chloride', 'value': '104 mEq/L', 'flag': nan, 'itemcontent': 'Blood'}, {'item': 'CK-MB Index', 'value': '5.2 %', 'flag': nan, 'itemcontent': 'Blood'}, {'item': 'Creatine Kinase (CK)', 'value': '305 IU/L', 'flag': 'abnormal', 'itemcontent': 'Blood'}, {'item': 'Creatine Kinase, MB Isoenzyme', 'value': '16 ng/mL', 'flag': 'abnormal', 'itemcontent': 'Blood'}, {'item': 'Creatinine', 'value': '1.5 mg/dL', 'flag': 'abnormal', 'itemcontent': 'Blood'}, {'item': 'Glucose', 'value': '93 mg/dL', 'flag': nan, 'itemcontent': 'Blood'}, {'item': 'Magnesium', 'value': '1.4 mg/dL', 'flag': 'abnormal', 'itemcontent': 'Blood'}, {'item': 'Phosphate', 'value': '3.6 mg/dL', 'flag': nan, 'itemcontent': 'Blood'}, {'item': 'Potassium', 'value': '4.1 mEq/L', 'flag': nan, 'itemcontent': 'Blood'}, {'item': 'Sodium', 'value': '142 mEq/L', 'flag': nan, 'itemcontent': 'Blood'}, {'item': 'Troponin T', 'value': '1.18 ng/mL', 'flag': 'abnormal', 'itemcontent': 'Blood'}, {'item': 'Urea Nitrogen', 'value': '27 mg/dL', 'flag': 'abnormal', 'itemcontent': 'Blood'}, {'item': 'Hematocrit', 'value': '31.0 %', 'flag': 'abnormal', 'itemcontent': 'Blood'}, {'item': 'Hemoglobin', 'value': '10.1 g/dL', 'flag': 'abnormal', 'itemcontent': 'Blood'}, {'item': 'INR(PT)', 'value': '1.4', 'flag': 'abnormal', 'itemcontent': 'Blood'}, {'item': 'MCH', 'value': '29.2 pg', 'flag': nan, 'itemcontent': 'Blood'}, {'item': 'MCHC', 'value': '32.6 %', 'flag': nan, 'itemcontent': 'Blood'}, {'item': 'MCV', 'value': '90 fL', 'flag': nan, 'itemcontent': 'Blood'}, {'item': 'Platelet Count', 'value': '201 K/uL', 'flag': nan, 'itemcontent': 'Blood'}, {'item': 'PT', 'value': '15.6 sec', 'flag': 'abnormal', 'itemcontent': 'Blood'}, {'item': 'RDW', 'value': '16.4 %', 'flag': 'abnormal', 'itemcontent': 'Blood'}, {'item': 'Red Blood Cells', 'value': '3.47 m/uL', 'flag': 'abnormal', 'itemcontent': 'Blood'}, {'item': 'White Blood Cells', 'value': '13.0 K/uL', 'flag': 'abnormal', 'itemcontent': 'Blood'}, {'item': 'Hematocrit', 'value': '28.6 %', 'flag': 'abnormal', 'itemcontent': 'Blood'}, {'item': 'Anion Gap', 'value': '16 mEq/L', 'flag': nan, 'itemcontent': 'Blood'}, {'item': 'Bicarbonate', 'value': '27 mEq/L', 'flag': nan, 'itemcontent': 'Blood'}, {'item': 'Calcium, Total', 'value': '8.8 mg/dL', 'flag': nan, 'itemcontent': 'Blood'}, {'item': 'Chloride', 'value': '100 mEq/L', 'flag': nan, 'itemcontent': 'Blood'}, {'item': 'Creatinine', 'value': '1.2 mg/dL', 'flag': 'abnormal', 'itemcontent': 'Blood'}, {'item': 'Glucose', 'value': '145 mg/dL', 'flag': 'abnormal', 'itemcontent': 'Blood'}, {'item': 'Magnesium', 'value': '2.2 mg/dL', 'flag': nan, 'itemcontent': 'Blood'}, {'item': 'Phosphate', 'value': '2.9 mg/dL', 'flag': nan, 'itemcontent': 'Blood'}, {'item': 'Potassium', 'value': '3.5 mEq/L', 'flag': nan, 'itemcontent': 'Blood'}, {'item': 'Sodium', 'value': '139 mEq/L', 'flag': nan, 'itemcontent': 'Blood'}, {'item': 'Urea Nitrogen', 'value': '28 mg/dL', 'flag': 'abnormal', 'itemcontent': 'Blood'}, {'item': 'Hematocrit', 'value': '32.1 %', 'flag': 'abnormal', 'itemcontent': 'Blood'}, {'item': 'Hemoglobin', 'value': '10.6 g/dL', 'flag': 'abnormal', 'itemcontent': 'Blood'}, {'item': 'MCH', 'value': '29.8 pg', 'flag': nan, 'itemcontent': 'Blood'}, {'item': 'MCHC', 'value': '33.2 %', 'flag': nan, 'itemcontent': 'Blood'}, {'item': 'MCV', 'value': '90 fL', 'flag': nan, 'itemcontent': 'Blood'}, {'item': 'Platelet Count', 'value': '187 K/uL', 'flag': nan, 'itemcontent': 'Blood'}, {'item': 'RDW', 'value': '15.4 %', 'flag': nan, 'itemcontent': 'Blood'}, {'item': 'Red Blood Cells', 'value': '3.58 m/uL', 'flag': 'abnormal', 'itemcontent': 'Blood'}, {'item': 'White Blood Cells', 'value': '11.4 K/uL', 'flag': 'abnormal', 'itemcontent': 'Blood'}, {'item': 'Hematocrit', 'value': '34.2 %', 'flag': 'abnormal', 'itemcontent': 'Blood'}, {'item': 'Anion Gap', 'value': '12 mEq/L', 'flag': nan, 'itemcontent': 'Blood'}, {'item': 'Bicarbonate', 'value': '31 mEq/L', 'flag': nan, 'itemcontent': 'Blood'}, {'item': 'Calcium, Total', 'value': '8.8 mg/dL', 'flag': nan, 'itemcontent': 'Blood'}, {'item': 'Chloride', 'value': '100 mEq/L', 'flag': nan, 'itemcontent': 'Blood'}, {'item': 'Creatinine', 'value': '1.3 mg/dL', 'flag': 'abnormal', 'itemcontent': 'Blood'}, {'item': 'Glucose', 'value': '115 mg/dL', 'flag': 'abnormal', 'itemcontent': 'Blood'}, {'item': 'Magnesium', 'value': '1.9 mg/dL', 'flag': nan, 'itemcontent': 'Blood'}, {'item': 'Phosphate', 'value': '2.7 mg/dL', 'flag': nan, 'itemcontent': 'Blood'}, {'item': 'Potassium', 'value': '4.1 mEq/L', 'flag': nan, 'itemcontent': 'Blood'}, {'item': 'Sodium', 'value': '139 mEq/L', 'flag': nan, 'itemcontent': 'Blood'}, {'item': 'Urea Nitrogen', 'value': '33 mg/dL', 'flag': 'abnormal', 'itemcontent': 'Blood'}, {'item': 'Hematocrit', 'value': '28.7 %', 'flag': 'abnormal', 'itemcontent': 'Blood'}, {'item': 'Hemoglobin', 'value': '10.0 g/dL', 'flag': 'abnormal', 'itemcontent': 'Blood'}, {'item': 'MCH', 'value': '30.4 pg', 'flag': nan, 'itemcontent': 'Blood'}, {'item': 'MCHC', 'value': '34.8 %', 'flag': nan, 'itemcontent': 'Blood'}, {'item': 'MCV', 'value': '88 fL', 'flag': nan, 'itemcontent': 'Blood'}, {'item': 'Platelet Count', 'value': '173 K/uL', 'flag': nan, 'itemcontent': 'Blood'}, {'item': 'RDW', 'value': '15.2 %', 'flag': nan, 'itemcontent': 'Blood'}, {'item': 'Red Blood Cells', 'value': '3.28 m/uL', 'flag': 'abnormal', 'itemcontent': 'Blood'}, {'item': 'White Blood Cells', 'value': '10.4 K/uL', 'flag': nan, 'itemcontent': 'Blood'}, {'item': 'Hematocrit', 'value': '31.7 %', 'flag': 'abnormal', 'itemcontent': 'Blood'}, {'item': 'Bacteria', 'value': 'MOD', 'flag': nan, 'itemcontent': 'Urine'}, {'item': 'Bilirubin', 'value': 'NEG mg/dL', 'flag': nan, 'itemcontent': 'Urine'}, {'item': 'Blood', 'value': 'TR', 'flag': nan, 'itemcontent': 'Urine'}, {'item': 'Epithelial Cells', 'value': '3-5 #/hpf', 'flag': nan, 'itemcontent': 'Urine'}, {'item': 'Glucose', 'value': 'NEG mg/dL', 'flag': nan, 'itemcontent': 'Urine'}, {'item': 'Ketone', 'value': 'NEG mg/dL', 'flag': nan, 'itemcontent': 'Urine'}, {'item': 'Leukocytes', 'value': 'MOD', 'flag': nan, 'itemcontent': 'Urine'}, {'item': 'Nitrite', 'value': 'NEG', 'flag': nan, 'itemcontent': 'Urine'}, {'item': 'pH', 'value': '5.0 units', 'flag': nan, 'itemcontent': 'Urine'}, {'item': 'Protein', 'value': '25 mg/dL', 'flag': nan, 'itemcontent': 'Urine'}, {'item': 'RBC', 'value': '3-5 #/hpf', 'flag': 'abnormal', 'itemcontent': 'Urine'}, {'item': 'Specific Gravity', 'value': '1.015  ', 'flag': nan, 'itemcontent': 'Urine'}, {'item': 'Urine Appearance', 'value': 'Clear', 'flag': nan, 'itemcontent': 'Urine'}, {'item': 'Urine Color', 'value': 'Yellow', 'flag': nan, 'itemcontent': 'Urine'}, {'item': 'Urobilinogen', 'value': 'NEG mg/dL', 'flag': nan, 'itemcontent': 'Urine'}, {'item': 'WBC', 'value': '>50 #/hpf', 'flag': nan, 'itemcontent': 'Urine'}, {'item': 'WBC Clumps', 'value': 'FEW', 'flag': nan, 'itemcontent': 'Urine'}, {'item': 'Yeast', 'value': 'NONE', 'flag': nan, 'itemcontent': 'Urine'}, {'item': 'SPECIMEN TYPE', 'value': 'ART', 'flag': nan, 'itemcontent': 'BLOOD'}, {'item': 'Base Excess', 'value': '6 mEq/L', 'flag': nan, 'itemcontent': 'Blood'}, {'item': 'Calculated Total CO2', 'value': '30 mEq/L', 'flag': nan, 'itemcontent': 'Blood'}, {'item': 'Chloride, Whole Blood', 'value': '98 mEq/L', 'flag': 'abnormal', 'itemcontent': 'Blood'}, {'item': 'Free Calcium', 'value': '1.05 mmol/L', 'flag': 'abnormal', 'itemcontent': 'Blood'}, {'item': 'Glucose', 'value': '168 mg/dL', 'flag': 'abnormal', 'itemcontent': 'Blood'}, {'item': 'Hematocrit, Calculated', 'value': '30 %', 'flag': nan, 'itemcontent': 'Blood'}, {'item': 'Hemoglobin', 'value': '9.9 g/dL', 'flag': 'abnormal', 'itemcontent': 'Blood'}, {'item': 'Intubated', 'value': 'INTUBATED', 'flag': nan, 'itemcontent': 'Blood'}, {'item': 'Lactate', 'value': '1.1 mmol/L', 'flag': nan, 'itemcontent': 'Blood'}, {'item': 'pCO2', 'value': '36 mm Hg', 'flag': nan, 'itemcontent': 'Blood'}, {'item': 'pH', 'value': '7.52 units', 'flag': 'abnormal', 'itemcontent': 'Blood'}, {'item': 'pO2', 'value': '515 mm Hg', 'flag': 'abnormal', 'itemcontent': 'Blood'}, {'item': 'Potassium, Whole Blood', 'value': '3.8 mEq/L', 'flag': nan, 'itemcontent': 'Blood'}, {'item': 'Sodium, Whole Blood', 'value': '134 mEq/L', 'flag': 'abnormal', 'itemcontent': 'Blood'}, {'item': 'Anion Gap', 'value': '12 mEq/L', 'flag': nan, 'itemcontent': 'Blood'}, {'item': 'Bicarbonate', 'value': '27 mEq/L', 'flag': nan, 'itemcontent': 'Blood'}, {'item': 'Calcium, Total', 'value': '7.8 mg/dL', 'flag': 'abnormal', 'itemcontent': 'Blood'}, {'item': 'Chloride', 'value': '102 mEq/L', 'flag': nan, 'itemcontent': 'Blood'}, {'item': 'Creatinine', 'value': '1.0 mg/dL', 'flag': nan, 'itemcontent': 'Blood'}, {'item': 'Glucose', 'value': '183 mg/dL', 'flag': 'abnormal', 'itemcontent': 'Blood'}, {'item': 'Magnesium', 'value': '1.7 mg/dL', 'flag': nan, 'itemcontent': 'Blood'}, {'item': 'Phosphate', 'value': '2.6 mg/dL', 'flag': 'abnormal', 'itemcontent': 'Blood'}, {'item': 'Potassium', 'value': '3.5 mEq/L', 'flag': nan, 'itemcontent': 'Blood'}, {'item': 'Sodium', 'value': '137 mEq/L', 'flag': nan, 'itemcontent': 'Blood'}, {'item': 'Urea Nitrogen', 'value': '31 mg/dL', 'flag': 'abnormal', 'itemcontent': 'Blood'}, {'item': 'Hematocrit', 'value': '29.1 %', 'flag': 'abnormal', 'itemcontent': 'Blood'}, {'item': 'Hemoglobin', 'value': '9.9 g/dL', 'flag': 'abnormal', 'itemcontent': 'Blood'}, {'item': 'INR(PT)', 'value': '1.4', 'flag': 'abnormal', 'itemcontent': 'Blood'}, {'item': 'MCH', 'value': '30.2 pg', 'flag': nan, 'itemcontent': 'Blood'}, {'item': 'MCHC', 'value': '34.2 %', 'flag': nan, 'itemcontent': 'Blood'}, {'item': 'MCV', 'value': '89 fL', 'flag': nan, 'itemcontent': 'Blood'}, {'item': 'Platelet Count', 'value': '202 K/uL', 'flag': nan, 'itemcontent': 'Blood'}, {'item': 'PT', 'value': '15.9 sec', 'flag': 'abnormal', 'itemcontent': 'Blood'}, {'item': 'PTT', 'value': '25.3 sec', 'flag': nan, 'itemcontent': 'Blood'}, {'item': 'RDW', 'value': '15.3 %', 'flag': nan, 'itemcontent': 'Blood'}, {'item': 'Red Blood Cells', 'value': '3.28 m/uL', 'flag': 'abnormal', 'itemcontent': 'Blood'}, {'item': 'White Blood Cells', 'value': '10.3 K/uL', 'flag': nan, 'itemcontent': 'Blood'}, {'item': 'SPECIMEN TYPE', 'value': 'ART', 'flag': nan, 'itemcontent': 'BLOOD'}, {'item': 'Base Excess', 'value': '4 mEq/L', 'flag': nan, 'itemcontent': 'Blood'}, {'item': 'Calculated Total CO2', 'value': '29 mEq/L', 'flag': nan, 'itemcontent': 'Blood'}, {'item': 'Free Calcium', 'value': '1.10 mmol/L', 'flag': 'abnormal', 'itemcontent': 'Blood'}, {'item': 'pCO2', 'value': '41 mm Hg', 'flag': nan, 'itemcontent': 'Blood'}, {'item': 'pH', 'value': '7.45 units', 'flag': nan, 'itemcontent': 'Blood'}, {'item': 'pO2', 'value': '330 mm Hg', 'flag': 'abnormal', 'itemcontent': 'Blood'}, {'item': 'Bilirubin', 'value': 'NEG mg/dL', 'flag': nan, 'itemcontent': 'Urine'}, {'item': 'Blood', 'value': 'NEG', 'flag': nan, 'itemcontent': 'Urine'}, {'item': 'Glucose', 'value': 'NEG mg/dL', 'flag': nan, 'itemcontent': 'Urine'}, {'item': 'Ketone', 'value': 'NEG mg/dL', 'flag': nan, 'itemcontent': 'Urine'}, {'item': 'Leukocytes', 'value': 'NEG', 'flag': nan, 'itemcontent': 'Urine'}, {'item': 'Nitrite', 'value': 'NEG', 'flag': nan, 'itemcontent': 'Urine'}, {'item': 'pH', 'value': '5.5 units', 'flag': nan, 'itemcontent': 'Urine'}, {'item': 'Protein', 'value': 'NEG mg/dL', 'flag': nan, 'itemcontent': 'Urine'}, {'item': 'Specific Gravity', 'value': '1.019  ', 'flag': nan, 'itemcontent': 'Urine'}, {'item': 'Urine Appearance', 'value': 'Clear', 'flag': nan, 'itemcontent': 'Urine'}, {'item': 'Urine Color', 'value': 'Straw', 'flag': nan, 'itemcontent': 'Urine'}, {'item': 'Urobilinogen', 'value': 'NEG mg/dL', 'flag': nan, 'itemcontent': 'Urine'}, {'item': '% Hemoglobin A1c', 'value': '5.5 %', 'flag': nan, 'itemcontent': 'Blood'}, {'item': 'Anion Gap', 'value': '11 mEq/L', 'flag': nan, 'itemcontent': 'Blood'}, {'item': 'Bicarbonate', 'value': '28 mEq/L', 'flag': nan, 'itemcontent': 'Blood'}, {'item': 'Calcium, Total', 'value': '9.0 mg/dL', 'flag': nan, 'itemcontent': 'Blood'}, {'item': 'Chloride', 'value': '104 mEq/L', 'flag': nan, 'itemcontent': 'Blood'}, {'item': 'Cholesterol Ratio (Total/HDL)', 'value': '2.5 Ratio', 'flag': nan, 'itemcontent': 'Blood'}, {'item': 'Cholesterol, HDL', 'value': '36 mg/dL', 'flag': nan, 'itemcontent': 'Blood'}, {'item': 'Cholesterol, LDL, Calculated', 'value': '33 mg/dL', 'flag': nan, 'itemcontent': 'Blood'}, {'item': 'Cholesterol, Total', 'value': '90 mg/dL', 'flag': nan, 'itemcontent': 'Blood'}, {'item': 'Creatinine', 'value': '1.1 mg/dL', 'flag': nan, 'itemcontent': 'Blood'}, {'item': 'Glucose', 'value': '135 mg/dL', 'flag': 'abnormal', 'itemcontent': 'Blood'}, {'item': 'Magnesium', 'value': '2.5 mg/dL', 'flag': nan, 'itemcontent': 'Blood'}, {'item': 'Phosphate', 'value': '2.4 mg/dL', 'flag': 'abnormal', 'itemcontent': 'Blood'}, {'item': 'Potassium', 'value': '3.6 mEq/L', 'flag': nan, 'itemcontent': 'Blood'}, {'item': 'Sodium', 'value': '139 mEq/L', 'flag': nan, 'itemcontent': 'Blood'}, {'item': 'Triglycerides', 'value': '103 mg/dL', 'flag': nan, 'itemcontent': 'Blood'}, {'item': 'Urea Nitrogen', 'value': '29 mg/dL', 'flag': 'abnormal', 'itemcontent': 'Blood'}, {'item': 'Hematocrit', 'value': '31.1 %', 'flag': 'abnormal', 'itemcontent': 'Blood'}, {'item': 'Hemoglobin', 'value': '10.5 g/dL', 'flag': 'abnormal', 'itemcontent': 'Blood'}, {'item': 'INR(PT)', 'value': '1.3', 'flag': 'abnormal', 'itemcontent': 'Blood'}, {'item': 'MCH', 'value': '29.8 pg', 'flag': nan, 'itemcontent': 'Blood'}, {'item': 'MCHC', 'value': '33.8 %', 'flag': nan, 'itemcontent': 'Blood'}, {'item': 'MCV', 'value': '88 fL', 'flag': nan, 'itemcontent': 'Blood'}, {'item': 'Platelet Count', 'value': '264 K/uL', 'flag': nan, 'itemcontent': 'Blood'}, {'item': 'PT', 'value': '15.1 sec', 'flag': 'abnormal', 'itemcontent': 'Blood'}, {'item': 'PTT', 'value': '24.7 sec', 'flag': nan, 'itemcontent': 'Blood'}, {'item': 'RDW', 'value': '15.6 %', 'flag': 'abnormal', 'itemcontent': 'Blood'}, {'item': 'Red Blood Cells', 'value': '3.52 m/uL', 'flag': 'abnormal', 'itemcontent': 'Blood'}, {'item': 'White Blood Cells', 'value': '13.0 K/uL', 'flag': 'abnormal', 'itemcontent': 'Blood'}, {'item': 'SPECIMEN TYPE', 'value': 'ART', 'flag': nan, 'itemcontent': 'BLOOD'}, {'item': 'Base Excess', 'value': '4 mEq/L', 'flag': nan, 'itemcontent': 'Blood'}, {'item': 'Calculated Total CO2', 'value': '29 mEq/L', 'flag': nan, 'itemcontent': 'Blood'}, {'item': 'Free Calcium', 'value': '1.18 mmol/L', 'flag': nan, 'itemcontent': 'Blood'}, {'item': 'pCO2', 'value': '41 mm Hg', 'flag': nan, 'itemcontent': 'Blood'}, {'item': 'pH', 'value': '7.44 units', 'flag': nan, 'itemcontent': 'Blood'}, {'item': 'pO2', 'value': '201 mm Hg', 'flag': 'abnormal', 'itemcontent': 'Blood'}, {'item': 'SPECIMEN TYPE', 'value': 'ART', 'flag': nan, 'itemcontent': 'BLOOD'}, {'item': 'Base Excess', 'value': '0 mEq/L', 'flag': nan, 'itemcontent': 'Blood'}, {'item': 'Calculated Total CO2', 'value': '28 mEq/L', 'flag': nan, 'itemcontent': 'Blood'}, {'item': 'Intubated', 'value': 'INTUBATED', 'flag': nan, 'itemcontent': 'Blood'}, {'item': 'Oxygen', 'value': '40 %', 'flag': nan, 'itemcontent': 'Blood'}, {'item': 'pCO2', 'value': '49 mm Hg', 'flag': 'abnormal', 'itemcontent': 'Blood'}, {'item': 'PEEP', 'value': '0', 'flag': nan, 'itemcontent': 'Blood'}, {'item': 'pH', 'value': '7.35 units', 'flag': nan, 'itemcontent': 'Blood'}, {'item': 'pO2', 'value': '160 mm Hg', 'flag': 'abnormal', 'itemcontent': 'Blood'}, {'item': 'Ventilator', 'value': 'SPONTANEOUS', 'flag': nan, 'itemcontent': 'Blood'}, {'item': 'Hematocrit', 'value': '28.3 %', 'flag': 'abnormal', 'itemcontent': 'Blood'}, {'item': 'Hemoglobin', 'value': '9.3 g/dL', 'flag': 'abnormal', 'itemcontent': 'Blood'}, {'item': 'MCH', 'value': '29.8 pg', 'flag': nan, 'itemcontent': 'Blood'}, {'item': 'MCHC', 'value': '32.9 %', 'flag': nan, 'itemcontent': 'Blood'}, {'item': 'MCV', 'value': '90 fL', 'flag': nan, 'itemcontent': 'Blood'}, {'item': 'Platelet Count', 'value': '184 K/uL', 'flag': nan, 'itemcontent': 'Blood'}, {'item': 'RDW', 'value': '15.3 %', 'flag': nan, 'itemcontent': 'Blood'}, {'item': 'Red Blood Cells', 'value': '3.13 m/uL', 'flag': 'abnormal', 'itemcontent': 'Blood'}, {'item': 'White Blood Cells', 'value': '9.9 K/uL', 'flag': nan, 'itemcontent': 'Blood'}, {'item': 'Anion Gap', 'value': '14 mEq/L', 'flag': nan, 'itemcontent': 'Blood'}, {'item': 'Bicarbonate', 'value': '27 mEq/L', 'flag': nan, 'itemcontent': 'Blood'}, {'item': 'Calcium, Total', 'value': '8.7 mg/dL', 'flag': nan, 'itemcontent': 'Blood'}, {'item': 'Chloride', 'value': '106 mEq/L', 'flag': nan, 'itemcontent': 'Blood'}, {'item': 'Creatinine', 'value': '1.3 mg/dL', 'flag': 'abnormal', 'itemcontent': 'Blood'}, {'item': 'Glucose', 'value': '123 mg/dL', 'flag': 'abnormal', 'itemcontent': 'Blood'}, {'item': 'Magnesium', 'value': '2.1 mg/dL', 'flag': nan, 'itemcontent': 'Blood'}, {'item': 'Phosphate', 'value': '4.6 mg/dL', 'flag': 'abnormal', 'itemcontent': 'Blood'}, {'item': 'Potassium', 'value': '4.3 mEq/L', 'flag': nan, 'itemcontent': 'Blood'}, {'item': 'Sodium', 'value': '143 mEq/L', 'flag': nan, 'itemcontent': 'Blood'}, {'item': 'Urea Nitrogen', 'value': '32 mg/dL', 'flag': 'abnormal', 'itemcontent': 'Blood'}, {'item': 'Hematocrit', 'value': '30.4 %', 'flag': 'abnormal', 'itemcontent': 'Blood'}, {'item': 'Hemoglobin', 'value': '9.8 g/dL', 'flag': 'abnormal', 'itemcontent': 'Blood'}, {'item': 'INR(PT)', 'value': '1.4', 'flag': 'abnormal', 'itemcontent': 'Blood'}, {'item': 'MCH', 'value': '29.1 pg', 'flag': nan, 'itemcontent': 'Blood'}, {'item': 'MCHC', 'value': '32.2 %', 'flag': nan, 'itemcontent': 'Blood'}, {'item': 'MCV', 'value': '90 fL', 'flag': nan, 'itemcontent': 'Blood'}, {'item': 'Platelet Count', 'value': '184 K/uL', 'flag': nan, 'itemcontent': 'Blood'}, {'item': 'PT', 'value': '16.1 sec', 'flag': 'abnormal', 'itemcontent': 'Blood'}, {'item': 'PTT', 'value': '23.7 sec', 'flag': nan, 'itemcontent': 'Blood'}, {'item': 'RDW', 'value': '15.1 %', 'flag': nan, 'itemcontent': 'Blood'}, {'item': 'Red Blood Cells', 'value': '3.37 m/uL', 'flag': 'abnormal', 'itemcontent': 'Blood'}, {'item': 'White Blood Cells', 'value': '9.2 K/uL', 'flag': nan, 'itemcontent': 'Blood'}, {'item': 'SPECIMEN TYPE', 'value': 'ART', 'flag': nan, 'itemcontent': 'BLOOD'}, {'item': 'Base Excess', 'value': '1 mEq/L', 'flag': nan, 'itemcontent': 'Blood'}, {'item': 'Calculated Total CO2', 'value': '30 mEq/L', 'flag': nan, 'itemcontent': 'Blood'}, {'item': 'pCO2', 'value': '53 mm Hg', 'flag': 'abnormal', 'itemcontent': 'Blood'}, {'item': 'pH', 'value': '7.35 units', 'flag': nan, 'itemcontent': 'Blood'}, {'item': 'pO2', 'value': '96 mm Hg', 'flag': nan, 'itemcontent': 'Blood'}, {'item': 'Anion Gap', 'value': '13 mEq/L', 'flag': nan, 'itemcontent': 'Blood'}, {'item': 'Bicarbonate', 'value': '28 mEq/L', 'flag': nan, 'itemcontent': 'Blood'}, {'item': 'Calcium, Total', 'value': '8.8 mg/dL', 'flag': nan, 'itemcontent': 'Blood'}, {'item': 'Chloride', 'value': '108 mEq/L', 'flag': nan, 'itemcontent': 'Blood'}, {'item': 'Creatinine', 'value': '1.2 mg/dL', 'flag': 'abnormal', 'itemcontent': 'Blood'}, {'item': 'Glucose', 'value': '180 mg/dL', 'flag': 'abnormal', 'itemcontent': 'Blood'}, {'item': 'Magnesium', 'value': '2.2 mg/dL', 'flag': nan, 'itemcontent': 'Blood'}, {'item': 'Phosphate', 'value': '3.3 mg/dL', 'flag': nan, 'itemcontent': 'Blood'}, {'item': 'Potassium', 'value': '4.2 mEq/L', 'flag': nan, 'itemcontent': 'Blood'}, {'item': 'Sodium', 'value': '145 mEq/L', 'flag': nan, 'itemcontent': 'Blood'}, {'item': 'Urea Nitrogen', 'value': '33 mg/dL', 'flag': 'abnormal', 'itemcontent': 'Blood'}, {'item': 'Hematocrit', 'value': '31.1 %', 'flag': 'abnormal', 'itemcontent': 'Blood'}, {'item': 'Hemoglobin', 'value': '10.0 g/dL', 'flag': 'abnormal', 'itemcontent': 'Blood'}, {'item': 'INR(PT)', 'value': '1.5', 'flag': 'abnormal', 'itemcontent': 'Blood'}, {'item': 'MCH', 'value': '29.3 pg', 'flag': nan, 'itemcontent': 'Blood'}, {'item': 'MCHC', 'value': '32.2 %', 'flag': nan, 'itemcontent': 'Blood'}, {'item': 'MCV', 'value': '91 fL', 'flag': nan, 'itemcontent': 'Blood'}, {'item': 'Platelet Count', 'value': '179 K/uL', 'flag': nan, 'itemcontent': 'Blood'}, {'item': 'PT', 'value': '17.0 sec', 'flag': 'abnormal', 'itemcontent': 'Blood'}, {'item': 'PTT', 'value': '23.4 sec', 'flag': nan, 'itemcontent': 'Blood'}, {'item': 'RDW', 'value': '15.0 %', 'flag': nan, 'itemcontent': 'Blood'}, {'item': 'Red Blood Cells', 'value': '3.42 m/uL', 'flag': 'abnormal', 'itemcontent': 'Blood'}, {'item': 'White Blood Cells', 'value': '9.5 K/uL', 'flag': nan, 'itemcontent': 'Blood'}, {'item': 'Anion Gap', 'value': '10 mEq/L', 'flag': nan, 'itemcontent': 'Blood'}, {'item': 'Bicarbonate', 'value': '31 mEq/L', 'flag': nan, 'itemcontent': 'Blood'}, {'item': 'Calcium, Total', 'value': '9.1 mg/dL', 'flag': nan, 'itemcontent': 'Blood'}, {'item': 'Chloride', 'value': '107 mEq/L', 'flag': nan, 'itemcontent': 'Blood'}, {'item': 'Creatinine', 'value': '1.1 mg/dL', 'flag': nan, 'itemcontent': 'Blood'}, {'item': 'Estimated GFR (MDRD equation)', 'value': 'See Comments', 'flag': nan, 'itemcontent': 'Blood'}, {'item': 'Glucose', 'value': '163 mg/dL', 'flag': 'abnormal', 'itemcontent': 'Blood'}, {'item': 'Magnesium', 'value': '2.1 mg/dL', 'flag': nan, 'itemcontent': 'Blood'}, {'item': 'Phosphate', 'value': '3.0 mg/dL', 'flag': nan, 'itemcontent': 'Blood'}, {'item': 'Potassium', 'value': '4.2 mEq/L', 'flag': nan, 'itemcontent': 'Blood'}, {'item': 'Sodium', 'value': '144 mEq/L', 'flag': nan, 'itemcontent': 'Blood'}, {'item': 'Urea Nitrogen', 'value': '26 mg/dL', 'flag': 'abnormal', 'itemcontent': 'Blood'}, {'item': 'Hematocrit', 'value': '32.3 %', 'flag': 'abnormal', 'itemcontent': 'Blood'}, {'item': 'Hemoglobin', 'value': '10.2 g/dL', 'flag': 'abnormal', 'itemcontent': 'Blood'}, {'item': 'INR(PT)', 'value': '1.9', 'flag': 'abnormal', 'itemcontent': 'Blood'}, {'item': 'MCH', 'value': '29.1 pg', 'flag': nan, 'itemcontent': 'Blood'}, {'item': 'MCHC', 'value': '31.5 %', 'flag': nan, 'itemcontent': 'Blood'}, {'item': 'MCV', 'value': '92 fL', 'flag': nan, 'itemcontent': 'Blood'}, {'item': 'Platelet Count', 'value': '200 K/uL', 'flag': nan, 'itemcontent': 'Blood'}, {'item': 'PT', 'value': '20.9 sec', 'flag': 'abnormal', 'itemcontent': 'Blood'}, {'item': 'PTT', 'value': '24.5 sec', 'flag': nan, 'itemcontent': 'Blood'}, {'item': 'RDW', 'value': '14.8 %', 'flag': nan, 'itemcontent': 'Blood'}, {'item': 'Red Blood Cells', 'value': '3.50 m/uL', 'flag': 'abnormal', 'itemcontent': 'Blood'}, {'item': 'White Blood Cells', 'value': '10.0 K/uL', 'flag': nan, 'itemcontent': 'Blood'}, {'item': 'Anion Gap', 'value': '13 mEq/L', 'flag': nan, 'itemcontent': 'Blood'}, {'item': 'Bicarbonate', 'value': '29 mEq/L', 'flag': nan, 'itemcontent': 'Blood'}, {'item': 'Calcium, Total', 'value': '9.1 mg/dL', 'flag': nan, 'itemcontent': 'Blood'}]), Visit(visit_id=158975, admittime=Timestamp('2156-04-27 15:33:00'), dischtime=Timestamp('2156-05-14 15:30:00'), deathtime=NaT, procedures=['Open and other right hemicolectomy', 'Other small-to-large intestinal anastomosis', 'Closed [endoscopic] biopsy of large intestine', 'Endoscopic polypectomy of large intestine', 'Percutaneous abdominal drainage'], prescriptions=['0', 'heparin sodium, porcine 5000 UNT/ML Injectable Solution', '250 ML albumin human, USP 50 MG/ML Injection [Buminate]', '250 ML sodium chloride 9 MG/ML Injection', '50 ML albumin human, USP 250 MG/ML Injection', '10 ML potassium chloride 2 MEQ/ML Injection', 'calcium chloride 0.0014 MEQ/ML / potassium chloride 0.004 MEQ/ML / sodium chloride 0.103 MEQ/ML / sodium lactate 0.028 MEQ/ML Injectable Solution', 'piperacillin 4000 MG / tazobactam 500 MG Injection [Zosyn]', '200 ML vancomycin 5 MG/ML Injection', 'piperacillin 2000 MG / tazobactam 250 MG Injection [Zosyn]', '4 ML Furosemide 10 MG/ML Injection', '1 ML hydromorphone hydrochloride 1 MG/ML Cartridge', 'Acetaminophen 325 MG Oral Tablet', 'acetaminophen 32 MG/ML Oral Solution', 'metoprolol tartrate 25 MG Oral Tablet', 'Metronidazole 500 MG Oral Tablet', '5 ML metoprolol tartrate 1 MG/ML Injection', 'sennosides, USP 8.6 MG Oral Tablet', 'ciprofloxacin 500 MG Oral Tablet', 'Levalbuterol 0.21 MG/ML Inhalant Solution [Xopenex]', 'Docusate Sodium 100 MG Oral Capsule [DOK]', 'Hydromorphone Hydrochloride 2 MG Oral Tablet', 'pantoprazole 40 MG Delayed Release Oral Tablet [Protonix]', 'Nitroglycerin 0.3 MG Sublingual Tablet [Nitroquick]', '250 ML heparin sodium, porcine 100 UNT/ML Injection', '1000 ML glucose 50 MG/ML / sodium chloride 9 MG/ML Injection', '50 ML magnesium sulfate 40 MG/ML Injection', 'ascorbic acid 4700 MG / polyethylene glycol 3350 100000 MG / potassium chloride 1015 MG / sodium ascorbate 5900 MG / sodium chloride 2690 MG / sodium sulfate 7500 MG Powder for Oral Solution [MoviPrep]', 'Lisinopril 5 MG Oral Tablet', '24 HR metoprolol succinate 25 MG Extended Release Oral Tablet', 'NITROFURANTOIN, MACROCRYSTALS 50 MG Oral Capsule', 'tiotropium 0.018 MG Inhalation Powder [Spiriva]', 'glucagon (rDNA) 1 MG Injection [GlucaGen]', '50 ML glucose 500 MG/ML Prefilled Syringe', 'aspirin 81 MG Chewable Tablet', 'levothyroxine sodium 0.075 MG Oral Tablet [Synthroid]', 'guaifenesin 20 MG/ML Oral Solution', 'atorvastatin 20 MG Oral Tablet [Lipitor]', '120 ACTUAT fluticasone propionate 0.11 MG/ACTUAT Metered Dose Inhaler [Flovent]', 'READI-CAT 2 2% SUSPENSION', '1000 ML sodium chloride 9 MG/ML Injection', '100 ML metronidazole 5 MG/ML Injection', 'pantoprazole 40 MG Injection [Protonix]', 'Morphine Sulfate 5 MG/ML Injectable Solution', '200 ML ciprofloxacin 2 MG/ML Injection', '500 ML albumin human, USP 50 MG/ML Injection [Albutein]', 'polyvinyl alcohol 0.014 ML/ML / povidone 6 MG/ML Ophthalmic Solution', '500 ML sodium chloride 9 MG/ML Injection', '20 ML potassium chloride 2 MEQ/ML Injection', '2 ML ondansetron 2 MG/ML Injection', 'ipratropium bromide 0.2 MG/ML Inhalation Solution', 'Potassium Chloride 1.33 MEQ/ML Oral Solution [Kay Ciel]', 'warfarin sodium 2 MG Oral Tablet [Coumadin]', '2 ML metoclopramide 5 MG/ML Injection', 'PHOS-NAK PACKET', 'dabigatran etexilate 75 MG Oral Capsule [Pradaxa]', 'warfarin sodium 1 MG Oral Tablet [Coumadin]', '1 ML vitamin K1 10 MG/ML Injection', '50 ML glucose 50 MG/ML Injection', 'Vitamin K 1 5 MG Oral Tablet [Mephyton]', '1000 ML glucose 50 MG/ML / potassium chloride 0.02 MEQ/ML / sodium chloride 9 MG/ML Injection', 'levothyroxine sodium 0.2 MG Injection', '50 ML potassium chloride 0.4 MEQ/ML Injection', 'Midazolam 1 MG/ML Injectable Solution', '5 ML heparin sodium, porcine 10 UNT/ML Prefilled Syringe', 'oxycodone hydrochloride 5 MG Oral Tablet', 'camphor 5 MG/ML / menthol 5 MG/ML Topical Lotion [Men-phor]', 'Potassium Chloride 10 MEQ Extended Release Oral Tablet [Klor-Con]', 'Mineral Oil 0.466 MG/MG / Pramoxine hydrochloride 0.01 MG/MG / Zinc Oxide 0.125 MG/MG Rectal Ointment [Tucks Hemorrhoidal]', 'fluconazole 150 MG Oral Tablet'], diagnoses=['Malignant neoplasm of cecum', 'Acute systolic heart failure', 'Secondary malignant neoplasm of skin', 'Unspecified protein-calorie malnutrition', 'Acute kidney failure, unspecified', 'Paralytic ileus', 'Hemorrhage complicating a procedure', 'Seroma complicating a procedure', 'Atrial fibrillation', 'Congestive heart failure, unspecified', 'Hypertensive chronic kidney disease, unspecified, with chronic kidney disease stage I through stage IV, or unspecified', 'Chronic kidney disease, Stage III (moderate)', 'Other and unspecified angina pectoris', 'Diabetes mellitus without mention of complication, type II or unspecified type, not stated as uncontrolled', 'Esophageal reflux', 'Unspecified acquired hypothyroidism', 'Chronic obstructive asthma, unspecified', 'Old myocardial infarction', 'Aortocoronary bypass status', 'Personal history of transient ischemic attack (TIA), and cerebral infarction without residual deficits', 'Do not resuscitate status', 'Other specified surgical operations and procedures causing abnormal patient reaction, or later complication, without mention of misadventure at time of operation', 'Iron deficiency anemia secondary to blood loss (chronic)', 'Other iatrogenic hypotension', 'Gross hematuria', 'Anticoagulants causing adverse effects in therapeutic use'], labevent=[{'item': 'Hemoglobin', 'value': '10.5 g/dL', 'flag': 'abnormal', 'itemcontent': 'Blood'}, {'item': 'INR(PT)', 'value': '1.4', 'flag': 'abnormal', 'itemcontent': 'Blood'}, {'item': 'MCH', 'value': '29.3 pg', 'flag': nan, 'itemcontent': 'Blood'}, {'item': 'MCHC', 'value': '32.9 %', 'flag': nan, 'itemcontent': 'Blood'}, {'item': 'MCV', 'value': '89 fL', 'flag': nan, 'itemcontent': 'Blood'}, {'item': 'Platelet Count', 'value': '257 K/uL', 'flag': nan, 'itemcontent': 'Blood'}, {'item': 'PT', 'value': '16.4 sec', 'flag': 'abnormal', 'itemcontent': 'Blood'}, {'item': 'PTT', 'value': '75.1 sec', 'flag': 'abnormal', 'itemcontent': 'Blood'}, {'item': 'RDW', 'value': '16.5 %', 'flag': 'abnormal', 'itemcontent': 'Blood'}, {'item': 'Red Blood Cells', 'value': '3.60 m/uL', 'flag': 'abnormal', 'itemcontent': 'Blood'}, {'item': 'White Blood Cells', 'value': '13.4 K/uL', 'flag': 'abnormal', 'itemcontent': 'Blood'}, {'item': 'PTT', 'value': '125.0 sec', 'flag': 'abnormal', 'itemcontent': 'Blood'}, {'item': 'Epithelial Cells', 'value': '0 #/hpf', 'flag': nan, 'itemcontent': 'Urine'}, {'item': 'pH', 'value': '5.0 units', 'flag': nan, 'itemcontent': 'Urine'}, {'item': 'Protein', 'value': '30 mg/dL', 'flag': nan, 'itemcontent': 'Urine'}, {'item': 'Specific Gravity', 'value': '1.015  ', 'flag': nan, 'itemcontent': 'Urine'}, {'item': 'WBC', 'value': '19 #/hpf', 'flag': 'abnormal', 'itemcontent': 'Urine'}, {'item': 'Yeast', 'value': 'NONE', 'flag': nan, 'itemcontent': 'Urine'}, {'item': 'Anion Gap', 'value': '9 mEq/L', 'flag': nan, 'itemcontent': 'Blood'}, {'item': 'Bicarbonate', 'value': '33 mEq/L', 'flag': 'abnormal', 'itemcontent': 'Blood'}, {'item': 'Calcium, Total', 'value': '8.4 mg/dL', 'flag': nan, 'itemcontent': 'Blood'}, {'item': 'Chloride', 'value': '102 mEq/L', 'flag': nan, 'itemcontent': 'Blood'}, {'item': 'Creatinine', 'value': '0.9 mg/dL', 'flag': nan, 'itemcontent': 'Blood'}, {'item': 'Glucose', 'value': '114 mg/dL', 'flag': 'abnormal', 'itemcontent': 'Blood'}, {'item': 'Magnesium', 'value': '2.1 mg/dL', 'flag': nan, 'itemcontent': 'Blood'}, {'item': 'Phosphate', 'value': '2.7 mg/dL', 'flag': nan, 'itemcontent': 'Blood'}, {'item': 'Potassium', 'value': '3.4 mEq/L', 'flag': nan, 'itemcontent': 'Blood'}, {'item': 'Sodium', 'value': '141 mEq/L', 'flag': nan, 'itemcontent': 'Blood'}, {'item': 'Urea Nitrogen', 'value': '10 mg/dL', 'flag': nan, 'itemcontent': 'Blood'}, {'item': 'Hematocrit', 'value': '32.0 %', 'flag': 'abnormal', 'itemcontent': 'Blood'}, {'item': 'PTT', 'value': '38.4 sec', 'flag': 'abnormal', 'itemcontent': 'Blood'}, {'item': 'Anion Gap', 'value': '8 mEq/L', 'flag': nan, 'itemcontent': 'Blood'}, {'item': 'Bicarbonate', 'value': '34 mEq/L', 'flag': 'abnormal', 'itemcontent': 'Blood'}, {'item': 'Calcium, Total', 'value': '7.8 mg/dL', 'flag': 'abnormal', 'itemcontent': 'Blood'}, {'item': 'Chloride', 'value': '102 mEq/L', 'flag': nan, 'itemcontent': 'Blood'}, {'item': 'Creatinine', 'value': '1.0 mg/dL', 'flag': nan, 'itemcontent': 'Blood'}, {'item': 'Glucose', 'value': '153 mg/dL', 'flag': 'abnormal', 'itemcontent': 'Blood'}, {'item': 'Magnesium', 'value': '1.8 mg/dL', 'flag': nan, 'itemcontent': 'Blood'}, {'item': 'Phosphate', 'value': '3.1 mg/dL', 'flag': nan, 'itemcontent': 'Blood'}, {'item': 'Potassium', 'value': '3.6 mEq/L', 'flag': nan, 'itemcontent': 'Blood'}, {'item': 'Sodium', 'value': '140 mEq/L', 'flag': nan, 'itemcontent': 'Blood'}, {'item': 'Urea Nitrogen', 'value': '11 mg/dL', 'flag': nan, 'itemcontent': 'Blood'}, {'item': 'Hematocrit', 'value': '30.8 %', 'flag': 'abnormal', 'itemcontent': 'Blood'}, {'item': 'Hemoglobin', 'value': '9.8 g/dL', 'flag': 'abnormal', 'itemcontent': 'Blood'}, {'item': 'INR(PT)', 'value': '1.4', 'flag': 'abnormal', 'itemcontent': 'Blood'}, {'item': 'MCH', 'value': '28.5 pg', 'flag': nan, 'itemcontent': 'Blood'}, {'item': 'MCHC', 'value': '31.9 %', 'flag': nan, 'itemcontent': 'Blood'}, {'item': 'MCV', 'value': '89 fL', 'flag': nan, 'itemcontent': 'Blood'}, {'item': 'Platelet Count', 'value': '270 K/uL', 'flag': nan, 'itemcontent': 'Blood'}, {'item': 'PT', 'value': '15.9 sec', 'flag': 'abnormal', 'itemcontent': 'Blood'}, {'item': 'PTT', 'value': '34.5 sec', 'flag': nan, 'itemcontent': 'Blood'}, {'item': 'RDW', 'value': '16.4 %', 'flag': 'abnormal', 'itemcontent': 'Blood'}, {'item': 'Red Blood Cells', 'value': '3.45 m/uL', 'flag': 'abnormal', 'itemcontent': 'Blood'}, {'item': 'White Blood Cells', 'value': '10.6 K/uL', 'flag': nan, 'itemcontent': 'Blood'}, {'item': 'Anion Gap', 'value': '12 mEq/L', 'flag': nan, 'itemcontent': 'Blood'}, {'item': 'Bicarbonate', 'value': '33 mEq/L', 'flag': 'abnormal', 'itemcontent': 'Blood'}, {'item': 'Calcium, Total', 'value': '8.2 mg/dL', 'flag': 'abnormal', 'itemcontent': 'Blood'}, {'item': 'Chloride', 'value': '100 mEq/L', 'flag': nan, 'itemcontent': 'Blood'}, {'item': 'Creatinine', 'value': '1.0 mg/dL', 'flag': nan, 'itemcontent': 'Blood'}, {'item': 'Glucose', 'value': '133 mg/dL', 'flag': 'abnormal', 'itemcontent': 'Blood'}, {'item': 'Magnesium', 'value': '1.6 mg/dL', 'flag': nan, 'itemcontent': 'Blood'}, {'item': 'Phosphate', 'value': '2.8 mg/dL', 'flag': nan, 'itemcontent': 'Blood'}, {'item': 'Potassium', 'value': '3.7 mEq/L', 'flag': nan, 'itemcontent': 'Blood'}, {'item': 'Sodium', 'value': '141 mEq/L', 'flag': nan, 'itemcontent': 'Blood'}, {'item': 'Urea Nitrogen', 'value': '9 mg/dL', 'flag': nan, 'itemcontent': 'Blood'}, {'item': 'Vancomycin', 'value': '35.0 ug/mL', 'flag': 'abnormal', 'itemcontent': 'Blood'}, {'item': 'Anion Gap', 'value': '13 mEq/L', 'flag': nan, 'itemcontent': 'Blood'}, {'item': 'Bicarbonate', 'value': '29 mEq/L', 'flag': nan, 'itemcontent': 'Blood'}, {'item': 'Calcium, Total', 'value': '8.0 mg/dL', 'flag': 'abnormal', 'itemcontent': 'Blood'}, {'item': 'Chloride', 'value': '101 mEq/L', 'flag': nan, 'itemcontent': 'Blood'}, {'item': 'Creatinine', 'value': '1.2 mg/dL', 'flag': 'abnormal', 'itemcontent': 'Blood'}, {'item': 'Glucose', 'value': '104 mg/dL', 'flag': 'abnormal', 'itemcontent': 'Blood'}, {'item': 'Magnesium', 'value': '1.6 mg/dL', 'flag': nan, 'itemcontent': 'Blood'}, {'item': 'Phosphate', 'value': '2.9 mg/dL', 'flag': nan, 'itemcontent': 'Blood'}, {'item': 'Potassium', 'value': '4.3 mEq/L', 'flag': nan, 'itemcontent': 'Blood'}, {'item': 'Sodium', 'value': '139 mEq/L', 'flag': nan, 'itemcontent': 'Blood'}, {'item': 'Anion Gap', 'value': '12 mEq/L', 'flag': nan, 'itemcontent': 'Blood'}, {'item': 'Bicarbonate', 'value': '27 mEq/L', 'flag': nan, 'itemcontent': 'Blood'}, {'item': 'Calcium, Total', 'value': '9.5 mg/dL', 'flag': nan, 'itemcontent': 'Blood'}, {'item': 'Chloride', 'value': '99 mEq/L', 'flag': nan, 'itemcontent': 'Blood'}, {'item': 'Creatinine', 'value': '1.4 mg/dL', 'flag': 'abnormal', 'itemcontent': 'Blood'}, {'item': 'Glucose', 'value': '72 mg/dL', 'flag': nan, 'itemcontent': 'Blood'}, {'item': 'Magnesium', 'value': '1.7 mg/dL', 'flag': nan, 'itemcontent': 'Blood'}, {'item': 'Phosphate', 'value': '3.8 mg/dL', 'flag': nan, 'itemcontent': 'Blood'}, {'item': 'Potassium', 'value': '4.1 mEq/L', 'flag': nan, 'itemcontent': 'Blood'}, {'item': 'Sodium', 'value': '134 mEq/L', 'flag': nan, 'itemcontent': 'Blood'}, {'item': 'Urea Nitrogen', 'value': '27 mg/dL', 'flag': 'abnormal', 'itemcontent': 'Blood'}, {'item': 'Basophils', 'value': '0.4 %', 'flag': nan, 'itemcontent': 'Blood'}, {'item': 'Eosinophils', 'value': '2.4 %', 'flag': nan, 'itemcontent': 'Blood'}, {'item': 'Hematocrit', 'value': '29.5 %', 'flag': 'abnormal', 'itemcontent': 'Blood'}, {'item': 'Hemoglobin', 'value': '9.5 g/dL', 'flag': 'abnormal', 'itemcontent': 'Blood'}, {'item': 'INR(PT)', 'value': '1.8', 'flag': 'abnormal', 'itemcontent': 'Blood'}, {'item': 'Lymphocytes', 'value': '13.7 %', 'flag': 'abnormal', 'itemcontent': 'Blood'}, {'item': 'MCH', 'value': '27.5 pg', 'flag': nan, 'itemcontent': 'Blood'}, {'item': 'MCHC', 'value': '32.1 %', 'flag': nan, 'itemcontent': 'Blood'}, {'item': 'MCV', 'value': '86 fL', 'flag': nan, 'itemcontent': 'Blood'}, {'item': 'Monocytes', 'value': '8.9 %', 'flag': nan, 'itemcontent': 'Blood'}, {'item': 'Neutrophils', 'value': '74.6 %', 'flag': 'abnormal', 'itemcontent': 'Blood'}, {'item': 'Platelet Count', 'value': '228 K/uL', 'flag': nan, 'itemcontent': 'Blood'}, {'item': 'PT', 'value': '20.0 sec', 'flag': 'abnormal', 'itemcontent': 'Blood'}, {'item': 'Urea Nitrogen', 'value': '10 mg/dL', 'flag': nan, 'itemcontent': 'Blood'}, {'item': 'Vancomycin', 'value': '32.0 ug/mL', 'flag': 'abnormal', 'itemcontent': 'Blood'}, {'item': 'PTT', 'value': '47.3 sec', 'flag': 'abnormal', 'itemcontent': 'Blood'}, {'item': 'RDW', 'value': '16.5 %', 'flag': 'abnormal', 'itemcontent': 'Blood'}, {'item': 'Red Blood Cells', 'value': '3.44 m/uL', 'flag': 'abnormal', 'itemcontent': 'Blood'}, {'item': 'White Blood Cells', 'value': '8.3 K/uL', 'flag': nan, 'itemcontent': 'Blood'}, {'item': 'INR(PT)', 'value': '1.7', 'flag': 'abnormal', 'itemcontent': 'Blood'}, {'item': 'PT', 'value': '18.6 sec', 'flag': 'abnormal', 'itemcontent': 'Blood'}, {'item': 'PTT', 'value': '80.1 sec', 'flag': 'abnormal', 'itemcontent': 'Blood'}, {'item': 'INR(PT)', 'value': '1.7', 'flag': 'abnormal', 'itemcontent': 'Blood'}, {'item': 'PT', 'value': '18.7 sec', 'flag': 'abnormal', 'itemcontent': 'Blood'}, {'item': 'PTT', 'value': '150 sec', 'flag': 'abnormal', 'itemcontent': 'Blood'}, {'item': 'PTT', 'value': '150 sec', 'flag': 'abnormal', 'itemcontent': 'Blood'}, {'item': 'Anion Gap', 'value': '11 mEq/L', 'flag': nan, 'itemcontent': 'Blood'}, {'item': 'Bicarbonate', 'value': '25 mEq/L', 'flag': nan, 'itemcontent': 'Blood'}, {'item': 'Calcium, Total', 'value': '8.6 mg/dL', 'flag': nan, 'itemcontent': 'Blood'}, {'item': 'Carcinoembyronic Antigen (CEA)', 'value': '2.8 ng/mL', 'flag': nan, 'itemcontent': 'Blood'}, {'item': 'Chloride', 'value': '108 mEq/L', 'flag': nan, 'itemcontent': 'Blood'}, {'item': 'Creatine Kinase (CK)', 'value': '26 IU/L', 'flag': 'abnormal', 'itemcontent': 'Blood'}, {'item': 'Creatine Kinase, MB Isoenzyme', 'value': '3 ng/mL', 'flag': nan, 'itemcontent': 'Blood'}, {'item': 'Creatinine', 'value': '1.0 mg/dL', 'flag': nan, 'itemcontent': 'Blood'}, {'item': 'Glucose', 'value': '120 mg/dL', 'flag': 'abnormal', 'itemcontent': 'Blood'}, {'item': 'Magnesium', 'value': '1.8 mg/dL', 'flag': nan, 'itemcontent': 'Blood'}, {'item': 'Potassium', 'value': '3.9 mEq/L', 'flag': nan, 'itemcontent': 'Blood'}, {'item': 'Sodium', 'value': '140 mEq/L', 'flag': nan, 'itemcontent': 'Blood'}, {'item': 'Troponin T', 'value': '0.02 ng/mL', 'flag': 'abnormal', 'itemcontent': 'Blood'}, {'item': 'Urea Nitrogen', 'value': '11 mg/dL', 'flag': nan, 'itemcontent': 'Blood'}, {'item': 'Hematocrit', 'value': '27.5 %', 'flag': 'abnormal', 'itemcontent': 'Blood'}, {'item': 'Hemoglobin', 'value': '8.5 g/dL', 'flag': 'abnormal', 'itemcontent': 'Blood'}, {'item': 'INR(PT)', 'value': '1.7', 'flag': 'abnormal', 'itemcontent': 'Blood'}, {'item': 'MCH', 'value': '26.5 pg', 'flag': 'abnormal', 'itemcontent': 'Blood'}, {'item': 'MCHC', 'value': '30.7 %', 'flag': 'abnormal', 'itemcontent': 'Blood'}, {'item': 'MCV', 'value': '86 fL', 'flag': nan, 'itemcontent': 'Blood'}, {'item': 'Platelet Count', 'value': '195 K/uL', 'flag': nan, 'itemcontent': 'Blood'}, {'item': 'PT', 'value': '18.5 sec', 'flag': 'abnormal', 'itemcontent': 'Blood'}, {'item': 'PTT', 'value': '150 sec', 'flag': 'abnormal', 'itemcontent': 'Blood'}, {'item': 'RDW', 'value': '16.6 %', 'flag': 'abnormal', 'itemcontent': 'Blood'}, {'item': 'Red Blood Cells', 'value': '3.19 m/uL', 'flag': 'abnormal', 'itemcontent': 'Blood'}, {'item': 'White Blood Cells', 'value': '9.0 K/uL', 'flag': nan, 'itemcontent': 'Blood'}, {'item': 'PTT', 'value': '142.2 sec', 'flag': 'abnormal', 'itemcontent': 'Blood'}, {'item': 'INR(PT)', 'value': '1.6', 'flag': 'abnormal', 'itemcontent': 'Blood'}, {'item': 'PT', 'value': '17.7 sec', 'flag': 'abnormal', 'itemcontent': 'Blood'}, {'item': 'PTT', 'value': '122.5 sec', 'flag': 'abnormal', 'itemcontent': 'Blood'}, {'item': 'INR(PT)', 'value': '1.5', 'flag': 'abnormal', 'itemcontent': 'Blood'}, {'item': 'PT', 'value': '17.0 sec', 'flag': 'abnormal', 'itemcontent': 'Blood'}, {'item': 'PTT', 'value': '54.6 sec', 'flag': 'abnormal', 'itemcontent': 'Blood'}, {'item': 'Anion Gap', 'value': '13 mEq/L', 'flag': nan, 'itemcontent': 'Blood'}, {'item': 'Bicarbonate', 'value': '26 mEq/L', 'flag': nan, 'itemcontent': 'Blood'}, {'item': 'Calcium, Total', 'value': '8.7 mg/dL', 'flag': nan, 'itemcontent': 'Blood'}, {'item': 'Chloride', 'value': '102 mEq/L', 'flag': nan, 'itemcontent': 'Blood'}, {'item': 'Creatinine', 'value': '1.1 mg/dL', 'flag': nan, 'itemcontent': 'Blood'}, {'item': 'Glucose', 'value': '92 mg/dL', 'flag': nan, 'itemcontent': 'Blood'}, {'item': 'Magnesium', 'value': '1.6 mg/dL', 'flag': nan, 'itemcontent': 'Blood'}, {'item': 'Potassium', 'value': '3.9 mEq/L', 'flag': nan, 'itemcontent': 'Blood'}, {'item': 'Sodium', 'value': '137 mEq/L', 'flag': nan, 'itemcontent': 'Blood'}, {'item': 'Urea Nitrogen', 'value': '11 mg/dL', 'flag': nan, 'itemcontent': 'Blood'}, {'item': 'Hematocrit', 'value': '28.9 %', 'flag': 'abnormal', 'itemcontent': 'Blood'}, {'item': 'Hemoglobin', 'value': '9.4 g/dL', 'flag': 'abnormal', 'itemcontent': 'Blood'}, {'item': 'INR(PT)', 'value': '1.5', 'flag': 'abnormal', 'itemcontent': 'Blood'}, {'item': 'MCH', 'value': '27.8 pg', 'flag': nan, 'itemcontent': 'Blood'}, {'item': 'MCHC', 'value': '32.4 %', 'flag': nan, 'itemcontent': 'Blood'}, {'item': 'MCV', 'value': '86 fL', 'flag': nan, 'itemcontent': 'Blood'}, {'item': 'Platelet Count', 'value': '185 K/uL', 'flag': nan, 'itemcontent': 'Blood'}, {'item': 'PT', 'value': '16.8 sec', 'flag': 'abnormal', 'itemcontent': 'Blood'}, {'item': 'PTT', 'value': '111.8 sec', 'flag': 'abnormal', 'itemcontent': 'Blood'}, {'item': 'RDW', 'value': '16.0 %', 'flag': 'abnormal', 'itemcontent': 'Blood'}, {'item': 'Red Blood Cells', 'value': '3.36 m/uL', 'flag': 'abnormal', 'itemcontent': 'Blood'}, {'item': 'White Blood Cells', 'value': '7.9 K/uL', 'flag': nan, 'itemcontent': 'Blood'}, {'item': 'Chloride', 'value': '105 mEq/L', 'flag': nan, 'itemcontent': 'Blood'}, {'item': 'Magnesium', 'value': '1.4 mg/dL', 'flag': 'abnormal', 'itemcontent': 'Blood'}, {'item': 'Potassium', 'value': '3.8 mEq/L', 'flag': nan, 'itemcontent': 'Blood'}, {'item': 'Sodium', 'value': '139 mEq/L', 'flag': nan, 'itemcontent': 'Blood'}, {'item': 'Hematocrit', 'value': '28.9 %', 'flag': 'abnormal', 'itemcontent': 'Blood'}, {'item': 'Anion Gap', 'value': '16 mEq/L', 'flag': nan, 'itemcontent': 'Blood'}, {'item': 'Bicarbonate', 'value': '24 mEq/L', 'flag': nan, 'itemcontent': 'Blood'}, {'item': 'Calcium, Total', 'value': '8.7 mg/dL', 'flag': nan, 'itemcontent': 'Blood'}, {'item': 'Chloride', 'value': '104 mEq/L', 'flag': nan, 'itemcontent': 'Blood'}, {'item': 'Creatinine', 'value': '1.4 mg/dL', 'flag': 'abnormal', 'itemcontent': 'Blood'}, {'item': 'Glucose', 'value': '75 mg/dL', 'flag': nan, 'itemcontent': 'Blood'}, {'item': 'Magnesium', 'value': '2.7 mg/dL', 'flag': 'abnormal', 'itemcontent': 'Blood'}, {'item': 'Phosphate', 'value': '4.9 mg/dL', 'flag': 'abnormal', 'itemcontent': 'Blood'}, {'item': 'Potassium', 'value': '4.0 mEq/L', 'flag': nan, 'itemcontent': 'Blood'}, {'item': 'Sodium', 'value': '140 mEq/L', 'flag': nan, 'itemcontent': 'Blood'}, {'item': 'Urea Nitrogen', 'value': '15 mg/dL', 'flag': nan, 'itemcontent': 'Blood'}, {'item': 'Hematocrit', 'value': '32.5 %', 'flag': 'abnormal', 'itemcontent': 'Blood'}, {'item': 'Hemoglobin', 'value': '9.9 g/dL', 'flag': 'abnormal', 'itemcontent': 'Blood'}, {'item': 'INR(PT)', 'value': '1.4', 'flag': 'abnormal', 'itemcontent': 'Blood'}, {'item': 'MCH', 'value': '27.3 pg', 'flag': nan, 'itemcontent': 'Blood'}, {'item': 'MCHC', 'value': '30.6 %', 'flag': 'abnormal', 'itemcontent': 'Blood'}, {'item': 'MCV', 'value': '89 fL', 'flag': nan, 'itemcontent': 'Blood'}, {'item': 'Platelet Count', 'value': '219 K/uL', 'flag': nan, 'itemcontent': 'Blood'}, {'item': 'PT', 'value': '16.0 sec', 'flag': 'abnormal', 'itemcontent': 'Blood'}, {'item': 'RDW', 'value': '16.3 %', 'flag': 'abnormal', 'itemcontent': 'Blood'}, {'item': 'Red Blood Cells', 'value': '3.64 m/uL', 'flag': 'abnormal', 'itemcontent': 'Blood'}, {'item': 'White Blood Cells', 'value': '20.9 K/uL', 'flag': 'abnormal', 'itemcontent': 'Blood'}, {'item': 'Chloride, Urine', 'value': '55 mEq/L', 'flag': nan, 'itemcontent': 'Urine'}, {'item': 'Creatinine, Urine', 'value': '84 mg/dL', 'flag': nan, 'itemcontent': 'Urine'}, {'item': 'Potassium, Urine', 'value': '47 mEq/L', 'flag': nan, 'itemcontent': 'Urine'}, {'item': 'Sodium, Urine', 'value': '80 mEq/L', 'flag': nan, 'itemcontent': 'Urine'}, {'item': 'Anion Gap', 'value': '16 mEq/L', 'flag': nan, 'itemcontent': 'Blood'}, {'item': 'Bicarbonate', 'value': '23 mEq/L', 'flag': nan, 'itemcontent': 'Blood'}, {'item': 'Calcium, Total', 'value': '8.6 mg/dL', 'flag': nan, 'itemcontent': 'Blood'}, {'item': 'Chloride', 'value': '104 mEq/L', 'flag': nan, 'itemcontent': 'Blood'}, {'item': 'Creatine Kinase (CK)', 'value': '134 IU/L', 'flag': nan, 'itemcontent': 'Blood'}, {'item': 'Creatine Kinase, MB Isoenzyme', 'value': '5 ng/mL', 'flag': nan, 'itemcontent': 'Blood'}, {'item': 'Creatinine', 'value': '1.8 mg/dL', 'flag': 'abnormal', 'itemcontent': 'Blood'}, {'item': 'Glucose', 'value': '71 mg/dL', 'flag': nan, 'itemcontent': 'Blood'}, {'item': 'Magnesium', 'value': '2.4 mg/dL', 'flag': nan, 'itemcontent': 'Blood'}, {'item': 'Phosphate', 'value': '4.8 mg/dL', 'flag': 'abnormal', 'itemcontent': 'Blood'}, {'item': 'Potassium', 'value': '4.5 mEq/L', 'flag': nan, 'itemcontent': 'Blood'}, {'item': 'Sodium', 'value': '138 mEq/L', 'flag': nan, 'itemcontent': 'Blood'}, {'item': 'Troponin T', 'value': '0.04 ng/mL', 'flag': 'abnormal', 'itemcontent': 'Blood'}, {'item': 'Urea Nitrogen', 'value': '17 mg/dL', 'flag': nan, 'itemcontent': 'Blood'}, {'item': 'Atypical Lymphocytes', 'value': '0 %', 'flag': nan, 'itemcontent': 'Blood'}, {'item': 'Bands', 'value': '3 %', 'flag': nan, 'itemcontent': 'Blood'}, {'item': 'Basophils', 'value': '0 %', 'flag': nan, 'itemcontent': 'Blood'}, {'item': 'Eosinophils', 'value': '0 %', 'flag': nan, 'itemcontent': 'Blood'}, {'item': 'Hematocrit', 'value': '28.8 %', 'flag': 'abnormal', 'itemcontent': 'Blood'}, {'item': 'Hemoglobin', 'value': '8.9 g/dL', 'flag': 'abnormal', 'itemcontent': 'Blood'}, {'item': 'Lymphocytes', 'value': '3 %', 'flag': 'abnormal', 'itemcontent': 'Blood'}, {'item': 'MCH', 'value': '27.5 pg', 'flag': nan, 'itemcontent': 'Blood'}, {'item': 'MCHC', 'value': '31.0 %', 'flag': nan, 'itemcontent': 'Blood'}, {'item': 'MCV', 'value': '89 fL', 'flag': nan, 'itemcontent': 'Blood'}, {'item': 'Metamyelocytes', 'value': '0 %', 'flag': nan, 'itemcontent': 'Blood'}, {'item': 'Monocytes', 'value': '3 %', 'flag': nan, 'itemcontent': 'Blood'}, {'item': 'Myelocytes', 'value': '0 %', 'flag': nan, 'itemcontent': 'Blood'}, {'item': 'Neutrophils', 'value': '91 %', 'flag': 'abnormal', 'itemcontent': 'Blood'}, {'item': 'Platelet Count', 'value': '159 K/uL', 'flag': nan, 'itemcontent': 'Blood'}, {'item': 'RDW', 'value': '16.5 %', 'flag': 'abnormal', 'itemcontent': 'Blood'}, {'item': 'Red Blood Cells', 'value': '3.25 m/uL', 'flag': 'abnormal', 'itemcontent': 'Blood'}, {'item': 'White Blood Cells', 'value': '16.8 K/uL', 'flag': 'abnormal', 'itemcontent': 'Blood'}, {'item': 'Alanine Aminotransferase (ALT)', 'value': '17 IU/L', 'flag': nan, 'itemcontent': 'Blood'}, {'item': 'Albumin', 'value': '3.6 g/dL', 'flag': nan, 'itemcontent': 'Blood'}, {'item': 'Alkaline Phosphatase', 'value': '67 IU/L', 'flag': nan, 'itemcontent': 'Blood'}, {'item': 'Asparate Aminotransferase (AST)', 'value': '27 IU/L', 'flag': nan, 'itemcontent': 'Blood'}, {'item': 'Bilirubin, Total', 'value': '2.1 mg/dL', 'flag': 'abnormal', 'itemcontent': 'Blood'}, {'item': 'Creatine Kinase (CK)', 'value': '170 IU/L', 'flag': nan, 'itemcontent': 'Blood'}, {'item': 'Creatine Kinase, MB Isoenzyme', 'value': '6 ng/mL', 'flag': nan, 'itemcontent': 'Blood'}, {'item': 'Lactate Dehydrogenase (LD)', 'value': '125 IU/L', 'flag': nan, 'itemcontent': 'Blood'}, {'item': 'Lipase', 'value': '8 IU/L', 'flag': nan, 'itemcontent': 'Blood'}, {'item': 'Thyroid Stimulating Hormone', 'value': '1.3 uIU/mL', 'flag': nan, 'itemcontent': 'Blood'}, {'item': 'Troponin T', 'value': '0.05 ng/mL', 'flag': 'abnormal', 'itemcontent': 'Blood'}, {'item': 'Chloride, Urine', 'value': '10 mEq/L', 'flag': nan, 'itemcontent': 'Urine'}, {'item': 'Creatinine, Urine', 'value': '170 mg/dL', 'flag': nan, 'itemcontent': 'Urine'}, {'item': 'Osmolality, Urine', 'value': '365 mOsm/kg', 'flag': nan, 'itemcontent': 'Urine'}, {'item': 'Potassium, Urine', 'value': '92 mEq/L', 'flag': nan, 'itemcontent': 'Urine'}, {'item': 'Sodium, Urine', 'value': '15 mEq/L', 'flag': nan, 'itemcontent': 'Urine'}, {'item': 'Urea Nitrogen, Urine', 'value': '249 mg/dL', 'flag': nan, 'itemcontent': 'Urine'}, {'item': 'INR(PT)', 'value': '1.8', 'flag': 'abnormal', 'itemcontent': 'Blood'}, {'item': 'PT', 'value': '19.8 sec', 'flag': 'abnormal', 'itemcontent': 'Blood'}, {'item': 'PTT', 'value': '40.0 sec', 'flag': 'abnormal', 'itemcontent': 'Blood'}, {'item': 'Bacteria', 'value': 'MOD', 'flag': nan, 'itemcontent': 'Urine'}, {'item': 'Bilirubin', 'value': 'MOD mg/dL', 'flag': nan, 'itemcontent': 'Urine'}, {'item': 'Blood', 'value': 'TR', 'flag': nan, 'itemcontent': 'Urine'}, {'item': 'Epithelial Cells', 'value': '3-5 #/hpf', 'flag': nan, 'itemcontent': 'Urine'}, {'item': 'Glucose', 'value': 'NEG mg/dL', 'flag': nan, 'itemcontent': 'Urine'}, {'item': 'Ketone', 'value': 'NEG mg/dL', 'flag': nan, 'itemcontent': 'Urine'}, {'item': 'Leukocytes', 'value': 'NEG', 'flag': nan, 'itemcontent': 'Urine'}, {'item': 'Nitrite', 'value': 'NEG', 'flag': nan, 'itemcontent': 'Urine'}, {'item': 'pH', 'value': '5.0 units', 'flag': nan, 'itemcontent': 'Urine'}, {'item': 'Protein', 'value': '100 mg/dL', 'flag': nan, 'itemcontent': 'Urine'}, {'item': 'RBC', 'value': '3-5 #/hpf', 'flag': 'abnormal', 'itemcontent': 'Urine'}, {'item': 'Specific Gravity', 'value': '>=1.035  ', 'flag': nan, 'itemcontent': 'Urine'}, {'item': 'Urine Appearance', 'value': 'Hazy', 'flag': nan, 'itemcontent': 'Urine'}, {'item': 'Urine Color', 'value': 'Yellow', 'flag': nan, 'itemcontent': 'Urine'}, {'item': 'Urobilinogen', 'value': '0.2 mg/dL', 'flag': nan, 'itemcontent': 'Urine'}, {'item': 'WBC', 'value': '0-2 #/hpf', 'flag': nan, 'itemcontent': 'Urine'}, {'item': 'Yeast', 'value': 'NONE', 'flag': nan, 'itemcontent': 'Urine'}, {'item': 'Lactate', 'value': '2.1 mmol/L', 'flag': 'abnormal', 'itemcontent': 'Blood'}, {'item': 'Alanine Aminotransferase (ALT)', 'value': '14 IU/L', 'flag': nan, 'itemcontent': 'Blood'}, {'item': 'Alkaline Phosphatase', 'value': '65 IU/L', 'flag': nan, 'itemcontent': 'Blood'}, {'item': 'Anion Gap', 'value': '13 mEq/L', 'flag': nan, 'itemcontent': 'Blood'}, {'item': 'Asparate Aminotransferase (AST)', 'value': '29 IU/L', 'flag': nan, 'itemcontent': 'Blood'}, {'item': 'Bicarbonate', 'value': '24 mEq/L', 'flag': nan, 'itemcontent': 'Blood'}, {'item': 'Bilirubin, Total', 'value': '3.1 mg/dL', 'flag': 'abnormal', 'itemcontent': 'Blood'}, {'item': 'Calcium, Total', 'value': '8.2 mg/dL', 'flag': 'abnormal', 'itemcontent': 'Blood'}, {'item': 'Chloride', 'value': '102 mEq/L', 'flag': nan, 'itemcontent': 'Blood'}, {'item': 'Creatine Kinase (CK)', 'value': '158 IU/L', 'flag': nan, 'itemcontent': 'Blood'}, {'item': 'Creatine Kinase, MB Isoenzyme', 'value': '6 ng/mL', 'flag': nan, 'itemcontent': 'Blood'}, {'item': 'Creatinine', 'value': '1.6 mg/dL', 'flag': 'abnormal', 'itemcontent': 'Blood'}, {'item': 'Glucose', 'value': '90 mg/dL', 'flag': nan, 'itemcontent': 'Blood'}, {'item': 'Magnesium', 'value': '2.1 mg/dL', 'flag': nan, 'itemcontent': 'Blood'}, {'item': 'Phosphate', 'value': '3.8 mg/dL', 'flag': nan, 'itemcontent': 'Blood'}, {'item': 'Potassium', 'value': '4.0 mEq/L', 'flag': nan, 'itemcontent': 'Blood'}, {'item': 'Sodium', 'value': '135 mEq/L', 'flag': nan, 'itemcontent': 'Blood'}, {'item': 'Troponin T', 'value': '0.06 ng/mL', 'flag': 'abnormal', 'itemcontent': 'Blood'}, {'item': 'Urea Nitrogen', 'value': '18 mg/dL', 'flag': nan, 'itemcontent': 'Blood'}, {'item': 'Basophils', 'value': '0.4 %', 'flag': nan, 'itemcontent': 'Blood'}, {'item': 'Eosinophils', 'value': '0.3 %', 'flag': nan, 'itemcontent': 'Blood'}, {'item': 'Fibrinogen, Functional', 'value': '493 mg/dL', 'flag': 'abnormal', 'itemcontent': 'Blood'}, {'item': 'Hematocrit', 'value': '31.7 %', 'flag': 'abnormal', 'itemcontent': 'Blood'}, {'item': 'Hemoglobin', 'value': '10.3 g/dL', 'flag': 'abnormal', 'itemcontent': 'Blood'}, {'item': 'INR(PT)', 'value': '2.5', 'flag': 'abnormal', 'itemcontent': 'Blood'}, {'item': 'Lymphocytes', 'value': '3.7 %', 'flag': 'abnormal', 'itemcontent': 'Blood'}, {'item': 'MCH', 'value': '28.2 pg', 'flag': nan, 'itemcontent': 'Blood'}, {'item': 'MCHC', 'value': '32.5 %', 'flag': nan, 'itemcontent': 'Blood'}, {'item': 'MCV', 'value': '87 fL', 'flag': nan, 'itemcontent': 'Blood'}, {'item': 'Monocytes', 'value': '3.8 %', 'flag': nan, 'itemcontent': 'Blood'}, {'item': 'Neutrophils', 'value': '91.8 %', 'flag': 'abnormal', 'itemcontent': 'Blood'}, {'item': 'Platelet Count', 'value': '152 K/uL', 'flag': nan, 'itemcontent': 'Blood'}, {'item': 'PT', 'value': '26.4 sec', 'flag': 'abnormal', 'itemcontent': 'Blood'}, {'item': 'PTT', 'value': '46.2 sec', 'flag': 'abnormal', 'itemcontent': 'Blood'}, {'item': 'RDW', 'value': '16.1 %', 'flag': 'abnormal', 'itemcontent': 'Blood'}, {'item': 'Red Blood Cells', 'value': '3.65 m/uL', 'flag': 'abnormal', 'itemcontent': 'Blood'}, {'item': 'White Blood Cells', 'value': '19.3 K/uL', 'flag': 'abnormal', 'itemcontent': 'Blood'}, {'item': 'Lactate', 'value': '2.2 mmol/L', 'flag': 'abnormal', 'itemcontent': 'Blood'}, {'item': 'Anion Gap', 'value': '16 mEq/L', 'flag': nan, 'itemcontent': 'Blood'}, {'item': 'Bicarbonate', 'value': '22 mEq/L', 'flag': nan, 'itemcontent': 'Blood'}, {'item': 'Chloride', 'value': '101 mEq/L', 'flag': nan, 'itemcontent': 'Blood'}, {'item': 'Creatinine', 'value': '1.5 mg/dL', 'flag': 'abnormal', 'itemcontent': 'Blood'}, {'item': 'Glucose', 'value': '87 mg/dL', 'flag': nan, 'itemcontent': 'Blood'}, {'item': 'Magnesium', 'value': '2.1 mg/dL', 'flag': nan, 'itemcontent': 'Blood'}, {'item': 'Phosphate', 'value': '3.4 mg/dL', 'flag': nan, 'itemcontent': 'Blood'}, {'item': 'Potassium', 'value': '4.9 mEq/L', 'flag': nan, 'itemcontent': 'Blood'}, {'item': 'Sodium', 'value': '134 mEq/L', 'flag': nan, 'itemcontent': 'Blood'}, {'item': 'Urea Nitrogen', 'value': '18 mg/dL', 'flag': nan, 'itemcontent': 'Blood'}, {'item': 'Atypical Lymphocytes', 'value': '0 %', 'flag': nan, 'itemcontent': 'Blood'}, {'item': 'Bands', 'value': '2 %', 'flag': nan, 'itemcontent': 'Blood'}, {'item': 'Basophils', 'value': '0 %', 'flag': nan, 'itemcontent': 'Blood'}, {'item': 'Eosinophils', 'value': '1 %', 'flag': nan, 'itemcontent': 'Blood'}, {'item': 'Hematocrit', 'value': '34.1 %', 'flag': 'abnormal', 'itemcontent': 'Blood'}, {'item': 'Hemoglobin', 'value': '11.0 g/dL', 'flag': 'abnormal', 'itemcontent': 'Blood'}, {'item': 'Lymphocytes', 'value': '3 %', 'flag': 'abnormal', 'itemcontent': 'Blood'}, {'item': 'MCH', 'value': '28.4 pg', 'flag': nan, 'itemcontent': 'Blood'}, {'item': 'MCHC', 'value': '32.2 %', 'flag': nan, 'itemcontent': 'Blood'}, {'item': 'MCV', 'value': '88 fL', 'flag': nan, 'itemcontent': 'Blood'}, {'item': 'Metamyelocytes', 'value': '0 %', 'flag': nan, 'itemcontent': 'Blood'}, {'item': 'Monocytes', 'value': '5 %', 'flag': nan, 'itemcontent': 'Blood'}, {'item': 'Myelocytes', 'value': '0 %', 'flag': nan, 'itemcontent': 'Blood'}, {'item': 'Neutrophils', 'value': '88 %', 'flag': 'abnormal', 'itemcontent': 'Blood'}, {'item': 'Plasma Cells', 'value': '1 %', 'flag': 'abnormal', 'itemcontent': 'Blood'}, {'item': 'Platelet Count', 'value': '192 K/uL', 'flag': nan, 'itemcontent': 'Blood'}, {'item': 'RDW', 'value': '16.3 %', 'flag': 'abnormal', 'itemcontent': 'Blood'}, {'item': 'Red Blood Cells', 'value': '3.87 m/uL', 'flag': 'abnormal', 'itemcontent': 'Blood'}, {'item': 'White Blood Cells', 'value': '23.9 K/uL', 'flag': 'abnormal', 'itemcontent': 'Blood'}, {'item': 'Fibrinogen, Functional', 'value': '541 mg/dL', 'flag': 'abnormal', 'itemcontent': 'Blood'}, {'item': 'INR(PT)', 'value': '2.4', 'flag': 'abnormal', 'itemcontent': 'Blood'}, {'item': 'PT', 'value': '25.4 sec', 'flag': 'abnormal', 'itemcontent': 'Blood'}, {'item': 'PTT', 'value': '30.9 sec', 'flag': nan, 'itemcontent': 'Blood'}, {'item': 'Alanine Aminotransferase (ALT)', 'value': '18 IU/L', 'flag': nan, 'itemcontent': 'Blood'}, {'item': 'Alkaline Phosphatase', 'value': '74 IU/L', 'flag': nan, 'itemcontent': 'Blood'}, {'item': 'Anion Gap', 'value': '15 mEq/L', 'flag': nan, 'itemcontent': 'Blood'}, {'item': 'Asparate Aminotransferase (AST)', 'value': '32 IU/L', 'flag': nan, 'itemcontent': 'Blood'}, {'item': 'Bicarbonate', 'value': '24 mEq/L', 'flag': nan, 'itemcontent': 'Blood'}, {'item': 'Bilirubin, Total', 'value': '1.1 mg/dL', 'flag': nan, 'itemcontent': 'Blood'}, {'item': 'Chloride', 'value': '102 mEq/L', 'flag': nan, 'itemcontent': 'Blood'}, {'item': 'Creatinine', 'value': '1.7 mg/dL', 'flag': 'abnormal', 'itemcontent': 'Blood'}, {'item': 'Glucose', 'value': '61 mg/dL', 'flag': 'abnormal', 'itemcontent': 'Blood'}, {'item': 'Lactate Dehydrogenase (LD)', 'value': '147 IU/L', 'flag': nan, 'itemcontent': 'Blood'}, {'item': 'Magnesium', 'value': '2.0 mg/dL', 'flag': nan, 'itemcontent': 'Blood'}, {'item': 'Phosphate', 'value': '3.9 mg/dL', 'flag': nan, 'itemcontent': 'Blood'}, {'item': 'Potassium', 'value': '4.0 mEq/L', 'flag': nan, 'itemcontent': 'Blood'}, {'item': 'Sodium', 'value': '137 mEq/L', 'flag': nan, 'itemcontent': 'Blood'}, {'item': 'Urea Nitrogen', 'value': '22 mg/dL', 'flag': 'abnormal', 'itemcontent': 'Blood'}, {'item': 'Hematocrit', 'value': '32.8 %', 'flag': 'abnormal', 'itemcontent': 'Blood'}, {'item': 'Hemoglobin', 'value': '10.4 g/dL', 'flag': 'abnormal', 'itemcontent': 'Blood'}, {'item': 'INR(PT)', 'value': '1.8', 'flag': 'abnormal', 'itemcontent': 'Blood'}, {'item': 'MCH', 'value': '28.0 pg', 'flag': nan, 'itemcontent': 'Blood'}, {'item': 'MCHC', 'value': '31.6 %', 'flag': nan, 'itemcontent': 'Blood'}, {'item': 'MCV', 'value': '89 fL', 'flag': nan, 'itemcontent': 'Blood'}, {'item': 'Platelet Count', 'value': '165 K/uL', 'flag': nan, 'itemcontent': 'Blood'}, {'item': 'PT', 'value': '19.7 sec', 'flag': 'abnormal', 'itemcontent': 'Blood'}, {'item': 'PTT', 'value': '41.5 sec', 'flag': 'abnormal', 'itemcontent': 'Blood'}, {'item': 'RDW', 'value': '16.8 %', 'flag': 'abnormal', 'itemcontent': 'Blood'}, {'item': 'Red Blood Cells', 'value': '3.70 m/uL', 'flag': 'abnormal', 'itemcontent': 'Blood'}, {'item': 'White Blood Cells', 'value': '20.4 K/uL', 'flag': 'abnormal', 'itemcontent': 'Blood'}, {'item': 'Chloride, Urine', 'value': '71 mEq/L', 'flag': nan, 'itemcontent': 'Urine'}, {'item': 'Creatinine, Urine', 'value': '68 mg/dL', 'flag': nan, 'itemcontent': 'Urine'}, {'item': 'Osmolality, Urine', 'value': '328 mOsm/kg', 'flag': nan, 'itemcontent': 'Urine'}, {'item': 'Potassium, Urine', 'value': '40 mEq/L', 'flag': nan, 'itemcontent': 'Urine'}, {'item': 'Sodium, Urine', 'value': '49 mEq/L', 'flag': nan, 'itemcontent': 'Urine'}, {'item': 'Urea Nitrogen, Urine', 'value': '265 mg/dL', 'flag': nan, 'itemcontent': 'Urine'}, {'item': 'Hematocrit', 'value': '30.5 %', 'flag': 'abnormal', 'itemcontent': 'Blood'}, {'item': 'Anion Gap', 'value': '18 mEq/L', 'flag': nan, 'itemcontent': 'Blood'}, {'item': 'Bicarbonate', 'value': '23 mEq/L', 'flag': nan, 'itemcontent': 'Blood'}, {'item': 'Calcium, Total', 'value': '8.8 mg/dL', 'flag': nan, 'itemcontent': 'Blood'}, {'item': 'Chloride', 'value': '102 mEq/L', 'flag': nan, 'itemcontent': 'Blood'}, {'item': 'Creatinine', 'value': '1.6 mg/dL', 'flag': 'abnormal', 'itemcontent': 'Blood'}, {'item': 'Glucose', 'value': '80 mg/dL', 'flag': nan, 'itemcontent': 'Blood'}, {'item': 'Magnesium', 'value': '2.1 mg/dL', 'flag': nan, 'itemcontent': 'Blood'}, {'item': 'Phosphate', 'value': '3.5 mg/dL', 'flag': nan, 'itemcontent': 'Blood'}, {'item': 'Potassium', 'value': '3.8 mEq/L', 'flag': nan, 'itemcontent': 'Blood'}, {'item': 'Sodium', 'value': '139 mEq/L', 'flag': nan, 'itemcontent': 'Blood'}, {'item': 'Urea Nitrogen', 'value': '30 mg/dL', 'flag': 'abnormal', 'itemcontent': 'Blood'}, {'item': 'Anion Gap', 'value': '16 mEq/L', 'flag': nan, 'itemcontent': 'Blood'}, {'item': 'Bicarbonate', 'value': '22 mEq/L', 'flag': nan, 'itemcontent': 'Blood'}, {'item': 'Calcium, Total', 'value': '8.8 mg/dL', 'flag': nan, 'itemcontent': 'Blood'}, {'item': 'Chloride', 'value': '101 mEq/L', 'flag': nan, 'itemcontent': 'Blood'}, {'item': 'Creatinine', 'value': '1.5 mg/dL', 'flag': 'abnormal', 'itemcontent': 'Blood'}, {'item': 'Glucose', 'value': '66 mg/dL', 'flag': 'abnormal', 'itemcontent': 'Blood'}, {'item': 'Magnesium', 'value': '2.0 mg/dL', 'flag': nan, 'itemcontent': 'Blood'}, {'item': 'Phosphate', 'value': '3.2 mg/dL', 'flag': nan, 'itemcontent': 'Blood'}, {'item': 'Potassium', 'value': '3.4 mEq/L', 'flag': nan, 'itemcontent': 'Blood'}, {'item': 'Sodium', 'value': '136 mEq/L', 'flag': nan, 'itemcontent': 'Blood'}, {'item': 'Urea Nitrogen', 'value': '33 mg/dL', 'flag': 'abnormal', 'itemcontent': 'Blood'}, {'item': 'Hematocrit', 'value': '30.2 %', 'flag': 'abnormal', 'itemcontent': 'Blood'}, {'item': 'Hemoglobin', 'value': '9.7 g/dL', 'flag': 'abnormal', 'itemcontent': 'Blood'}, {'item': 'INR(PT)', 'value': '1.7', 'flag': 'abnormal', 'itemcontent': 'Blood'}, {'item': 'MCH', 'value': '28.1 pg', 'flag': nan, 'itemcontent': 'Blood'}, {'item': 'MCHC', 'value': '32.1 %', 'flag': nan, 'itemcontent': 'Blood'}, {'item': 'MCV', 'value': '88 fL', 'flag': nan, 'itemcontent': 'Blood'}, {'item': 'Platelet Count', 'value': '190 K/uL', 'flag': nan, 'itemcontent': 'Blood'}, {'item': 'PT', 'value': '18.5 sec', 'flag': 'abnormal', 'itemcontent': 'Blood'}, {'item': 'RDW', 'value': '16.5 %', 'flag': 'abnormal', 'itemcontent': 'Blood'}, {'item': 'Red Blood Cells', 'value': '3.44 m/uL', 'flag': 'abnormal', 'itemcontent': 'Blood'}, {'item': 'White Blood Cells', 'value': '13.6 K/uL', 'flag': 'abnormal', 'itemcontent': 'Blood'}, {'item': 'Anion Gap', 'value': '20 mEq/L', 'flag': nan, 'itemcontent': 'Blood'}, {'item': 'Bicarbonate', 'value': '19 mEq/L', 'flag': 'abnormal', 'itemcontent': 'Blood'}, {'item': 'Calcium, Total', 'value': '8.9 mg/dL', 'flag': nan, 'itemcontent': 'Blood'}, {'item': 'Chloride', 'value': '104 mEq/L', 'flag': nan, 'itemcontent': 'Blood'}, {'item': 'Creatinine', 'value': '1.4 mg/dL', 'flag': 'abnormal', 'itemcontent': 'Blood'}, {'item': 'Glucose', 'value': '78 mg/dL', 'flag': nan, 'itemcontent': 'Blood'}, {'item': 'Magnesium', 'value': '2.0 mg/dL', 'flag': nan, 'itemcontent': 'Blood'}, {'item': 'Phosphate', 'value': '2.7 mg/dL', 'flag': nan, 'itemcontent': 'Blood'}, {'item': 'Potassium', 'value': '4.2 mEq/L', 'flag': nan, 'itemcontent': 'Blood'}, {'item': 'Sodium', 'value': '139 mEq/L', 'flag': nan, 'itemcontent': 'Blood'}, {'item': 'Urea Nitrogen', 'value': '35 mg/dL', 'flag': 'abnormal', 'itemcontent': 'Blood'}, {'item': 'Anion Gap', 'value': '17 mEq/L', 'flag': nan, 'itemcontent': 'Blood'}, {'item': 'Bicarbonate', 'value': '21 mEq/L', 'flag': 'abnormal', 'itemcontent': 'Blood'}, {'item': 'Calcium, Total', 'value': '8.7 mg/dL', 'flag': nan, 'itemcontent': 'Blood'}, {'item': 'Chloride', 'value': '106 mEq/L', 'flag': nan, 'itemcontent': 'Blood'}, {'item': 'Creatinine', 'value': '1.3 mg/dL', 'flag': 'abnormal', 'itemcontent': 'Blood'}, {'item': 'Glucose', 'value': '71 mg/dL', 'flag': nan, 'itemcontent': 'Blood'}, {'item': 'Magnesium', 'value': '1.8 mg/dL', 'flag': nan, 'itemcontent': 'Blood'}, {'item': 'Phosphate', 'value': '2.8 mg/dL', 'flag': nan, 'itemcontent': 'Blood'}, {'item': 'Potassium', 'value': '3.9 mEq/L', 'flag': nan, 'itemcontent': 'Blood'}, {'item': 'Sodium', 'value': '140 mEq/L', 'flag': nan, 'itemcontent': 'Blood'}, {'item': 'Urea Nitrogen', 'value': '36 mg/dL', 'flag': 'abnormal', 'itemcontent': 'Blood'}, {'item': 'Hematocrit', 'value': '31.3 %', 'flag': 'abnormal', 'itemcontent': 'Blood'}, {'item': 'Hemoglobin', 'value': '9.5 g/dL', 'flag': 'abnormal', 'itemcontent': 'Blood'}, {'item': 'MCH', 'value': '27.8 pg', 'flag': nan, 'itemcontent': 'Blood'}, {'item': 'MCHC', 'value': '30.3 %', 'flag': 'abnormal', 'itemcontent': 'Blood'}, {'item': 'MCV', 'value': '92 fL', 'flag': nan, 'itemcontent': 'Blood'}, {'item': 'Platelet Count', 'value': '193 K/uL', 'flag': nan, 'itemcontent': 'Blood'}, {'item': 'RDW', 'value': '17.1 %', 'flag': 'abnormal', 'itemcontent': 'Blood'}, {'item': 'Red Blood Cells', 'value': '3.41 m/uL', 'flag': 'abnormal', 'itemcontent': 'Blood'}, {'item': 'White Blood Cells', 'value': '11.7 K/uL', 'flag': 'abnormal', 'itemcontent': 'Blood'}, {'item': 'Anion Gap', 'value': '18 mEq/L', 'flag': nan, 'itemcontent': 'Blood'}, {'item': 'Bicarbonate', 'value': '23 mEq/L', 'flag': nan, 'itemcontent': 'Blood'}, {'item': 'Calcium, Total', 'value': '9.0 mg/dL', 'flag': nan, 'itemcontent': 'Blood'}, {'item': 'Chloride', 'value': '104 mEq/L', 'flag': nan, 'itemcontent': 'Blood'}, {'item': 'Creatinine', 'value': '1.2 mg/dL', 'flag': 'abnormal', 'itemcontent': 'Blood'}, {'item': 'Glucose', 'value': '78 mg/dL', 'flag': nan, 'itemcontent': 'Blood'}, {'item': 'Magnesium', 'value': '1.7 mg/dL', 'flag': nan, 'itemcontent': 'Blood'}, {'item': 'Phosphate', 'value': '2.3 mg/dL', 'flag': 'abnormal', 'itemcontent': 'Blood'}, {'item': 'Potassium', 'value': '3.6 mEq/L', 'flag': nan, 'itemcontent': 'Blood'}, {'item': 'Sodium', 'value': '141 mEq/L', 'flag': nan, 'itemcontent': 'Blood'}, {'item': 'Urea Nitrogen', 'value': '36 mg/dL', 'flag': 'abnormal', 'itemcontent': 'Blood'}, {'item': 'Anion Gap', 'value': '18 mEq/L', 'flag': nan, 'itemcontent': 'Blood'}, {'item': 'Bicarbonate', 'value': '23 mEq/L', 'flag': nan, 'itemcontent': 'Blood'}, {'item': 'Calcium, Total', 'value': '8.3 mg/dL', 'flag': 'abnormal', 'itemcontent': 'Blood'}, {'item': 'Chloride', 'value': '104 mEq/L', 'flag': nan, 'itemcontent': 'Blood'}, {'item': 'Creatinine', 'value': '1.1 mg/dL', 'flag': nan, 'itemcontent': 'Blood'}, {'item': 'Glucose', 'value': '96 mg/dL', 'flag': nan, 'itemcontent': 'Blood'}, {'item': 'Magnesium', 'value': '2.5 mg/dL', 'flag': nan, 'itemcontent': 'Blood'}, {'item': 'Phosphate', 'value': '2.7 mg/dL', 'flag': nan, 'itemcontent': 'Blood'}, {'item': 'Potassium', 'value': '3.8 mEq/L', 'flag': nan, 'itemcontent': 'Blood'}, {'item': 'Sodium', 'value': '141 mEq/L', 'flag': nan, 'itemcontent': 'Blood'}, {'item': 'Urea Nitrogen', 'value': '33 mg/dL', 'flag': 'abnormal', 'itemcontent': 'Blood'}, {'item': 'Anion Gap', 'value': '18 mEq/L', 'flag': nan, 'itemcontent': 'Blood'}, {'item': 'Bicarbonate', 'value': '25 mEq/L', 'flag': nan, 'itemcontent': 'Blood'}, {'item': 'Calcium, Total', 'value': '8.7 mg/dL', 'flag': nan, 'itemcontent': 'Blood'}, {'item': 'Chloride', 'value': '105 mEq/L', 'flag': nan, 'itemcontent': 'Blood'}, {'item': 'Creatinine', 'value': '1.1 mg/dL', 'flag': nan, 'itemcontent': 'Blood'}, {'item': 'Glucose', 'value': '126 mg/dL', 'flag': 'abnormal', 'itemcontent': 'Blood'}, {'item': 'Magnesium', 'value': '2.1 mg/dL', 'flag': nan, 'itemcontent': 'Blood'}, {'item': 'Phosphate', 'value': '2.7 mg/dL', 'flag': nan, 'itemcontent': 'Blood'}, {'item': 'Potassium', 'value': '3.6 mEq/L', 'flag': nan, 'itemcontent': 'Blood'}, {'item': 'Sodium', 'value': '144 mEq/L', 'flag': nan, 'itemcontent': 'Blood'}, {'item': 'Urea Nitrogen', 'value': '32 mg/dL', 'flag': 'abnormal', 'itemcontent': 'Blood'}, {'item': 'Anion Gap', 'value': '18 mEq/L', 'flag': nan, 'itemcontent': 'Blood'}, {'item': 'Bicarbonate', 'value': '23 mEq/L', 'flag': nan, 'itemcontent': 'Blood'}, {'item': 'Calcium, Total', 'value': '8.7 mg/dL', 'flag': nan, 'itemcontent': 'Blood'}, {'item': 'Chloride', 'value': '107 mEq/L', 'flag': nan, 'itemcontent': 'Blood'}, {'item': 'Creatinine', 'value': '1.0 mg/dL', 'flag': nan, 'itemcontent': 'Blood'}, {'item': 'Glucose', 'value': '97 mg/dL', 'flag': nan, 'itemcontent': 'Blood'}, {'item': 'Magnesium', 'value': '1.8 mg/dL', 'flag': nan, 'itemcontent': 'Blood'}, {'item': 'Phosphate', 'value': '2.7 mg/dL', 'flag': nan, 'itemcontent': 'Blood'}, {'item': 'Potassium', 'value': '3.6 mEq/L', 'flag': nan, 'itemcontent': 'Blood'}, {'item': 'Sodium', 'value': '144 mEq/L', 'flag': nan, 'itemcontent': 'Blood'}, {'item': 'Urea Nitrogen', 'value': '28 mg/dL', 'flag': 'abnormal', 'itemcontent': 'Blood'}, {'item': 'INR(PT)', 'value': '1.8', 'flag': 'abnormal', 'itemcontent': 'Blood'}, {'item': 'PT', 'value': '19.7 sec', 'flag': 'abnormal', 'itemcontent': 'Blood'}, {'item': 'Anion Gap', 'value': '19 mEq/L', 'flag': nan, 'itemcontent': 'Blood'}, {'item': 'Bicarbonate', 'value': '25 mEq/L', 'flag': nan, 'itemcontent': 'Blood'}, {'item': 'Calcium, Total', 'value': '9.2 mg/dL', 'flag': nan, 'itemcontent': 'Blood'}, {'item': 'Chloride', 'value': '104 mEq/L', 'flag': nan, 'itemcontent': 'Blood'}, {'item': 'Creatine Kinase, MB Isoenzyme', 'value': '3 ng/mL', 'flag': nan, 'itemcontent': 'Blood'}, {'item': 'Creatinine', 'value': '1.0 mg/dL', 'flag': nan, 'itemcontent': 'Blood'}, {'item': 'Glucose', 'value': '115 mg/dL', 'flag': 'abnormal', 'itemcontent': 'Blood'}, {'item': 'Magnesium', 'value': '2.0 mg/dL', 'flag': nan, 'itemcontent': 'Blood'}, {'item': 'Phosphate', 'value': '2.4 mg/dL', 'flag': 'abnormal', 'itemcontent': 'Blood'}, {'item': 'Potassium', 'value': '4.1 mEq/L', 'flag': nan, 'itemcontent': 'Blood'}, {'item': 'Sodium', 'value': '144 mEq/L', 'flag': nan, 'itemcontent': 'Blood'}, {'item': 'Troponin T', 'value': '0.05 ng/mL', 'flag': 'abnormal', 'itemcontent': 'Blood'}, {'item': 'Urea Nitrogen', 'value': '28 mg/dL', 'flag': 'abnormal', 'itemcontent': 'Blood'}, {'item': 'Creatine Kinase (CK)', 'value': '20 IU/L', 'flag': 'abnormal', 'itemcontent': 'Blood'}, {'item': 'Creatine Kinase, MB Isoenzyme', 'value': '3 ng/mL', 'flag': nan, 'itemcontent': 'Blood'}, {'item': 'Troponin T', 'value': '0.05 ng/mL', 'flag': 'abnormal', 'itemcontent': 'Blood'}, {'item': 'Anion Gap', 'value': '18 mEq/L', 'flag': nan, 'itemcontent': 'Blood'}, {'item': 'Bicarbonate', 'value': '22 mEq/L', 'flag': nan, 'itemcontent': 'Blood'}, {'item': 'Calcium, Total', 'value': '8.8 mg/dL', 'flag': nan, 'itemcontent': 'Blood'}, {'item': 'Chloride', 'value': '107 mEq/L', 'flag': nan, 'itemcontent': 'Blood'}, {'item': 'Creatine Kinase (CK)', 'value': '21 IU/L', 'flag': 'abnormal', 'itemcontent': 'Blood'}, {'item': 'Creatine Kinase, MB Isoenzyme', 'value': '2 ng/mL', 'flag': nan, 'itemcontent': 'Blood'}, {'item': 'Creatinine', 'value': '1.0 mg/dL', 'flag': nan, 'itemcontent': 'Blood'}, {'item': 'Glucose', 'value': '124 mg/dL', 'flag': 'abnormal', 'itemcontent': 'Blood'}, {'item': 'Magnesium', 'value': '1.8 mg/dL', 'flag': nan, 'itemcontent': 'Blood'}, {'item': 'Phosphate', 'value': '2.6 mg/dL', 'flag': 'abnormal', 'itemcontent': 'Blood'}, {'item': 'Potassium', 'value': '4.0 mEq/L', 'flag': nan, 'itemcontent': 'Blood'}, {'item': 'Sodium', 'value': '143 mEq/L', 'flag': nan, 'itemcontent': 'Blood'}, {'item': 'Troponin T', 'value': '0.04 ng/mL', 'flag': 'abnormal', 'itemcontent': 'Blood'}, {'item': 'Urea Nitrogen', 'value': '24 mg/dL', 'flag': 'abnormal', 'itemcontent': 'Blood'}, {'item': 'INR(PT)', 'value': '2.9', 'flag': 'abnormal', 'itemcontent': 'Blood'}, {'item': 'PT', 'value': '29.9 sec', 'flag': 'abnormal', 'itemcontent': 'Blood'}, {'item': 'PTT', 'value': '49.8 sec', 'flag': 'abnormal', 'itemcontent': 'Blood'}, {'item': 'Chloride', 'value': '108 mEq/L', 'flag': nan, 'itemcontent': 'Blood'}, {'item': 'Magnesium', 'value': '2.4 mg/dL', 'flag': nan, 'itemcontent': 'Blood'}, {'item': 'Phosphate', 'value': '2.7 mg/dL', 'flag': nan, 'itemcontent': 'Blood'}, {'item': 'Potassium', 'value': '4.1 mEq/L', 'flag': nan, 'itemcontent': 'Blood'}, {'item': 'Sodium', 'value': '143 mEq/L', 'flag': nan, 'itemcontent': 'Blood'}, {'item': 'INR(PT)', 'value': '3.9', 'flag': 'abnormal', 'itemcontent': 'Blood'}, {'item': 'PT', 'value': '38.2 sec', 'flag': 'abnormal', 'itemcontent': 'Blood'}, {'item': 'Anion Gap', 'value': '13 mEq/L', 'flag': nan, 'itemcontent': 'Blood'}, {'item': 'Bicarbonate', 'value': '29 mEq/L', 'flag': nan, 'itemcontent': 'Blood'}, {'item': 'Calcium, Total', 'value': '8.5 mg/dL', 'flag': nan, 'itemcontent': 'Blood'}, {'item': 'Chloride', 'value': '107 mEq/L', 'flag': nan, 'itemcontent': 'Blood'}, {'item': 'Creatinine', 'value': '0.8 mg/dL', 'flag': nan, 'itemcontent': 'Blood'}, {'item': 'Glucose', 'value': '143 mg/dL', 'flag': 'abnormal', 'itemcontent': 'Blood'}, {'item': 'Magnesium', 'value': '2.0 mg/dL', 'flag': nan, 'itemcontent': 'Blood'}, {'item': 'Phosphate', 'value': '2.4 mg/dL', 'flag': 'abnormal', 'itemcontent': 'Blood'}, {'item': 'Potassium', 'value': '3.6 mEq/L', 'flag': nan, 'itemcontent': 'Blood'}, {'item': 'Sodium', 'value': '145 mEq/L', 'flag': nan, 'itemcontent': 'Blood'}, {'item': 'Urea Nitrogen', 'value': '16 mg/dL', 'flag': nan, 'itemcontent': 'Blood'}, {'item': 'Anion Gap', 'value': '9 mEq/L', 'flag': nan, 'itemcontent': 'Blood'}, {'item': 'Bicarbonate', 'value': '31 mEq/L', 'flag': nan, 'itemcontent': 'Blood'}, {'item': 'Calcium, Total', 'value': '8.2 mg/dL', 'flag': 'abnormal', 'itemcontent': 'Blood'}, {'item': 'Chloride', 'value': '107 mEq/L', 'flag': nan, 'itemcontent': 'Blood'}, {'item': 'Creatinine', 'value': '0.8 mg/dL', 'flag': nan, 'itemcontent': 'Blood'}, {'item': 'Glucose', 'value': '136 mg/dL', 'flag': 'abnormal', 'itemcontent': 'Blood'}, {'item': 'Magnesium', 'value': '1.9 mg/dL', 'flag': nan, 'itemcontent': 'Blood'}, {'item': 'Phosphate', 'value': '3.2 mg/dL', 'flag': nan, 'itemcontent': 'Blood'}, {'item': 'Potassium', 'value': '4.1 mEq/L', 'flag': nan, 'itemcontent': 'Blood'}, {'item': 'Sodium', 'value': '143 mEq/L', 'flag': nan, 'itemcontent': 'Blood'}, {'item': 'Urea Nitrogen', 'value': '18 mg/dL', 'flag': nan, 'itemcontent': 'Blood'}, {'item': 'INR(PT)', 'value': '4.8', 'flag': 'abnormal', 'itemcontent': 'Blood'}, {'item': 'PT', 'value': '45.5 sec', 'flag': 'abnormal', 'itemcontent': 'Blood'}, {'item': 'Hematocrit', 'value': '31.7 %', 'flag': 'abnormal', 'itemcontent': 'Blood'}, {'item': 'Hemoglobin', 'value': '10.3 g/dL', 'flag': 'abnormal', 'itemcontent': 'Blood'}, {'item': 'MCH', 'value': '28.9 pg', 'flag': nan, 'itemcontent': 'Blood'}, {'item': 'MCHC', 'value': '32.6 %', 'flag': nan, 'itemcontent': 'Blood'}, {'item': 'MCV', 'value': '89 fL', 'flag': nan, 'itemcontent': 'Blood'}, {'item': 'Platelet Count', 'value': '314 K/uL', 'flag': nan, 'itemcontent': 'Blood'}, {'item': 'RDW', 'value': '16.6 %', 'flag': 'abnormal', 'itemcontent': 'Blood'}, {'item': 'Red Blood Cells', 'value': '3.58 m/uL', 'flag': 'abnormal', 'itemcontent': 'Blood'}, {'item': 'White Blood Cells', 'value': '18.0 K/uL', 'flag': 'abnormal', 'itemcontent': 'Blood'}, {'item': 'Creatine Kinase (CK)', 'value': '18 IU/L', 'flag': 'abnormal', 'itemcontent': 'Blood'}, {'item': 'Creatine Kinase, MB Isoenzyme', 'value': '2 ng/mL', 'flag': nan, 'itemcontent': 'Blood'}, {'item': 'Troponin T', 'value': '0.02 ng/mL', 'flag': 'abnormal', 'itemcontent': 'Blood'}, {'item': 'Basophils', 'value': '0.1 %', 'flag': nan, 'itemcontent': 'Blood'}, {'item': 'Eosinophils', 'value': '0.2 %', 'flag': nan, 'itemcontent': 'Blood'}, {'item': 'Hematocrit', 'value': '31.9 %', 'flag': 'abnormal', 'itemcontent': 'Blood'}, {'item': 'Hemoglobin', 'value': '10.3 g/dL', 'flag': 'abnormal', 'itemcontent': 'Blood'}, {'item': 'Lymphocytes', 'value': '4.0 %', 'flag': 'abnormal', 'itemcontent': 'Blood'}, {'item': 'MCH', 'value': '28.6 pg', 'flag': nan, 'itemcontent': 'Blood'}, {'item': 'MCHC', 'value': '31.8 %', 'flag': nan, 'itemcontent': 'Blood'}, {'item': 'MCV', 'value': '90 fL', 'flag': nan, 'itemcontent': 'Blood'}, {'item': 'Monocytes', 'value': '4.5 %', 'flag': nan, 'itemcontent': 'Blood'}, {'item': 'Neutrophils', 'value': '91.2 %', 'flag': 'abnormal', 'itemcontent': 'Blood'}, {'item': 'Platelet Count', 'value': '322 K/uL', 'flag': nan, 'itemcontent': 'Blood'}, {'item': 'RDW', 'value': '16.7 %', 'flag': 'abnormal', 'itemcontent': 'Blood'}, {'item': 'Red Blood Cells', 'value': '3.60 m/uL', 'flag': 'abnormal', 'itemcontent': 'Blood'}, {'item': 'White Blood Cells', 'value': '19.0 K/uL', 'flag': 'abnormal', 'itemcontent': 'Blood'}, {'item': 'Hematocrit', 'value': '28.8 %', 'flag': 'abnormal', 'itemcontent': 'Blood'}, {'item': 'INR(PT)', 'value': '3.1', 'flag': 'abnormal', 'itemcontent': 'Blood'}, {'item': 'PT', 'value': '31.8 sec', 'flag': 'abnormal', 'itemcontent': 'Blood'}, {'item': 'PTT', 'value': '73.3 sec', 'flag': 'abnormal', 'itemcontent': 'Blood'}, {'item': 'Lactate', 'value': '0.9 mmol/L', 'flag': nan, 'itemcontent': 'Blood'}, {'item': 'Anion Gap', 'value': '9 mEq/L', 'flag': nan, 'itemcontent': 'Blood'}, {'item': 'Bicarbonate', 'value': '31 mEq/L', 'flag': nan, 'itemcontent': 'Blood'}, {'item': 'Calcium, Total', 'value': '8.0 mg/dL', 'flag': 'abnormal', 'itemcontent': 'Blood'}, {'item': 'Chloride', 'value': '107 mEq/L', 'flag': nan, 'itemcontent': 'Blood'}, {'item': 'Creatine Kinase (CK)', 'value': '17 IU/L', 'flag': 'abnormal', 'itemcontent': 'Blood'}, {'item': 'Creatine Kinase, MB Isoenzyme', 'value': '2 ng/mL', 'flag': nan, 'itemcontent': 'Blood'}, {'item': 'Creatinine', 'value': '0.9 mg/dL', 'flag': nan, 'itemcontent': 'Blood'}, {'item': 'Glucose', 'value': '173 mg/dL', 'flag': 'abnormal', 'itemcontent': 'Blood'}, {'item': 'Magnesium', 'value': '2.0 mg/dL', 'flag': nan, 'itemcontent': 'Blood'}, {'item': 'Phosphate', 'value': '3.1 mg/dL', 'flag': nan, 'itemcontent': 'Blood'}, {'item': 'Potassium', 'value': '3.5 mEq/L', 'flag': nan, 'itemcontent': 'Blood'}, {'item': 'Sodium', 'value': '143 mEq/L', 'flag': nan, 'itemcontent': 'Blood'}, {'item': 'Troponin T', 'value': '0.02 ng/mL', 'flag': 'abnormal', 'itemcontent': 'Blood'}, {'item': 'Urea Nitrogen', 'value': '16 mg/dL', 'flag': nan, 'itemcontent': 'Blood'}, {'item': 'Hematocrit', 'value': '26.8 %', 'flag': 'abnormal', 'itemcontent': 'Blood'}, {'item': 'Hemoglobin', 'value': '8.4 g/dL', 'flag': 'abnormal', 'itemcontent': 'Blood'}, {'item': 'INR(PT)', 'value': '2.0', 'flag': 'abnormal', 'itemcontent': 'Blood'}, {'item': 'MCH', 'value': '27.9 pg', 'flag': nan, 'itemcontent': 'Blood'}, {'item': 'MCHC', 'value': '31.4 %', 'flag': nan, 'itemcontent': 'Blood'}, {'item': 'MCV', 'value': '89 fL', 'flag': nan, 'itemcontent': 'Blood'}, {'item': 'Platelet Count', 'value': '253 K/uL', 'flag': nan, 'itemcontent': 'Blood'}, {'item': 'PT', 'value': '22.0 sec', 'flag': 'abnormal', 'itemcontent': 'Blood'}, {'item': 'PTT', 'value': '47.6 sec', 'flag': 'abnormal', 'itemcontent': 'Blood'}, {'item': 'RDW', 'value': '16.9 %', 'flag': 'abnormal', 'itemcontent': 'Blood'}, {'item': 'Red Blood Cells', 'value': '3.01 m/uL', 'flag': 'abnormal', 'itemcontent': 'Blood'}, {'item': 'White Blood Cells', 'value': '16.5 K/uL', 'flag': 'abnormal', 'itemcontent': 'Blood'}, {'item': 'Bands', 'value': '0 %', 'flag': nan, 'itemcontent': 'Other Body Fluid'}, {'item': 'Lymphocytes', 'value': '0 %', 'flag': nan, 'itemcontent': 'Other Body Fluid'}, {'item': 'Macrophage', 'value': '2 %', 'flag': 'abnormal', 'itemcontent': 'Other Body Fluid'}, {'item': 'Monos', 'value': '0 %', 'flag': nan, 'itemcontent': 'Other Body Fluid'}, {'item': 'Polys', 'value': '98 %', 'flag': 'abnormal', 'itemcontent': 'Other Body Fluid'}, {'item': 'RBC, Other Fluid', 'value': '567 #/uL', 'flag': 'abnormal', 'itemcontent': 'Other Body Fluid'}, {'item': 'WBC, Other Fluid', 'value': '3500 #/uL', 'flag': 'abnormal', 'itemcontent': 'Other Body Fluid'}, {'item': 'Hematocrit', 'value': '28.3 %', 'flag': 'abnormal', 'itemcontent': 'Blood'}, {'item': 'INR(PT)', 'value': '1.6', 'flag': 'abnormal', 'itemcontent': 'Blood'}, {'item': 'PT', 'value': '18.0 sec', 'flag': 'abnormal', 'itemcontent': 'Blood'}, {'item': 'PTT', 'value': '34.9 sec', 'flag': nan, 'itemcontent': 'Blood'}, {'item': 'Hematocrit', 'value': '30.6 %', 'flag': 'abnormal', 'itemcontent': 'Blood'}, {'item': 'Potassium, Whole Blood', 'value': '4.0 mEq/L', 'flag': nan, 'itemcontent': 'Blood'}, {'item': 'Vancomycin', 'value': '20.1 ug/mL', 'flag': 'abnormal', 'itemcontent': 'Blood'}, {'item': 'Hematocrit', 'value': '33.3 %', 'flag': 'abnormal', 'itemcontent': 'Blood'}, {'item': 'Anion Gap', 'value': '10 mEq/L', 'flag': nan, 'itemcontent': 'Blood'}, {'item': 'Bicarbonate', 'value': '33 mEq/L', 'flag': 'abnormal', 'itemcontent': 'Blood'}, {'item': 'Calcium, Total', 'value': '8.1 mg/dL', 'flag': 'abnormal', 'itemcontent': 'Blood'}, {'item': 'Chloride', 'value': '105 mEq/L', 'flag': nan, 'itemcontent': 'Blood'}, {'item': 'Creatinine', 'value': '0.9 mg/dL', 'flag': nan, 'itemcontent': 'Blood'}, {'item': 'Glucose', 'value': '155 mg/dL', 'flag': 'abnormal', 'itemcontent': 'Blood'}, {'item': 'Magnesium', 'value': '1.6 mg/dL', 'flag': nan, 'itemcontent': 'Blood'}, {'item': 'Phosphate', 'value': '3.2 mg/dL', 'flag': nan, 'itemcontent': 'Blood'}, {'item': 'Potassium', 'value': '3.8 mEq/L', 'flag': nan, 'itemcontent': 'Blood'}, {'item': 'Sodium', 'value': '144 mEq/L', 'flag': nan, 'itemcontent': 'Blood'}, {'item': 'Urea Nitrogen', 'value': '13 mg/dL', 'flag': nan, 'itemcontent': 'Blood'}, {'item': 'Hematocrit', 'value': '32.0 %', 'flag': 'abnormal', 'itemcontent': 'Blood'}])]) 长度： 46520\n"
     ]
    }
   ],
   "source": [
    "ehrBase = loadPkl(\"../dataset_processed/MIMICIII_data/ehrBase_v5.pkl\")\n",
    "print('字典元素示例', ehrBase['249'], '长度：', len(ehrBase))"
   ]
  },
  {
   "cell_type": "markdown",
   "metadata": {},
   "source": [
    "## 5. ehrBase 数据示例"
   ]
  },
  {
   "cell_type": "code",
   "execution_count": null,
   "metadata": {},
   "outputs": [
    {
     "data": {
      "text/plain": [
       "Patient(expire_flag=0, visits=[Visit(visit_id=189406, admittime=Timestamp('2124-09-19 03:59:00'), dischtime=Timestamp('2124-09-22 15:52:00'), deathtime=NaT, procedures=['Other phototherapy', 'Prophylactic administration of vaccine against other diseases'], prescriptions=[], diagnoses=['Single liveborn, born in hospital, delivered without mention of cesarean section', 'Neonatal jaundice associated with preterm delivery', 'Other preterm infants, 2,000-2,499 grams', 'Need for prophylactic vaccination and inoculation against viral hepatitis', '35-36 completed weeks of gestation', 'Observation for suspected infectious condition'], labevent=[{'item': 'Anisocytosis', 'value': '2+', 'flag': nan, 'itemcontent': 'Blood'}, {'item': 'Atypical Lymphocytes', 'value': '0 %', 'flag': nan, 'itemcontent': 'Blood'}, {'item': 'Bands', 'value': '1 %', 'flag': nan, 'itemcontent': 'Blood'}, {'item': 'Basophils', 'value': '0 %', 'flag': nan, 'itemcontent': 'Blood'}, {'item': 'Eosinophils', 'value': '4 %', 'flag': nan, 'itemcontent': 'Blood'}, {'item': 'Hematocrit', 'value': '52.8 %', 'flag': 'abnormal', 'itemcontent': 'Blood'}, {'item': 'Hemoglobin', 'value': '18.2 g/dL', 'flag': 'abnormal', 'itemcontent': 'Blood'}, {'item': 'Hypochromia', 'value': 'NORMAL', 'flag': nan, 'itemcontent': 'Blood'}, {'item': 'Lymphocytes', 'value': '65 %', 'flag': nan, 'itemcontent': 'Blood'}, {'item': 'Macrocytes', 'value': '2+', 'flag': nan, 'itemcontent': 'Blood'}, {'item': 'MCH', 'value': '38.7 pg', 'flag': 'abnormal', 'itemcontent': 'Blood'}, {'item': 'MCHC', 'value': '34.4 %', 'flag': nan, 'itemcontent': 'Blood'}, {'item': 'MCV', 'value': '113 fL', 'flag': 'abnormal', 'itemcontent': 'Blood'}, {'item': 'Metamyelocytes', 'value': '0 %', 'flag': nan, 'itemcontent': 'Blood'}, {'item': 'Microcytes', 'value': 'OCCASIONAL', 'flag': nan, 'itemcontent': 'Blood'}, {'item': 'Monocytes', 'value': '7 %', 'flag': nan, 'itemcontent': 'Blood'}, {'item': 'Myelocytes', 'value': '0 %', 'flag': nan, 'itemcontent': 'Blood'}, {'item': 'Neutrophils', 'value': '23 %', 'flag': nan, 'itemcontent': 'Blood'}, {'item': 'Nucleated Red Cells', 'value': '1 %', 'flag': 'abnormal', 'itemcontent': 'Blood'}, {'item': 'Platelet Count', 'value': '159 K/uL', 'flag': nan, 'itemcontent': 'Blood'}, {'item': 'Poikilocytosis', 'value': '1+', 'flag': nan, 'itemcontent': 'Blood'}, {'item': 'Polychromasia', 'value': '2+', 'flag': nan, 'itemcontent': 'Blood'}, {'item': 'RDW', 'value': '16.2 %', 'flag': 'abnormal', 'itemcontent': 'Blood'}, {'item': 'Red Blood Cells', 'value': '4.69 m/uL', 'flag': nan, 'itemcontent': 'Blood'}, {'item': 'Schistocytes', 'value': 'OCCASIONAL', 'flag': nan, 'itemcontent': 'Blood'}, {'item': 'White Blood Cells', 'value': '10.8 K/uL', 'flag': nan, 'itemcontent': 'Blood'}, {'item': 'Anion Gap', 'value': '17 mEq/L', 'flag': nan, 'itemcontent': 'Blood'}, {'item': 'Bicarbonate', 'value': '23 mEq/L', 'flag': nan, 'itemcontent': 'Blood'}, {'item': 'Bilirubin, Direct', 'value': '0.3 mg/dL', 'flag': nan, 'itemcontent': 'Blood'}, {'item': 'Bilirubin, Indirect', 'value': '6.2 mg/dL', 'flag': nan, 'itemcontent': 'Blood'}, {'item': 'Bilirubin, Total', 'value': '6.5 mg/dL', 'flag': 'abnormal', 'itemcontent': 'Blood'}, {'item': 'Chloride', 'value': '108 mEq/L', 'flag': nan, 'itemcontent': 'Blood'}, {'item': 'Potassium', 'value': '4.9 mEq/L', 'flag': nan, 'itemcontent': 'Blood'}, {'item': 'Sodium', 'value': '143 mEq/L', 'flag': nan, 'itemcontent': 'Blood'}, {'item': 'Bilirubin, Direct', 'value': '0.3 mg/dL', 'flag': nan, 'itemcontent': 'Blood'}, {'item': 'Bilirubin, Indirect', 'value': '12.5 mg/dL', 'flag': nan, 'itemcontent': 'Blood'}, {'item': 'Bilirubin, Total', 'value': '12.8 mg/dL', 'flag': 'abnormal', 'itemcontent': 'Blood'}, {'item': 'Bilirubin, Direct', 'value': '0.3 mg/dL', 'flag': nan, 'itemcontent': 'Blood'}, {'item': 'Bilirubin, Indirect', 'value': '11.4 mg/dL', 'flag': nan, 'itemcontent': 'Blood'}, {'item': 'Bilirubin, Total', 'value': '11.7 mg/dL', 'flag': 'abnormal', 'itemcontent': 'Blood'}, {'item': 'Bilirubin, Direct', 'value': '0.3 mg/dL', 'flag': nan, 'itemcontent': 'Blood'}, {'item': 'Bilirubin, Indirect', 'value': '9.8 mg/dL', 'flag': nan, 'itemcontent': 'Blood'}, {'item': 'Bilirubin, Total', 'value': '10.1 mg/dL', 'flag': nan, 'itemcontent': 'Blood'}])])"
      ]
     },
     "execution_count": 9,
     "metadata": {},
     "output_type": "execute_result"
    }
   ],
   "source": [
    "# 查看 单个病人的 ehr 数据\n",
    "ehrBase['258']"
   ]
  },
  {
   "cell_type": "code",
   "execution_count": 10,
   "metadata": {},
   "outputs": [],
   "source": [
    "def print_structure(data, indent=0):\n",
    "    \"\"\"\n",
    "    递归打印数据结构的内容。\n",
    "    :param data: 要打印的数据结构（如 Patient 或 Visit 对象）。\n",
    "    :param indent: 当前缩进级别。\n",
    "    \"\"\"\n",
    "    if isinstance(data, Patient):\n",
    "        print(\"  \" * indent + f\"Patient(expire_flag={data.expire_flag}, visits=[\")\n",
    "        for visit in data.visits:\n",
    "            print_structure(visit, indent + 1)\n",
    "        print(\"  \" * indent + \"])\")\n",
    "\n",
    "    elif isinstance(data, Visit):\n",
    "        print(\"  \" * indent + f\"Visit(visit_id={data.visit_id}, admittime={data.admittime}, dischtime={data.dischtime}, deathtime={data.deathtime},\")\n",
    "        print(\"  \" * indent + \"procedures=[\")\n",
    "        for procedure in data.procedures:\n",
    "            print(\"  \" * (indent + 1) + f\"'{procedure}',\")\n",
    "        print(\"  \" * indent + \"],\")\n",
    "        print(\"  \" * indent + \"prescriptions=[\")\n",
    "        for prescription in data.prescriptions:\n",
    "            print(\"  \" * (indent + 1) + f\"'{prescription}',\")\n",
    "        print(\"  \" * indent + \"],\")\n",
    "        print(\"  \" * indent + \"diagnoses=[\")\n",
    "        for diagnosis in data.diagnoses:\n",
    "            print(\"  \" * (indent + 1) + f\"'{diagnosis}',\")\n",
    "        print(\"  \" * indent + \"],\")\n",
    "        print(\"  \" * indent + \"labevent=[\")\n",
    "        for lab in data.labevent:\n",
    "            print(\"  \" * (indent + 1) + \"{\")\n",
    "            for key, value in lab.items():\n",
    "                print(\"  \" * (indent + 2) + f\"{key}: {value},\")\n",
    "            print(\"  \" * (indent + 1) + \"},\")\n",
    "        print(\"  \" * indent + \"])\")"
   ]
  },
  {
   "cell_type": "code",
   "execution_count": null,
   "metadata": {},
   "outputs": [
    {
     "name": "stdout",
     "output_type": "stream",
     "text": [
      "Patient(expire_flag=0, visits=[\n",
      "  Visit(visit_id=189406, admittime=2124-09-19 03:59:00, dischtime=2124-09-22 15:52:00, deathtime=NaT,\n",
      "  procedures=[\n",
      "    'Other phototherapy',\n",
      "    'Prophylactic administration of vaccine against other diseases',\n",
      "  ],\n",
      "  prescriptions=[\n",
      "  ],\n",
      "  diagnoses=[\n",
      "    'Single liveborn, born in hospital, delivered without mention of cesarean section',\n",
      "    'Neonatal jaundice associated with preterm delivery',\n",
      "    'Other preterm infants, 2,000-2,499 grams',\n",
      "    'Need for prophylactic vaccination and inoculation against viral hepatitis',\n",
      "    '35-36 completed weeks of gestation',\n",
      "    'Observation for suspected infectious condition',\n",
      "  ],\n",
      "  labevent=[\n",
      "    {\n",
      "      item: Anisocytosis,\n",
      "      value: 2+,\n",
      "      flag: nan,\n",
      "      itemcontent: Blood,\n",
      "    },\n",
      "    {\n",
      "      item: Atypical Lymphocytes,\n",
      "      value: 0 %,\n",
      "      flag: nan,\n",
      "      itemcontent: Blood,\n",
      "    },\n",
      "    {\n",
      "      item: Bands,\n",
      "      value: 1 %,\n",
      "      flag: nan,\n",
      "      itemcontent: Blood,\n",
      "    },\n",
      "    {\n",
      "      item: Basophils,\n",
      "      value: 0 %,\n",
      "      flag: nan,\n",
      "      itemcontent: Blood,\n",
      "    },\n",
      "    {\n",
      "      item: Eosinophils,\n",
      "      value: 4 %,\n",
      "      flag: nan,\n",
      "      itemcontent: Blood,\n",
      "    },\n",
      "    {\n",
      "      item: Hematocrit,\n",
      "      value: 52.8 %,\n",
      "      flag: abnormal,\n",
      "      itemcontent: Blood,\n",
      "    },\n",
      "    {\n",
      "      item: Hemoglobin,\n",
      "      value: 18.2 g/dL,\n",
      "      flag: abnormal,\n",
      "      itemcontent: Blood,\n",
      "    },\n",
      "    {\n",
      "      item: Hypochromia,\n",
      "      value: NORMAL,\n",
      "      flag: nan,\n",
      "      itemcontent: Blood,\n",
      "    },\n",
      "    {\n",
      "      item: Lymphocytes,\n",
      "      value: 65 %,\n",
      "      flag: nan,\n",
      "      itemcontent: Blood,\n",
      "    },\n",
      "    {\n",
      "      item: Macrocytes,\n",
      "      value: 2+,\n",
      "      flag: nan,\n",
      "      itemcontent: Blood,\n",
      "    },\n",
      "    {\n",
      "      item: MCH,\n",
      "      value: 38.7 pg,\n",
      "      flag: abnormal,\n",
      "      itemcontent: Blood,\n",
      "    },\n",
      "    {\n",
      "      item: MCHC,\n",
      "      value: 34.4 %,\n",
      "      flag: nan,\n",
      "      itemcontent: Blood,\n",
      "    },\n",
      "    {\n",
      "      item: MCV,\n",
      "      value: 113 fL,\n",
      "      flag: abnormal,\n",
      "      itemcontent: Blood,\n",
      "    },\n",
      "    {\n",
      "      item: Metamyelocytes,\n",
      "      value: 0 %,\n",
      "      flag: nan,\n",
      "      itemcontent: Blood,\n",
      "    },\n",
      "    {\n",
      "      item: Microcytes,\n",
      "      value: OCCASIONAL,\n",
      "      flag: nan,\n",
      "      itemcontent: Blood,\n",
      "    },\n",
      "    {\n",
      "      item: Monocytes,\n",
      "      value: 7 %,\n",
      "      flag: nan,\n",
      "      itemcontent: Blood,\n",
      "    },\n",
      "    {\n",
      "      item: Myelocytes,\n",
      "      value: 0 %,\n",
      "      flag: nan,\n",
      "      itemcontent: Blood,\n",
      "    },\n",
      "    {\n",
      "      item: Neutrophils,\n",
      "      value: 23 %,\n",
      "      flag: nan,\n",
      "      itemcontent: Blood,\n",
      "    },\n",
      "    {\n",
      "      item: Nucleated Red Cells,\n",
      "      value: 1 %,\n",
      "      flag: abnormal,\n",
      "      itemcontent: Blood,\n",
      "    },\n",
      "    {\n",
      "      item: Platelet Count,\n",
      "      value: 159 K/uL,\n",
      "      flag: nan,\n",
      "      itemcontent: Blood,\n",
      "    },\n",
      "    {\n",
      "      item: Poikilocytosis,\n",
      "      value: 1+,\n",
      "      flag: nan,\n",
      "      itemcontent: Blood,\n",
      "    },\n",
      "    {\n",
      "      item: Polychromasia,\n",
      "      value: 2+,\n",
      "      flag: nan,\n",
      "      itemcontent: Blood,\n",
      "    },\n",
      "    {\n",
      "      item: RDW,\n",
      "      value: 16.2 %,\n",
      "      flag: abnormal,\n",
      "      itemcontent: Blood,\n",
      "    },\n",
      "    {\n",
      "      item: Red Blood Cells,\n",
      "      value: 4.69 m/uL,\n",
      "      flag: nan,\n",
      "      itemcontent: Blood,\n",
      "    },\n",
      "    {\n",
      "      item: Schistocytes,\n",
      "      value: OCCASIONAL,\n",
      "      flag: nan,\n",
      "      itemcontent: Blood,\n",
      "    },\n",
      "    {\n",
      "      item: White Blood Cells,\n",
      "      value: 10.8 K/uL,\n",
      "      flag: nan,\n",
      "      itemcontent: Blood,\n",
      "    },\n",
      "    {\n",
      "      item: Anion Gap,\n",
      "      value: 17 mEq/L,\n",
      "      flag: nan,\n",
      "      itemcontent: Blood,\n",
      "    },\n",
      "    {\n",
      "      item: Bicarbonate,\n",
      "      value: 23 mEq/L,\n",
      "      flag: nan,\n",
      "      itemcontent: Blood,\n",
      "    },\n",
      "    {\n",
      "      item: Bilirubin, Direct,\n",
      "      value: 0.3 mg/dL,\n",
      "      flag: nan,\n",
      "      itemcontent: Blood,\n",
      "    },\n",
      "    {\n",
      "      item: Bilirubin, Indirect,\n",
      "      value: 6.2 mg/dL,\n",
      "      flag: nan,\n",
      "      itemcontent: Blood,\n",
      "    },\n",
      "    {\n",
      "      item: Bilirubin, Total,\n",
      "      value: 6.5 mg/dL,\n",
      "      flag: abnormal,\n",
      "      itemcontent: Blood,\n",
      "    },\n",
      "    {\n",
      "      item: Chloride,\n",
      "      value: 108 mEq/L,\n",
      "      flag: nan,\n",
      "      itemcontent: Blood,\n",
      "    },\n",
      "    {\n",
      "      item: Potassium,\n",
      "      value: 4.9 mEq/L,\n",
      "      flag: nan,\n",
      "      itemcontent: Blood,\n",
      "    },\n",
      "    {\n",
      "      item: Sodium,\n",
      "      value: 143 mEq/L,\n",
      "      flag: nan,\n",
      "      itemcontent: Blood,\n",
      "    },\n",
      "    {\n",
      "      item: Bilirubin, Direct,\n",
      "      value: 0.3 mg/dL,\n",
      "      flag: nan,\n",
      "      itemcontent: Blood,\n",
      "    },\n",
      "    {\n",
      "      item: Bilirubin, Indirect,\n",
      "      value: 12.5 mg/dL,\n",
      "      flag: nan,\n",
      "      itemcontent: Blood,\n",
      "    },\n",
      "    {\n",
      "      item: Bilirubin, Total,\n",
      "      value: 12.8 mg/dL,\n",
      "      flag: abnormal,\n",
      "      itemcontent: Blood,\n",
      "    },\n",
      "    {\n",
      "      item: Bilirubin, Direct,\n",
      "      value: 0.3 mg/dL,\n",
      "      flag: nan,\n",
      "      itemcontent: Blood,\n",
      "    },\n",
      "    {\n",
      "      item: Bilirubin, Indirect,\n",
      "      value: 11.4 mg/dL,\n",
      "      flag: nan,\n",
      "      itemcontent: Blood,\n",
      "    },\n",
      "    {\n",
      "      item: Bilirubin, Total,\n",
      "      value: 11.7 mg/dL,\n",
      "      flag: abnormal,\n",
      "      itemcontent: Blood,\n",
      "    },\n",
      "    {\n",
      "      item: Bilirubin, Direct,\n",
      "      value: 0.3 mg/dL,\n",
      "      flag: nan,\n",
      "      itemcontent: Blood,\n",
      "    },\n",
      "    {\n",
      "      item: Bilirubin, Indirect,\n",
      "      value: 9.8 mg/dL,\n",
      "      flag: nan,\n",
      "      itemcontent: Blood,\n",
      "    },\n",
      "    {\n",
      "      item: Bilirubin, Total,\n",
      "      value: 10.1 mg/dL,\n",
      "      flag: nan,\n",
      "      itemcontent: Blood,\n",
      "    },\n",
      "  ])\n",
      "])\n"
     ]
    }
   ],
   "source": [
    "# 打印 单个病人的 ehr 数据\n",
    "print_structure(ehrBase['258'])"
   ]
  }
 ],
 "metadata": {
  "kernelspec": {
   "display_name": "clinical",
   "language": "python",
   "name": "python3"
  },
  "language_info": {
   "codemirror_mode": {
    "name": "ipython",
    "version": 3
   },
   "file_extension": ".py",
   "mimetype": "text/x-python",
   "name": "python",
   "nbconvert_exporter": "python",
   "pygments_lexer": "ipython3",
   "version": "3.11.10"
  }
 },
 "nbformat": 4,
 "nbformat_minor": 2
}
